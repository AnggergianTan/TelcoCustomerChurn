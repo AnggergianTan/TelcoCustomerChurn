{
  "nbformat": 4,
  "nbformat_minor": 0,
  "metadata": {
    "colab": {
      "name": "h8dsft_Milestone1P2_tandya_anggergian.ipynb",
      "provenance": [],
      "collapsed_sections": []
    },
    "kernelspec": {
      "name": "python3",
      "display_name": "Python 3"
    },
    "language_info": {
      "name": "python"
    },
    "accelerator": "GPU"
  },
  "cells": [
    {
      "cell_type": "markdown",
      "source": [
        "# 1 - Perkenalan"
      ],
      "metadata": {
        "id": "REDnM6c1tyR-"
      }
    },
    {
      "cell_type": "markdown",
      "source": [
        "Nama: Tandya Anggergian\n",
        "\n",
        "Batch: FTDS-10\n",
        "\n",
        "Dataset: Telco Customer Churn\n",
        "\n",
        "In this dataset, we tried to predict behavior to retain customer.\n",
        "\n",
        "In this dataset there are valuable information, such as:\n",
        "- Customers who left within the last month – the column is called Churn\n",
        "- Services that each customer has signed up for – phone, multiple lines, internet, online security, online backup, device protection, tech support, and streaming TV and movies\n",
        "- Customer account information – how long they’ve been a customer, contract, payment method, paperless billing, monthly charges, and total charges\n",
        "- Demographic info about customers – gender, age range, and if they have partners and dependents"
      ],
      "metadata": {
        "id": "J1S9TWkIt1Pt"
      }
    },
    {
      "cell_type": "markdown",
      "source": [
        "# 2 - Import Libraries"
      ],
      "metadata": {
        "id": "1LE3ZyqOuwIR"
      }
    },
    {
      "cell_type": "code",
      "source": [
        "import pandas as pd\n",
        "import numpy as np\n",
        "import seaborn as sns\n",
        "from matplotlib import pyplot\n",
        "import matplotlib.pyplot as plt\n",
        "import seaborn as sb\n",
        "import pickle\n",
        "from sklearn.model_selection import train_test_split\n",
        "from sklearn.feature_selection import SelectKBest, chi2\n",
        "from sklearn.preprocessing import OneHotEncoder\n",
        "from sklearn.preprocessing import MinMaxScaler, StandardScaler\n",
        "from sklearn.preprocessing import OrdinalEncoder\n",
        "from sklearn.pipeline import Pipeline, make_pipeline\n",
        "from sklearn.compose import ColumnTransformer\n",
        "from tensorflow.keras.models import Sequential, Model, load_model\n",
        "from tensorflow.keras.layers import Dense, Input, Dropout\n",
        "import tensorflow as tf\n",
        "from tensorflow import keras\n",
        "from sklearn.metrics import classification_report\n",
        "from imblearn.over_sampling import SMOTE\n",
        "from sklearn.model_selection import GridSearchCV\n",
        "from keras.wrappers.scikit_learn import KerasClassifier"
      ],
      "metadata": {
        "id": "ODVJsqEJtMMH"
      },
      "execution_count": null,
      "outputs": []
    },
    {
      "cell_type": "markdown",
      "source": [
        "# 3 - Data Loading"
      ],
      "metadata": {
        "id": "jJ-7LFj5uzuV"
      }
    },
    {
      "cell_type": "markdown",
      "source": [
        "Bagian ini berisi proses penyiapan data sebelum dilakukan eksplorasi data lebih lanjut. Proses Data Loading dapat berupa memberi nama baru untuk setiap kolom, mengecek ukuran dataset, dll."
      ],
      "metadata": {
        "id": "6iVXPiDfu1pl"
      }
    },
    {
      "cell_type": "code",
      "source": [
        "from google.colab import drive\n",
        "drive.mount('/content/gdrive')"
      ],
      "metadata": {
        "colab": {
          "base_uri": "https://localhost:8080/"
        },
        "id": "4lUag7BE5VJS",
        "outputId": "a5717a7a-e8b6-41b3-b841-0eb4b4c52bdf"
      },
      "execution_count": null,
      "outputs": [
        {
          "output_type": "stream",
          "name": "stdout",
          "text": [
            "Mounted at /content/gdrive\n"
          ]
        }
      ]
    },
    {
      "cell_type": "code",
      "source": [
        "data = pd.read_csv('/content/gdrive/MyDrive/kaggle/WA_Fn-UseC_-Telco-Customer-Churn.csv')\n",
        "data"
      ],
      "metadata": {
        "colab": {
          "base_uri": "https://localhost:8080/",
          "height": 661
        },
        "id": "lyrjH2P_te82",
        "outputId": "7f1cb2bd-011b-4034-ca6a-73e2a29e5755"
      },
      "execution_count": null,
      "outputs": [
        {
          "output_type": "execute_result",
          "data": {
            "text/plain": [
              "      customerID  gender  SeniorCitizen Partner Dependents  tenure  \\\n",
              "0     7590-VHVEG  Female              0     Yes         No       1   \n",
              "1     5575-GNVDE    Male              0      No         No      34   \n",
              "2     3668-QPYBK    Male              0      No         No       2   \n",
              "3     7795-CFOCW    Male              0      No         No      45   \n",
              "4     9237-HQITU  Female              0      No         No       2   \n",
              "...          ...     ...            ...     ...        ...     ...   \n",
              "7038  6840-RESVB    Male              0     Yes        Yes      24   \n",
              "7039  2234-XADUH  Female              0     Yes        Yes      72   \n",
              "7040  4801-JZAZL  Female              0     Yes        Yes      11   \n",
              "7041  8361-LTMKD    Male              1     Yes         No       4   \n",
              "7042  3186-AJIEK    Male              0      No         No      66   \n",
              "\n",
              "     PhoneService     MultipleLines InternetService OnlineSecurity  ...  \\\n",
              "0              No  No phone service             DSL             No  ...   \n",
              "1             Yes                No             DSL            Yes  ...   \n",
              "2             Yes                No             DSL            Yes  ...   \n",
              "3              No  No phone service             DSL            Yes  ...   \n",
              "4             Yes                No     Fiber optic             No  ...   \n",
              "...           ...               ...             ...            ...  ...   \n",
              "7038          Yes               Yes             DSL            Yes  ...   \n",
              "7039          Yes               Yes     Fiber optic             No  ...   \n",
              "7040           No  No phone service             DSL            Yes  ...   \n",
              "7041          Yes               Yes     Fiber optic             No  ...   \n",
              "7042          Yes                No     Fiber optic            Yes  ...   \n",
              "\n",
              "     DeviceProtection TechSupport StreamingTV StreamingMovies        Contract  \\\n",
              "0                  No          No          No              No  Month-to-month   \n",
              "1                 Yes          No          No              No        One year   \n",
              "2                  No          No          No              No  Month-to-month   \n",
              "3                 Yes         Yes          No              No        One year   \n",
              "4                  No          No          No              No  Month-to-month   \n",
              "...               ...         ...         ...             ...             ...   \n",
              "7038              Yes         Yes         Yes             Yes        One year   \n",
              "7039              Yes          No         Yes             Yes        One year   \n",
              "7040               No          No          No              No  Month-to-month   \n",
              "7041               No          No          No              No  Month-to-month   \n",
              "7042              Yes         Yes         Yes             Yes        Two year   \n",
              "\n",
              "     PaperlessBilling              PaymentMethod MonthlyCharges  TotalCharges  \\\n",
              "0                 Yes           Electronic check          29.85         29.85   \n",
              "1                  No               Mailed check          56.95        1889.5   \n",
              "2                 Yes               Mailed check          53.85        108.15   \n",
              "3                  No  Bank transfer (automatic)          42.30       1840.75   \n",
              "4                 Yes           Electronic check          70.70        151.65   \n",
              "...               ...                        ...            ...           ...   \n",
              "7038              Yes               Mailed check          84.80        1990.5   \n",
              "7039              Yes    Credit card (automatic)         103.20        7362.9   \n",
              "7040              Yes           Electronic check          29.60        346.45   \n",
              "7041              Yes               Mailed check          74.40         306.6   \n",
              "7042              Yes  Bank transfer (automatic)         105.65        6844.5   \n",
              "\n",
              "     Churn  \n",
              "0       No  \n",
              "1       No  \n",
              "2      Yes  \n",
              "3       No  \n",
              "4      Yes  \n",
              "...    ...  \n",
              "7038    No  \n",
              "7039    No  \n",
              "7040    No  \n",
              "7041   Yes  \n",
              "7042    No  \n",
              "\n",
              "[7043 rows x 21 columns]"
            ],
            "text/html": [
              "\n",
              "  <div id=\"df-8bd013d0-7485-4b82-a1a1-549f43eebe3d\">\n",
              "    <div class=\"colab-df-container\">\n",
              "      <div>\n",
              "<style scoped>\n",
              "    .dataframe tbody tr th:only-of-type {\n",
              "        vertical-align: middle;\n",
              "    }\n",
              "\n",
              "    .dataframe tbody tr th {\n",
              "        vertical-align: top;\n",
              "    }\n",
              "\n",
              "    .dataframe thead th {\n",
              "        text-align: right;\n",
              "    }\n",
              "</style>\n",
              "<table border=\"1\" class=\"dataframe\">\n",
              "  <thead>\n",
              "    <tr style=\"text-align: right;\">\n",
              "      <th></th>\n",
              "      <th>customerID</th>\n",
              "      <th>gender</th>\n",
              "      <th>SeniorCitizen</th>\n",
              "      <th>Partner</th>\n",
              "      <th>Dependents</th>\n",
              "      <th>tenure</th>\n",
              "      <th>PhoneService</th>\n",
              "      <th>MultipleLines</th>\n",
              "      <th>InternetService</th>\n",
              "      <th>OnlineSecurity</th>\n",
              "      <th>...</th>\n",
              "      <th>DeviceProtection</th>\n",
              "      <th>TechSupport</th>\n",
              "      <th>StreamingTV</th>\n",
              "      <th>StreamingMovies</th>\n",
              "      <th>Contract</th>\n",
              "      <th>PaperlessBilling</th>\n",
              "      <th>PaymentMethod</th>\n",
              "      <th>MonthlyCharges</th>\n",
              "      <th>TotalCharges</th>\n",
              "      <th>Churn</th>\n",
              "    </tr>\n",
              "  </thead>\n",
              "  <tbody>\n",
              "    <tr>\n",
              "      <th>0</th>\n",
              "      <td>7590-VHVEG</td>\n",
              "      <td>Female</td>\n",
              "      <td>0</td>\n",
              "      <td>Yes</td>\n",
              "      <td>No</td>\n",
              "      <td>1</td>\n",
              "      <td>No</td>\n",
              "      <td>No phone service</td>\n",
              "      <td>DSL</td>\n",
              "      <td>No</td>\n",
              "      <td>...</td>\n",
              "      <td>No</td>\n",
              "      <td>No</td>\n",
              "      <td>No</td>\n",
              "      <td>No</td>\n",
              "      <td>Month-to-month</td>\n",
              "      <td>Yes</td>\n",
              "      <td>Electronic check</td>\n",
              "      <td>29.85</td>\n",
              "      <td>29.85</td>\n",
              "      <td>No</td>\n",
              "    </tr>\n",
              "    <tr>\n",
              "      <th>1</th>\n",
              "      <td>5575-GNVDE</td>\n",
              "      <td>Male</td>\n",
              "      <td>0</td>\n",
              "      <td>No</td>\n",
              "      <td>No</td>\n",
              "      <td>34</td>\n",
              "      <td>Yes</td>\n",
              "      <td>No</td>\n",
              "      <td>DSL</td>\n",
              "      <td>Yes</td>\n",
              "      <td>...</td>\n",
              "      <td>Yes</td>\n",
              "      <td>No</td>\n",
              "      <td>No</td>\n",
              "      <td>No</td>\n",
              "      <td>One year</td>\n",
              "      <td>No</td>\n",
              "      <td>Mailed check</td>\n",
              "      <td>56.95</td>\n",
              "      <td>1889.5</td>\n",
              "      <td>No</td>\n",
              "    </tr>\n",
              "    <tr>\n",
              "      <th>2</th>\n",
              "      <td>3668-QPYBK</td>\n",
              "      <td>Male</td>\n",
              "      <td>0</td>\n",
              "      <td>No</td>\n",
              "      <td>No</td>\n",
              "      <td>2</td>\n",
              "      <td>Yes</td>\n",
              "      <td>No</td>\n",
              "      <td>DSL</td>\n",
              "      <td>Yes</td>\n",
              "      <td>...</td>\n",
              "      <td>No</td>\n",
              "      <td>No</td>\n",
              "      <td>No</td>\n",
              "      <td>No</td>\n",
              "      <td>Month-to-month</td>\n",
              "      <td>Yes</td>\n",
              "      <td>Mailed check</td>\n",
              "      <td>53.85</td>\n",
              "      <td>108.15</td>\n",
              "      <td>Yes</td>\n",
              "    </tr>\n",
              "    <tr>\n",
              "      <th>3</th>\n",
              "      <td>7795-CFOCW</td>\n",
              "      <td>Male</td>\n",
              "      <td>0</td>\n",
              "      <td>No</td>\n",
              "      <td>No</td>\n",
              "      <td>45</td>\n",
              "      <td>No</td>\n",
              "      <td>No phone service</td>\n",
              "      <td>DSL</td>\n",
              "      <td>Yes</td>\n",
              "      <td>...</td>\n",
              "      <td>Yes</td>\n",
              "      <td>Yes</td>\n",
              "      <td>No</td>\n",
              "      <td>No</td>\n",
              "      <td>One year</td>\n",
              "      <td>No</td>\n",
              "      <td>Bank transfer (automatic)</td>\n",
              "      <td>42.30</td>\n",
              "      <td>1840.75</td>\n",
              "      <td>No</td>\n",
              "    </tr>\n",
              "    <tr>\n",
              "      <th>4</th>\n",
              "      <td>9237-HQITU</td>\n",
              "      <td>Female</td>\n",
              "      <td>0</td>\n",
              "      <td>No</td>\n",
              "      <td>No</td>\n",
              "      <td>2</td>\n",
              "      <td>Yes</td>\n",
              "      <td>No</td>\n",
              "      <td>Fiber optic</td>\n",
              "      <td>No</td>\n",
              "      <td>...</td>\n",
              "      <td>No</td>\n",
              "      <td>No</td>\n",
              "      <td>No</td>\n",
              "      <td>No</td>\n",
              "      <td>Month-to-month</td>\n",
              "      <td>Yes</td>\n",
              "      <td>Electronic check</td>\n",
              "      <td>70.70</td>\n",
              "      <td>151.65</td>\n",
              "      <td>Yes</td>\n",
              "    </tr>\n",
              "    <tr>\n",
              "      <th>...</th>\n",
              "      <td>...</td>\n",
              "      <td>...</td>\n",
              "      <td>...</td>\n",
              "      <td>...</td>\n",
              "      <td>...</td>\n",
              "      <td>...</td>\n",
              "      <td>...</td>\n",
              "      <td>...</td>\n",
              "      <td>...</td>\n",
              "      <td>...</td>\n",
              "      <td>...</td>\n",
              "      <td>...</td>\n",
              "      <td>...</td>\n",
              "      <td>...</td>\n",
              "      <td>...</td>\n",
              "      <td>...</td>\n",
              "      <td>...</td>\n",
              "      <td>...</td>\n",
              "      <td>...</td>\n",
              "      <td>...</td>\n",
              "      <td>...</td>\n",
              "    </tr>\n",
              "    <tr>\n",
              "      <th>7038</th>\n",
              "      <td>6840-RESVB</td>\n",
              "      <td>Male</td>\n",
              "      <td>0</td>\n",
              "      <td>Yes</td>\n",
              "      <td>Yes</td>\n",
              "      <td>24</td>\n",
              "      <td>Yes</td>\n",
              "      <td>Yes</td>\n",
              "      <td>DSL</td>\n",
              "      <td>Yes</td>\n",
              "      <td>...</td>\n",
              "      <td>Yes</td>\n",
              "      <td>Yes</td>\n",
              "      <td>Yes</td>\n",
              "      <td>Yes</td>\n",
              "      <td>One year</td>\n",
              "      <td>Yes</td>\n",
              "      <td>Mailed check</td>\n",
              "      <td>84.80</td>\n",
              "      <td>1990.5</td>\n",
              "      <td>No</td>\n",
              "    </tr>\n",
              "    <tr>\n",
              "      <th>7039</th>\n",
              "      <td>2234-XADUH</td>\n",
              "      <td>Female</td>\n",
              "      <td>0</td>\n",
              "      <td>Yes</td>\n",
              "      <td>Yes</td>\n",
              "      <td>72</td>\n",
              "      <td>Yes</td>\n",
              "      <td>Yes</td>\n",
              "      <td>Fiber optic</td>\n",
              "      <td>No</td>\n",
              "      <td>...</td>\n",
              "      <td>Yes</td>\n",
              "      <td>No</td>\n",
              "      <td>Yes</td>\n",
              "      <td>Yes</td>\n",
              "      <td>One year</td>\n",
              "      <td>Yes</td>\n",
              "      <td>Credit card (automatic)</td>\n",
              "      <td>103.20</td>\n",
              "      <td>7362.9</td>\n",
              "      <td>No</td>\n",
              "    </tr>\n",
              "    <tr>\n",
              "      <th>7040</th>\n",
              "      <td>4801-JZAZL</td>\n",
              "      <td>Female</td>\n",
              "      <td>0</td>\n",
              "      <td>Yes</td>\n",
              "      <td>Yes</td>\n",
              "      <td>11</td>\n",
              "      <td>No</td>\n",
              "      <td>No phone service</td>\n",
              "      <td>DSL</td>\n",
              "      <td>Yes</td>\n",
              "      <td>...</td>\n",
              "      <td>No</td>\n",
              "      <td>No</td>\n",
              "      <td>No</td>\n",
              "      <td>No</td>\n",
              "      <td>Month-to-month</td>\n",
              "      <td>Yes</td>\n",
              "      <td>Electronic check</td>\n",
              "      <td>29.60</td>\n",
              "      <td>346.45</td>\n",
              "      <td>No</td>\n",
              "    </tr>\n",
              "    <tr>\n",
              "      <th>7041</th>\n",
              "      <td>8361-LTMKD</td>\n",
              "      <td>Male</td>\n",
              "      <td>1</td>\n",
              "      <td>Yes</td>\n",
              "      <td>No</td>\n",
              "      <td>4</td>\n",
              "      <td>Yes</td>\n",
              "      <td>Yes</td>\n",
              "      <td>Fiber optic</td>\n",
              "      <td>No</td>\n",
              "      <td>...</td>\n",
              "      <td>No</td>\n",
              "      <td>No</td>\n",
              "      <td>No</td>\n",
              "      <td>No</td>\n",
              "      <td>Month-to-month</td>\n",
              "      <td>Yes</td>\n",
              "      <td>Mailed check</td>\n",
              "      <td>74.40</td>\n",
              "      <td>306.6</td>\n",
              "      <td>Yes</td>\n",
              "    </tr>\n",
              "    <tr>\n",
              "      <th>7042</th>\n",
              "      <td>3186-AJIEK</td>\n",
              "      <td>Male</td>\n",
              "      <td>0</td>\n",
              "      <td>No</td>\n",
              "      <td>No</td>\n",
              "      <td>66</td>\n",
              "      <td>Yes</td>\n",
              "      <td>No</td>\n",
              "      <td>Fiber optic</td>\n",
              "      <td>Yes</td>\n",
              "      <td>...</td>\n",
              "      <td>Yes</td>\n",
              "      <td>Yes</td>\n",
              "      <td>Yes</td>\n",
              "      <td>Yes</td>\n",
              "      <td>Two year</td>\n",
              "      <td>Yes</td>\n",
              "      <td>Bank transfer (automatic)</td>\n",
              "      <td>105.65</td>\n",
              "      <td>6844.5</td>\n",
              "      <td>No</td>\n",
              "    </tr>\n",
              "  </tbody>\n",
              "</table>\n",
              "<p>7043 rows × 21 columns</p>\n",
              "</div>\n",
              "      <button class=\"colab-df-convert\" onclick=\"convertToInteractive('df-8bd013d0-7485-4b82-a1a1-549f43eebe3d')\"\n",
              "              title=\"Convert this dataframe to an interactive table.\"\n",
              "              style=\"display:none;\">\n",
              "        \n",
              "  <svg xmlns=\"http://www.w3.org/2000/svg\" height=\"24px\"viewBox=\"0 0 24 24\"\n",
              "       width=\"24px\">\n",
              "    <path d=\"M0 0h24v24H0V0z\" fill=\"none\"/>\n",
              "    <path d=\"M18.56 5.44l.94 2.06.94-2.06 2.06-.94-2.06-.94-.94-2.06-.94 2.06-2.06.94zm-11 1L8.5 8.5l.94-2.06 2.06-.94-2.06-.94L8.5 2.5l-.94 2.06-2.06.94zm10 10l.94 2.06.94-2.06 2.06-.94-2.06-.94-.94-2.06-.94 2.06-2.06.94z\"/><path d=\"M17.41 7.96l-1.37-1.37c-.4-.4-.92-.59-1.43-.59-.52 0-1.04.2-1.43.59L10.3 9.45l-7.72 7.72c-.78.78-.78 2.05 0 2.83L4 21.41c.39.39.9.59 1.41.59.51 0 1.02-.2 1.41-.59l7.78-7.78 2.81-2.81c.8-.78.8-2.07 0-2.86zM5.41 20L4 18.59l7.72-7.72 1.47 1.35L5.41 20z\"/>\n",
              "  </svg>\n",
              "      </button>\n",
              "      \n",
              "  <style>\n",
              "    .colab-df-container {\n",
              "      display:flex;\n",
              "      flex-wrap:wrap;\n",
              "      gap: 12px;\n",
              "    }\n",
              "\n",
              "    .colab-df-convert {\n",
              "      background-color: #E8F0FE;\n",
              "      border: none;\n",
              "      border-radius: 50%;\n",
              "      cursor: pointer;\n",
              "      display: none;\n",
              "      fill: #1967D2;\n",
              "      height: 32px;\n",
              "      padding: 0 0 0 0;\n",
              "      width: 32px;\n",
              "    }\n",
              "\n",
              "    .colab-df-convert:hover {\n",
              "      background-color: #E2EBFA;\n",
              "      box-shadow: 0px 1px 2px rgba(60, 64, 67, 0.3), 0px 1px 3px 1px rgba(60, 64, 67, 0.15);\n",
              "      fill: #174EA6;\n",
              "    }\n",
              "\n",
              "    [theme=dark] .colab-df-convert {\n",
              "      background-color: #3B4455;\n",
              "      fill: #D2E3FC;\n",
              "    }\n",
              "\n",
              "    [theme=dark] .colab-df-convert:hover {\n",
              "      background-color: #434B5C;\n",
              "      box-shadow: 0px 1px 3px 1px rgba(0, 0, 0, 0.15);\n",
              "      filter: drop-shadow(0px 1px 2px rgba(0, 0, 0, 0.3));\n",
              "      fill: #FFFFFF;\n",
              "    }\n",
              "  </style>\n",
              "\n",
              "      <script>\n",
              "        const buttonEl =\n",
              "          document.querySelector('#df-8bd013d0-7485-4b82-a1a1-549f43eebe3d button.colab-df-convert');\n",
              "        buttonEl.style.display =\n",
              "          google.colab.kernel.accessAllowed ? 'block' : 'none';\n",
              "\n",
              "        async function convertToInteractive(key) {\n",
              "          const element = document.querySelector('#df-8bd013d0-7485-4b82-a1a1-549f43eebe3d');\n",
              "          const dataTable =\n",
              "            await google.colab.kernel.invokeFunction('convertToInteractive',\n",
              "                                                     [key], {});\n",
              "          if (!dataTable) return;\n",
              "\n",
              "          const docLinkHtml = 'Like what you see? Visit the ' +\n",
              "            '<a target=\"_blank\" href=https://colab.research.google.com/notebooks/data_table.ipynb>data table notebook</a>'\n",
              "            + ' to learn more about interactive tables.';\n",
              "          element.innerHTML = '';\n",
              "          dataTable['output_type'] = 'display_data';\n",
              "          await google.colab.output.renderOutput(dataTable, element);\n",
              "          const docLink = document.createElement('div');\n",
              "          docLink.innerHTML = docLinkHtml;\n",
              "          element.appendChild(docLink);\n",
              "        }\n",
              "      </script>\n",
              "    </div>\n",
              "  </div>\n",
              "  "
            ]
          },
          "metadata": {},
          "execution_count": 3
        }
      ]
    },
    {
      "cell_type": "code",
      "source": [
        "#Duplicate Dataset\n",
        "\n",
        "data_copy = data.copy()"
      ],
      "metadata": {
        "id": "dZcZmTYau4a9"
      },
      "execution_count": null,
      "outputs": []
    },
    {
      "cell_type": "code",
      "source": [
        "#Check Daistribution\n",
        "\n",
        "data.describe()"
      ],
      "metadata": {
        "colab": {
          "base_uri": "https://localhost:8080/",
          "height": 300
        },
        "id": "dUgNBRLhu7M8",
        "outputId": "5fdcbfa2-4082-4a39-e18c-a378d78f5f09"
      },
      "execution_count": null,
      "outputs": [
        {
          "output_type": "execute_result",
          "data": {
            "text/plain": [
              "       SeniorCitizen       tenure  MonthlyCharges\n",
              "count    7043.000000  7043.000000     7043.000000\n",
              "mean        0.162147    32.371149       64.761692\n",
              "std         0.368612    24.559481       30.090047\n",
              "min         0.000000     0.000000       18.250000\n",
              "25%         0.000000     9.000000       35.500000\n",
              "50%         0.000000    29.000000       70.350000\n",
              "75%         0.000000    55.000000       89.850000\n",
              "max         1.000000    72.000000      118.750000"
            ],
            "text/html": [
              "\n",
              "  <div id=\"df-20304037-af43-427e-a288-864c42477d5d\">\n",
              "    <div class=\"colab-df-container\">\n",
              "      <div>\n",
              "<style scoped>\n",
              "    .dataframe tbody tr th:only-of-type {\n",
              "        vertical-align: middle;\n",
              "    }\n",
              "\n",
              "    .dataframe tbody tr th {\n",
              "        vertical-align: top;\n",
              "    }\n",
              "\n",
              "    .dataframe thead th {\n",
              "        text-align: right;\n",
              "    }\n",
              "</style>\n",
              "<table border=\"1\" class=\"dataframe\">\n",
              "  <thead>\n",
              "    <tr style=\"text-align: right;\">\n",
              "      <th></th>\n",
              "      <th>SeniorCitizen</th>\n",
              "      <th>tenure</th>\n",
              "      <th>MonthlyCharges</th>\n",
              "    </tr>\n",
              "  </thead>\n",
              "  <tbody>\n",
              "    <tr>\n",
              "      <th>count</th>\n",
              "      <td>7043.000000</td>\n",
              "      <td>7043.000000</td>\n",
              "      <td>7043.000000</td>\n",
              "    </tr>\n",
              "    <tr>\n",
              "      <th>mean</th>\n",
              "      <td>0.162147</td>\n",
              "      <td>32.371149</td>\n",
              "      <td>64.761692</td>\n",
              "    </tr>\n",
              "    <tr>\n",
              "      <th>std</th>\n",
              "      <td>0.368612</td>\n",
              "      <td>24.559481</td>\n",
              "      <td>30.090047</td>\n",
              "    </tr>\n",
              "    <tr>\n",
              "      <th>min</th>\n",
              "      <td>0.000000</td>\n",
              "      <td>0.000000</td>\n",
              "      <td>18.250000</td>\n",
              "    </tr>\n",
              "    <tr>\n",
              "      <th>25%</th>\n",
              "      <td>0.000000</td>\n",
              "      <td>9.000000</td>\n",
              "      <td>35.500000</td>\n",
              "    </tr>\n",
              "    <tr>\n",
              "      <th>50%</th>\n",
              "      <td>0.000000</td>\n",
              "      <td>29.000000</td>\n",
              "      <td>70.350000</td>\n",
              "    </tr>\n",
              "    <tr>\n",
              "      <th>75%</th>\n",
              "      <td>0.000000</td>\n",
              "      <td>55.000000</td>\n",
              "      <td>89.850000</td>\n",
              "    </tr>\n",
              "    <tr>\n",
              "      <th>max</th>\n",
              "      <td>1.000000</td>\n",
              "      <td>72.000000</td>\n",
              "      <td>118.750000</td>\n",
              "    </tr>\n",
              "  </tbody>\n",
              "</table>\n",
              "</div>\n",
              "      <button class=\"colab-df-convert\" onclick=\"convertToInteractive('df-20304037-af43-427e-a288-864c42477d5d')\"\n",
              "              title=\"Convert this dataframe to an interactive table.\"\n",
              "              style=\"display:none;\">\n",
              "        \n",
              "  <svg xmlns=\"http://www.w3.org/2000/svg\" height=\"24px\"viewBox=\"0 0 24 24\"\n",
              "       width=\"24px\">\n",
              "    <path d=\"M0 0h24v24H0V0z\" fill=\"none\"/>\n",
              "    <path d=\"M18.56 5.44l.94 2.06.94-2.06 2.06-.94-2.06-.94-.94-2.06-.94 2.06-2.06.94zm-11 1L8.5 8.5l.94-2.06 2.06-.94-2.06-.94L8.5 2.5l-.94 2.06-2.06.94zm10 10l.94 2.06.94-2.06 2.06-.94-2.06-.94-.94-2.06-.94 2.06-2.06.94z\"/><path d=\"M17.41 7.96l-1.37-1.37c-.4-.4-.92-.59-1.43-.59-.52 0-1.04.2-1.43.59L10.3 9.45l-7.72 7.72c-.78.78-.78 2.05 0 2.83L4 21.41c.39.39.9.59 1.41.59.51 0 1.02-.2 1.41-.59l7.78-7.78 2.81-2.81c.8-.78.8-2.07 0-2.86zM5.41 20L4 18.59l7.72-7.72 1.47 1.35L5.41 20z\"/>\n",
              "  </svg>\n",
              "      </button>\n",
              "      \n",
              "  <style>\n",
              "    .colab-df-container {\n",
              "      display:flex;\n",
              "      flex-wrap:wrap;\n",
              "      gap: 12px;\n",
              "    }\n",
              "\n",
              "    .colab-df-convert {\n",
              "      background-color: #E8F0FE;\n",
              "      border: none;\n",
              "      border-radius: 50%;\n",
              "      cursor: pointer;\n",
              "      display: none;\n",
              "      fill: #1967D2;\n",
              "      height: 32px;\n",
              "      padding: 0 0 0 0;\n",
              "      width: 32px;\n",
              "    }\n",
              "\n",
              "    .colab-df-convert:hover {\n",
              "      background-color: #E2EBFA;\n",
              "      box-shadow: 0px 1px 2px rgba(60, 64, 67, 0.3), 0px 1px 3px 1px rgba(60, 64, 67, 0.15);\n",
              "      fill: #174EA6;\n",
              "    }\n",
              "\n",
              "    [theme=dark] .colab-df-convert {\n",
              "      background-color: #3B4455;\n",
              "      fill: #D2E3FC;\n",
              "    }\n",
              "\n",
              "    [theme=dark] .colab-df-convert:hover {\n",
              "      background-color: #434B5C;\n",
              "      box-shadow: 0px 1px 3px 1px rgba(0, 0, 0, 0.15);\n",
              "      filter: drop-shadow(0px 1px 2px rgba(0, 0, 0, 0.3));\n",
              "      fill: #FFFFFF;\n",
              "    }\n",
              "  </style>\n",
              "\n",
              "      <script>\n",
              "        const buttonEl =\n",
              "          document.querySelector('#df-20304037-af43-427e-a288-864c42477d5d button.colab-df-convert');\n",
              "        buttonEl.style.display =\n",
              "          google.colab.kernel.accessAllowed ? 'block' : 'none';\n",
              "\n",
              "        async function convertToInteractive(key) {\n",
              "          const element = document.querySelector('#df-20304037-af43-427e-a288-864c42477d5d');\n",
              "          const dataTable =\n",
              "            await google.colab.kernel.invokeFunction('convertToInteractive',\n",
              "                                                     [key], {});\n",
              "          if (!dataTable) return;\n",
              "\n",
              "          const docLinkHtml = 'Like what you see? Visit the ' +\n",
              "            '<a target=\"_blank\" href=https://colab.research.google.com/notebooks/data_table.ipynb>data table notebook</a>'\n",
              "            + ' to learn more about interactive tables.';\n",
              "          element.innerHTML = '';\n",
              "          dataTable['output_type'] = 'display_data';\n",
              "          await google.colab.output.renderOutput(dataTable, element);\n",
              "          const docLink = document.createElement('div');\n",
              "          docLink.innerHTML = docLinkHtml;\n",
              "          element.appendChild(docLink);\n",
              "        }\n",
              "      </script>\n",
              "    </div>\n",
              "  </div>\n",
              "  "
            ]
          },
          "metadata": {},
          "execution_count": 5
        }
      ]
    },
    {
      "cell_type": "markdown",
      "source": [
        "# 4 - Exploratory Data Analysis (EDA)"
      ],
      "metadata": {
        "id": "nCyC5CV9u_b1"
      }
    },
    {
      "cell_type": "markdown",
      "source": [
        "Bagian ini berisi eksplorasi data pada dataset diatas dengan menggunakan query, grouping, visualisasi sederhana, dan lain sebagainya."
      ],
      "metadata": {
        "id": "q4QaDEw6vDP1"
      }
    },
    {
      "cell_type": "markdown",
      "source": [
        "---\n",
        "## Dataset Dimension"
      ],
      "metadata": {
        "id": "3XC1ua_vvFG9"
      }
    },
    {
      "cell_type": "code",
      "source": [
        "data.shape"
      ],
      "metadata": {
        "colab": {
          "base_uri": "https://localhost:8080/"
        },
        "id": "-hThShKCvB-A",
        "outputId": "c4fab1c3-9ada-4359-a2dc-72bcc9f0fa25"
      },
      "execution_count": null,
      "outputs": [
        {
          "output_type": "execute_result",
          "data": {
            "text/plain": [
              "(7043, 21)"
            ]
          },
          "metadata": {},
          "execution_count": 6
        }
      ]
    },
    {
      "cell_type": "markdown",
      "source": [
        "There are 21 columns and 7043 rows on this dataset."
      ],
      "metadata": {
        "id": "HFtjTWj2vI50"
      }
    },
    {
      "cell_type": "markdown",
      "source": [
        "---\n",
        "## Dataset Preview"
      ],
      "metadata": {
        "id": "Z9MzqWurvNhF"
      }
    },
    {
      "cell_type": "code",
      "source": [
        "data.head()"
      ],
      "metadata": {
        "colab": {
          "base_uri": "https://localhost:8080/",
          "height": 386
        },
        "id": "2tDbLC3tvIFZ",
        "outputId": "c5a0f16a-d59e-4763-8bda-30866a262c3a"
      },
      "execution_count": null,
      "outputs": [
        {
          "output_type": "execute_result",
          "data": {
            "text/plain": [
              "   customerID  gender  SeniorCitizen Partner Dependents  tenure PhoneService  \\\n",
              "0  7590-VHVEG  Female              0     Yes         No       1           No   \n",
              "1  5575-GNVDE    Male              0      No         No      34          Yes   \n",
              "2  3668-QPYBK    Male              0      No         No       2          Yes   \n",
              "3  7795-CFOCW    Male              0      No         No      45           No   \n",
              "4  9237-HQITU  Female              0      No         No       2          Yes   \n",
              "\n",
              "      MultipleLines InternetService OnlineSecurity  ... DeviceProtection  \\\n",
              "0  No phone service             DSL             No  ...               No   \n",
              "1                No             DSL            Yes  ...              Yes   \n",
              "2                No             DSL            Yes  ...               No   \n",
              "3  No phone service             DSL            Yes  ...              Yes   \n",
              "4                No     Fiber optic             No  ...               No   \n",
              "\n",
              "  TechSupport StreamingTV StreamingMovies        Contract PaperlessBilling  \\\n",
              "0          No          No              No  Month-to-month              Yes   \n",
              "1          No          No              No        One year               No   \n",
              "2          No          No              No  Month-to-month              Yes   \n",
              "3         Yes          No              No        One year               No   \n",
              "4          No          No              No  Month-to-month              Yes   \n",
              "\n",
              "               PaymentMethod MonthlyCharges  TotalCharges Churn  \n",
              "0           Electronic check          29.85         29.85    No  \n",
              "1               Mailed check          56.95        1889.5    No  \n",
              "2               Mailed check          53.85        108.15   Yes  \n",
              "3  Bank transfer (automatic)          42.30       1840.75    No  \n",
              "4           Electronic check          70.70        151.65   Yes  \n",
              "\n",
              "[5 rows x 21 columns]"
            ],
            "text/html": [
              "\n",
              "  <div id=\"df-190039f0-4e9d-4a02-9ab7-2ac8516d0772\">\n",
              "    <div class=\"colab-df-container\">\n",
              "      <div>\n",
              "<style scoped>\n",
              "    .dataframe tbody tr th:only-of-type {\n",
              "        vertical-align: middle;\n",
              "    }\n",
              "\n",
              "    .dataframe tbody tr th {\n",
              "        vertical-align: top;\n",
              "    }\n",
              "\n",
              "    .dataframe thead th {\n",
              "        text-align: right;\n",
              "    }\n",
              "</style>\n",
              "<table border=\"1\" class=\"dataframe\">\n",
              "  <thead>\n",
              "    <tr style=\"text-align: right;\">\n",
              "      <th></th>\n",
              "      <th>customerID</th>\n",
              "      <th>gender</th>\n",
              "      <th>SeniorCitizen</th>\n",
              "      <th>Partner</th>\n",
              "      <th>Dependents</th>\n",
              "      <th>tenure</th>\n",
              "      <th>PhoneService</th>\n",
              "      <th>MultipleLines</th>\n",
              "      <th>InternetService</th>\n",
              "      <th>OnlineSecurity</th>\n",
              "      <th>...</th>\n",
              "      <th>DeviceProtection</th>\n",
              "      <th>TechSupport</th>\n",
              "      <th>StreamingTV</th>\n",
              "      <th>StreamingMovies</th>\n",
              "      <th>Contract</th>\n",
              "      <th>PaperlessBilling</th>\n",
              "      <th>PaymentMethod</th>\n",
              "      <th>MonthlyCharges</th>\n",
              "      <th>TotalCharges</th>\n",
              "      <th>Churn</th>\n",
              "    </tr>\n",
              "  </thead>\n",
              "  <tbody>\n",
              "    <tr>\n",
              "      <th>0</th>\n",
              "      <td>7590-VHVEG</td>\n",
              "      <td>Female</td>\n",
              "      <td>0</td>\n",
              "      <td>Yes</td>\n",
              "      <td>No</td>\n",
              "      <td>1</td>\n",
              "      <td>No</td>\n",
              "      <td>No phone service</td>\n",
              "      <td>DSL</td>\n",
              "      <td>No</td>\n",
              "      <td>...</td>\n",
              "      <td>No</td>\n",
              "      <td>No</td>\n",
              "      <td>No</td>\n",
              "      <td>No</td>\n",
              "      <td>Month-to-month</td>\n",
              "      <td>Yes</td>\n",
              "      <td>Electronic check</td>\n",
              "      <td>29.85</td>\n",
              "      <td>29.85</td>\n",
              "      <td>No</td>\n",
              "    </tr>\n",
              "    <tr>\n",
              "      <th>1</th>\n",
              "      <td>5575-GNVDE</td>\n",
              "      <td>Male</td>\n",
              "      <td>0</td>\n",
              "      <td>No</td>\n",
              "      <td>No</td>\n",
              "      <td>34</td>\n",
              "      <td>Yes</td>\n",
              "      <td>No</td>\n",
              "      <td>DSL</td>\n",
              "      <td>Yes</td>\n",
              "      <td>...</td>\n",
              "      <td>Yes</td>\n",
              "      <td>No</td>\n",
              "      <td>No</td>\n",
              "      <td>No</td>\n",
              "      <td>One year</td>\n",
              "      <td>No</td>\n",
              "      <td>Mailed check</td>\n",
              "      <td>56.95</td>\n",
              "      <td>1889.5</td>\n",
              "      <td>No</td>\n",
              "    </tr>\n",
              "    <tr>\n",
              "      <th>2</th>\n",
              "      <td>3668-QPYBK</td>\n",
              "      <td>Male</td>\n",
              "      <td>0</td>\n",
              "      <td>No</td>\n",
              "      <td>No</td>\n",
              "      <td>2</td>\n",
              "      <td>Yes</td>\n",
              "      <td>No</td>\n",
              "      <td>DSL</td>\n",
              "      <td>Yes</td>\n",
              "      <td>...</td>\n",
              "      <td>No</td>\n",
              "      <td>No</td>\n",
              "      <td>No</td>\n",
              "      <td>No</td>\n",
              "      <td>Month-to-month</td>\n",
              "      <td>Yes</td>\n",
              "      <td>Mailed check</td>\n",
              "      <td>53.85</td>\n",
              "      <td>108.15</td>\n",
              "      <td>Yes</td>\n",
              "    </tr>\n",
              "    <tr>\n",
              "      <th>3</th>\n",
              "      <td>7795-CFOCW</td>\n",
              "      <td>Male</td>\n",
              "      <td>0</td>\n",
              "      <td>No</td>\n",
              "      <td>No</td>\n",
              "      <td>45</td>\n",
              "      <td>No</td>\n",
              "      <td>No phone service</td>\n",
              "      <td>DSL</td>\n",
              "      <td>Yes</td>\n",
              "      <td>...</td>\n",
              "      <td>Yes</td>\n",
              "      <td>Yes</td>\n",
              "      <td>No</td>\n",
              "      <td>No</td>\n",
              "      <td>One year</td>\n",
              "      <td>No</td>\n",
              "      <td>Bank transfer (automatic)</td>\n",
              "      <td>42.30</td>\n",
              "      <td>1840.75</td>\n",
              "      <td>No</td>\n",
              "    </tr>\n",
              "    <tr>\n",
              "      <th>4</th>\n",
              "      <td>9237-HQITU</td>\n",
              "      <td>Female</td>\n",
              "      <td>0</td>\n",
              "      <td>No</td>\n",
              "      <td>No</td>\n",
              "      <td>2</td>\n",
              "      <td>Yes</td>\n",
              "      <td>No</td>\n",
              "      <td>Fiber optic</td>\n",
              "      <td>No</td>\n",
              "      <td>...</td>\n",
              "      <td>No</td>\n",
              "      <td>No</td>\n",
              "      <td>No</td>\n",
              "      <td>No</td>\n",
              "      <td>Month-to-month</td>\n",
              "      <td>Yes</td>\n",
              "      <td>Electronic check</td>\n",
              "      <td>70.70</td>\n",
              "      <td>151.65</td>\n",
              "      <td>Yes</td>\n",
              "    </tr>\n",
              "  </tbody>\n",
              "</table>\n",
              "<p>5 rows × 21 columns</p>\n",
              "</div>\n",
              "      <button class=\"colab-df-convert\" onclick=\"convertToInteractive('df-190039f0-4e9d-4a02-9ab7-2ac8516d0772')\"\n",
              "              title=\"Convert this dataframe to an interactive table.\"\n",
              "              style=\"display:none;\">\n",
              "        \n",
              "  <svg xmlns=\"http://www.w3.org/2000/svg\" height=\"24px\"viewBox=\"0 0 24 24\"\n",
              "       width=\"24px\">\n",
              "    <path d=\"M0 0h24v24H0V0z\" fill=\"none\"/>\n",
              "    <path d=\"M18.56 5.44l.94 2.06.94-2.06 2.06-.94-2.06-.94-.94-2.06-.94 2.06-2.06.94zm-11 1L8.5 8.5l.94-2.06 2.06-.94-2.06-.94L8.5 2.5l-.94 2.06-2.06.94zm10 10l.94 2.06.94-2.06 2.06-.94-2.06-.94-.94-2.06-.94 2.06-2.06.94z\"/><path d=\"M17.41 7.96l-1.37-1.37c-.4-.4-.92-.59-1.43-.59-.52 0-1.04.2-1.43.59L10.3 9.45l-7.72 7.72c-.78.78-.78 2.05 0 2.83L4 21.41c.39.39.9.59 1.41.59.51 0 1.02-.2 1.41-.59l7.78-7.78 2.81-2.81c.8-.78.8-2.07 0-2.86zM5.41 20L4 18.59l7.72-7.72 1.47 1.35L5.41 20z\"/>\n",
              "  </svg>\n",
              "      </button>\n",
              "      \n",
              "  <style>\n",
              "    .colab-df-container {\n",
              "      display:flex;\n",
              "      flex-wrap:wrap;\n",
              "      gap: 12px;\n",
              "    }\n",
              "\n",
              "    .colab-df-convert {\n",
              "      background-color: #E8F0FE;\n",
              "      border: none;\n",
              "      border-radius: 50%;\n",
              "      cursor: pointer;\n",
              "      display: none;\n",
              "      fill: #1967D2;\n",
              "      height: 32px;\n",
              "      padding: 0 0 0 0;\n",
              "      width: 32px;\n",
              "    }\n",
              "\n",
              "    .colab-df-convert:hover {\n",
              "      background-color: #E2EBFA;\n",
              "      box-shadow: 0px 1px 2px rgba(60, 64, 67, 0.3), 0px 1px 3px 1px rgba(60, 64, 67, 0.15);\n",
              "      fill: #174EA6;\n",
              "    }\n",
              "\n",
              "    [theme=dark] .colab-df-convert {\n",
              "      background-color: #3B4455;\n",
              "      fill: #D2E3FC;\n",
              "    }\n",
              "\n",
              "    [theme=dark] .colab-df-convert:hover {\n",
              "      background-color: #434B5C;\n",
              "      box-shadow: 0px 1px 3px 1px rgba(0, 0, 0, 0.15);\n",
              "      filter: drop-shadow(0px 1px 2px rgba(0, 0, 0, 0.3));\n",
              "      fill: #FFFFFF;\n",
              "    }\n",
              "  </style>\n",
              "\n",
              "      <script>\n",
              "        const buttonEl =\n",
              "          document.querySelector('#df-190039f0-4e9d-4a02-9ab7-2ac8516d0772 button.colab-df-convert');\n",
              "        buttonEl.style.display =\n",
              "          google.colab.kernel.accessAllowed ? 'block' : 'none';\n",
              "\n",
              "        async function convertToInteractive(key) {\n",
              "          const element = document.querySelector('#df-190039f0-4e9d-4a02-9ab7-2ac8516d0772');\n",
              "          const dataTable =\n",
              "            await google.colab.kernel.invokeFunction('convertToInteractive',\n",
              "                                                     [key], {});\n",
              "          if (!dataTable) return;\n",
              "\n",
              "          const docLinkHtml = 'Like what you see? Visit the ' +\n",
              "            '<a target=\"_blank\" href=https://colab.research.google.com/notebooks/data_table.ipynb>data table notebook</a>'\n",
              "            + ' to learn more about interactive tables.';\n",
              "          element.innerHTML = '';\n",
              "          dataTable['output_type'] = 'display_data';\n",
              "          await google.colab.output.renderOutput(dataTable, element);\n",
              "          const docLink = document.createElement('div');\n",
              "          docLink.innerHTML = docLinkHtml;\n",
              "          element.appendChild(docLink);\n",
              "        }\n",
              "      </script>\n",
              "    </div>\n",
              "  </div>\n",
              "  "
            ]
          },
          "metadata": {},
          "execution_count": 7
        }
      ]
    },
    {
      "cell_type": "markdown",
      "source": [
        "---\n",
        "## Check Data Type on Each Columns"
      ],
      "metadata": {
        "id": "djDpnRdAvS09"
      }
    },
    {
      "cell_type": "code",
      "source": [
        "data.info()"
      ],
      "metadata": {
        "colab": {
          "base_uri": "https://localhost:8080/"
        },
        "id": "BHPhyfJ8vWlX",
        "outputId": "dbc5505f-ca6a-4fe3-c040-0bf03abff4ed"
      },
      "execution_count": null,
      "outputs": [
        {
          "output_type": "stream",
          "name": "stdout",
          "text": [
            "<class 'pandas.core.frame.DataFrame'>\n",
            "RangeIndex: 7043 entries, 0 to 7042\n",
            "Data columns (total 21 columns):\n",
            " #   Column            Non-Null Count  Dtype  \n",
            "---  ------            --------------  -----  \n",
            " 0   customerID        7043 non-null   object \n",
            " 1   gender            7043 non-null   object \n",
            " 2   SeniorCitizen     7043 non-null   int64  \n",
            " 3   Partner           7043 non-null   object \n",
            " 4   Dependents        7043 non-null   object \n",
            " 5   tenure            7043 non-null   int64  \n",
            " 6   PhoneService      7043 non-null   object \n",
            " 7   MultipleLines     7043 non-null   object \n",
            " 8   InternetService   7043 non-null   object \n",
            " 9   OnlineSecurity    7043 non-null   object \n",
            " 10  OnlineBackup      7043 non-null   object \n",
            " 11  DeviceProtection  7043 non-null   object \n",
            " 12  TechSupport       7043 non-null   object \n",
            " 13  StreamingTV       7043 non-null   object \n",
            " 14  StreamingMovies   7043 non-null   object \n",
            " 15  Contract          7043 non-null   object \n",
            " 16  PaperlessBilling  7043 non-null   object \n",
            " 17  PaymentMethod     7043 non-null   object \n",
            " 18  MonthlyCharges    7043 non-null   float64\n",
            " 19  TotalCharges      7043 non-null   object \n",
            " 20  Churn             7043 non-null   object \n",
            "dtypes: float64(1), int64(2), object(18)\n",
            "memory usage: 1.1+ MB\n"
          ]
        }
      ]
    },
    {
      "cell_type": "markdown",
      "source": [
        "Check how many numerical columns on this dataset."
      ],
      "metadata": {
        "id": "96s2ZYtavZfc"
      }
    },
    {
      "cell_type": "code",
      "source": [
        "numerical = [var for var in data.columns if data[var].dtype!='O']\n",
        "\n",
        "print('There are {} numerical columns. \\n'.format(len(numerical)))\n",
        "\n",
        "print('The numerical columns are:', numerical)"
      ],
      "metadata": {
        "colab": {
          "base_uri": "https://localhost:8080/"
        },
        "id": "Dptz5aKZvcYr",
        "outputId": "d8212e50-58c8-4137-d3e1-ab136055bb4c"
      },
      "execution_count": null,
      "outputs": [
        {
          "output_type": "stream",
          "name": "stdout",
          "text": [
            "There are 3 numerical columns. \n",
            "\n",
            "The numerical columns are: ['SeniorCitizen', 'tenure', 'MonthlyCharges']\n"
          ]
        }
      ]
    },
    {
      "cell_type": "code",
      "source": [
        "categorical = [var for var in data.columns if data[var].dtype=='O']\n",
        "\n",
        "print('There are {} categorical columns. \\n'.format(len(categorical)))\n",
        "\n",
        "print('The categorical columns are:', categorical)"
      ],
      "metadata": {
        "colab": {
          "base_uri": "https://localhost:8080/"
        },
        "id": "zRYXbyACvr3f",
        "outputId": "d07595ed-8ca4-4110-fa3f-a1ca5e7ed8e8"
      },
      "execution_count": null,
      "outputs": [
        {
          "output_type": "stream",
          "name": "stdout",
          "text": [
            "There are 18 categorical columns. \n",
            "\n",
            "The categorical columns are: ['customerID', 'gender', 'Partner', 'Dependents', 'PhoneService', 'MultipleLines', 'InternetService', 'OnlineSecurity', 'OnlineBackup', 'DeviceProtection', 'TechSupport', 'StreamingTV', 'StreamingMovies', 'Contract', 'PaperlessBilling', 'PaymentMethod', 'TotalCharges', 'Churn']\n"
          ]
        }
      ]
    },
    {
      "cell_type": "markdown",
      "source": [
        "---\n",
        "## Check Missing Value Percentage"
      ],
      "metadata": {
        "id": "OaSgdG0Zv5LG"
      }
    },
    {
      "cell_type": "code",
      "source": [
        "data.isnull().sum() / data.shape[0] * 100"
      ],
      "metadata": {
        "colab": {
          "base_uri": "https://localhost:8080/"
        },
        "id": "RP9JbzPPv7c-",
        "outputId": "69ec7967-f02a-43b7-dd8f-e538b4bbcf8a"
      },
      "execution_count": null,
      "outputs": [
        {
          "output_type": "execute_result",
          "data": {
            "text/plain": [
              "customerID          0.0\n",
              "gender              0.0\n",
              "SeniorCitizen       0.0\n",
              "Partner             0.0\n",
              "Dependents          0.0\n",
              "tenure              0.0\n",
              "PhoneService        0.0\n",
              "MultipleLines       0.0\n",
              "InternetService     0.0\n",
              "OnlineSecurity      0.0\n",
              "OnlineBackup        0.0\n",
              "DeviceProtection    0.0\n",
              "TechSupport         0.0\n",
              "StreamingTV         0.0\n",
              "StreamingMovies     0.0\n",
              "Contract            0.0\n",
              "PaperlessBilling    0.0\n",
              "PaymentMethod       0.0\n",
              "MonthlyCharges      0.0\n",
              "TotalCharges        0.0\n",
              "Churn               0.0\n",
              "dtype: float64"
            ]
          },
          "metadata": {},
          "execution_count": 11
        }
      ]
    },
    {
      "cell_type": "markdown",
      "source": [
        "There are no missing value on this dataset."
      ],
      "metadata": {
        "id": "9lwhEUTuv-Zc"
      }
    },
    {
      "cell_type": "markdown",
      "source": [
        "---\n",
        "## Check Numerical Data Distribution"
      ],
      "metadata": {
        "id": "cosCGIhFwCG0"
      }
    },
    {
      "cell_type": "code",
      "source": [
        "fig, axs = plt.subplots(2, 3, sharex=False, sharey=False, figsize=(25, 20))\n",
        "\n",
        "counter = 0\n",
        "for num_column in numerical:\n",
        "    \n",
        "    trace_x = counter // 3\n",
        "    trace_y = counter % 3\n",
        "    \n",
        "    axs[trace_x, trace_y].hist(data[num_column])\n",
        "    \n",
        "    axs[trace_x, trace_y].set_title(num_column)\n",
        "    \n",
        "    counter += 1\n",
        "\n",
        "plt.show()"
      ],
      "metadata": {
        "colab": {
          "base_uri": "https://localhost:8080/",
          "height": 508
        },
        "id": "Cx6eA0wzwBk7",
        "outputId": "233c5888-dcbd-4ade-96e5-0d86049a0a9a"
      },
      "execution_count": null,
      "outputs": [
        {
          "output_type": "display_data",
          "data": {
            "text/plain": [
              "<Figure size 1800x1440 with 6 Axes>"
            ],
            "image/png": "[encoded data removed]"
          },
          "metadata": {
            "needs_background": "light"
          }
        }
      ]
    },
    {
      "cell_type": "markdown",
      "source": [
        "There is indication of outliers in each numerical columns.\n",
        "\n",
        "There is no age indication in 'SeniorCitizens'. According to the notes, 1 means customer is a senior citizen and 0 means customer is not a senior citizens.\n",
        "\n",
        "Tenure indicates how many months the customer has stayed with the company.\n",
        "\n",
        "\n",
        "MonthlyCharges indicates the amount charged to the customer monthly.\n",
        "\n",
        "The graph shows that the columns has different distribution. To make it clearer, we can see the skewness by using this equation.\n"
      ],
      "metadata": {
        "id": "a27E5Z1JwVEF"
      }
    },
    {
      "cell_type": "code",
      "source": [
        "for column in numerical:\n",
        "    print(f'\\'{data[column].name}\\' skewness: {data[column].skew()}')\n",
        "    if data[column].skew() > 0.5:\n",
        "        print('right skewed')\n",
        "    elif data[column].skew() < -0.5:\n",
        "        print('left skewed')\n",
        "    else:\n",
        "        print('normal distribution')"
      ],
      "metadata": {
        "colab": {
          "base_uri": "https://localhost:8080/"
        },
        "id": "J94jhf-gxrVj",
        "outputId": "33768e72-8578-41ac-b56f-d7407606f7b4"
      },
      "execution_count": null,
      "outputs": [
        {
          "output_type": "stream",
          "name": "stdout",
          "text": [
            "'SeniorCitizen' skewness: 1.8336327440928564\n",
            "right skewed\n",
            "'tenure' skewness: 0.2395397495619829\n",
            "normal distribution\n",
            "'MonthlyCharges' skewness: -0.22052443394398033\n",
            "normal distribution\n"
          ]
        }
      ]
    },
    {
      "cell_type": "markdown",
      "source": [
        "From the equation we can see that both 'tenure' and 'MonthlyCharges' have normal distribution and 'SeniorCitizens' is right skewed."
      ],
      "metadata": {
        "id": "7DaArW0XxyKs"
      }
    },
    {
      "cell_type": "markdown",
      "source": [
        "---\n",
        "## Check Categorical Data Distribution"
      ],
      "metadata": {
        "id": "E-Y0u1mTyWar"
      }
    },
    {
      "cell_type": "code",
      "source": [
        "fig, axs = plt.subplots(7, 3, sharex=False, sharey=False, figsize=(20, 15))\n",
        "\n",
        "counter = 0\n",
        "for cat_column in categorical:\n",
        "    value_counts = data[cat_column].value_counts()\n",
        "    \n",
        "    trace_x = counter // 3\n",
        "    trace_y = counter % 3\n",
        "    x_pos = np.arange(0, len(value_counts))\n",
        "    \n",
        "    axs[trace_x, trace_y].bar(x_pos, value_counts.values, tick_label = value_counts.index)\n",
        "    \n",
        "    axs[trace_x, trace_y].set_title(cat_column)\n",
        "    \n",
        "    for tick in axs[trace_x, trace_y].get_xticklabels():\n",
        "        tick.set_rotation(90)\n",
        "    \n",
        "    counter += 1\n",
        "\n",
        "plt.show()"
      ],
      "metadata": {
        "colab": {
          "base_uri": "https://localhost:8080/",
          "height": 480
        },
        "id": "EBmeclrwyV-F",
        "outputId": "a8ede4dd-ff73-419f-e26b-508f8b96883a"
      },
      "execution_count": null,
      "outputs": [
        {
          "output_type": "display_data",
          "data": {
            "text/plain": [
              "<Figure size 1440x1080 with 21 Axes>"
            ],
            "image/png": "[encoded data removed]"
          },
          "metadata": {
            "needs_background": "light"
          }
        }
      ]
    },
    {
      "cell_type": "markdown",
      "source": [
        "'CustomerID' is used as an identification for the customer, so this column can be dropped later.\n",
        "\n",
        "'MultipleLines' indicates Whether the customer has multiple lines or not (Yes, No, No phone service).\n",
        "\n",
        "'InternetService' indicates Customer’s internet service provider (DSL, Fiber optic, No).\n",
        "\n",
        "'OnlineSecurity' indicates Whether the customer has online security or not (Yes, No, No Internet service).\n",
        "\n",
        "'OnlineBackup' indicates Whether the customer has online backup or not (Yes, No, No internet service).\n",
        "\n",
        "'DeviceProtection' indicates Whether the customer has device protection or not (Yes, No, No internet service).\n",
        "\n",
        "'TechSupport' indicates Whether the customer has tech support or not (Yes, No, No internet service).\n",
        "\n",
        "'StreamingTV' indicates Whether the customer has streaming TV or not (Yes, No, No internet service).\n",
        "\n",
        "'StreamingMovies' indicates Whether the customer has streaming movies or not (Yes, No, No internet service).\n",
        "\n",
        "'Contract' indicates The contract term of the customer (Month-to-month, One year, Two year).\n",
        "\n",
        "'PaperlessBilling' indicates Whether the customer has paperless billing or not (Yes, No).\n",
        "\n",
        "'paymentMethod' indicates The customer’s payment method (Electronic check, Mailed check, Bank transfer (automatic), Credit card (automatic))\n",
        "\n",
        "'Churn' is the target for this dataset, consist of 'Yes' and 'No'.\n",
        "\n",
        "There is anomaly on 'totalCharges' since this column is about the total amount charged to the customer but has data type 'object'. Maybe this column data type can be changed later to float.\n",
        "\n",
        "There are other thing that can be changed later, such as anything with 'No internet service' can be categorized as 'No'. The reason is both has similar meaning, which is the customer don't have those services on their household."
      ],
      "metadata": {
        "id": "v3QCIR6BzgpE"
      }
    },
    {
      "cell_type": "markdown",
      "source": [
        "---\n",
        "### Anomaly on 'TotalCharges'"
      ],
      "metadata": {
        "id": "zdHa8w-GKWoG"
      }
    },
    {
      "cell_type": "code",
      "source": [
        "data['TotalCharges'].value_counts()"
      ],
      "metadata": {
        "colab": {
          "base_uri": "https://localhost:8080/"
        },
        "id": "qYn95yiaKb34",
        "outputId": "db74cad9-a265-4096-c7ec-706f5096a8d4"
      },
      "execution_count": null,
      "outputs": [
        {
          "output_type": "execute_result",
          "data": {
            "text/plain": [
              "          11\n",
              "20.2      11\n",
              "19.75      9\n",
              "20.05      8\n",
              "19.9       8\n",
              "          ..\n",
              "6849.4     1\n",
              "692.35     1\n",
              "130.15     1\n",
              "3211.9     1\n",
              "6844.5     1\n",
              "Name: TotalCharges, Length: 6531, dtype: int64"
            ]
          },
          "metadata": {},
          "execution_count": 15
        }
      ]
    },
    {
      "cell_type": "markdown",
      "source": [
        "Apparently, there are missing values on 'TotalCharges' and it's not listed as NaN. Later we can change the missing value to NaN."
      ],
      "metadata": {
        "id": "Bj4qyVogKrCH"
      }
    },
    {
      "cell_type": "markdown",
      "source": [
        "---\n",
        "## Check Dataset's Statistical Property"
      ],
      "metadata": {
        "id": "WPvjZVaZ4PVq"
      }
    },
    {
      "cell_type": "code",
      "source": [
        "data.describe().T"
      ],
      "metadata": {
        "colab": {
          "base_uri": "https://localhost:8080/",
          "height": 187
        },
        "id": "okgHiHYd27Wk",
        "outputId": "c4ed1cbb-767d-4745-e2ef-19e45d28eba6"
      },
      "execution_count": null,
      "outputs": [
        {
          "output_type": "execute_result",
          "data": {
            "text/plain": [
              "                 count       mean        std    min   25%    50%    75%  \\\n",
              "SeniorCitizen   7043.0   0.162147   0.368612   0.00   0.0   0.00   0.00   \n",
              "tenure          7043.0  32.371149  24.559481   0.00   9.0  29.00  55.00   \n",
              "MonthlyCharges  7043.0  64.761692  30.090047  18.25  35.5  70.35  89.85   \n",
              "\n",
              "                   max  \n",
              "SeniorCitizen     1.00  \n",
              "tenure           72.00  \n",
              "MonthlyCharges  118.75  "
            ],
            "text/html": [
              "\n",
              "  <div id=\"df-12e0c8ef-0bf9-411e-b0f8-793d5fe71f16\">\n",
              "    <div class=\"colab-df-container\">\n",
              "      <div>\n",
              "<style scoped>\n",
              "    .dataframe tbody tr th:only-of-type {\n",
              "        vertical-align: middle;\n",
              "    }\n",
              "\n",
              "    .dataframe tbody tr th {\n",
              "        vertical-align: top;\n",
              "    }\n",
              "\n",
              "    .dataframe thead th {\n",
              "        text-align: right;\n",
              "    }\n",
              "</style>\n",
              "<table border=\"1\" class=\"dataframe\">\n",
              "  <thead>\n",
              "    <tr style=\"text-align: right;\">\n",
              "      <th></th>\n",
              "      <th>count</th>\n",
              "      <th>mean</th>\n",
              "      <th>std</th>\n",
              "      <th>min</th>\n",
              "      <th>25%</th>\n",
              "      <th>50%</th>\n",
              "      <th>75%</th>\n",
              "      <th>max</th>\n",
              "    </tr>\n",
              "  </thead>\n",
              "  <tbody>\n",
              "    <tr>\n",
              "      <th>SeniorCitizen</th>\n",
              "      <td>7043.0</td>\n",
              "      <td>0.162147</td>\n",
              "      <td>0.368612</td>\n",
              "      <td>0.00</td>\n",
              "      <td>0.0</td>\n",
              "      <td>0.00</td>\n",
              "      <td>0.00</td>\n",
              "      <td>1.00</td>\n",
              "    </tr>\n",
              "    <tr>\n",
              "      <th>tenure</th>\n",
              "      <td>7043.0</td>\n",
              "      <td>32.371149</td>\n",
              "      <td>24.559481</td>\n",
              "      <td>0.00</td>\n",
              "      <td>9.0</td>\n",
              "      <td>29.00</td>\n",
              "      <td>55.00</td>\n",
              "      <td>72.00</td>\n",
              "    </tr>\n",
              "    <tr>\n",
              "      <th>MonthlyCharges</th>\n",
              "      <td>7043.0</td>\n",
              "      <td>64.761692</td>\n",
              "      <td>30.090047</td>\n",
              "      <td>18.25</td>\n",
              "      <td>35.5</td>\n",
              "      <td>70.35</td>\n",
              "      <td>89.85</td>\n",
              "      <td>118.75</td>\n",
              "    </tr>\n",
              "  </tbody>\n",
              "</table>\n",
              "</div>\n",
              "      <button class=\"colab-df-convert\" onclick=\"convertToInteractive('df-12e0c8ef-0bf9-411e-b0f8-793d5fe71f16')\"\n",
              "              title=\"Convert this dataframe to an interactive table.\"\n",
              "              style=\"display:none;\">\n",
              "        \n",
              "  <svg xmlns=\"http://www.w3.org/2000/svg\" height=\"24px\"viewBox=\"0 0 24 24\"\n",
              "       width=\"24px\">\n",
              "    <path d=\"M0 0h24v24H0V0z\" fill=\"none\"/>\n",
              "    <path d=\"M18.56 5.44l.94 2.06.94-2.06 2.06-.94-2.06-.94-.94-2.06-.94 2.06-2.06.94zm-11 1L8.5 8.5l.94-2.06 2.06-.94-2.06-.94L8.5 2.5l-.94 2.06-2.06.94zm10 10l.94 2.06.94-2.06 2.06-.94-2.06-.94-.94-2.06-.94 2.06-2.06.94z\"/><path d=\"M17.41 7.96l-1.37-1.37c-.4-.4-.92-.59-1.43-.59-.52 0-1.04.2-1.43.59L10.3 9.45l-7.72 7.72c-.78.78-.78 2.05 0 2.83L4 21.41c.39.39.9.59 1.41.59.51 0 1.02-.2 1.41-.59l7.78-7.78 2.81-2.81c.8-.78.8-2.07 0-2.86zM5.41 20L4 18.59l7.72-7.72 1.47 1.35L5.41 20z\"/>\n",
              "  </svg>\n",
              "      </button>\n",
              "      \n",
              "  <style>\n",
              "    .colab-df-container {\n",
              "      display:flex;\n",
              "      flex-wrap:wrap;\n",
              "      gap: 12px;\n",
              "    }\n",
              "\n",
              "    .colab-df-convert {\n",
              "      background-color: #E8F0FE;\n",
              "      border: none;\n",
              "      border-radius: 50%;\n",
              "      cursor: pointer;\n",
              "      display: none;\n",
              "      fill: #1967D2;\n",
              "      height: 32px;\n",
              "      padding: 0 0 0 0;\n",
              "      width: 32px;\n",
              "    }\n",
              "\n",
              "    .colab-df-convert:hover {\n",
              "      background-color: #E2EBFA;\n",
              "      box-shadow: 0px 1px 2px rgba(60, 64, 67, 0.3), 0px 1px 3px 1px rgba(60, 64, 67, 0.15);\n",
              "      fill: #174EA6;\n",
              "    }\n",
              "\n",
              "    [theme=dark] .colab-df-convert {\n",
              "      background-color: #3B4455;\n",
              "      fill: #D2E3FC;\n",
              "    }\n",
              "\n",
              "    [theme=dark] .colab-df-convert:hover {\n",
              "      background-color: #434B5C;\n",
              "      box-shadow: 0px 1px 3px 1px rgba(0, 0, 0, 0.15);\n",
              "      filter: drop-shadow(0px 1px 2px rgba(0, 0, 0, 0.3));\n",
              "      fill: #FFFFFF;\n",
              "    }\n",
              "  </style>\n",
              "\n",
              "      <script>\n",
              "        const buttonEl =\n",
              "          document.querySelector('#df-12e0c8ef-0bf9-411e-b0f8-793d5fe71f16 button.colab-df-convert');\n",
              "        buttonEl.style.display =\n",
              "          google.colab.kernel.accessAllowed ? 'block' : 'none';\n",
              "\n",
              "        async function convertToInteractive(key) {\n",
              "          const element = document.querySelector('#df-12e0c8ef-0bf9-411e-b0f8-793d5fe71f16');\n",
              "          const dataTable =\n",
              "            await google.colab.kernel.invokeFunction('convertToInteractive',\n",
              "                                                     [key], {});\n",
              "          if (!dataTable) return;\n",
              "\n",
              "          const docLinkHtml = 'Like what you see? Visit the ' +\n",
              "            '<a target=\"_blank\" href=https://colab.research.google.com/notebooks/data_table.ipynb>data table notebook</a>'\n",
              "            + ' to learn more about interactive tables.';\n",
              "          element.innerHTML = '';\n",
              "          dataTable['output_type'] = 'display_data';\n",
              "          await google.colab.output.renderOutput(dataTable, element);\n",
              "          const docLink = document.createElement('div');\n",
              "          docLink.innerHTML = docLinkHtml;\n",
              "          element.appendChild(docLink);\n",
              "        }\n",
              "      </script>\n",
              "    </div>\n",
              "  </div>\n",
              "  "
            ]
          },
          "metadata": {},
          "execution_count": 16
        }
      ]
    },
    {
      "cell_type": "markdown",
      "source": [
        "There are no anomalies seen on the statistical property."
      ],
      "metadata": {
        "id": "RqjycCRK4ZUV"
      }
    },
    {
      "cell_type": "markdown",
      "source": [
        "---\n",
        "## Analyzing Target Column"
      ],
      "metadata": {
        "id": "6Qo0ruDL4hrT"
      }
    },
    {
      "cell_type": "markdown",
      "source": [
        "In this dataset, the target column is 'Churn' with the information about whether the customer churned or not.\n",
        "\n",
        "Use barplot to calculate how many customer that churned or not."
      ],
      "metadata": {
        "id": "ipyjXLBL4nA8"
      }
    },
    {
      "cell_type": "code",
      "source": [
        "f, ax = plt.subplots(figsize=(6,8))\n",
        "ax = sns.countplot(x='Churn', data=data, palette='prism')\n",
        "plt.show()"
      ],
      "metadata": {
        "colab": {
          "base_uri": "https://localhost:8080/",
          "height": 497
        },
        "id": "jeBpeEN54hCY",
        "outputId": "87c69930-3e22-459d-cf70-5fd9196cb73b"
      },
      "execution_count": null,
      "outputs": [
        {
          "output_type": "display_data",
          "data": {
            "text/plain": [
              "<Figure size 432x576 with 1 Axes>"
            ],
            "image/png": "[encoded data removed]"
          },
          "metadata": {
            "needs_background": "light"
          }
        }
      ]
    },
    {
      "cell_type": "markdown",
      "source": [
        "From the barplot shown above, we can see that the number of churned customer is smaller than not churned customer.\n",
        "\n",
        "In a glance, target column can be assumed as imbalance. We can calculate the degree of imbalance to make sure how imbalance the target column is."
      ],
      "metadata": {
        "id": "-zVKJF3d5NFT"
      }
    },
    {
      "cell_type": "code",
      "source": [
        "data['Churn'].value_counts() / len(data)"
      ],
      "metadata": {
        "colab": {
          "base_uri": "https://localhost:8080/"
        },
        "id": "Wp0mhnTl5xg4",
        "outputId": "cdb8a921-73e0-4087-942f-38f78b2621bf"
      },
      "execution_count": null,
      "outputs": [
        {
          "output_type": "execute_result",
          "data": {
            "text/plain": [
              "No     0.73463\n",
              "Yes    0.26537\n",
              "Name: Churn, dtype: float64"
            ]
          },
          "metadata": {},
          "execution_count": 18
        }
      ]
    },
    {
      "cell_type": "markdown",
      "source": [
        "According to Google Developers, there are 3 degree of imbalance, which is Mild, Moderate, and Extreme.\n",
        "\n",
        "- Mildly Imbalanced: 20-40% of the data set\n",
        "- Moderately Imbalanced: 1-20% of the data set\n",
        "- Extremely Imbalanced: less than 1% of the data set\n",
        "\n",
        "Since the proportion of minority class in this case is 26.537% of the dataset, we can categorize that this data is mildly imbalance.\n",
        "\n",
        "Source: https://developers.google.com/machine-learning/data-prep/construct/sampling-splitting/imbalanced-data"
      ],
      "metadata": {
        "id": "MFq9X1xQ52DK"
      }
    },
    {
      "cell_type": "markdown",
      "source": [
        "---\n",
        "## Churn Proportion on Each Gender"
      ],
      "metadata": {
        "id": "fQcaEKES7fdq"
      }
    },
    {
      "cell_type": "code",
      "source": [
        "male = data[data[\"gender\"]=='Male']\n",
        "female = data[data[\"gender\"]=='Female']\n",
        "\n",
        "male_yes = male[data[\"Churn\"]=='Yes']\n",
        "male_not = male[data[\"Churn\"]=='No']\n",
        "female_yes = female[data[\"Churn\"]=='Yes']\n",
        "female_not = female[data[\"Churn\"]=='No']\n",
        "\n",
        "data_diabet = [len(male_yes), len(male_not), len(female_yes), len(female_not)]\n",
        "labels = ['Male - Churn', 'Male - Not Churn', 'Female - Churn', 'Female - Not Churn']\n",
        "\n",
        "palette_color = sns.color_palette('pastel')\n",
        "f, ax = plt.subplots(figsize=(6, 8))\n",
        "ax = plt.pie(data_diabet, labels=labels, colors=palette_color, autopct='%.0f%%')\n",
        "plt.show()"
      ],
      "metadata": {
        "colab": {
          "base_uri": "https://localhost:8080/",
          "height": 525
        },
        "id": "CjcmV_zf7ZUW",
        "outputId": "f9b79828-8b6e-4efd-886a-616d3b9eee9d"
      },
      "execution_count": null,
      "outputs": [
        {
          "output_type": "stream",
          "name": "stderr",
          "text": [
            "/usr/local/lib/python3.7/dist-packages/ipykernel_launcher.py:4: UserWarning: Boolean Series key will be reindexed to match DataFrame index.\n",
            "  after removing the cwd from sys.path.\n",
            "/usr/local/lib/python3.7/dist-packages/ipykernel_launcher.py:5: UserWarning: Boolean Series key will be reindexed to match DataFrame index.\n",
            "  \"\"\"\n",
            "/usr/local/lib/python3.7/dist-packages/ipykernel_launcher.py:6: UserWarning: Boolean Series key will be reindexed to match DataFrame index.\n",
            "  \n",
            "/usr/local/lib/python3.7/dist-packages/ipykernel_launcher.py:7: UserWarning: Boolean Series key will be reindexed to match DataFrame index.\n",
            "  import sys\n"
          ]
        },
        {
          "output_type": "display_data",
          "data": {
            "text/plain": [
              "<Figure size 432x576 with 1 Axes>"
            ],
            "image/png": "[encoded data removed]"
          },
          "metadata": {}
        }
      ]
    },
    {
      "cell_type": "markdown",
      "source": [
        "From the plot above we can see that:\n",
        "- Male - Churn = 13%\n",
        "- Male - Not Churn = 37%\n",
        "- Female - Churn = 13%\n",
        "- Female - Not Churn = 36%"
      ],
      "metadata": {
        "id": "1Ysxea8d8uD6"
      }
    },
    {
      "cell_type": "markdown",
      "source": [
        "## Analyzing 'SeniorCitizen' to 'Churn'"
      ],
      "metadata": {
        "id": "JeYrOPbe9Ter"
      }
    },
    {
      "cell_type": "code",
      "source": [
        "sc_target_data = pd.DataFrame()\n",
        "sc_target_data['Yes'] = data[data['Churn']=='Yes']['SeniorCitizen'].value_counts()\n",
        "sc_target_data['No'] = data[data['Churn']=='No']['SeniorCitizen'].value_counts()\n",
        "\n",
        "sc_target_data.plot.bar(title = 'SeniorCitizen and Churn')"
      ],
      "metadata": {
        "colab": {
          "base_uri": "https://localhost:8080/",
          "height": 295
        },
        "id": "clw_GFkz9JwP",
        "outputId": "0f5bc340-e8f2-43d1-956f-6bc899241cf6"
      },
      "execution_count": null,
      "outputs": [
        {
          "output_type": "execute_result",
          "data": {
            "text/plain": [
              "<matplotlib.axes._subplots.AxesSubplot at 0x7efe24e85c50>"
            ]
          },
          "metadata": {},
          "execution_count": 20
        },
        {
          "output_type": "display_data",
          "data": {
            "text/plain": [
              "<Figure size 432x288 with 1 Axes>"
            ],
            "image/png": "[encoded data removed]"
          },
          "metadata": {
            "needs_background": "light"
          }
        }
      ]
    },
    {
      "cell_type": "markdown",
      "source": [
        "Plot above show that both senior citizen and not senior citizen who is not churned are higher than the churned one."
      ],
      "metadata": {
        "id": "oh6tstMk-UBa"
      }
    },
    {
      "cell_type": "markdown",
      "source": [
        "---\n",
        "## Analyzing 'Partner' to 'Churn'"
      ],
      "metadata": {
        "id": "LBS_YnTm_Faa"
      }
    },
    {
      "cell_type": "code",
      "source": [
        "pt_target_data = pd.DataFrame()\n",
        "pt_target_data['Yes'] = data[data['Churn']=='Yes']['Partner'].value_counts()\n",
        "pt_target_data['No'] = data[data['Churn']=='No']['Partner'].value_counts()\n",
        "\n",
        "pt_target_data.plot.bar(title = 'Partner and Churn')"
      ],
      "metadata": {
        "colab": {
          "base_uri": "https://localhost:8080/",
          "height": 304
        },
        "id": "k0Hek1CG_EfQ",
        "outputId": "45c6bf91-8b22-4cee-d6b5-b0df29e8ca9c"
      },
      "execution_count": null,
      "outputs": [
        {
          "output_type": "execute_result",
          "data": {
            "text/plain": [
              "<matplotlib.axes._subplots.AxesSubplot at 0x7efe25092610>"
            ]
          },
          "metadata": {},
          "execution_count": 21
        },
        {
          "output_type": "display_data",
          "data": {
            "text/plain": [
              "<Figure size 432x288 with 1 Axes>"
            ],
            "image/png": "[encoded data removed]"
          },
          "metadata": {
            "needs_background": "light"
          }
        }
      ]
    },
    {
      "cell_type": "markdown",
      "source": [
        "Plot above show that both customer who have partner or not have tendencies to not churned.\n",
        "\n",
        "But, customer who doesn't have partner are more likely to churn than customer who has partner."
      ],
      "metadata": {
        "id": "ZjXkghho_VRa"
      }
    },
    {
      "cell_type": "markdown",
      "source": [
        "---\n",
        "## Analyzing 'Dependents' to 'Churn'"
      ],
      "metadata": {
        "id": "ChvOEw3t_tMS"
      }
    },
    {
      "cell_type": "code",
      "source": [
        "dp_target_data = pd.DataFrame()\n",
        "dp_target_data['Yes'] = data[data['Churn']=='Yes']['Dependents'].value_counts()\n",
        "dp_target_data['No'] = data[data['Churn']=='No']['Dependents'].value_counts()\n",
        "\n",
        "dp_target_data.plot.bar(title = 'Dependents and Churn')"
      ],
      "metadata": {
        "colab": {
          "base_uri": "https://localhost:8080/",
          "height": 304
        },
        "id": "aF-nQwpy_qbj",
        "outputId": "cac7086e-42a5-4176-924c-b77c3eaebefb"
      },
      "execution_count": null,
      "outputs": [
        {
          "output_type": "execute_result",
          "data": {
            "text/plain": [
              "<matplotlib.axes._subplots.AxesSubplot at 0x7efe1e3722d0>"
            ]
          },
          "metadata": {},
          "execution_count": 22
        },
        {
          "output_type": "display_data",
          "data": {
            "text/plain": [
              "<Figure size 432x288 with 1 Axes>"
            ],
            "image/png": "[encoded data removed]"
          },
          "metadata": {
            "needs_background": "light"
          }
        }
      ]
    },
    {
      "cell_type": "markdown",
      "source": [
        "Plot above show that both customer who have dependents or not have tendencies to not churned.\n",
        "\n",
        "But, customer who doesn't have dependents are more likely to churn than customer who has dependents."
      ],
      "metadata": {
        "id": "cWoNx8SWAKRa"
      }
    },
    {
      "cell_type": "markdown",
      "source": [
        "---\n",
        "## Analyzing 'PhoneService' to 'Churn'"
      ],
      "metadata": {
        "id": "_mDNRmYiAxrb"
      }
    },
    {
      "cell_type": "code",
      "source": [
        "ps_target_data = pd.DataFrame()\n",
        "ps_target_data['Yes'] = data[data['Churn']=='Yes']['PhoneService'].value_counts()\n",
        "ps_target_data['No'] = data[data['Churn']=='No']['PhoneService'].value_counts()\n",
        "\n",
        "ps_target_data.plot.bar(title = 'PhobeService and Churn')"
      ],
      "metadata": {
        "colab": {
          "base_uri": "https://localhost:8080/",
          "height": 304
        },
        "id": "qIYBbhU5A1uh",
        "outputId": "5bd854cb-ebe8-42e2-b14e-2a20ddd5e455"
      },
      "execution_count": null,
      "outputs": [
        {
          "output_type": "execute_result",
          "data": {
            "text/plain": [
              "<matplotlib.axes._subplots.AxesSubplot at 0x7efe1cf813d0>"
            ]
          },
          "metadata": {},
          "execution_count": 23
        },
        {
          "output_type": "display_data",
          "data": {
            "text/plain": [
              "<Figure size 432x288 with 1 Axes>"
            ],
            "image/png": "[encoded data removed]"
          },
          "metadata": {
            "needs_background": "light"
          }
        }
      ]
    },
    {
      "cell_type": "markdown",
      "source": [
        "Plot above show that both customer who have Phone Service or not have tendencies to not churned.\n",
        "\n",
        "But, customer who has phone service are more likely to churn than customer who doesn't have phone service."
      ],
      "metadata": {
        "id": "xznyK_sLBJSq"
      }
    },
    {
      "cell_type": "markdown",
      "source": [
        "---\n",
        "## Analyzing 'InternetService' to 'Churn'"
      ],
      "metadata": {
        "id": "X83CncxLBf0C"
      }
    },
    {
      "cell_type": "code",
      "source": [
        "is_target_data = pd.DataFrame()\n",
        "is_target_data['Yes'] = data[data['Churn']=='Yes']['InternetService'].value_counts()\n",
        "is_target_data['No'] = data[data['Churn']=='No']['InternetService'].value_counts()\n",
        "\n",
        "is_target_data.plot.bar(title = 'InternetService and Churn')"
      ],
      "metadata": {
        "colab": {
          "base_uri": "https://localhost:8080/",
          "height": 340
        },
        "id": "fI3rFF_2Be5A",
        "outputId": "be07e96f-4a78-4d5b-ee78-d1fd6a8c6d44"
      },
      "execution_count": null,
      "outputs": [
        {
          "output_type": "execute_result",
          "data": {
            "text/plain": [
              "<matplotlib.axes._subplots.AxesSubplot at 0x7efe21240ad0>"
            ]
          },
          "metadata": {},
          "execution_count": 24
        },
        {
          "output_type": "display_data",
          "data": {
            "text/plain": [
              "<Figure size 432x288 with 1 Axes>"
            ],
            "image/png": "[encoded data removed]"
          },
          "metadata": {
            "needs_background": "light"
          }
        }
      ]
    },
    {
      "cell_type": "markdown",
      "source": [
        "Plot above show that customer who use Fiber optic are more likely to churn than customer who use DSL or doesn't have internet service.\n",
        "\n",
        "On the other hand, customer who use DSL are more likely to not churn than the other."
      ],
      "metadata": {
        "id": "Qpgn96ryCKfJ"
      }
    },
    {
      "cell_type": "markdown",
      "source": [
        "---\n",
        "## Analyzing 'PaymentMethod' to 'Churn'"
      ],
      "metadata": {
        "id": "Cn5Meji1C5G0"
      }
    },
    {
      "cell_type": "code",
      "source": [
        "pm_target_data = pd.DataFrame()\n",
        "pm_target_data['Yes'] = data[data['Churn']=='Yes']['PaymentMethod'].value_counts()\n",
        "pm_target_data['No'] = data[data['Churn']=='No']['PaymentMethod'].value_counts()\n",
        "\n",
        "pm_target_data.plot.bar(title = 'PaymentMethod and Churn')"
      ],
      "metadata": {
        "colab": {
          "base_uri": "https://localhost:8080/",
          "height": 417
        },
        "id": "4TOwL9nhC-kK",
        "outputId": "45fc3525-5222-4a0d-ea74-99d77189ed58"
      },
      "execution_count": null,
      "outputs": [
        {
          "output_type": "execute_result",
          "data": {
            "text/plain": [
              "<matplotlib.axes._subplots.AxesSubplot at 0x7efe1e7aec90>"
            ]
          },
          "metadata": {},
          "execution_count": 25
        },
        {
          "output_type": "display_data",
          "data": {
            "text/plain": [
              "<Figure size 432x288 with 1 Axes>"
            ],
            "image/png": "[encoded data removed]"
          },
          "metadata": {
            "needs_background": "light"
          }
        }
      ]
    },
    {
      "cell_type": "markdown",
      "source": [
        "Plot above show that customer who use Electronic check are more likely to churn than customer who use other payment method.\n",
        "\n",
        "Other interesting this in the amount of customer who did not churn are similar on each payment method."
      ],
      "metadata": {
        "id": "ryau9vejDua5"
      }
    },
    {
      "cell_type": "markdown",
      "source": [
        "---\n",
        "## Conclusion"
      ],
      "metadata": {
        "id": "sLgXWJy7EI9g"
      }
    },
    {
      "cell_type": "markdown",
      "source": [
        "- There are no missing value on the dataset.\n",
        "- There is anomaly on 'totalCharges' since this column is about the total amount charged to the customer but has data type 'object'.\n",
        "- There are other thing that can be changed later, such as anything with 'No internet service' can be categorized as 'No'.\n",
        "- The target column is mildly imbalance.\n",
        "- Customer who doesn't has partner are more likely to churn.\n",
        "- Customer who doesn't have dependents are more likely to churn.\n",
        "- Customer who has phone service are more likely to churn.\n",
        "- Customer who use Fiber optic are more likely to churn than customer who use other internet service.\n",
        "- Customer who use Electronic check are more likely to churn than customer who use other payment method"
      ],
      "metadata": {
        "id": "F4y_Sg07ELYJ"
      }
    },
    {
      "cell_type": "markdown",
      "source": [
        "# 5 - Data Preprocessing"
      ],
      "metadata": {
        "id": "KHYfEWSOGVYg"
      }
    },
    {
      "cell_type": "markdown",
      "source": [
        "Bagian ini berisi proses penyiapan data untuk proses pelatihan model, seperti pembagian data menjadi train-dev-test, transformasi data (normalisasi, encoding, dll.), dan proses-proses lain yang dibutuhkan."
      ],
      "metadata": {
        "id": "G_F8ExyPGYZJ"
      }
    },
    {
      "cell_type": "markdown",
      "source": [
        "---\n",
        "## Data Cleaning"
      ],
      "metadata": {
        "id": "Z3N-HIXPGaS5"
      }
    },
    {
      "cell_type": "markdown",
      "source": [
        "In data cleaning, the things we will do are:\n",
        "\n",
        "- Drop unnecessary column.\n",
        "- Change target columns from 'yes' or 'no' to 1/0.\n",
        "- Replacing the missing value into NaN.\n",
        "- Change 'TotalCharges' data type from object to numeric.\n",
        "- Change some values in columns into 'No'.\n",
        "\n",
        "First, we make the copy to do data cleaning."
      ],
      "metadata": {
        "id": "TkhztXMZGc2w"
      }
    },
    {
      "cell_type": "code",
      "source": [
        "data_clean = data.copy()\n",
        "data_clean"
      ],
      "metadata": {
        "colab": {
          "base_uri": "https://localhost:8080/",
          "height": 661
        },
        "id": "URP2CoadFK09",
        "outputId": "eff07d38-9c01-49e2-81f3-43ea04c6eb94"
      },
      "execution_count": null,
      "outputs": [
        {
          "output_type": "execute_result",
          "data": {
            "text/plain": [
              "      customerID  gender  SeniorCitizen Partner Dependents  tenure  \\\n",
              "0     7590-VHVEG  Female              0     Yes         No       1   \n",
              "1     5575-GNVDE    Male              0      No         No      34   \n",
              "2     3668-QPYBK    Male              0      No         No       2   \n",
              "3     7795-CFOCW    Male              0      No         No      45   \n",
              "4     9237-HQITU  Female              0      No         No       2   \n",
              "...          ...     ...            ...     ...        ...     ...   \n",
              "7038  6840-RESVB    Male              0     Yes        Yes      24   \n",
              "7039  2234-XADUH  Female              0     Yes        Yes      72   \n",
              "7040  4801-JZAZL  Female              0     Yes        Yes      11   \n",
              "7041  8361-LTMKD    Male              1     Yes         No       4   \n",
              "7042  3186-AJIEK    Male              0      No         No      66   \n",
              "\n",
              "     PhoneService     MultipleLines InternetService OnlineSecurity  ...  \\\n",
              "0              No  No phone service             DSL             No  ...   \n",
              "1             Yes                No             DSL            Yes  ...   \n",
              "2             Yes                No             DSL            Yes  ...   \n",
              "3              No  No phone service             DSL            Yes  ...   \n",
              "4             Yes                No     Fiber optic             No  ...   \n",
              "...           ...               ...             ...            ...  ...   \n",
              "7038          Yes               Yes             DSL            Yes  ...   \n",
              "7039          Yes               Yes     Fiber optic             No  ...   \n",
              "7040           No  No phone service             DSL            Yes  ...   \n",
              "7041          Yes               Yes     Fiber optic             No  ...   \n",
              "7042          Yes                No     Fiber optic            Yes  ...   \n",
              "\n",
              "     DeviceProtection TechSupport StreamingTV StreamingMovies        Contract  \\\n",
              "0                  No          No          No              No  Month-to-month   \n",
              "1                 Yes          No          No              No        One year   \n",
              "2                  No          No          No              No  Month-to-month   \n",
              "3                 Yes         Yes          No              No        One year   \n",
              "4                  No          No          No              No  Month-to-month   \n",
              "...               ...         ...         ...             ...             ...   \n",
              "7038              Yes         Yes         Yes             Yes        One year   \n",
              "7039              Yes          No         Yes             Yes        One year   \n",
              "7040               No          No          No              No  Month-to-month   \n",
              "7041               No          No          No              No  Month-to-month   \n",
              "7042              Yes         Yes         Yes             Yes        Two year   \n",
              "\n",
              "     PaperlessBilling              PaymentMethod MonthlyCharges  TotalCharges  \\\n",
              "0                 Yes           Electronic check          29.85         29.85   \n",
              "1                  No               Mailed check          56.95        1889.5   \n",
              "2                 Yes               Mailed check          53.85        108.15   \n",
              "3                  No  Bank transfer (automatic)          42.30       1840.75   \n",
              "4                 Yes           Electronic check          70.70        151.65   \n",
              "...               ...                        ...            ...           ...   \n",
              "7038              Yes               Mailed check          84.80        1990.5   \n",
              "7039              Yes    Credit card (automatic)         103.20        7362.9   \n",
              "7040              Yes           Electronic check          29.60        346.45   \n",
              "7041              Yes               Mailed check          74.40         306.6   \n",
              "7042              Yes  Bank transfer (automatic)         105.65        6844.5   \n",
              "\n",
              "     Churn  \n",
              "0       No  \n",
              "1       No  \n",
              "2      Yes  \n",
              "3       No  \n",
              "4      Yes  \n",
              "...    ...  \n",
              "7038    No  \n",
              "7039    No  \n",
              "7040    No  \n",
              "7041   Yes  \n",
              "7042    No  \n",
              "\n",
              "[7043 rows x 21 columns]"
            ],
            "text/html": [
              "\n",
              "  <div id=\"df-c4546891-6d98-4a03-bbab-85e696685f5e\">\n",
              "    <div class=\"colab-df-container\">\n",
              "      <div>\n",
              "<style scoped>\n",
              "    .dataframe tbody tr th:only-of-type {\n",
              "        vertical-align: middle;\n",
              "    }\n",
              "\n",
              "    .dataframe tbody tr th {\n",
              "        vertical-align: top;\n",
              "    }\n",
              "\n",
              "    .dataframe thead th {\n",
              "        text-align: right;\n",
              "    }\n",
              "</style>\n",
              "<table border=\"1\" class=\"dataframe\">\n",
              "  <thead>\n",
              "    <tr style=\"text-align: right;\">\n",
              "      <th></th>\n",
              "      <th>customerID</th>\n",
              "      <th>gender</th>\n",
              "      <th>SeniorCitizen</th>\n",
              "      <th>Partner</th>\n",
              "      <th>Dependents</th>\n",
              "      <th>tenure</th>\n",
              "      <th>PhoneService</th>\n",
              "      <th>MultipleLines</th>\n",
              "      <th>InternetService</th>\n",
              "      <th>OnlineSecurity</th>\n",
              "      <th>...</th>\n",
              "      <th>DeviceProtection</th>\n",
              "      <th>TechSupport</th>\n",
              "      <th>StreamingTV</th>\n",
              "      <th>StreamingMovies</th>\n",
              "      <th>Contract</th>\n",
              "      <th>PaperlessBilling</th>\n",
              "      <th>PaymentMethod</th>\n",
              "      <th>MonthlyCharges</th>\n",
              "      <th>TotalCharges</th>\n",
              "      <th>Churn</th>\n",
              "    </tr>\n",
              "  </thead>\n",
              "  <tbody>\n",
              "    <tr>\n",
              "      <th>0</th>\n",
              "      <td>7590-VHVEG</td>\n",
              "      <td>Female</td>\n",
              "      <td>0</td>\n",
              "      <td>Yes</td>\n",
              "      <td>No</td>\n",
              "      <td>1</td>\n",
              "      <td>No</td>\n",
              "      <td>No phone service</td>\n",
              "      <td>DSL</td>\n",
              "      <td>No</td>\n",
              "      <td>...</td>\n",
              "      <td>No</td>\n",
              "      <td>No</td>\n",
              "      <td>No</td>\n",
              "      <td>No</td>\n",
              "      <td>Month-to-month</td>\n",
              "      <td>Yes</td>\n",
              "      <td>Electronic check</td>\n",
              "      <td>29.85</td>\n",
              "      <td>29.85</td>\n",
              "      <td>No</td>\n",
              "    </tr>\n",
              "    <tr>\n",
              "      <th>1</th>\n",
              "      <td>5575-GNVDE</td>\n",
              "      <td>Male</td>\n",
              "      <td>0</td>\n",
              "      <td>No</td>\n",
              "      <td>No</td>\n",
              "      <td>34</td>\n",
              "      <td>Yes</td>\n",
              "      <td>No</td>\n",
              "      <td>DSL</td>\n",
              "      <td>Yes</td>\n",
              "      <td>...</td>\n",
              "      <td>Yes</td>\n",
              "      <td>No</td>\n",
              "      <td>No</td>\n",
              "      <td>No</td>\n",
              "      <td>One year</td>\n",
              "      <td>No</td>\n",
              "      <td>Mailed check</td>\n",
              "      <td>56.95</td>\n",
              "      <td>1889.5</td>\n",
              "      <td>No</td>\n",
              "    </tr>\n",
              "    <tr>\n",
              "      <th>2</th>\n",
              "      <td>3668-QPYBK</td>\n",
              "      <td>Male</td>\n",
              "      <td>0</td>\n",
              "      <td>No</td>\n",
              "      <td>No</td>\n",
              "      <td>2</td>\n",
              "      <td>Yes</td>\n",
              "      <td>No</td>\n",
              "      <td>DSL</td>\n",
              "      <td>Yes</td>\n",
              "      <td>...</td>\n",
              "      <td>No</td>\n",
              "      <td>No</td>\n",
              "      <td>No</td>\n",
              "      <td>No</td>\n",
              "      <td>Month-to-month</td>\n",
              "      <td>Yes</td>\n",
              "      <td>Mailed check</td>\n",
              "      <td>53.85</td>\n",
              "      <td>108.15</td>\n",
              "      <td>Yes</td>\n",
              "    </tr>\n",
              "    <tr>\n",
              "      <th>3</th>\n",
              "      <td>7795-CFOCW</td>\n",
              "      <td>Male</td>\n",
              "      <td>0</td>\n",
              "      <td>No</td>\n",
              "      <td>No</td>\n",
              "      <td>45</td>\n",
              "      <td>No</td>\n",
              "      <td>No phone service</td>\n",
              "      <td>DSL</td>\n",
              "      <td>Yes</td>\n",
              "      <td>...</td>\n",
              "      <td>Yes</td>\n",
              "      <td>Yes</td>\n",
              "      <td>No</td>\n",
              "      <td>No</td>\n",
              "      <td>One year</td>\n",
              "      <td>No</td>\n",
              "      <td>Bank transfer (automatic)</td>\n",
              "      <td>42.30</td>\n",
              "      <td>1840.75</td>\n",
              "      <td>No</td>\n",
              "    </tr>\n",
              "    <tr>\n",
              "      <th>4</th>\n",
              "      <td>9237-HQITU</td>\n",
              "      <td>Female</td>\n",
              "      <td>0</td>\n",
              "      <td>No</td>\n",
              "      <td>No</td>\n",
              "      <td>2</td>\n",
              "      <td>Yes</td>\n",
              "      <td>No</td>\n",
              "      <td>Fiber optic</td>\n",
              "      <td>No</td>\n",
              "      <td>...</td>\n",
              "      <td>No</td>\n",
              "      <td>No</td>\n",
              "      <td>No</td>\n",
              "      <td>No</td>\n",
              "      <td>Month-to-month</td>\n",
              "      <td>Yes</td>\n",
              "      <td>Electronic check</td>\n",
              "      <td>70.70</td>\n",
              "      <td>151.65</td>\n",
              "      <td>Yes</td>\n",
              "    </tr>\n",
              "    <tr>\n",
              "      <th>...</th>\n",
              "      <td>...</td>\n",
              "      <td>...</td>\n",
              "      <td>...</td>\n",
              "      <td>...</td>\n",
              "      <td>...</td>\n",
              "      <td>...</td>\n",
              "      <td>...</td>\n",
              "      <td>...</td>\n",
              "      <td>...</td>\n",
              "      <td>...</td>\n",
              "      <td>...</td>\n",
              "      <td>...</td>\n",
              "      <td>...</td>\n",
              "      <td>...</td>\n",
              "      <td>...</td>\n",
              "      <td>...</td>\n",
              "      <td>...</td>\n",
              "      <td>...</td>\n",
              "      <td>...</td>\n",
              "      <td>...</td>\n",
              "      <td>...</td>\n",
              "    </tr>\n",
              "    <tr>\n",
              "      <th>7038</th>\n",
              "      <td>6840-RESVB</td>\n",
              "      <td>Male</td>\n",
              "      <td>0</td>\n",
              "      <td>Yes</td>\n",
              "      <td>Yes</td>\n",
              "      <td>24</td>\n",
              "      <td>Yes</td>\n",
              "      <td>Yes</td>\n",
              "      <td>DSL</td>\n",
              "      <td>Yes</td>\n",
              "      <td>...</td>\n",
              "      <td>Yes</td>\n",
              "      <td>Yes</td>\n",
              "      <td>Yes</td>\n",
              "      <td>Yes</td>\n",
              "      <td>One year</td>\n",
              "      <td>Yes</td>\n",
              "      <td>Mailed check</td>\n",
              "      <td>84.80</td>\n",
              "      <td>1990.5</td>\n",
              "      <td>No</td>\n",
              "    </tr>\n",
              "    <tr>\n",
              "      <th>7039</th>\n",
              "      <td>2234-XADUH</td>\n",
              "      <td>Female</td>\n",
              "      <td>0</td>\n",
              "      <td>Yes</td>\n",
              "      <td>Yes</td>\n",
              "      <td>72</td>\n",
              "      <td>Yes</td>\n",
              "      <td>Yes</td>\n",
              "      <td>Fiber optic</td>\n",
              "      <td>No</td>\n",
              "      <td>...</td>\n",
              "      <td>Yes</td>\n",
              "      <td>No</td>\n",
              "      <td>Yes</td>\n",
              "      <td>Yes</td>\n",
              "      <td>One year</td>\n",
              "      <td>Yes</td>\n",
              "      <td>Credit card (automatic)</td>\n",
              "      <td>103.20</td>\n",
              "      <td>7362.9</td>\n",
              "      <td>No</td>\n",
              "    </tr>\n",
              "    <tr>\n",
              "      <th>7040</th>\n",
              "      <td>4801-JZAZL</td>\n",
              "      <td>Female</td>\n",
              "      <td>0</td>\n",
              "      <td>Yes</td>\n",
              "      <td>Yes</td>\n",
              "      <td>11</td>\n",
              "      <td>No</td>\n",
              "      <td>No phone service</td>\n",
              "      <td>DSL</td>\n",
              "      <td>Yes</td>\n",
              "      <td>...</td>\n",
              "      <td>No</td>\n",
              "      <td>No</td>\n",
              "      <td>No</td>\n",
              "      <td>No</td>\n",
              "      <td>Month-to-month</td>\n",
              "      <td>Yes</td>\n",
              "      <td>Electronic check</td>\n",
              "      <td>29.60</td>\n",
              "      <td>346.45</td>\n",
              "      <td>No</td>\n",
              "    </tr>\n",
              "    <tr>\n",
              "      <th>7041</th>\n",
              "      <td>8361-LTMKD</td>\n",
              "      <td>Male</td>\n",
              "      <td>1</td>\n",
              "      <td>Yes</td>\n",
              "      <td>No</td>\n",
              "      <td>4</td>\n",
              "      <td>Yes</td>\n",
              "      <td>Yes</td>\n",
              "      <td>Fiber optic</td>\n",
              "      <td>No</td>\n",
              "      <td>...</td>\n",
              "      <td>No</td>\n",
              "      <td>No</td>\n",
              "      <td>No</td>\n",
              "      <td>No</td>\n",
              "      <td>Month-to-month</td>\n",
              "      <td>Yes</td>\n",
              "      <td>Mailed check</td>\n",
              "      <td>74.40</td>\n",
              "      <td>306.6</td>\n",
              "      <td>Yes</td>\n",
              "    </tr>\n",
              "    <tr>\n",
              "      <th>7042</th>\n",
              "      <td>3186-AJIEK</td>\n",
              "      <td>Male</td>\n",
              "      <td>0</td>\n",
              "      <td>No</td>\n",
              "      <td>No</td>\n",
              "      <td>66</td>\n",
              "      <td>Yes</td>\n",
              "      <td>No</td>\n",
              "      <td>Fiber optic</td>\n",
              "      <td>Yes</td>\n",
              "      <td>...</td>\n",
              "      <td>Yes</td>\n",
              "      <td>Yes</td>\n",
              "      <td>Yes</td>\n",
              "      <td>Yes</td>\n",
              "      <td>Two year</td>\n",
              "      <td>Yes</td>\n",
              "      <td>Bank transfer (automatic)</td>\n",
              "      <td>105.65</td>\n",
              "      <td>6844.5</td>\n",
              "      <td>No</td>\n",
              "    </tr>\n",
              "  </tbody>\n",
              "</table>\n",
              "<p>7043 rows × 21 columns</p>\n",
              "</div>\n",
              "      <button class=\"colab-df-convert\" onclick=\"convertToInteractive('df-c4546891-6d98-4a03-bbab-85e696685f5e')\"\n",
              "              title=\"Convert this dataframe to an interactive table.\"\n",
              "              style=\"display:none;\">\n",
              "        \n",
              "  <svg xmlns=\"http://www.w3.org/2000/svg\" height=\"24px\"viewBox=\"0 0 24 24\"\n",
              "       width=\"24px\">\n",
              "    <path d=\"M0 0h24v24H0V0z\" fill=\"none\"/>\n",
              "    <path d=\"M18.56 5.44l.94 2.06.94-2.06 2.06-.94-2.06-.94-.94-2.06-.94 2.06-2.06.94zm-11 1L8.5 8.5l.94-2.06 2.06-.94-2.06-.94L8.5 2.5l-.94 2.06-2.06.94zm10 10l.94 2.06.94-2.06 2.06-.94-2.06-.94-.94-2.06-.94 2.06-2.06.94z\"/><path d=\"M17.41 7.96l-1.37-1.37c-.4-.4-.92-.59-1.43-.59-.52 0-1.04.2-1.43.59L10.3 9.45l-7.72 7.72c-.78.78-.78 2.05 0 2.83L4 21.41c.39.39.9.59 1.41.59.51 0 1.02-.2 1.41-.59l7.78-7.78 2.81-2.81c.8-.78.8-2.07 0-2.86zM5.41 20L4 18.59l7.72-7.72 1.47 1.35L5.41 20z\"/>\n",
              "  </svg>\n",
              "      </button>\n",
              "      \n",
              "  <style>\n",
              "    .colab-df-container {\n",
              "      display:flex;\n",
              "      flex-wrap:wrap;\n",
              "      gap: 12px;\n",
              "    }\n",
              "\n",
              "    .colab-df-convert {\n",
              "      background-color: #E8F0FE;\n",
              "      border: none;\n",
              "      border-radius: 50%;\n",
              "      cursor: pointer;\n",
              "      display: none;\n",
              "      fill: #1967D2;\n",
              "      height: 32px;\n",
              "      padding: 0 0 0 0;\n",
              "      width: 32px;\n",
              "    }\n",
              "\n",
              "    .colab-df-convert:hover {\n",
              "      background-color: #E2EBFA;\n",
              "      box-shadow: 0px 1px 2px rgba(60, 64, 67, 0.3), 0px 1px 3px 1px rgba(60, 64, 67, 0.15);\n",
              "      fill: #174EA6;\n",
              "    }\n",
              "\n",
              "    [theme=dark] .colab-df-convert {\n",
              "      background-color: #3B4455;\n",
              "      fill: #D2E3FC;\n",
              "    }\n",
              "\n",
              "    [theme=dark] .colab-df-convert:hover {\n",
              "      background-color: #434B5C;\n",
              "      box-shadow: 0px 1px 3px 1px rgba(0, 0, 0, 0.15);\n",
              "      filter: drop-shadow(0px 1px 2px rgba(0, 0, 0, 0.3));\n",
              "      fill: #FFFFFF;\n",
              "    }\n",
              "  </style>\n",
              "\n",
              "      <script>\n",
              "        const buttonEl =\n",
              "          document.querySelector('#df-c4546891-6d98-4a03-bbab-85e696685f5e button.colab-df-convert');\n",
              "        buttonEl.style.display =\n",
              "          google.colab.kernel.accessAllowed ? 'block' : 'none';\n",
              "\n",
              "        async function convertToInteractive(key) {\n",
              "          const element = document.querySelector('#df-c4546891-6d98-4a03-bbab-85e696685f5e');\n",
              "          const dataTable =\n",
              "            await google.colab.kernel.invokeFunction('convertToInteractive',\n",
              "                                                     [key], {});\n",
              "          if (!dataTable) return;\n",
              "\n",
              "          const docLinkHtml = 'Like what you see? Visit the ' +\n",
              "            '<a target=\"_blank\" href=https://colab.research.google.com/notebooks/data_table.ipynb>data table notebook</a>'\n",
              "            + ' to learn more about interactive tables.';\n",
              "          element.innerHTML = '';\n",
              "          dataTable['output_type'] = 'display_data';\n",
              "          await google.colab.output.renderOutput(dataTable, element);\n",
              "          const docLink = document.createElement('div');\n",
              "          docLink.innerHTML = docLinkHtml;\n",
              "          element.appendChild(docLink);\n",
              "        }\n",
              "      </script>\n",
              "    </div>\n",
              "  </div>\n",
              "  "
            ]
          },
          "metadata": {},
          "execution_count": 26
        }
      ]
    },
    {
      "cell_type": "markdown",
      "source": [
        "Next, we drop unnecessary column, which is 'customerID'.\n",
        "\n",
        "We can drop 'CustomerID' since it's only a customer identifier and 'PaymentMethod' is not giving much info personally."
      ],
      "metadata": {
        "id": "jAqJ8fTeG_Gp"
      }
    },
    {
      "cell_type": "code",
      "source": [
        "data_clean = data_clean.drop(['customerID', 'PaymentMethod'], axis=1)"
      ],
      "metadata": {
        "id": "UAUTDsG9HZLa"
      },
      "execution_count": null,
      "outputs": []
    },
    {
      "cell_type": "code",
      "source": [
        "data_clean"
      ],
      "metadata": {
        "colab": {
          "base_uri": "https://localhost:8080/",
          "height": 592
        },
        "id": "UfPud-lLIVQZ",
        "outputId": "33427503-2d6a-4f32-9d50-63317d5d6bac"
      },
      "execution_count": null,
      "outputs": [
        {
          "output_type": "execute_result",
          "data": {
            "text/plain": [
              "      gender  SeniorCitizen Partner Dependents  tenure PhoneService  \\\n",
              "0     Female              0     Yes         No       1           No   \n",
              "1       Male              0      No         No      34          Yes   \n",
              "2       Male              0      No         No       2          Yes   \n",
              "3       Male              0      No         No      45           No   \n",
              "4     Female              0      No         No       2          Yes   \n",
              "...      ...            ...     ...        ...     ...          ...   \n",
              "7038    Male              0     Yes        Yes      24          Yes   \n",
              "7039  Female              0     Yes        Yes      72          Yes   \n",
              "7040  Female              0     Yes        Yes      11           No   \n",
              "7041    Male              1     Yes         No       4          Yes   \n",
              "7042    Male              0      No         No      66          Yes   \n",
              "\n",
              "         MultipleLines InternetService OnlineSecurity OnlineBackup  \\\n",
              "0     No phone service             DSL             No          Yes   \n",
              "1                   No             DSL            Yes           No   \n",
              "2                   No             DSL            Yes          Yes   \n",
              "3     No phone service             DSL            Yes           No   \n",
              "4                   No     Fiber optic             No           No   \n",
              "...                ...             ...            ...          ...   \n",
              "7038               Yes             DSL            Yes           No   \n",
              "7039               Yes     Fiber optic             No          Yes   \n",
              "7040  No phone service             DSL            Yes           No   \n",
              "7041               Yes     Fiber optic             No           No   \n",
              "7042                No     Fiber optic            Yes           No   \n",
              "\n",
              "     DeviceProtection TechSupport StreamingTV StreamingMovies        Contract  \\\n",
              "0                  No          No          No              No  Month-to-month   \n",
              "1                 Yes          No          No              No        One year   \n",
              "2                  No          No          No              No  Month-to-month   \n",
              "3                 Yes         Yes          No              No        One year   \n",
              "4                  No          No          No              No  Month-to-month   \n",
              "...               ...         ...         ...             ...             ...   \n",
              "7038              Yes         Yes         Yes             Yes        One year   \n",
              "7039              Yes          No         Yes             Yes        One year   \n",
              "7040               No          No          No              No  Month-to-month   \n",
              "7041               No          No          No              No  Month-to-month   \n",
              "7042              Yes         Yes         Yes             Yes        Two year   \n",
              "\n",
              "     PaperlessBilling  MonthlyCharges TotalCharges Churn  \n",
              "0                 Yes           29.85        29.85    No  \n",
              "1                  No           56.95       1889.5    No  \n",
              "2                 Yes           53.85       108.15   Yes  \n",
              "3                  No           42.30      1840.75    No  \n",
              "4                 Yes           70.70       151.65   Yes  \n",
              "...               ...             ...          ...   ...  \n",
              "7038              Yes           84.80       1990.5    No  \n",
              "7039              Yes          103.20       7362.9    No  \n",
              "7040              Yes           29.60       346.45    No  \n",
              "7041              Yes           74.40        306.6   Yes  \n",
              "7042              Yes          105.65       6844.5    No  \n",
              "\n",
              "[7043 rows x 19 columns]"
            ],
            "text/html": [
              "\n",
              "  <div id=\"df-34717e1d-d93c-4b6a-b291-7873ded0f145\">\n",
              "    <div class=\"colab-df-container\">\n",
              "      <div>\n",
              "<style scoped>\n",
              "    .dataframe tbody tr th:only-of-type {\n",
              "        vertical-align: middle;\n",
              "    }\n",
              "\n",
              "    .dataframe tbody tr th {\n",
              "        vertical-align: top;\n",
              "    }\n",
              "\n",
              "    .dataframe thead th {\n",
              "        text-align: right;\n",
              "    }\n",
              "</style>\n",
              "<table border=\"1\" class=\"dataframe\">\n",
              "  <thead>\n",
              "    <tr style=\"text-align: right;\">\n",
              "      <th></th>\n",
              "      <th>gender</th>\n",
              "      <th>SeniorCitizen</th>\n",
              "      <th>Partner</th>\n",
              "      <th>Dependents</th>\n",
              "      <th>tenure</th>\n",
              "      <th>PhoneService</th>\n",
              "      <th>MultipleLines</th>\n",
              "      <th>InternetService</th>\n",
              "      <th>OnlineSecurity</th>\n",
              "      <th>OnlineBackup</th>\n",
              "      <th>DeviceProtection</th>\n",
              "      <th>TechSupport</th>\n",
              "      <th>StreamingTV</th>\n",
              "      <th>StreamingMovies</th>\n",
              "      <th>Contract</th>\n",
              "      <th>PaperlessBilling</th>\n",
              "      <th>MonthlyCharges</th>\n",
              "      <th>TotalCharges</th>\n",
              "      <th>Churn</th>\n",
              "    </tr>\n",
              "  </thead>\n",
              "  <tbody>\n",
              "    <tr>\n",
              "      <th>0</th>\n",
              "      <td>Female</td>\n",
              "      <td>0</td>\n",
              "      <td>Yes</td>\n",
              "      <td>No</td>\n",
              "      <td>1</td>\n",
              "      <td>No</td>\n",
              "      <td>No phone service</td>\n",
              "      <td>DSL</td>\n",
              "      <td>No</td>\n",
              "      <td>Yes</td>\n",
              "      <td>No</td>\n",
              "      <td>No</td>\n",
              "      <td>No</td>\n",
              "      <td>No</td>\n",
              "      <td>Month-to-month</td>\n",
              "      <td>Yes</td>\n",
              "      <td>29.85</td>\n",
              "      <td>29.85</td>\n",
              "      <td>No</td>\n",
              "    </tr>\n",
              "    <tr>\n",
              "      <th>1</th>\n",
              "      <td>Male</td>\n",
              "      <td>0</td>\n",
              "      <td>No</td>\n",
              "      <td>No</td>\n",
              "      <td>34</td>\n",
              "      <td>Yes</td>\n",
              "      <td>No</td>\n",
              "      <td>DSL</td>\n",
              "      <td>Yes</td>\n",
              "      <td>No</td>\n",
              "      <td>Yes</td>\n",
              "      <td>No</td>\n",
              "      <td>No</td>\n",
              "      <td>No</td>\n",
              "      <td>One year</td>\n",
              "      <td>No</td>\n",
              "      <td>56.95</td>\n",
              "      <td>1889.5</td>\n",
              "      <td>No</td>\n",
              "    </tr>\n",
              "    <tr>\n",
              "      <th>2</th>\n",
              "      <td>Male</td>\n",
              "      <td>0</td>\n",
              "      <td>No</td>\n",
              "      <td>No</td>\n",
              "      <td>2</td>\n",
              "      <td>Yes</td>\n",
              "      <td>No</td>\n",
              "      <td>DSL</td>\n",
              "      <td>Yes</td>\n",
              "      <td>Yes</td>\n",
              "      <td>No</td>\n",
              "      <td>No</td>\n",
              "      <td>No</td>\n",
              "      <td>No</td>\n",
              "      <td>Month-to-month</td>\n",
              "      <td>Yes</td>\n",
              "      <td>53.85</td>\n",
              "      <td>108.15</td>\n",
              "      <td>Yes</td>\n",
              "    </tr>\n",
              "    <tr>\n",
              "      <th>3</th>\n",
              "      <td>Male</td>\n",
              "      <td>0</td>\n",
              "      <td>No</td>\n",
              "      <td>No</td>\n",
              "      <td>45</td>\n",
              "      <td>No</td>\n",
              "      <td>No phone service</td>\n",
              "      <td>DSL</td>\n",
              "      <td>Yes</td>\n",
              "      <td>No</td>\n",
              "      <td>Yes</td>\n",
              "      <td>Yes</td>\n",
              "      <td>No</td>\n",
              "      <td>No</td>\n",
              "      <td>One year</td>\n",
              "      <td>No</td>\n",
              "      <td>42.30</td>\n",
              "      <td>1840.75</td>\n",
              "      <td>No</td>\n",
              "    </tr>\n",
              "    <tr>\n",
              "      <th>4</th>\n",
              "      <td>Female</td>\n",
              "      <td>0</td>\n",
              "      <td>No</td>\n",
              "      <td>No</td>\n",
              "      <td>2</td>\n",
              "      <td>Yes</td>\n",
              "      <td>No</td>\n",
              "      <td>Fiber optic</td>\n",
              "      <td>No</td>\n",
              "      <td>No</td>\n",
              "      <td>No</td>\n",
              "      <td>No</td>\n",
              "      <td>No</td>\n",
              "      <td>No</td>\n",
              "      <td>Month-to-month</td>\n",
              "      <td>Yes</td>\n",
              "      <td>70.70</td>\n",
              "      <td>151.65</td>\n",
              "      <td>Yes</td>\n",
              "    </tr>\n",
              "    <tr>\n",
              "      <th>...</th>\n",
              "      <td>...</td>\n",
              "      <td>...</td>\n",
              "      <td>...</td>\n",
              "      <td>...</td>\n",
              "      <td>...</td>\n",
              "      <td>...</td>\n",
              "      <td>...</td>\n",
              "      <td>...</td>\n",
              "      <td>...</td>\n",
              "      <td>...</td>\n",
              "      <td>...</td>\n",
              "      <td>...</td>\n",
              "      <td>...</td>\n",
              "      <td>...</td>\n",
              "      <td>...</td>\n",
              "      <td>...</td>\n",
              "      <td>...</td>\n",
              "      <td>...</td>\n",
              "      <td>...</td>\n",
              "    </tr>\n",
              "    <tr>\n",
              "      <th>7038</th>\n",
              "      <td>Male</td>\n",
              "      <td>0</td>\n",
              "      <td>Yes</td>\n",
              "      <td>Yes</td>\n",
              "      <td>24</td>\n",
              "      <td>Yes</td>\n",
              "      <td>Yes</td>\n",
              "      <td>DSL</td>\n",
              "      <td>Yes</td>\n",
              "      <td>No</td>\n",
              "      <td>Yes</td>\n",
              "      <td>Yes</td>\n",
              "      <td>Yes</td>\n",
              "      <td>Yes</td>\n",
              "      <td>One year</td>\n",
              "      <td>Yes</td>\n",
              "      <td>84.80</td>\n",
              "      <td>1990.5</td>\n",
              "      <td>No</td>\n",
              "    </tr>\n",
              "    <tr>\n",
              "      <th>7039</th>\n",
              "      <td>Female</td>\n",
              "      <td>0</td>\n",
              "      <td>Yes</td>\n",
              "      <td>Yes</td>\n",
              "      <td>72</td>\n",
              "      <td>Yes</td>\n",
              "      <td>Yes</td>\n",
              "      <td>Fiber optic</td>\n",
              "      <td>No</td>\n",
              "      <td>Yes</td>\n",
              "      <td>Yes</td>\n",
              "      <td>No</td>\n",
              "      <td>Yes</td>\n",
              "      <td>Yes</td>\n",
              "      <td>One year</td>\n",
              "      <td>Yes</td>\n",
              "      <td>103.20</td>\n",
              "      <td>7362.9</td>\n",
              "      <td>No</td>\n",
              "    </tr>\n",
              "    <tr>\n",
              "      <th>7040</th>\n",
              "      <td>Female</td>\n",
              "      <td>0</td>\n",
              "      <td>Yes</td>\n",
              "      <td>Yes</td>\n",
              "      <td>11</td>\n",
              "      <td>No</td>\n",
              "      <td>No phone service</td>\n",
              "      <td>DSL</td>\n",
              "      <td>Yes</td>\n",
              "      <td>No</td>\n",
              "      <td>No</td>\n",
              "      <td>No</td>\n",
              "      <td>No</td>\n",
              "      <td>No</td>\n",
              "      <td>Month-to-month</td>\n",
              "      <td>Yes</td>\n",
              "      <td>29.60</td>\n",
              "      <td>346.45</td>\n",
              "      <td>No</td>\n",
              "    </tr>\n",
              "    <tr>\n",
              "      <th>7041</th>\n",
              "      <td>Male</td>\n",
              "      <td>1</td>\n",
              "      <td>Yes</td>\n",
              "      <td>No</td>\n",
              "      <td>4</td>\n",
              "      <td>Yes</td>\n",
              "      <td>Yes</td>\n",
              "      <td>Fiber optic</td>\n",
              "      <td>No</td>\n",
              "      <td>No</td>\n",
              "      <td>No</td>\n",
              "      <td>No</td>\n",
              "      <td>No</td>\n",
              "      <td>No</td>\n",
              "      <td>Month-to-month</td>\n",
              "      <td>Yes</td>\n",
              "      <td>74.40</td>\n",
              "      <td>306.6</td>\n",
              "      <td>Yes</td>\n",
              "    </tr>\n",
              "    <tr>\n",
              "      <th>7042</th>\n",
              "      <td>Male</td>\n",
              "      <td>0</td>\n",
              "      <td>No</td>\n",
              "      <td>No</td>\n",
              "      <td>66</td>\n",
              "      <td>Yes</td>\n",
              "      <td>No</td>\n",
              "      <td>Fiber optic</td>\n",
              "      <td>Yes</td>\n",
              "      <td>No</td>\n",
              "      <td>Yes</td>\n",
              "      <td>Yes</td>\n",
              "      <td>Yes</td>\n",
              "      <td>Yes</td>\n",
              "      <td>Two year</td>\n",
              "      <td>Yes</td>\n",
              "      <td>105.65</td>\n",
              "      <td>6844.5</td>\n",
              "      <td>No</td>\n",
              "    </tr>\n",
              "  </tbody>\n",
              "</table>\n",
              "<p>7043 rows × 19 columns</p>\n",
              "</div>\n",
              "      <button class=\"colab-df-convert\" onclick=\"convertToInteractive('df-34717e1d-d93c-4b6a-b291-7873ded0f145')\"\n",
              "              title=\"Convert this dataframe to an interactive table.\"\n",
              "              style=\"display:none;\">\n",
              "        \n",
              "  <svg xmlns=\"http://www.w3.org/2000/svg\" height=\"24px\"viewBox=\"0 0 24 24\"\n",
              "       width=\"24px\">\n",
              "    <path d=\"M0 0h24v24H0V0z\" fill=\"none\"/>\n",
              "    <path d=\"M18.56 5.44l.94 2.06.94-2.06 2.06-.94-2.06-.94-.94-2.06-.94 2.06-2.06.94zm-11 1L8.5 8.5l.94-2.06 2.06-.94-2.06-.94L8.5 2.5l-.94 2.06-2.06.94zm10 10l.94 2.06.94-2.06 2.06-.94-2.06-.94-.94-2.06-.94 2.06-2.06.94z\"/><path d=\"M17.41 7.96l-1.37-1.37c-.4-.4-.92-.59-1.43-.59-.52 0-1.04.2-1.43.59L10.3 9.45l-7.72 7.72c-.78.78-.78 2.05 0 2.83L4 21.41c.39.39.9.59 1.41.59.51 0 1.02-.2 1.41-.59l7.78-7.78 2.81-2.81c.8-.78.8-2.07 0-2.86zM5.41 20L4 18.59l7.72-7.72 1.47 1.35L5.41 20z\"/>\n",
              "  </svg>\n",
              "      </button>\n",
              "      \n",
              "  <style>\n",
              "    .colab-df-container {\n",
              "      display:flex;\n",
              "      flex-wrap:wrap;\n",
              "      gap: 12px;\n",
              "    }\n",
              "\n",
              "    .colab-df-convert {\n",
              "      background-color: #E8F0FE;\n",
              "      border: none;\n",
              "      border-radius: 50%;\n",
              "      cursor: pointer;\n",
              "      display: none;\n",
              "      fill: #1967D2;\n",
              "      height: 32px;\n",
              "      padding: 0 0 0 0;\n",
              "      width: 32px;\n",
              "    }\n",
              "\n",
              "    .colab-df-convert:hover {\n",
              "      background-color: #E2EBFA;\n",
              "      box-shadow: 0px 1px 2px rgba(60, 64, 67, 0.3), 0px 1px 3px 1px rgba(60, 64, 67, 0.15);\n",
              "      fill: #174EA6;\n",
              "    }\n",
              "\n",
              "    [theme=dark] .colab-df-convert {\n",
              "      background-color: #3B4455;\n",
              "      fill: #D2E3FC;\n",
              "    }\n",
              "\n",
              "    [theme=dark] .colab-df-convert:hover {\n",
              "      background-color: #434B5C;\n",
              "      box-shadow: 0px 1px 3px 1px rgba(0, 0, 0, 0.15);\n",
              "      filter: drop-shadow(0px 1px 2px rgba(0, 0, 0, 0.3));\n",
              "      fill: #FFFFFF;\n",
              "    }\n",
              "  </style>\n",
              "\n",
              "      <script>\n",
              "        const buttonEl =\n",
              "          document.querySelector('#df-34717e1d-d93c-4b6a-b291-7873ded0f145 button.colab-df-convert');\n",
              "        buttonEl.style.display =\n",
              "          google.colab.kernel.accessAllowed ? 'block' : 'none';\n",
              "\n",
              "        async function convertToInteractive(key) {\n",
              "          const element = document.querySelector('#df-34717e1d-d93c-4b6a-b291-7873ded0f145');\n",
              "          const dataTable =\n",
              "            await google.colab.kernel.invokeFunction('convertToInteractive',\n",
              "                                                     [key], {});\n",
              "          if (!dataTable) return;\n",
              "\n",
              "          const docLinkHtml = 'Like what you see? Visit the ' +\n",
              "            '<a target=\"_blank\" href=https://colab.research.google.com/notebooks/data_table.ipynb>data table notebook</a>'\n",
              "            + ' to learn more about interactive tables.';\n",
              "          element.innerHTML = '';\n",
              "          dataTable['output_type'] = 'display_data';\n",
              "          await google.colab.output.renderOutput(dataTable, element);\n",
              "          const docLink = document.createElement('div');\n",
              "          docLink.innerHTML = docLinkHtml;\n",
              "          element.appendChild(docLink);\n",
              "        }\n",
              "      </script>\n",
              "    </div>\n",
              "  </div>\n",
              "  "
            ]
          },
          "metadata": {},
          "execution_count": 28
        }
      ]
    },
    {
      "cell_type": "markdown",
      "source": [
        "Next we change 'yes' and 'no' value on target column as 1 and 0."
      ],
      "metadata": {
        "id": "_DQ1DAYWIjrh"
      }
    },
    {
      "cell_type": "code",
      "source": [
        "yn_column = ['Churn']\n",
        "\n",
        "def boolean_clean(row, column_name):\n",
        "    if row[column_name] == 'Yes':\n",
        "        return 1\n",
        "    else:\n",
        "        return 0\n",
        "\n",
        "for bool_col in yn_column:\n",
        "    data_clean[bool_col + '_bool'] = data.apply(lambda row: boolean_clean(row, bool_col),axis=1)\n",
        "\n",
        "data_clean = data_clean.drop(columns = yn_column)\n",
        "data_clean"
      ],
      "metadata": {
        "colab": {
          "base_uri": "https://localhost:8080/",
          "height": 592
        },
        "id": "eLVJZzWqItPS",
        "outputId": "c07e5471-7499-4165-e5a9-a657755b608b"
      },
      "execution_count": null,
      "outputs": [
        {
          "output_type": "execute_result",
          "data": {
            "text/plain": [
              "      gender  SeniorCitizen Partner Dependents  tenure PhoneService  \\\n",
              "0     Female              0     Yes         No       1           No   \n",
              "1       Male              0      No         No      34          Yes   \n",
              "2       Male              0      No         No       2          Yes   \n",
              "3       Male              0      No         No      45           No   \n",
              "4     Female              0      No         No       2          Yes   \n",
              "...      ...            ...     ...        ...     ...          ...   \n",
              "7038    Male              0     Yes        Yes      24          Yes   \n",
              "7039  Female              0     Yes        Yes      72          Yes   \n",
              "7040  Female              0     Yes        Yes      11           No   \n",
              "7041    Male              1     Yes         No       4          Yes   \n",
              "7042    Male              0      No         No      66          Yes   \n",
              "\n",
              "         MultipleLines InternetService OnlineSecurity OnlineBackup  \\\n",
              "0     No phone service             DSL             No          Yes   \n",
              "1                   No             DSL            Yes           No   \n",
              "2                   No             DSL            Yes          Yes   \n",
              "3     No phone service             DSL            Yes           No   \n",
              "4                   No     Fiber optic             No           No   \n",
              "...                ...             ...            ...          ...   \n",
              "7038               Yes             DSL            Yes           No   \n",
              "7039               Yes     Fiber optic             No          Yes   \n",
              "7040  No phone service             DSL            Yes           No   \n",
              "7041               Yes     Fiber optic             No           No   \n",
              "7042                No     Fiber optic            Yes           No   \n",
              "\n",
              "     DeviceProtection TechSupport StreamingTV StreamingMovies        Contract  \\\n",
              "0                  No          No          No              No  Month-to-month   \n",
              "1                 Yes          No          No              No        One year   \n",
              "2                  No          No          No              No  Month-to-month   \n",
              "3                 Yes         Yes          No              No        One year   \n",
              "4                  No          No          No              No  Month-to-month   \n",
              "...               ...         ...         ...             ...             ...   \n",
              "7038              Yes         Yes         Yes             Yes        One year   \n",
              "7039              Yes          No         Yes             Yes        One year   \n",
              "7040               No          No          No              No  Month-to-month   \n",
              "7041               No          No          No              No  Month-to-month   \n",
              "7042              Yes         Yes         Yes             Yes        Two year   \n",
              "\n",
              "     PaperlessBilling  MonthlyCharges TotalCharges  Churn_bool  \n",
              "0                 Yes           29.85        29.85           0  \n",
              "1                  No           56.95       1889.5           0  \n",
              "2                 Yes           53.85       108.15           1  \n",
              "3                  No           42.30      1840.75           0  \n",
              "4                 Yes           70.70       151.65           1  \n",
              "...               ...             ...          ...         ...  \n",
              "7038              Yes           84.80       1990.5           0  \n",
              "7039              Yes          103.20       7362.9           0  \n",
              "7040              Yes           29.60       346.45           0  \n",
              "7041              Yes           74.40        306.6           1  \n",
              "7042              Yes          105.65       6844.5           0  \n",
              "\n",
              "[7043 rows x 19 columns]"
            ],
            "text/html": [
              "\n",
              "  <div id=\"df-7a32b57d-7bb2-46ed-ad2f-fef934bf3af4\">\n",
              "    <div class=\"colab-df-container\">\n",
              "      <div>\n",
              "<style scoped>\n",
              "    .dataframe tbody tr th:only-of-type {\n",
              "        vertical-align: middle;\n",
              "    }\n",
              "\n",
              "    .dataframe tbody tr th {\n",
              "        vertical-align: top;\n",
              "    }\n",
              "\n",
              "    .dataframe thead th {\n",
              "        text-align: right;\n",
              "    }\n",
              "</style>\n",
              "<table border=\"1\" class=\"dataframe\">\n",
              "  <thead>\n",
              "    <tr style=\"text-align: right;\">\n",
              "      <th></th>\n",
              "      <th>gender</th>\n",
              "      <th>SeniorCitizen</th>\n",
              "      <th>Partner</th>\n",
              "      <th>Dependents</th>\n",
              "      <th>tenure</th>\n",
              "      <th>PhoneService</th>\n",
              "      <th>MultipleLines</th>\n",
              "      <th>InternetService</th>\n",
              "      <th>OnlineSecurity</th>\n",
              "      <th>OnlineBackup</th>\n",
              "      <th>DeviceProtection</th>\n",
              "      <th>TechSupport</th>\n",
              "      <th>StreamingTV</th>\n",
              "      <th>StreamingMovies</th>\n",
              "      <th>Contract</th>\n",
              "      <th>PaperlessBilling</th>\n",
              "      <th>MonthlyCharges</th>\n",
              "      <th>TotalCharges</th>\n",
              "      <th>Churn_bool</th>\n",
              "    </tr>\n",
              "  </thead>\n",
              "  <tbody>\n",
              "    <tr>\n",
              "      <th>0</th>\n",
              "      <td>Female</td>\n",
              "      <td>0</td>\n",
              "      <td>Yes</td>\n",
              "      <td>No</td>\n",
              "      <td>1</td>\n",
              "      <td>No</td>\n",
              "      <td>No phone service</td>\n",
              "      <td>DSL</td>\n",
              "      <td>No</td>\n",
              "      <td>Yes</td>\n",
              "      <td>No</td>\n",
              "      <td>No</td>\n",
              "      <td>No</td>\n",
              "      <td>No</td>\n",
              "      <td>Month-to-month</td>\n",
              "      <td>Yes</td>\n",
              "      <td>29.85</td>\n",
              "      <td>29.85</td>\n",
              "      <td>0</td>\n",
              "    </tr>\n",
              "    <tr>\n",
              "      <th>1</th>\n",
              "      <td>Male</td>\n",
              "      <td>0</td>\n",
              "      <td>No</td>\n",
              "      <td>No</td>\n",
              "      <td>34</td>\n",
              "      <td>Yes</td>\n",
              "      <td>No</td>\n",
              "      <td>DSL</td>\n",
              "      <td>Yes</td>\n",
              "      <td>No</td>\n",
              "      <td>Yes</td>\n",
              "      <td>No</td>\n",
              "      <td>No</td>\n",
              "      <td>No</td>\n",
              "      <td>One year</td>\n",
              "      <td>No</td>\n",
              "      <td>56.95</td>\n",
              "      <td>1889.5</td>\n",
              "      <td>0</td>\n",
              "    </tr>\n",
              "    <tr>\n",
              "      <th>2</th>\n",
              "      <td>Male</td>\n",
              "      <td>0</td>\n",
              "      <td>No</td>\n",
              "      <td>No</td>\n",
              "      <td>2</td>\n",
              "      <td>Yes</td>\n",
              "      <td>No</td>\n",
              "      <td>DSL</td>\n",
              "      <td>Yes</td>\n",
              "      <td>Yes</td>\n",
              "      <td>No</td>\n",
              "      <td>No</td>\n",
              "      <td>No</td>\n",
              "      <td>No</td>\n",
              "      <td>Month-to-month</td>\n",
              "      <td>Yes</td>\n",
              "      <td>53.85</td>\n",
              "      <td>108.15</td>\n",
              "      <td>1</td>\n",
              "    </tr>\n",
              "    <tr>\n",
              "      <th>3</th>\n",
              "      <td>Male</td>\n",
              "      <td>0</td>\n",
              "      <td>No</td>\n",
              "      <td>No</td>\n",
              "      <td>45</td>\n",
              "      <td>No</td>\n",
              "      <td>No phone service</td>\n",
              "      <td>DSL</td>\n",
              "      <td>Yes</td>\n",
              "      <td>No</td>\n",
              "      <td>Yes</td>\n",
              "      <td>Yes</td>\n",
              "      <td>No</td>\n",
              "      <td>No</td>\n",
              "      <td>One year</td>\n",
              "      <td>No</td>\n",
              "      <td>42.30</td>\n",
              "      <td>1840.75</td>\n",
              "      <td>0</td>\n",
              "    </tr>\n",
              "    <tr>\n",
              "      <th>4</th>\n",
              "      <td>Female</td>\n",
              "      <td>0</td>\n",
              "      <td>No</td>\n",
              "      <td>No</td>\n",
              "      <td>2</td>\n",
              "      <td>Yes</td>\n",
              "      <td>No</td>\n",
              "      <td>Fiber optic</td>\n",
              "      <td>No</td>\n",
              "      <td>No</td>\n",
              "      <td>No</td>\n",
              "      <td>No</td>\n",
              "      <td>No</td>\n",
              "      <td>No</td>\n",
              "      <td>Month-to-month</td>\n",
              "      <td>Yes</td>\n",
              "      <td>70.70</td>\n",
              "      <td>151.65</td>\n",
              "      <td>1</td>\n",
              "    </tr>\n",
              "    <tr>\n",
              "      <th>...</th>\n",
              "      <td>...</td>\n",
              "      <td>...</td>\n",
              "      <td>...</td>\n",
              "      <td>...</td>\n",
              "      <td>...</td>\n",
              "      <td>...</td>\n",
              "      <td>...</td>\n",
              "      <td>...</td>\n",
              "      <td>...</td>\n",
              "      <td>...</td>\n",
              "      <td>...</td>\n",
              "      <td>...</td>\n",
              "      <td>...</td>\n",
              "      <td>...</td>\n",
              "      <td>...</td>\n",
              "      <td>...</td>\n",
              "      <td>...</td>\n",
              "      <td>...</td>\n",
              "      <td>...</td>\n",
              "    </tr>\n",
              "    <tr>\n",
              "      <th>7038</th>\n",
              "      <td>Male</td>\n",
              "      <td>0</td>\n",
              "      <td>Yes</td>\n",
              "      <td>Yes</td>\n",
              "      <td>24</td>\n",
              "      <td>Yes</td>\n",
              "      <td>Yes</td>\n",
              "      <td>DSL</td>\n",
              "      <td>Yes</td>\n",
              "      <td>No</td>\n",
              "      <td>Yes</td>\n",
              "      <td>Yes</td>\n",
              "      <td>Yes</td>\n",
              "      <td>Yes</td>\n",
              "      <td>One year</td>\n",
              "      <td>Yes</td>\n",
              "      <td>84.80</td>\n",
              "      <td>1990.5</td>\n",
              "      <td>0</td>\n",
              "    </tr>\n",
              "    <tr>\n",
              "      <th>7039</th>\n",
              "      <td>Female</td>\n",
              "      <td>0</td>\n",
              "      <td>Yes</td>\n",
              "      <td>Yes</td>\n",
              "      <td>72</td>\n",
              "      <td>Yes</td>\n",
              "      <td>Yes</td>\n",
              "      <td>Fiber optic</td>\n",
              "      <td>No</td>\n",
              "      <td>Yes</td>\n",
              "      <td>Yes</td>\n",
              "      <td>No</td>\n",
              "      <td>Yes</td>\n",
              "      <td>Yes</td>\n",
              "      <td>One year</td>\n",
              "      <td>Yes</td>\n",
              "      <td>103.20</td>\n",
              "      <td>7362.9</td>\n",
              "      <td>0</td>\n",
              "    </tr>\n",
              "    <tr>\n",
              "      <th>7040</th>\n",
              "      <td>Female</td>\n",
              "      <td>0</td>\n",
              "      <td>Yes</td>\n",
              "      <td>Yes</td>\n",
              "      <td>11</td>\n",
              "      <td>No</td>\n",
              "      <td>No phone service</td>\n",
              "      <td>DSL</td>\n",
              "      <td>Yes</td>\n",
              "      <td>No</td>\n",
              "      <td>No</td>\n",
              "      <td>No</td>\n",
              "      <td>No</td>\n",
              "      <td>No</td>\n",
              "      <td>Month-to-month</td>\n",
              "      <td>Yes</td>\n",
              "      <td>29.60</td>\n",
              "      <td>346.45</td>\n",
              "      <td>0</td>\n",
              "    </tr>\n",
              "    <tr>\n",
              "      <th>7041</th>\n",
              "      <td>Male</td>\n",
              "      <td>1</td>\n",
              "      <td>Yes</td>\n",
              "      <td>No</td>\n",
              "      <td>4</td>\n",
              "      <td>Yes</td>\n",
              "      <td>Yes</td>\n",
              "      <td>Fiber optic</td>\n",
              "      <td>No</td>\n",
              "      <td>No</td>\n",
              "      <td>No</td>\n",
              "      <td>No</td>\n",
              "      <td>No</td>\n",
              "      <td>No</td>\n",
              "      <td>Month-to-month</td>\n",
              "      <td>Yes</td>\n",
              "      <td>74.40</td>\n",
              "      <td>306.6</td>\n",
              "      <td>1</td>\n",
              "    </tr>\n",
              "    <tr>\n",
              "      <th>7042</th>\n",
              "      <td>Male</td>\n",
              "      <td>0</td>\n",
              "      <td>No</td>\n",
              "      <td>No</td>\n",
              "      <td>66</td>\n",
              "      <td>Yes</td>\n",
              "      <td>No</td>\n",
              "      <td>Fiber optic</td>\n",
              "      <td>Yes</td>\n",
              "      <td>No</td>\n",
              "      <td>Yes</td>\n",
              "      <td>Yes</td>\n",
              "      <td>Yes</td>\n",
              "      <td>Yes</td>\n",
              "      <td>Two year</td>\n",
              "      <td>Yes</td>\n",
              "      <td>105.65</td>\n",
              "      <td>6844.5</td>\n",
              "      <td>0</td>\n",
              "    </tr>\n",
              "  </tbody>\n",
              "</table>\n",
              "<p>7043 rows × 19 columns</p>\n",
              "</div>\n",
              "      <button class=\"colab-df-convert\" onclick=\"convertToInteractive('df-7a32b57d-7bb2-46ed-ad2f-fef934bf3af4')\"\n",
              "              title=\"Convert this dataframe to an interactive table.\"\n",
              "              style=\"display:none;\">\n",
              "        \n",
              "  <svg xmlns=\"http://www.w3.org/2000/svg\" height=\"24px\"viewBox=\"0 0 24 24\"\n",
              "       width=\"24px\">\n",
              "    <path d=\"M0 0h24v24H0V0z\" fill=\"none\"/>\n",
              "    <path d=\"M18.56 5.44l.94 2.06.94-2.06 2.06-.94-2.06-.94-.94-2.06-.94 2.06-2.06.94zm-11 1L8.5 8.5l.94-2.06 2.06-.94-2.06-.94L8.5 2.5l-.94 2.06-2.06.94zm10 10l.94 2.06.94-2.06 2.06-.94-2.06-.94-.94-2.06-.94 2.06-2.06.94z\"/><path d=\"M17.41 7.96l-1.37-1.37c-.4-.4-.92-.59-1.43-.59-.52 0-1.04.2-1.43.59L10.3 9.45l-7.72 7.72c-.78.78-.78 2.05 0 2.83L4 21.41c.39.39.9.59 1.41.59.51 0 1.02-.2 1.41-.59l7.78-7.78 2.81-2.81c.8-.78.8-2.07 0-2.86zM5.41 20L4 18.59l7.72-7.72 1.47 1.35L5.41 20z\"/>\n",
              "  </svg>\n",
              "      </button>\n",
              "      \n",
              "  <style>\n",
              "    .colab-df-container {\n",
              "      display:flex;\n",
              "      flex-wrap:wrap;\n",
              "      gap: 12px;\n",
              "    }\n",
              "\n",
              "    .colab-df-convert {\n",
              "      background-color: #E8F0FE;\n",
              "      border: none;\n",
              "      border-radius: 50%;\n",
              "      cursor: pointer;\n",
              "      display: none;\n",
              "      fill: #1967D2;\n",
              "      height: 32px;\n",
              "      padding: 0 0 0 0;\n",
              "      width: 32px;\n",
              "    }\n",
              "\n",
              "    .colab-df-convert:hover {\n",
              "      background-color: #E2EBFA;\n",
              "      box-shadow: 0px 1px 2px rgba(60, 64, 67, 0.3), 0px 1px 3px 1px rgba(60, 64, 67, 0.15);\n",
              "      fill: #174EA6;\n",
              "    }\n",
              "\n",
              "    [theme=dark] .colab-df-convert {\n",
              "      background-color: #3B4455;\n",
              "      fill: #D2E3FC;\n",
              "    }\n",
              "\n",
              "    [theme=dark] .colab-df-convert:hover {\n",
              "      background-color: #434B5C;\n",
              "      box-shadow: 0px 1px 3px 1px rgba(0, 0, 0, 0.15);\n",
              "      filter: drop-shadow(0px 1px 2px rgba(0, 0, 0, 0.3));\n",
              "      fill: #FFFFFF;\n",
              "    }\n",
              "  </style>\n",
              "\n",
              "      <script>\n",
              "        const buttonEl =\n",
              "          document.querySelector('#df-7a32b57d-7bb2-46ed-ad2f-fef934bf3af4 button.colab-df-convert');\n",
              "        buttonEl.style.display =\n",
              "          google.colab.kernel.accessAllowed ? 'block' : 'none';\n",
              "\n",
              "        async function convertToInteractive(key) {\n",
              "          const element = document.querySelector('#df-7a32b57d-7bb2-46ed-ad2f-fef934bf3af4');\n",
              "          const dataTable =\n",
              "            await google.colab.kernel.invokeFunction('convertToInteractive',\n",
              "                                                     [key], {});\n",
              "          if (!dataTable) return;\n",
              "\n",
              "          const docLinkHtml = 'Like what you see? Visit the ' +\n",
              "            '<a target=\"_blank\" href=https://colab.research.google.com/notebooks/data_table.ipynb>data table notebook</a>'\n",
              "            + ' to learn more about interactive tables.';\n",
              "          element.innerHTML = '';\n",
              "          dataTable['output_type'] = 'display_data';\n",
              "          await google.colab.output.renderOutput(dataTable, element);\n",
              "          const docLink = document.createElement('div');\n",
              "          docLink.innerHTML = docLinkHtml;\n",
              "          element.appendChild(docLink);\n",
              "        }\n",
              "      </script>\n",
              "    </div>\n",
              "  </div>\n",
              "  "
            ]
          },
          "metadata": {},
          "execution_count": 29
        }
      ]
    },
    {
      "cell_type": "markdown",
      "source": [
        "Next we change the missing value into from 'TotalCharges' into NaN."
      ],
      "metadata": {
        "id": "DieStr2sBncj"
      }
    },
    {
      "cell_type": "code",
      "source": [
        "data_clean['TotalCharges'].value_counts()"
      ],
      "metadata": {
        "colab": {
          "base_uri": "https://localhost:8080/"
        },
        "id": "jhyrYrd7Bxe5",
        "outputId": "0bd69b21-ecbb-44b0-fa9e-12449346f1b0"
      },
      "execution_count": null,
      "outputs": [
        {
          "output_type": "execute_result",
          "data": {
            "text/plain": [
              "          11\n",
              "20.2      11\n",
              "19.75      9\n",
              "20.05      8\n",
              "19.9       8\n",
              "          ..\n",
              "6849.4     1\n",
              "692.35     1\n",
              "130.15     1\n",
              "3211.9     1\n",
              "6844.5     1\n",
              "Name: TotalCharges, Length: 6531, dtype: int64"
            ]
          },
          "metadata": {},
          "execution_count": 30
        }
      ]
    },
    {
      "cell_type": "code",
      "source": [
        "data_clean['TotalCharges'].replace(' ', np.NaN)"
      ],
      "metadata": {
        "colab": {
          "base_uri": "https://localhost:8080/"
        },
        "id": "IGNGnLU-B0WR",
        "outputId": "4712c5c5-6acd-4405-b040-44716b6745d6"
      },
      "execution_count": null,
      "outputs": [
        {
          "output_type": "execute_result",
          "data": {
            "text/plain": [
              "0         29.85\n",
              "1        1889.5\n",
              "2        108.15\n",
              "3       1840.75\n",
              "4        151.65\n",
              "         ...   \n",
              "7038     1990.5\n",
              "7039     7362.9\n",
              "7040     346.45\n",
              "7041      306.6\n",
              "7042     6844.5\n",
              "Name: TotalCharges, Length: 7043, dtype: object"
            ]
          },
          "metadata": {},
          "execution_count": 31
        }
      ]
    },
    {
      "cell_type": "code",
      "source": [
        "data_clean['TotalCharges'].isnull().sum()"
      ],
      "metadata": {
        "colab": {
          "base_uri": "https://localhost:8080/"
        },
        "id": "MP_eRpXZC8VT",
        "outputId": "d5f449b5-e46a-4cc5-ac3d-9ea7b7f4cfe2"
      },
      "execution_count": null,
      "outputs": [
        {
          "output_type": "execute_result",
          "data": {
            "text/plain": [
              "0"
            ]
          },
          "metadata": {},
          "execution_count": 32
        }
      ]
    },
    {
      "cell_type": "markdown",
      "source": [
        "Next, we convert 'TotalCharges' data type from object to numeric."
      ],
      "metadata": {
        "id": "qEJuIQ9BJTn3"
      }
    },
    {
      "cell_type": "code",
      "source": [
        "data_clean['TotalCharges'] = pd.to_numeric(data_clean['TotalCharges'], errors='coerce')\n",
        "data_clean.info()"
      ],
      "metadata": {
        "colab": {
          "base_uri": "https://localhost:8080/"
        },
        "id": "g1T38X2VJte4",
        "outputId": "ab5c1820-342f-4fe7-8a7e-d02d5fa0a80a"
      },
      "execution_count": null,
      "outputs": [
        {
          "output_type": "stream",
          "name": "stdout",
          "text": [
            "<class 'pandas.core.frame.DataFrame'>\n",
            "RangeIndex: 7043 entries, 0 to 7042\n",
            "Data columns (total 19 columns):\n",
            " #   Column            Non-Null Count  Dtype  \n",
            "---  ------            --------------  -----  \n",
            " 0   gender            7043 non-null   object \n",
            " 1   SeniorCitizen     7043 non-null   int64  \n",
            " 2   Partner           7043 non-null   object \n",
            " 3   Dependents        7043 non-null   object \n",
            " 4   tenure            7043 non-null   int64  \n",
            " 5   PhoneService      7043 non-null   object \n",
            " 6   MultipleLines     7043 non-null   object \n",
            " 7   InternetService   7043 non-null   object \n",
            " 8   OnlineSecurity    7043 non-null   object \n",
            " 9   OnlineBackup      7043 non-null   object \n",
            " 10  DeviceProtection  7043 non-null   object \n",
            " 11  TechSupport       7043 non-null   object \n",
            " 12  StreamingTV       7043 non-null   object \n",
            " 13  StreamingMovies   7043 non-null   object \n",
            " 14  Contract          7043 non-null   object \n",
            " 15  PaperlessBilling  7043 non-null   object \n",
            " 16  MonthlyCharges    7043 non-null   float64\n",
            " 17  TotalCharges      7032 non-null   float64\n",
            " 18  Churn_bool        7043 non-null   int64  \n",
            "dtypes: float64(2), int64(3), object(14)\n",
            "memory usage: 1.0+ MB\n"
          ]
        }
      ]
    },
    {
      "cell_type": "markdown",
      "source": [
        "There are some values that can be changed in order to make the computation easier. Let's see which columns that has those value."
      ],
      "metadata": {
        "id": "ndlK1-TNEbty"
      }
    },
    {
      "cell_type": "code",
      "source": [
        "data_clean['MultipleLines'].value_counts()"
      ],
      "metadata": {
        "colab": {
          "base_uri": "https://localhost:8080/"
        },
        "id": "BMEHsa5SE5c9",
        "outputId": "3b5880a1-4c74-46cc-ff35-9458a3ad7a10"
      },
      "execution_count": null,
      "outputs": [
        {
          "output_type": "execute_result",
          "data": {
            "text/plain": [
              "No                  3390\n",
              "Yes                 2971\n",
              "No phone service     682\n",
              "Name: MultipleLines, dtype: int64"
            ]
          },
          "metadata": {},
          "execution_count": 34
        }
      ]
    },
    {
      "cell_type": "markdown",
      "source": [
        "From this column we can change 'No phone service' to 'No' since it has similar meaning."
      ],
      "metadata": {
        "id": "PL8e_B0hE_HB"
      }
    },
    {
      "cell_type": "code",
      "source": [
        "data_clean['MultipleLines'] = data_clean['MultipleLines'].replace(['No phone service'],'No')\n",
        "data_clean['MultipleLines'].value_counts()"
      ],
      "metadata": {
        "colab": {
          "base_uri": "https://localhost:8080/"
        },
        "id": "RWBz59LHFJCg",
        "outputId": "5287abde-1977-4b24-9c59-894b242e033f"
      },
      "execution_count": null,
      "outputs": [
        {
          "output_type": "execute_result",
          "data": {
            "text/plain": [
              "No     4072\n",
              "Yes    2971\n",
              "Name: MultipleLines, dtype: int64"
            ]
          },
          "metadata": {},
          "execution_count": 35
        }
      ]
    },
    {
      "cell_type": "markdown",
      "source": [
        "Another columns that we can change the value is 'OnlineSecurity', 'OnlineBackup', 'DeviceProtection', 'TechSupport', 'StreamingTV' and 'StreamingMovies'."
      ],
      "metadata": {
        "id": "N_zb85czFpTT"
      }
    },
    {
      "cell_type": "code",
      "source": [
        "data_clean['OnlineSecurity'].value_counts()"
      ],
      "metadata": {
        "colab": {
          "base_uri": "https://localhost:8080/"
        },
        "id": "xhCW8GQfGteS",
        "outputId": "315cb61e-bbc4-4105-8674-2b821bc1bab1"
      },
      "execution_count": null,
      "outputs": [
        {
          "output_type": "execute_result",
          "data": {
            "text/plain": [
              "No                     3498\n",
              "Yes                    2019\n",
              "No internet service    1526\n",
              "Name: OnlineSecurity, dtype: int64"
            ]
          },
          "metadata": {},
          "execution_count": 36
        }
      ]
    },
    {
      "cell_type": "code",
      "source": [
        "data_clean['OnlineSecurity'] = data_clean['OnlineSecurity'].replace(['No internet service'],'No')\n",
        "data_clean['OnlineSecurity'].value_counts()"
      ],
      "metadata": {
        "colab": {
          "base_uri": "https://localhost:8080/"
        },
        "id": "k6D88WzJHAVo",
        "outputId": "ca389a64-44f3-49d6-ab79-fe249f4afdb5"
      },
      "execution_count": null,
      "outputs": [
        {
          "output_type": "execute_result",
          "data": {
            "text/plain": [
              "No     5024\n",
              "Yes    2019\n",
              "Name: OnlineSecurity, dtype: int64"
            ]
          },
          "metadata": {},
          "execution_count": 37
        }
      ]
    },
    {
      "cell_type": "code",
      "source": [
        "data_clean['OnlineBackup'] = data_clean['OnlineBackup'].replace(['No internet service'],'No')\n",
        "data_clean['OnlineBackup'].value_counts()"
      ],
      "metadata": {
        "colab": {
          "base_uri": "https://localhost:8080/"
        },
        "id": "wOKMZ_jBHFpq",
        "outputId": "911645ab-1af2-4ff6-de95-658f706f5033"
      },
      "execution_count": null,
      "outputs": [
        {
          "output_type": "execute_result",
          "data": {
            "text/plain": [
              "No     4614\n",
              "Yes    2429\n",
              "Name: OnlineBackup, dtype: int64"
            ]
          },
          "metadata": {},
          "execution_count": 38
        }
      ]
    },
    {
      "cell_type": "code",
      "source": [
        "data_clean['DeviceProtection'] = data_clean['DeviceProtection'].replace(['No internet service'],'No')\n",
        "data_clean['DeviceProtection'].value_counts()"
      ],
      "metadata": {
        "colab": {
          "base_uri": "https://localhost:8080/"
        },
        "id": "HjhyO0IDHLJw",
        "outputId": "0febe67d-70c8-45dd-9cd4-eac270d06936"
      },
      "execution_count": null,
      "outputs": [
        {
          "output_type": "execute_result",
          "data": {
            "text/plain": [
              "No     4621\n",
              "Yes    2422\n",
              "Name: DeviceProtection, dtype: int64"
            ]
          },
          "metadata": {},
          "execution_count": 39
        }
      ]
    },
    {
      "cell_type": "code",
      "source": [
        "data_clean['TechSupport'] = data_clean['TechSupport'].replace(['No internet service'],'No')\n",
        "data_clean['TechSupport'].value_counts()"
      ],
      "metadata": {
        "colab": {
          "base_uri": "https://localhost:8080/"
        },
        "id": "GTbv48sHHSbH",
        "outputId": "3c425680-b797-4181-b441-182150b47e75"
      },
      "execution_count": null,
      "outputs": [
        {
          "output_type": "execute_result",
          "data": {
            "text/plain": [
              "No     4999\n",
              "Yes    2044\n",
              "Name: TechSupport, dtype: int64"
            ]
          },
          "metadata": {},
          "execution_count": 40
        }
      ]
    },
    {
      "cell_type": "code",
      "source": [
        "data_clean['StreamingTV'] = data_clean['StreamingTV'].replace(['No internet service'],'No')\n",
        "data_clean['StreamingTV'].value_counts()"
      ],
      "metadata": {
        "colab": {
          "base_uri": "https://localhost:8080/"
        },
        "id": "7plP7NkXHXdx",
        "outputId": "10bb3ade-e06a-4af1-87bd-efb3c2b8f686"
      },
      "execution_count": null,
      "outputs": [
        {
          "output_type": "execute_result",
          "data": {
            "text/plain": [
              "No     4336\n",
              "Yes    2707\n",
              "Name: StreamingTV, dtype: int64"
            ]
          },
          "metadata": {},
          "execution_count": 41
        }
      ]
    },
    {
      "cell_type": "code",
      "source": [
        "data_clean['StreamingMovies'] = data_clean['StreamingMovies'].replace(['No internet service'],'No')\n",
        "data_clean['StreamingMovies'].value_counts()"
      ],
      "metadata": {
        "colab": {
          "base_uri": "https://localhost:8080/"
        },
        "id": "hYFYE9BRHdEA",
        "outputId": "9a7911f5-140b-4989-8826-4ee92506a8fb"
      },
      "execution_count": null,
      "outputs": [
        {
          "output_type": "execute_result",
          "data": {
            "text/plain": [
              "No     4311\n",
              "Yes    2732\n",
              "Name: StreamingMovies, dtype: int64"
            ]
          },
          "metadata": {},
          "execution_count": 42
        }
      ]
    },
    {
      "cell_type": "markdown",
      "source": [
        "---\n",
        "## Data Inference"
      ],
      "metadata": {
        "id": "du31ZUSiD6iu"
      }
    },
    {
      "cell_type": "code",
      "source": [
        "data_inf = data_clean.sample(10, random_state=17)\n",
        "data_inf"
      ],
      "metadata": {
        "colab": {
          "base_uri": "https://localhost:8080/",
          "height": 566
        },
        "id": "ijrVs1qdD86-",
        "outputId": "5b70130a-094d-4ad6-e8c7-e2a057f61362"
      },
      "execution_count": null,
      "outputs": [
        {
          "output_type": "execute_result",
          "data": {
            "text/plain": [
              "      gender  SeniorCitizen Partner Dependents  tenure PhoneService  \\\n",
              "3616  Female              1     Yes         No      69          Yes   \n",
              "2055    Male              0      No         No      45          Yes   \n",
              "5394  Female              0     Yes         No      48          Yes   \n",
              "3697  Female              0     Yes        Yes      32          Yes   \n",
              "2516  Female              1      No         No      16          Yes   \n",
              "6368    Male              1      No         No       2          Yes   \n",
              "4183    Male              0      No        Yes       1           No   \n",
              "3543    Male              0     Yes         No      72          Yes   \n",
              "6674    Male              0      No         No       7          Yes   \n",
              "1893    Male              0      No        Yes      16          Yes   \n",
              "\n",
              "     MultipleLines InternetService OnlineSecurity OnlineBackup  \\\n",
              "3616            No     Fiber optic            Yes          Yes   \n",
              "2055           Yes     Fiber optic            Yes           No   \n",
              "5394           Yes     Fiber optic             No          Yes   \n",
              "3697           Yes     Fiber optic            Yes           No   \n",
              "2516           Yes     Fiber optic             No           No   \n",
              "6368           Yes     Fiber optic             No           No   \n",
              "4183            No             DSL             No          Yes   \n",
              "3543           Yes     Fiber optic            Yes          Yes   \n",
              "6674           Yes              No             No           No   \n",
              "1893           Yes             DSL            Yes          Yes   \n",
              "\n",
              "     DeviceProtection TechSupport StreamingTV StreamingMovies        Contract  \\\n",
              "3616               No          No          No             Yes        One year   \n",
              "2055              Yes         Yes         Yes             Yes  Month-to-month   \n",
              "5394               No         Yes         Yes             Yes  Month-to-month   \n",
              "3697               No          No         Yes              No  Month-to-month   \n",
              "2516               No          No         Yes             Yes  Month-to-month   \n",
              "6368               No          No         Yes             Yes  Month-to-month   \n",
              "4183               No         Yes          No              No  Month-to-month   \n",
              "3543              Yes         Yes          No             Yes        Two year   \n",
              "6674               No          No          No              No  Month-to-month   \n",
              "1893               No          No          No             Yes  Month-to-month   \n",
              "\n",
              "     PaperlessBilling  MonthlyCharges  TotalCharges  Churn_bool  \n",
              "3616               No           87.30       6055.55           0  \n",
              "2055              Yes          108.45       4964.70           0  \n",
              "5394              Yes          105.10       5083.55           0  \n",
              "3697               No           89.60       2901.80           0  \n",
              "2516              Yes           96.40       1581.20           1  \n",
              "6368              Yes           94.00        181.70           1  \n",
              "4183               No           33.60         33.60           0  \n",
              "3543               No          105.60       7581.50           0  \n",
              "6674               No           23.50        173.00           0  \n",
              "1893              Yes           69.10       1083.70           0  "
            ],
            "text/html": [
              "\n",
              "  <div id=\"df-a9fff508-a6fe-4011-82f4-bb369c706c66\">\n",
              "    <div class=\"colab-df-container\">\n",
              "      <div>\n",
              "<style scoped>\n",
              "    .dataframe tbody tr th:only-of-type {\n",
              "        vertical-align: middle;\n",
              "    }\n",
              "\n",
              "    .dataframe tbody tr th {\n",
              "        vertical-align: top;\n",
              "    }\n",
              "\n",
              "    .dataframe thead th {\n",
              "        text-align: right;\n",
              "    }\n",
              "</style>\n",
              "<table border=\"1\" class=\"dataframe\">\n",
              "  <thead>\n",
              "    <tr style=\"text-align: right;\">\n",
              "      <th></th>\n",
              "      <th>gender</th>\n",
              "      <th>SeniorCitizen</th>\n",
              "      <th>Partner</th>\n",
              "      <th>Dependents</th>\n",
              "      <th>tenure</th>\n",
              "      <th>PhoneService</th>\n",
              "      <th>MultipleLines</th>\n",
              "      <th>InternetService</th>\n",
              "      <th>OnlineSecurity</th>\n",
              "      <th>OnlineBackup</th>\n",
              "      <th>DeviceProtection</th>\n",
              "      <th>TechSupport</th>\n",
              "      <th>StreamingTV</th>\n",
              "      <th>StreamingMovies</th>\n",
              "      <th>Contract</th>\n",
              "      <th>PaperlessBilling</th>\n",
              "      <th>MonthlyCharges</th>\n",
              "      <th>TotalCharges</th>\n",
              "      <th>Churn_bool</th>\n",
              "    </tr>\n",
              "  </thead>\n",
              "  <tbody>\n",
              "    <tr>\n",
              "      <th>3616</th>\n",
              "      <td>Female</td>\n",
              "      <td>1</td>\n",
              "      <td>Yes</td>\n",
              "      <td>No</td>\n",
              "      <td>69</td>\n",
              "      <td>Yes</td>\n",
              "      <td>No</td>\n",
              "      <td>Fiber optic</td>\n",
              "      <td>Yes</td>\n",
              "      <td>Yes</td>\n",
              "      <td>No</td>\n",
              "      <td>No</td>\n",
              "      <td>No</td>\n",
              "      <td>Yes</td>\n",
              "      <td>One year</td>\n",
              "      <td>No</td>\n",
              "      <td>87.30</td>\n",
              "      <td>6055.55</td>\n",
              "      <td>0</td>\n",
              "    </tr>\n",
              "    <tr>\n",
              "      <th>2055</th>\n",
              "      <td>Male</td>\n",
              "      <td>0</td>\n",
              "      <td>No</td>\n",
              "      <td>No</td>\n",
              "      <td>45</td>\n",
              "      <td>Yes</td>\n",
              "      <td>Yes</td>\n",
              "      <td>Fiber optic</td>\n",
              "      <td>Yes</td>\n",
              "      <td>No</td>\n",
              "      <td>Yes</td>\n",
              "      <td>Yes</td>\n",
              "      <td>Yes</td>\n",
              "      <td>Yes</td>\n",
              "      <td>Month-to-month</td>\n",
              "      <td>Yes</td>\n",
              "      <td>108.45</td>\n",
              "      <td>4964.70</td>\n",
              "      <td>0</td>\n",
              "    </tr>\n",
              "    <tr>\n",
              "      <th>5394</th>\n",
              "      <td>Female</td>\n",
              "      <td>0</td>\n",
              "      <td>Yes</td>\n",
              "      <td>No</td>\n",
              "      <td>48</td>\n",
              "      <td>Yes</td>\n",
              "      <td>Yes</td>\n",
              "      <td>Fiber optic</td>\n",
              "      <td>No</td>\n",
              "      <td>Yes</td>\n",
              "      <td>No</td>\n",
              "      <td>Yes</td>\n",
              "      <td>Yes</td>\n",
              "      <td>Yes</td>\n",
              "      <td>Month-to-month</td>\n",
              "      <td>Yes</td>\n",
              "      <td>105.10</td>\n",
              "      <td>5083.55</td>\n",
              "      <td>0</td>\n",
              "    </tr>\n",
              "    <tr>\n",
              "      <th>3697</th>\n",
              "      <td>Female</td>\n",
              "      <td>0</td>\n",
              "      <td>Yes</td>\n",
              "      <td>Yes</td>\n",
              "      <td>32</td>\n",
              "      <td>Yes</td>\n",
              "      <td>Yes</td>\n",
              "      <td>Fiber optic</td>\n",
              "      <td>Yes</td>\n",
              "      <td>No</td>\n",
              "      <td>No</td>\n",
              "      <td>No</td>\n",
              "      <td>Yes</td>\n",
              "      <td>No</td>\n",
              "      <td>Month-to-month</td>\n",
              "      <td>No</td>\n",
              "      <td>89.60</td>\n",
              "      <td>2901.80</td>\n",
              "      <td>0</td>\n",
              "    </tr>\n",
              "    <tr>\n",
              "      <th>2516</th>\n",
              "      <td>Female</td>\n",
              "      <td>1</td>\n",
              "      <td>No</td>\n",
              "      <td>No</td>\n",
              "      <td>16</td>\n",
              "      <td>Yes</td>\n",
              "      <td>Yes</td>\n",
              "      <td>Fiber optic</td>\n",
              "      <td>No</td>\n",
              "      <td>No</td>\n",
              "      <td>No</td>\n",
              "      <td>No</td>\n",
              "      <td>Yes</td>\n",
              "      <td>Yes</td>\n",
              "      <td>Month-to-month</td>\n",
              "      <td>Yes</td>\n",
              "      <td>96.40</td>\n",
              "      <td>1581.20</td>\n",
              "      <td>1</td>\n",
              "    </tr>\n",
              "    <tr>\n",
              "      <th>6368</th>\n",
              "      <td>Male</td>\n",
              "      <td>1</td>\n",
              "      <td>No</td>\n",
              "      <td>No</td>\n",
              "      <td>2</td>\n",
              "      <td>Yes</td>\n",
              "      <td>Yes</td>\n",
              "      <td>Fiber optic</td>\n",
              "      <td>No</td>\n",
              "      <td>No</td>\n",
              "      <td>No</td>\n",
              "      <td>No</td>\n",
              "      <td>Yes</td>\n",
              "      <td>Yes</td>\n",
              "      <td>Month-to-month</td>\n",
              "      <td>Yes</td>\n",
              "      <td>94.00</td>\n",
              "      <td>181.70</td>\n",
              "      <td>1</td>\n",
              "    </tr>\n",
              "    <tr>\n",
              "      <th>4183</th>\n",
              "      <td>Male</td>\n",
              "      <td>0</td>\n",
              "      <td>No</td>\n",
              "      <td>Yes</td>\n",
              "      <td>1</td>\n",
              "      <td>No</td>\n",
              "      <td>No</td>\n",
              "      <td>DSL</td>\n",
              "      <td>No</td>\n",
              "      <td>Yes</td>\n",
              "      <td>No</td>\n",
              "      <td>Yes</td>\n",
              "      <td>No</td>\n",
              "      <td>No</td>\n",
              "      <td>Month-to-month</td>\n",
              "      <td>No</td>\n",
              "      <td>33.60</td>\n",
              "      <td>33.60</td>\n",
              "      <td>0</td>\n",
              "    </tr>\n",
              "    <tr>\n",
              "      <th>3543</th>\n",
              "      <td>Male</td>\n",
              "      <td>0</td>\n",
              "      <td>Yes</td>\n",
              "      <td>No</td>\n",
              "      <td>72</td>\n",
              "      <td>Yes</td>\n",
              "      <td>Yes</td>\n",
              "      <td>Fiber optic</td>\n",
              "      <td>Yes</td>\n",
              "      <td>Yes</td>\n",
              "      <td>Yes</td>\n",
              "      <td>Yes</td>\n",
              "      <td>No</td>\n",
              "      <td>Yes</td>\n",
              "      <td>Two year</td>\n",
              "      <td>No</td>\n",
              "      <td>105.60</td>\n",
              "      <td>7581.50</td>\n",
              "      <td>0</td>\n",
              "    </tr>\n",
              "    <tr>\n",
              "      <th>6674</th>\n",
              "      <td>Male</td>\n",
              "      <td>0</td>\n",
              "      <td>No</td>\n",
              "      <td>No</td>\n",
              "      <td>7</td>\n",
              "      <td>Yes</td>\n",
              "      <td>Yes</td>\n",
              "      <td>No</td>\n",
              "      <td>No</td>\n",
              "      <td>No</td>\n",
              "      <td>No</td>\n",
              "      <td>No</td>\n",
              "      <td>No</td>\n",
              "      <td>No</td>\n",
              "      <td>Month-to-month</td>\n",
              "      <td>No</td>\n",
              "      <td>23.50</td>\n",
              "      <td>173.00</td>\n",
              "      <td>0</td>\n",
              "    </tr>\n",
              "    <tr>\n",
              "      <th>1893</th>\n",
              "      <td>Male</td>\n",
              "      <td>0</td>\n",
              "      <td>No</td>\n",
              "      <td>Yes</td>\n",
              "      <td>16</td>\n",
              "      <td>Yes</td>\n",
              "      <td>Yes</td>\n",
              "      <td>DSL</td>\n",
              "      <td>Yes</td>\n",
              "      <td>Yes</td>\n",
              "      <td>No</td>\n",
              "      <td>No</td>\n",
              "      <td>No</td>\n",
              "      <td>Yes</td>\n",
              "      <td>Month-to-month</td>\n",
              "      <td>Yes</td>\n",
              "      <td>69.10</td>\n",
              "      <td>1083.70</td>\n",
              "      <td>0</td>\n",
              "    </tr>\n",
              "  </tbody>\n",
              "</table>\n",
              "</div>\n",
              "      <button class=\"colab-df-convert\" onclick=\"convertToInteractive('df-a9fff508-a6fe-4011-82f4-bb369c706c66')\"\n",
              "              title=\"Convert this dataframe to an interactive table.\"\n",
              "              style=\"display:none;\">\n",
              "        \n",
              "  <svg xmlns=\"http://www.w3.org/2000/svg\" height=\"24px\"viewBox=\"0 0 24 24\"\n",
              "       width=\"24px\">\n",
              "    <path d=\"M0 0h24v24H0V0z\" fill=\"none\"/>\n",
              "    <path d=\"M18.56 5.44l.94 2.06.94-2.06 2.06-.94-2.06-.94-.94-2.06-.94 2.06-2.06.94zm-11 1L8.5 8.5l.94-2.06 2.06-.94-2.06-.94L8.5 2.5l-.94 2.06-2.06.94zm10 10l.94 2.06.94-2.06 2.06-.94-2.06-.94-.94-2.06-.94 2.06-2.06.94z\"/><path d=\"M17.41 7.96l-1.37-1.37c-.4-.4-.92-.59-1.43-.59-.52 0-1.04.2-1.43.59L10.3 9.45l-7.72 7.72c-.78.78-.78 2.05 0 2.83L4 21.41c.39.39.9.59 1.41.59.51 0 1.02-.2 1.41-.59l7.78-7.78 2.81-2.81c.8-.78.8-2.07 0-2.86zM5.41 20L4 18.59l7.72-7.72 1.47 1.35L5.41 20z\"/>\n",
              "  </svg>\n",
              "      </button>\n",
              "      \n",
              "  <style>\n",
              "    .colab-df-container {\n",
              "      display:flex;\n",
              "      flex-wrap:wrap;\n",
              "      gap: 12px;\n",
              "    }\n",
              "\n",
              "    .colab-df-convert {\n",
              "      background-color: #E8F0FE;\n",
              "      border: none;\n",
              "      border-radius: 50%;\n",
              "      cursor: pointer;\n",
              "      display: none;\n",
              "      fill: #1967D2;\n",
              "      height: 32px;\n",
              "      padding: 0 0 0 0;\n",
              "      width: 32px;\n",
              "    }\n",
              "\n",
              "    .colab-df-convert:hover {\n",
              "      background-color: #E2EBFA;\n",
              "      box-shadow: 0px 1px 2px rgba(60, 64, 67, 0.3), 0px 1px 3px 1px rgba(60, 64, 67, 0.15);\n",
              "      fill: #174EA6;\n",
              "    }\n",
              "\n",
              "    [theme=dark] .colab-df-convert {\n",
              "      background-color: #3B4455;\n",
              "      fill: #D2E3FC;\n",
              "    }\n",
              "\n",
              "    [theme=dark] .colab-df-convert:hover {\n",
              "      background-color: #434B5C;\n",
              "      box-shadow: 0px 1px 3px 1px rgba(0, 0, 0, 0.15);\n",
              "      filter: drop-shadow(0px 1px 2px rgba(0, 0, 0, 0.3));\n",
              "      fill: #FFFFFF;\n",
              "    }\n",
              "  </style>\n",
              "\n",
              "      <script>\n",
              "        const buttonEl =\n",
              "          document.querySelector('#df-a9fff508-a6fe-4011-82f4-bb369c706c66 button.colab-df-convert');\n",
              "        buttonEl.style.display =\n",
              "          google.colab.kernel.accessAllowed ? 'block' : 'none';\n",
              "\n",
              "        async function convertToInteractive(key) {\n",
              "          const element = document.querySelector('#df-a9fff508-a6fe-4011-82f4-bb369c706c66');\n",
              "          const dataTable =\n",
              "            await google.colab.kernel.invokeFunction('convertToInteractive',\n",
              "                                                     [key], {});\n",
              "          if (!dataTable) return;\n",
              "\n",
              "          const docLinkHtml = 'Like what you see? Visit the ' +\n",
              "            '<a target=\"_blank\" href=https://colab.research.google.com/notebooks/data_table.ipynb>data table notebook</a>'\n",
              "            + ' to learn more about interactive tables.';\n",
              "          element.innerHTML = '';\n",
              "          dataTable['output_type'] = 'display_data';\n",
              "          await google.colab.output.renderOutput(dataTable, element);\n",
              "          const docLink = document.createElement('div');\n",
              "          docLink.innerHTML = docLinkHtml;\n",
              "          element.appendChild(docLink);\n",
              "        }\n",
              "      </script>\n",
              "    </div>\n",
              "  </div>\n",
              "  "
            ]
          },
          "metadata": {},
          "execution_count": 43
        }
      ]
    },
    {
      "cell_type": "markdown",
      "source": [
        "Drop the data inference."
      ],
      "metadata": {
        "id": "c5-ovKkOEGeB"
      }
    },
    {
      "cell_type": "code",
      "source": [
        "data_train_test = data_clean.drop(data_inf.index)\n",
        "data_train_test"
      ],
      "metadata": {
        "colab": {
          "base_uri": "https://localhost:8080/",
          "height": 574
        },
        "id": "ygNTvlk0EEL2",
        "outputId": "330d2c0c-61e5-41d1-c0ea-a09419883bea"
      },
      "execution_count": null,
      "outputs": [
        {
          "output_type": "execute_result",
          "data": {
            "text/plain": [
              "      gender  SeniorCitizen Partner Dependents  tenure PhoneService  \\\n",
              "0     Female              0     Yes         No       1           No   \n",
              "1       Male              0      No         No      34          Yes   \n",
              "2       Male              0      No         No       2          Yes   \n",
              "3       Male              0      No         No      45           No   \n",
              "4     Female              0      No         No       2          Yes   \n",
              "...      ...            ...     ...        ...     ...          ...   \n",
              "7038    Male              0     Yes        Yes      24          Yes   \n",
              "7039  Female              0     Yes        Yes      72          Yes   \n",
              "7040  Female              0     Yes        Yes      11           No   \n",
              "7041    Male              1     Yes         No       4          Yes   \n",
              "7042    Male              0      No         No      66          Yes   \n",
              "\n",
              "     MultipleLines InternetService OnlineSecurity OnlineBackup  \\\n",
              "0               No             DSL             No          Yes   \n",
              "1               No             DSL            Yes           No   \n",
              "2               No             DSL            Yes          Yes   \n",
              "3               No             DSL            Yes           No   \n",
              "4               No     Fiber optic             No           No   \n",
              "...            ...             ...            ...          ...   \n",
              "7038           Yes             DSL            Yes           No   \n",
              "7039           Yes     Fiber optic             No          Yes   \n",
              "7040            No             DSL            Yes           No   \n",
              "7041           Yes     Fiber optic             No           No   \n",
              "7042            No     Fiber optic            Yes           No   \n",
              "\n",
              "     DeviceProtection TechSupport StreamingTV StreamingMovies        Contract  \\\n",
              "0                  No          No          No              No  Month-to-month   \n",
              "1                 Yes          No          No              No        One year   \n",
              "2                  No          No          No              No  Month-to-month   \n",
              "3                 Yes         Yes          No              No        One year   \n",
              "4                  No          No          No              No  Month-to-month   \n",
              "...               ...         ...         ...             ...             ...   \n",
              "7038              Yes         Yes         Yes             Yes        One year   \n",
              "7039              Yes          No         Yes             Yes        One year   \n",
              "7040               No          No          No              No  Month-to-month   \n",
              "7041               No          No          No              No  Month-to-month   \n",
              "7042              Yes         Yes         Yes             Yes        Two year   \n",
              "\n",
              "     PaperlessBilling  MonthlyCharges  TotalCharges  Churn_bool  \n",
              "0                 Yes           29.85         29.85           0  \n",
              "1                  No           56.95       1889.50           0  \n",
              "2                 Yes           53.85        108.15           1  \n",
              "3                  No           42.30       1840.75           0  \n",
              "4                 Yes           70.70        151.65           1  \n",
              "...               ...             ...           ...         ...  \n",
              "7038              Yes           84.80       1990.50           0  \n",
              "7039              Yes          103.20       7362.90           0  \n",
              "7040              Yes           29.60        346.45           0  \n",
              "7041              Yes           74.40        306.60           1  \n",
              "7042              Yes          105.65       6844.50           0  \n",
              "\n",
              "[7033 rows x 19 columns]"
            ],
            "text/html": [
              "\n",
              "  <div id=\"df-5035db19-d60a-4e29-87c2-63f483623123\">\n",
              "    <div class=\"colab-df-container\">\n",
              "      <div>\n",
              "<style scoped>\n",
              "    .dataframe tbody tr th:only-of-type {\n",
              "        vertical-align: middle;\n",
              "    }\n",
              "\n",
              "    .dataframe tbody tr th {\n",
              "        vertical-align: top;\n",
              "    }\n",
              "\n",
              "    .dataframe thead th {\n",
              "        text-align: right;\n",
              "    }\n",
              "</style>\n",
              "<table border=\"1\" class=\"dataframe\">\n",
              "  <thead>\n",
              "    <tr style=\"text-align: right;\">\n",
              "      <th></th>\n",
              "      <th>gender</th>\n",
              "      <th>SeniorCitizen</th>\n",
              "      <th>Partner</th>\n",
              "      <th>Dependents</th>\n",
              "      <th>tenure</th>\n",
              "      <th>PhoneService</th>\n",
              "      <th>MultipleLines</th>\n",
              "      <th>InternetService</th>\n",
              "      <th>OnlineSecurity</th>\n",
              "      <th>OnlineBackup</th>\n",
              "      <th>DeviceProtection</th>\n",
              "      <th>TechSupport</th>\n",
              "      <th>StreamingTV</th>\n",
              "      <th>StreamingMovies</th>\n",
              "      <th>Contract</th>\n",
              "      <th>PaperlessBilling</th>\n",
              "      <th>MonthlyCharges</th>\n",
              "      <th>TotalCharges</th>\n",
              "      <th>Churn_bool</th>\n",
              "    </tr>\n",
              "  </thead>\n",
              "  <tbody>\n",
              "    <tr>\n",
              "      <th>0</th>\n",
              "      <td>Female</td>\n",
              "      <td>0</td>\n",
              "      <td>Yes</td>\n",
              "      <td>No</td>\n",
              "      <td>1</td>\n",
              "      <td>No</td>\n",
              "      <td>No</td>\n",
              "      <td>DSL</td>\n",
              "      <td>No</td>\n",
              "      <td>Yes</td>\n",
              "      <td>No</td>\n",
              "      <td>No</td>\n",
              "      <td>No</td>\n",
              "      <td>No</td>\n",
              "      <td>Month-to-month</td>\n",
              "      <td>Yes</td>\n",
              "      <td>29.85</td>\n",
              "      <td>29.85</td>\n",
              "      <td>0</td>\n",
              "    </tr>\n",
              "    <tr>\n",
              "      <th>1</th>\n",
              "      <td>Male</td>\n",
              "      <td>0</td>\n",
              "      <td>No</td>\n",
              "      <td>No</td>\n",
              "      <td>34</td>\n",
              "      <td>Yes</td>\n",
              "      <td>No</td>\n",
              "      <td>DSL</td>\n",
              "      <td>Yes</td>\n",
              "      <td>No</td>\n",
              "      <td>Yes</td>\n",
              "      <td>No</td>\n",
              "      <td>No</td>\n",
              "      <td>No</td>\n",
              "      <td>One year</td>\n",
              "      <td>No</td>\n",
              "      <td>56.95</td>\n",
              "      <td>1889.50</td>\n",
              "      <td>0</td>\n",
              "    </tr>\n",
              "    <tr>\n",
              "      <th>2</th>\n",
              "      <td>Male</td>\n",
              "      <td>0</td>\n",
              "      <td>No</td>\n",
              "      <td>No</td>\n",
              "      <td>2</td>\n",
              "      <td>Yes</td>\n",
              "      <td>No</td>\n",
              "      <td>DSL</td>\n",
              "      <td>Yes</td>\n",
              "      <td>Yes</td>\n",
              "      <td>No</td>\n",
              "      <td>No</td>\n",
              "      <td>No</td>\n",
              "      <td>No</td>\n",
              "      <td>Month-to-month</td>\n",
              "      <td>Yes</td>\n",
              "      <td>53.85</td>\n",
              "      <td>108.15</td>\n",
              "      <td>1</td>\n",
              "    </tr>\n",
              "    <tr>\n",
              "      <th>3</th>\n",
              "      <td>Male</td>\n",
              "      <td>0</td>\n",
              "      <td>No</td>\n",
              "      <td>No</td>\n",
              "      <td>45</td>\n",
              "      <td>No</td>\n",
              "      <td>No</td>\n",
              "      <td>DSL</td>\n",
              "      <td>Yes</td>\n",
              "      <td>No</td>\n",
              "      <td>Yes</td>\n",
              "      <td>Yes</td>\n",
              "      <td>No</td>\n",
              "      <td>No</td>\n",
              "      <td>One year</td>\n",
              "      <td>No</td>\n",
              "      <td>42.30</td>\n",
              "      <td>1840.75</td>\n",
              "      <td>0</td>\n",
              "    </tr>\n",
              "    <tr>\n",
              "      <th>4</th>\n",
              "      <td>Female</td>\n",
              "      <td>0</td>\n",
              "      <td>No</td>\n",
              "      <td>No</td>\n",
              "      <td>2</td>\n",
              "      <td>Yes</td>\n",
              "      <td>No</td>\n",
              "      <td>Fiber optic</td>\n",
              "      <td>No</td>\n",
              "      <td>No</td>\n",
              "      <td>No</td>\n",
              "      <td>No</td>\n",
              "      <td>No</td>\n",
              "      <td>No</td>\n",
              "      <td>Month-to-month</td>\n",
              "      <td>Yes</td>\n",
              "      <td>70.70</td>\n",
              "      <td>151.65</td>\n",
              "      <td>1</td>\n",
              "    </tr>\n",
              "    <tr>\n",
              "      <th>...</th>\n",
              "      <td>...</td>\n",
              "      <td>...</td>\n",
              "      <td>...</td>\n",
              "      <td>...</td>\n",
              "      <td>...</td>\n",
              "      <td>...</td>\n",
              "      <td>...</td>\n",
              "      <td>...</td>\n",
              "      <td>...</td>\n",
              "      <td>...</td>\n",
              "      <td>...</td>\n",
              "      <td>...</td>\n",
              "      <td>...</td>\n",
              "      <td>...</td>\n",
              "      <td>...</td>\n",
              "      <td>...</td>\n",
              "      <td>...</td>\n",
              "      <td>...</td>\n",
              "      <td>...</td>\n",
              "    </tr>\n",
              "    <tr>\n",
              "      <th>7038</th>\n",
              "      <td>Male</td>\n",
              "      <td>0</td>\n",
              "      <td>Yes</td>\n",
              "      <td>Yes</td>\n",
              "      <td>24</td>\n",
              "      <td>Yes</td>\n",
              "      <td>Yes</td>\n",
              "      <td>DSL</td>\n",
              "      <td>Yes</td>\n",
              "      <td>No</td>\n",
              "      <td>Yes</td>\n",
              "      <td>Yes</td>\n",
              "      <td>Yes</td>\n",
              "      <td>Yes</td>\n",
              "      <td>One year</td>\n",
              "      <td>Yes</td>\n",
              "      <td>84.80</td>\n",
              "      <td>1990.50</td>\n",
              "      <td>0</td>\n",
              "    </tr>\n",
              "    <tr>\n",
              "      <th>7039</th>\n",
              "      <td>Female</td>\n",
              "      <td>0</td>\n",
              "      <td>Yes</td>\n",
              "      <td>Yes</td>\n",
              "      <td>72</td>\n",
              "      <td>Yes</td>\n",
              "      <td>Yes</td>\n",
              "      <td>Fiber optic</td>\n",
              "      <td>No</td>\n",
              "      <td>Yes</td>\n",
              "      <td>Yes</td>\n",
              "      <td>No</td>\n",
              "      <td>Yes</td>\n",
              "      <td>Yes</td>\n",
              "      <td>One year</td>\n",
              "      <td>Yes</td>\n",
              "      <td>103.20</td>\n",
              "      <td>7362.90</td>\n",
              "      <td>0</td>\n",
              "    </tr>\n",
              "    <tr>\n",
              "      <th>7040</th>\n",
              "      <td>Female</td>\n",
              "      <td>0</td>\n",
              "      <td>Yes</td>\n",
              "      <td>Yes</td>\n",
              "      <td>11</td>\n",
              "      <td>No</td>\n",
              "      <td>No</td>\n",
              "      <td>DSL</td>\n",
              "      <td>Yes</td>\n",
              "      <td>No</td>\n",
              "      <td>No</td>\n",
              "      <td>No</td>\n",
              "      <td>No</td>\n",
              "      <td>No</td>\n",
              "      <td>Month-to-month</td>\n",
              "      <td>Yes</td>\n",
              "      <td>29.60</td>\n",
              "      <td>346.45</td>\n",
              "      <td>0</td>\n",
              "    </tr>\n",
              "    <tr>\n",
              "      <th>7041</th>\n",
              "      <td>Male</td>\n",
              "      <td>1</td>\n",
              "      <td>Yes</td>\n",
              "      <td>No</td>\n",
              "      <td>4</td>\n",
              "      <td>Yes</td>\n",
              "      <td>Yes</td>\n",
              "      <td>Fiber optic</td>\n",
              "      <td>No</td>\n",
              "      <td>No</td>\n",
              "      <td>No</td>\n",
              "      <td>No</td>\n",
              "      <td>No</td>\n",
              "      <td>No</td>\n",
              "      <td>Month-to-month</td>\n",
              "      <td>Yes</td>\n",
              "      <td>74.40</td>\n",
              "      <td>306.60</td>\n",
              "      <td>1</td>\n",
              "    </tr>\n",
              "    <tr>\n",
              "      <th>7042</th>\n",
              "      <td>Male</td>\n",
              "      <td>0</td>\n",
              "      <td>No</td>\n",
              "      <td>No</td>\n",
              "      <td>66</td>\n",
              "      <td>Yes</td>\n",
              "      <td>No</td>\n",
              "      <td>Fiber optic</td>\n",
              "      <td>Yes</td>\n",
              "      <td>No</td>\n",
              "      <td>Yes</td>\n",
              "      <td>Yes</td>\n",
              "      <td>Yes</td>\n",
              "      <td>Yes</td>\n",
              "      <td>Two year</td>\n",
              "      <td>Yes</td>\n",
              "      <td>105.65</td>\n",
              "      <td>6844.50</td>\n",
              "      <td>0</td>\n",
              "    </tr>\n",
              "  </tbody>\n",
              "</table>\n",
              "<p>7033 rows × 19 columns</p>\n",
              "</div>\n",
              "      <button class=\"colab-df-convert\" onclick=\"convertToInteractive('df-5035db19-d60a-4e29-87c2-63f483623123')\"\n",
              "              title=\"Convert this dataframe to an interactive table.\"\n",
              "              style=\"display:none;\">\n",
              "        \n",
              "  <svg xmlns=\"http://www.w3.org/2000/svg\" height=\"24px\"viewBox=\"0 0 24 24\"\n",
              "       width=\"24px\">\n",
              "    <path d=\"M0 0h24v24H0V0z\" fill=\"none\"/>\n",
              "    <path d=\"M18.56 5.44l.94 2.06.94-2.06 2.06-.94-2.06-.94-.94-2.06-.94 2.06-2.06.94zm-11 1L8.5 8.5l.94-2.06 2.06-.94-2.06-.94L8.5 2.5l-.94 2.06-2.06.94zm10 10l.94 2.06.94-2.06 2.06-.94-2.06-.94-.94-2.06-.94 2.06-2.06.94z\"/><path d=\"M17.41 7.96l-1.37-1.37c-.4-.4-.92-.59-1.43-.59-.52 0-1.04.2-1.43.59L10.3 9.45l-7.72 7.72c-.78.78-.78 2.05 0 2.83L4 21.41c.39.39.9.59 1.41.59.51 0 1.02-.2 1.41-.59l7.78-7.78 2.81-2.81c.8-.78.8-2.07 0-2.86zM5.41 20L4 18.59l7.72-7.72 1.47 1.35L5.41 20z\"/>\n",
              "  </svg>\n",
              "      </button>\n",
              "      \n",
              "  <style>\n",
              "    .colab-df-container {\n",
              "      display:flex;\n",
              "      flex-wrap:wrap;\n",
              "      gap: 12px;\n",
              "    }\n",
              "\n",
              "    .colab-df-convert {\n",
              "      background-color: #E8F0FE;\n",
              "      border: none;\n",
              "      border-radius: 50%;\n",
              "      cursor: pointer;\n",
              "      display: none;\n",
              "      fill: #1967D2;\n",
              "      height: 32px;\n",
              "      padding: 0 0 0 0;\n",
              "      width: 32px;\n",
              "    }\n",
              "\n",
              "    .colab-df-convert:hover {\n",
              "      background-color: #E2EBFA;\n",
              "      box-shadow: 0px 1px 2px rgba(60, 64, 67, 0.3), 0px 1px 3px 1px rgba(60, 64, 67, 0.15);\n",
              "      fill: #174EA6;\n",
              "    }\n",
              "\n",
              "    [theme=dark] .colab-df-convert {\n",
              "      background-color: #3B4455;\n",
              "      fill: #D2E3FC;\n",
              "    }\n",
              "\n",
              "    [theme=dark] .colab-df-convert:hover {\n",
              "      background-color: #434B5C;\n",
              "      box-shadow: 0px 1px 3px 1px rgba(0, 0, 0, 0.15);\n",
              "      filter: drop-shadow(0px 1px 2px rgba(0, 0, 0, 0.3));\n",
              "      fill: #FFFFFF;\n",
              "    }\n",
              "  </style>\n",
              "\n",
              "      <script>\n",
              "        const buttonEl =\n",
              "          document.querySelector('#df-5035db19-d60a-4e29-87c2-63f483623123 button.colab-df-convert');\n",
              "        buttonEl.style.display =\n",
              "          google.colab.kernel.accessAllowed ? 'block' : 'none';\n",
              "\n",
              "        async function convertToInteractive(key) {\n",
              "          const element = document.querySelector('#df-5035db19-d60a-4e29-87c2-63f483623123');\n",
              "          const dataTable =\n",
              "            await google.colab.kernel.invokeFunction('convertToInteractive',\n",
              "                                                     [key], {});\n",
              "          if (!dataTable) return;\n",
              "\n",
              "          const docLinkHtml = 'Like what you see? Visit the ' +\n",
              "            '<a target=\"_blank\" href=https://colab.research.google.com/notebooks/data_table.ipynb>data table notebook</a>'\n",
              "            + ' to learn more about interactive tables.';\n",
              "          element.innerHTML = '';\n",
              "          dataTable['output_type'] = 'display_data';\n",
              "          await google.colab.output.renderOutput(dataTable, element);\n",
              "          const docLink = document.createElement('div');\n",
              "          docLink.innerHTML = docLinkHtml;\n",
              "          element.appendChild(docLink);\n",
              "        }\n",
              "      </script>\n",
              "    </div>\n",
              "  </div>\n",
              "  "
            ]
          },
          "metadata": {},
          "execution_count": 44
        }
      ]
    },
    {
      "cell_type": "markdown",
      "source": [
        "Do reset index."
      ],
      "metadata": {
        "id": "y7xLaubjEO4p"
      }
    },
    {
      "cell_type": "code",
      "source": [
        "data_train_test.reset_index(drop=True, inplace=True)\n",
        "data_inf.reset_index(drop=True, inplace=True)\n",
        "data_inf"
      ],
      "metadata": {
        "colab": {
          "base_uri": "https://localhost:8080/",
          "height": 566
        },
        "id": "I4opiHCQESwe",
        "outputId": "511da26a-caae-4a56-cb52-dce8480b97c1"
      },
      "execution_count": null,
      "outputs": [
        {
          "output_type": "execute_result",
          "data": {
            "text/plain": [
              "   gender  SeniorCitizen Partner Dependents  tenure PhoneService  \\\n",
              "0  Female              1     Yes         No      69          Yes   \n",
              "1    Male              0      No         No      45          Yes   \n",
              "2  Female              0     Yes         No      48          Yes   \n",
              "3  Female              0     Yes        Yes      32          Yes   \n",
              "4  Female              1      No         No      16          Yes   \n",
              "5    Male              1      No         No       2          Yes   \n",
              "6    Male              0      No        Yes       1           No   \n",
              "7    Male              0     Yes         No      72          Yes   \n",
              "8    Male              0      No         No       7          Yes   \n",
              "9    Male              0      No        Yes      16          Yes   \n",
              "\n",
              "  MultipleLines InternetService OnlineSecurity OnlineBackup DeviceProtection  \\\n",
              "0            No     Fiber optic            Yes          Yes               No   \n",
              "1           Yes     Fiber optic            Yes           No              Yes   \n",
              "2           Yes     Fiber optic             No          Yes               No   \n",
              "3           Yes     Fiber optic            Yes           No               No   \n",
              "4           Yes     Fiber optic             No           No               No   \n",
              "5           Yes     Fiber optic             No           No               No   \n",
              "6            No             DSL             No          Yes               No   \n",
              "7           Yes     Fiber optic            Yes          Yes              Yes   \n",
              "8           Yes              No             No           No               No   \n",
              "9           Yes             DSL            Yes          Yes               No   \n",
              "\n",
              "  TechSupport StreamingTV StreamingMovies        Contract PaperlessBilling  \\\n",
              "0          No          No             Yes        One year               No   \n",
              "1         Yes         Yes             Yes  Month-to-month              Yes   \n",
              "2         Yes         Yes             Yes  Month-to-month              Yes   \n",
              "3          No         Yes              No  Month-to-month               No   \n",
              "4          No         Yes             Yes  Month-to-month              Yes   \n",
              "5          No         Yes             Yes  Month-to-month              Yes   \n",
              "6         Yes          No              No  Month-to-month               No   \n",
              "7         Yes          No             Yes        Two year               No   \n",
              "8          No          No              No  Month-to-month               No   \n",
              "9          No          No             Yes  Month-to-month              Yes   \n",
              "\n",
              "   MonthlyCharges  TotalCharges  Churn_bool  \n",
              "0           87.30       6055.55           0  \n",
              "1          108.45       4964.70           0  \n",
              "2          105.10       5083.55           0  \n",
              "3           89.60       2901.80           0  \n",
              "4           96.40       1581.20           1  \n",
              "5           94.00        181.70           1  \n",
              "6           33.60         33.60           0  \n",
              "7          105.60       7581.50           0  \n",
              "8           23.50        173.00           0  \n",
              "9           69.10       1083.70           0  "
            ],
            "text/html": [
              "\n",
              "  <div id=\"df-be7c33b2-368b-4627-8ce5-9f4f3ddfe36b\">\n",
              "    <div class=\"colab-df-container\">\n",
              "      <div>\n",
              "<style scoped>\n",
              "    .dataframe tbody tr th:only-of-type {\n",
              "        vertical-align: middle;\n",
              "    }\n",
              "\n",
              "    .dataframe tbody tr th {\n",
              "        vertical-align: top;\n",
              "    }\n",
              "\n",
              "    .dataframe thead th {\n",
              "        text-align: right;\n",
              "    }\n",
              "</style>\n",
              "<table border=\"1\" class=\"dataframe\">\n",
              "  <thead>\n",
              "    <tr style=\"text-align: right;\">\n",
              "      <th></th>\n",
              "      <th>gender</th>\n",
              "      <th>SeniorCitizen</th>\n",
              "      <th>Partner</th>\n",
              "      <th>Dependents</th>\n",
              "      <th>tenure</th>\n",
              "      <th>PhoneService</th>\n",
              "      <th>MultipleLines</th>\n",
              "      <th>InternetService</th>\n",
              "      <th>OnlineSecurity</th>\n",
              "      <th>OnlineBackup</th>\n",
              "      <th>DeviceProtection</th>\n",
              "      <th>TechSupport</th>\n",
              "      <th>StreamingTV</th>\n",
              "      <th>StreamingMovies</th>\n",
              "      <th>Contract</th>\n",
              "      <th>PaperlessBilling</th>\n",
              "      <th>MonthlyCharges</th>\n",
              "      <th>TotalCharges</th>\n",
              "      <th>Churn_bool</th>\n",
              "    </tr>\n",
              "  </thead>\n",
              "  <tbody>\n",
              "    <tr>\n",
              "      <th>0</th>\n",
              "      <td>Female</td>\n",
              "      <td>1</td>\n",
              "      <td>Yes</td>\n",
              "      <td>No</td>\n",
              "      <td>69</td>\n",
              "      <td>Yes</td>\n",
              "      <td>No</td>\n",
              "      <td>Fiber optic</td>\n",
              "      <td>Yes</td>\n",
              "      <td>Yes</td>\n",
              "      <td>No</td>\n",
              "      <td>No</td>\n",
              "      <td>No</td>\n",
              "      <td>Yes</td>\n",
              "      <td>One year</td>\n",
              "      <td>No</td>\n",
              "      <td>87.30</td>\n",
              "      <td>6055.55</td>\n",
              "      <td>0</td>\n",
              "    </tr>\n",
              "    <tr>\n",
              "      <th>1</th>\n",
              "      <td>Male</td>\n",
              "      <td>0</td>\n",
              "      <td>No</td>\n",
              "      <td>No</td>\n",
              "      <td>45</td>\n",
              "      <td>Yes</td>\n",
              "      <td>Yes</td>\n",
              "      <td>Fiber optic</td>\n",
              "      <td>Yes</td>\n",
              "      <td>No</td>\n",
              "      <td>Yes</td>\n",
              "      <td>Yes</td>\n",
              "      <td>Yes</td>\n",
              "      <td>Yes</td>\n",
              "      <td>Month-to-month</td>\n",
              "      <td>Yes</td>\n",
              "      <td>108.45</td>\n",
              "      <td>4964.70</td>\n",
              "      <td>0</td>\n",
              "    </tr>\n",
              "    <tr>\n",
              "      <th>2</th>\n",
              "      <td>Female</td>\n",
              "      <td>0</td>\n",
              "      <td>Yes</td>\n",
              "      <td>No</td>\n",
              "      <td>48</td>\n",
              "      <td>Yes</td>\n",
              "      <td>Yes</td>\n",
              "      <td>Fiber optic</td>\n",
              "      <td>No</td>\n",
              "      <td>Yes</td>\n",
              "      <td>No</td>\n",
              "      <td>Yes</td>\n",
              "      <td>Yes</td>\n",
              "      <td>Yes</td>\n",
              "      <td>Month-to-month</td>\n",
              "      <td>Yes</td>\n",
              "      <td>105.10</td>\n",
              "      <td>5083.55</td>\n",
              "      <td>0</td>\n",
              "    </tr>\n",
              "    <tr>\n",
              "      <th>3</th>\n",
              "      <td>Female</td>\n",
              "      <td>0</td>\n",
              "      <td>Yes</td>\n",
              "      <td>Yes</td>\n",
              "      <td>32</td>\n",
              "      <td>Yes</td>\n",
              "      <td>Yes</td>\n",
              "      <td>Fiber optic</td>\n",
              "      <td>Yes</td>\n",
              "      <td>No</td>\n",
              "      <td>No</td>\n",
              "      <td>No</td>\n",
              "      <td>Yes</td>\n",
              "      <td>No</td>\n",
              "      <td>Month-to-month</td>\n",
              "      <td>No</td>\n",
              "      <td>89.60</td>\n",
              "      <td>2901.80</td>\n",
              "      <td>0</td>\n",
              "    </tr>\n",
              "    <tr>\n",
              "      <th>4</th>\n",
              "      <td>Female</td>\n",
              "      <td>1</td>\n",
              "      <td>No</td>\n",
              "      <td>No</td>\n",
              "      <td>16</td>\n",
              "      <td>Yes</td>\n",
              "      <td>Yes</td>\n",
              "      <td>Fiber optic</td>\n",
              "      <td>No</td>\n",
              "      <td>No</td>\n",
              "      <td>No</td>\n",
              "      <td>No</td>\n",
              "      <td>Yes</td>\n",
              "      <td>Yes</td>\n",
              "      <td>Month-to-month</td>\n",
              "      <td>Yes</td>\n",
              "      <td>96.40</td>\n",
              "      <td>1581.20</td>\n",
              "      <td>1</td>\n",
              "    </tr>\n",
              "    <tr>\n",
              "      <th>5</th>\n",
              "      <td>Male</td>\n",
              "      <td>1</td>\n",
              "      <td>No</td>\n",
              "      <td>No</td>\n",
              "      <td>2</td>\n",
              "      <td>Yes</td>\n",
              "      <td>Yes</td>\n",
              "      <td>Fiber optic</td>\n",
              "      <td>No</td>\n",
              "      <td>No</td>\n",
              "      <td>No</td>\n",
              "      <td>No</td>\n",
              "      <td>Yes</td>\n",
              "      <td>Yes</td>\n",
              "      <td>Month-to-month</td>\n",
              "      <td>Yes</td>\n",
              "      <td>94.00</td>\n",
              "      <td>181.70</td>\n",
              "      <td>1</td>\n",
              "    </tr>\n",
              "    <tr>\n",
              "      <th>6</th>\n",
              "      <td>Male</td>\n",
              "      <td>0</td>\n",
              "      <td>No</td>\n",
              "      <td>Yes</td>\n",
              "      <td>1</td>\n",
              "      <td>No</td>\n",
              "      <td>No</td>\n",
              "      <td>DSL</td>\n",
              "      <td>No</td>\n",
              "      <td>Yes</td>\n",
              "      <td>No</td>\n",
              "      <td>Yes</td>\n",
              "      <td>No</td>\n",
              "      <td>No</td>\n",
              "      <td>Month-to-month</td>\n",
              "      <td>No</td>\n",
              "      <td>33.60</td>\n",
              "      <td>33.60</td>\n",
              "      <td>0</td>\n",
              "    </tr>\n",
              "    <tr>\n",
              "      <th>7</th>\n",
              "      <td>Male</td>\n",
              "      <td>0</td>\n",
              "      <td>Yes</td>\n",
              "      <td>No</td>\n",
              "      <td>72</td>\n",
              "      <td>Yes</td>\n",
              "      <td>Yes</td>\n",
              "      <td>Fiber optic</td>\n",
              "      <td>Yes</td>\n",
              "      <td>Yes</td>\n",
              "      <td>Yes</td>\n",
              "      <td>Yes</td>\n",
              "      <td>No</td>\n",
              "      <td>Yes</td>\n",
              "      <td>Two year</td>\n",
              "      <td>No</td>\n",
              "      <td>105.60</td>\n",
              "      <td>7581.50</td>\n",
              "      <td>0</td>\n",
              "    </tr>\n",
              "    <tr>\n",
              "      <th>8</th>\n",
              "      <td>Male</td>\n",
              "      <td>0</td>\n",
              "      <td>No</td>\n",
              "      <td>No</td>\n",
              "      <td>7</td>\n",
              "      <td>Yes</td>\n",
              "      <td>Yes</td>\n",
              "      <td>No</td>\n",
              "      <td>No</td>\n",
              "      <td>No</td>\n",
              "      <td>No</td>\n",
              "      <td>No</td>\n",
              "      <td>No</td>\n",
              "      <td>No</td>\n",
              "      <td>Month-to-month</td>\n",
              "      <td>No</td>\n",
              "      <td>23.50</td>\n",
              "      <td>173.00</td>\n",
              "      <td>0</td>\n",
              "    </tr>\n",
              "    <tr>\n",
              "      <th>9</th>\n",
              "      <td>Male</td>\n",
              "      <td>0</td>\n",
              "      <td>No</td>\n",
              "      <td>Yes</td>\n",
              "      <td>16</td>\n",
              "      <td>Yes</td>\n",
              "      <td>Yes</td>\n",
              "      <td>DSL</td>\n",
              "      <td>Yes</td>\n",
              "      <td>Yes</td>\n",
              "      <td>No</td>\n",
              "      <td>No</td>\n",
              "      <td>No</td>\n",
              "      <td>Yes</td>\n",
              "      <td>Month-to-month</td>\n",
              "      <td>Yes</td>\n",
              "      <td>69.10</td>\n",
              "      <td>1083.70</td>\n",
              "      <td>0</td>\n",
              "    </tr>\n",
              "  </tbody>\n",
              "</table>\n",
              "</div>\n",
              "      <button class=\"colab-df-convert\" onclick=\"convertToInteractive('df-be7c33b2-368b-4627-8ce5-9f4f3ddfe36b')\"\n",
              "              title=\"Convert this dataframe to an interactive table.\"\n",
              "              style=\"display:none;\">\n",
              "        \n",
              "  <svg xmlns=\"http://www.w3.org/2000/svg\" height=\"24px\"viewBox=\"0 0 24 24\"\n",
              "       width=\"24px\">\n",
              "    <path d=\"M0 0h24v24H0V0z\" fill=\"none\"/>\n",
              "    <path d=\"M18.56 5.44l.94 2.06.94-2.06 2.06-.94-2.06-.94-.94-2.06-.94 2.06-2.06.94zm-11 1L8.5 8.5l.94-2.06 2.06-.94-2.06-.94L8.5 2.5l-.94 2.06-2.06.94zm10 10l.94 2.06.94-2.06 2.06-.94-2.06-.94-.94-2.06-.94 2.06-2.06.94z\"/><path d=\"M17.41 7.96l-1.37-1.37c-.4-.4-.92-.59-1.43-.59-.52 0-1.04.2-1.43.59L10.3 9.45l-7.72 7.72c-.78.78-.78 2.05 0 2.83L4 21.41c.39.39.9.59 1.41.59.51 0 1.02-.2 1.41-.59l7.78-7.78 2.81-2.81c.8-.78.8-2.07 0-2.86zM5.41 20L4 18.59l7.72-7.72 1.47 1.35L5.41 20z\"/>\n",
              "  </svg>\n",
              "      </button>\n",
              "      \n",
              "  <style>\n",
              "    .colab-df-container {\n",
              "      display:flex;\n",
              "      flex-wrap:wrap;\n",
              "      gap: 12px;\n",
              "    }\n",
              "\n",
              "    .colab-df-convert {\n",
              "      background-color: #E8F0FE;\n",
              "      border: none;\n",
              "      border-radius: 50%;\n",
              "      cursor: pointer;\n",
              "      display: none;\n",
              "      fill: #1967D2;\n",
              "      height: 32px;\n",
              "      padding: 0 0 0 0;\n",
              "      width: 32px;\n",
              "    }\n",
              "\n",
              "    .colab-df-convert:hover {\n",
              "      background-color: #E2EBFA;\n",
              "      box-shadow: 0px 1px 2px rgba(60, 64, 67, 0.3), 0px 1px 3px 1px rgba(60, 64, 67, 0.15);\n",
              "      fill: #174EA6;\n",
              "    }\n",
              "\n",
              "    [theme=dark] .colab-df-convert {\n",
              "      background-color: #3B4455;\n",
              "      fill: #D2E3FC;\n",
              "    }\n",
              "\n",
              "    [theme=dark] .colab-df-convert:hover {\n",
              "      background-color: #434B5C;\n",
              "      box-shadow: 0px 1px 3px 1px rgba(0, 0, 0, 0.15);\n",
              "      filter: drop-shadow(0px 1px 2px rgba(0, 0, 0, 0.3));\n",
              "      fill: #FFFFFF;\n",
              "    }\n",
              "  </style>\n",
              "\n",
              "      <script>\n",
              "        const buttonEl =\n",
              "          document.querySelector('#df-be7c33b2-368b-4627-8ce5-9f4f3ddfe36b button.colab-df-convert');\n",
              "        buttonEl.style.display =\n",
              "          google.colab.kernel.accessAllowed ? 'block' : 'none';\n",
              "\n",
              "        async function convertToInteractive(key) {\n",
              "          const element = document.querySelector('#df-be7c33b2-368b-4627-8ce5-9f4f3ddfe36b');\n",
              "          const dataTable =\n",
              "            await google.colab.kernel.invokeFunction('convertToInteractive',\n",
              "                                                     [key], {});\n",
              "          if (!dataTable) return;\n",
              "\n",
              "          const docLinkHtml = 'Like what you see? Visit the ' +\n",
              "            '<a target=\"_blank\" href=https://colab.research.google.com/notebooks/data_table.ipynb>data table notebook</a>'\n",
              "            + ' to learn more about interactive tables.';\n",
              "          element.innerHTML = '';\n",
              "          dataTable['output_type'] = 'display_data';\n",
              "          await google.colab.output.renderOutput(dataTable, element);\n",
              "          const docLink = document.createElement('div');\n",
              "          docLink.innerHTML = docLinkHtml;\n",
              "          element.appendChild(docLink);\n",
              "        }\n",
              "      </script>\n",
              "    </div>\n",
              "  </div>\n",
              "  "
            ]
          },
          "metadata": {},
          "execution_count": 45
        }
      ]
    },
    {
      "cell_type": "markdown",
      "source": [
        "---\n",
        "## Splitting Dataset"
      ],
      "metadata": {
        "id": "QaJJSpq67mRy"
      }
    },
    {
      "cell_type": "code",
      "source": [
        "X = data_train_test.drop('Churn_bool', axis=1)\n",
        "y = data_train_test['Churn_bool']\n",
        "X"
      ],
      "metadata": {
        "colab": {
          "base_uri": "https://localhost:8080/",
          "height": 574
        },
        "id": "__x0-Kn97oNU",
        "outputId": "3fba2b34-10fe-407b-b453-2d8b5cad69c2"
      },
      "execution_count": null,
      "outputs": [
        {
          "output_type": "execute_result",
          "data": {
            "text/plain": [
              "      gender  SeniorCitizen Partner Dependents  tenure PhoneService  \\\n",
              "0     Female              0     Yes         No       1           No   \n",
              "1       Male              0      No         No      34          Yes   \n",
              "2       Male              0      No         No       2          Yes   \n",
              "3       Male              0      No         No      45           No   \n",
              "4     Female              0      No         No       2          Yes   \n",
              "...      ...            ...     ...        ...     ...          ...   \n",
              "7028    Male              0     Yes        Yes      24          Yes   \n",
              "7029  Female              0     Yes        Yes      72          Yes   \n",
              "7030  Female              0     Yes        Yes      11           No   \n",
              "7031    Male              1     Yes         No       4          Yes   \n",
              "7032    Male              0      No         No      66          Yes   \n",
              "\n",
              "     MultipleLines InternetService OnlineSecurity OnlineBackup  \\\n",
              "0               No             DSL             No          Yes   \n",
              "1               No             DSL            Yes           No   \n",
              "2               No             DSL            Yes          Yes   \n",
              "3               No             DSL            Yes           No   \n",
              "4               No     Fiber optic             No           No   \n",
              "...            ...             ...            ...          ...   \n",
              "7028           Yes             DSL            Yes           No   \n",
              "7029           Yes     Fiber optic             No          Yes   \n",
              "7030            No             DSL            Yes           No   \n",
              "7031           Yes     Fiber optic             No           No   \n",
              "7032            No     Fiber optic            Yes           No   \n",
              "\n",
              "     DeviceProtection TechSupport StreamingTV StreamingMovies        Contract  \\\n",
              "0                  No          No          No              No  Month-to-month   \n",
              "1                 Yes          No          No              No        One year   \n",
              "2                  No          No          No              No  Month-to-month   \n",
              "3                 Yes         Yes          No              No        One year   \n",
              "4                  No          No          No              No  Month-to-month   \n",
              "...               ...         ...         ...             ...             ...   \n",
              "7028              Yes         Yes         Yes             Yes        One year   \n",
              "7029              Yes          No         Yes             Yes        One year   \n",
              "7030               No          No          No              No  Month-to-month   \n",
              "7031               No          No          No              No  Month-to-month   \n",
              "7032              Yes         Yes         Yes             Yes        Two year   \n",
              "\n",
              "     PaperlessBilling  MonthlyCharges  TotalCharges  \n",
              "0                 Yes           29.85         29.85  \n",
              "1                  No           56.95       1889.50  \n",
              "2                 Yes           53.85        108.15  \n",
              "3                  No           42.30       1840.75  \n",
              "4                 Yes           70.70        151.65  \n",
              "...               ...             ...           ...  \n",
              "7028              Yes           84.80       1990.50  \n",
              "7029              Yes          103.20       7362.90  \n",
              "7030              Yes           29.60        346.45  \n",
              "7031              Yes           74.40        306.60  \n",
              "7032              Yes          105.65       6844.50  \n",
              "\n",
              "[7033 rows x 18 columns]"
            ],
            "text/html": [
              "\n",
              "  <div id=\"df-a7e1ace0-c217-41e8-9cc2-9bbf63f62612\">\n",
              "    <div class=\"colab-df-container\">\n",
              "      <div>\n",
              "<style scoped>\n",
              "    .dataframe tbody tr th:only-of-type {\n",
              "        vertical-align: middle;\n",
              "    }\n",
              "\n",
              "    .dataframe tbody tr th {\n",
              "        vertical-align: top;\n",
              "    }\n",
              "\n",
              "    .dataframe thead th {\n",
              "        text-align: right;\n",
              "    }\n",
              "</style>\n",
              "<table border=\"1\" class=\"dataframe\">\n",
              "  <thead>\n",
              "    <tr style=\"text-align: right;\">\n",
              "      <th></th>\n",
              "      <th>gender</th>\n",
              "      <th>SeniorCitizen</th>\n",
              "      <th>Partner</th>\n",
              "      <th>Dependents</th>\n",
              "      <th>tenure</th>\n",
              "      <th>PhoneService</th>\n",
              "      <th>MultipleLines</th>\n",
              "      <th>InternetService</th>\n",
              "      <th>OnlineSecurity</th>\n",
              "      <th>OnlineBackup</th>\n",
              "      <th>DeviceProtection</th>\n",
              "      <th>TechSupport</th>\n",
              "      <th>StreamingTV</th>\n",
              "      <th>StreamingMovies</th>\n",
              "      <th>Contract</th>\n",
              "      <th>PaperlessBilling</th>\n",
              "      <th>MonthlyCharges</th>\n",
              "      <th>TotalCharges</th>\n",
              "    </tr>\n",
              "  </thead>\n",
              "  <tbody>\n",
              "    <tr>\n",
              "      <th>0</th>\n",
              "      <td>Female</td>\n",
              "      <td>0</td>\n",
              "      <td>Yes</td>\n",
              "      <td>No</td>\n",
              "      <td>1</td>\n",
              "      <td>No</td>\n",
              "      <td>No</td>\n",
              "      <td>DSL</td>\n",
              "      <td>No</td>\n",
              "      <td>Yes</td>\n",
              "      <td>No</td>\n",
              "      <td>No</td>\n",
              "      <td>No</td>\n",
              "      <td>No</td>\n",
              "      <td>Month-to-month</td>\n",
              "      <td>Yes</td>\n",
              "      <td>29.85</td>\n",
              "      <td>29.85</td>\n",
              "    </tr>\n",
              "    <tr>\n",
              "      <th>1</th>\n",
              "      <td>Male</td>\n",
              "      <td>0</td>\n",
              "      <td>No</td>\n",
              "      <td>No</td>\n",
              "      <td>34</td>\n",
              "      <td>Yes</td>\n",
              "      <td>No</td>\n",
              "      <td>DSL</td>\n",
              "      <td>Yes</td>\n",
              "      <td>No</td>\n",
              "      <td>Yes</td>\n",
              "      <td>No</td>\n",
              "      <td>No</td>\n",
              "      <td>No</td>\n",
              "      <td>One year</td>\n",
              "      <td>No</td>\n",
              "      <td>56.95</td>\n",
              "      <td>1889.50</td>\n",
              "    </tr>\n",
              "    <tr>\n",
              "      <th>2</th>\n",
              "      <td>Male</td>\n",
              "      <td>0</td>\n",
              "      <td>No</td>\n",
              "      <td>No</td>\n",
              "      <td>2</td>\n",
              "      <td>Yes</td>\n",
              "      <td>No</td>\n",
              "      <td>DSL</td>\n",
              "      <td>Yes</td>\n",
              "      <td>Yes</td>\n",
              "      <td>No</td>\n",
              "      <td>No</td>\n",
              "      <td>No</td>\n",
              "      <td>No</td>\n",
              "      <td>Month-to-month</td>\n",
              "      <td>Yes</td>\n",
              "      <td>53.85</td>\n",
              "      <td>108.15</td>\n",
              "    </tr>\n",
              "    <tr>\n",
              "      <th>3</th>\n",
              "      <td>Male</td>\n",
              "      <td>0</td>\n",
              "      <td>No</td>\n",
              "      <td>No</td>\n",
              "      <td>45</td>\n",
              "      <td>No</td>\n",
              "      <td>No</td>\n",
              "      <td>DSL</td>\n",
              "      <td>Yes</td>\n",
              "      <td>No</td>\n",
              "      <td>Yes</td>\n",
              "      <td>Yes</td>\n",
              "      <td>No</td>\n",
              "      <td>No</td>\n",
              "      <td>One year</td>\n",
              "      <td>No</td>\n",
              "      <td>42.30</td>\n",
              "      <td>1840.75</td>\n",
              "    </tr>\n",
              "    <tr>\n",
              "      <th>4</th>\n",
              "      <td>Female</td>\n",
              "      <td>0</td>\n",
              "      <td>No</td>\n",
              "      <td>No</td>\n",
              "      <td>2</td>\n",
              "      <td>Yes</td>\n",
              "      <td>No</td>\n",
              "      <td>Fiber optic</td>\n",
              "      <td>No</td>\n",
              "      <td>No</td>\n",
              "      <td>No</td>\n",
              "      <td>No</td>\n",
              "      <td>No</td>\n",
              "      <td>No</td>\n",
              "      <td>Month-to-month</td>\n",
              "      <td>Yes</td>\n",
              "      <td>70.70</td>\n",
              "      <td>151.65</td>\n",
              "    </tr>\n",
              "    <tr>\n",
              "      <th>...</th>\n",
              "      <td>...</td>\n",
              "      <td>...</td>\n",
              "      <td>...</td>\n",
              "      <td>...</td>\n",
              "      <td>...</td>\n",
              "      <td>...</td>\n",
              "      <td>...</td>\n",
              "      <td>...</td>\n",
              "      <td>...</td>\n",
              "      <td>...</td>\n",
              "      <td>...</td>\n",
              "      <td>...</td>\n",
              "      <td>...</td>\n",
              "      <td>...</td>\n",
              "      <td>...</td>\n",
              "      <td>...</td>\n",
              "      <td>...</td>\n",
              "      <td>...</td>\n",
              "    </tr>\n",
              "    <tr>\n",
              "      <th>7028</th>\n",
              "      <td>Male</td>\n",
              "      <td>0</td>\n",
              "      <td>Yes</td>\n",
              "      <td>Yes</td>\n",
              "      <td>24</td>\n",
              "      <td>Yes</td>\n",
              "      <td>Yes</td>\n",
              "      <td>DSL</td>\n",
              "      <td>Yes</td>\n",
              "      <td>No</td>\n",
              "      <td>Yes</td>\n",
              "      <td>Yes</td>\n",
              "      <td>Yes</td>\n",
              "      <td>Yes</td>\n",
              "      <td>One year</td>\n",
              "      <td>Yes</td>\n",
              "      <td>84.80</td>\n",
              "      <td>1990.50</td>\n",
              "    </tr>\n",
              "    <tr>\n",
              "      <th>7029</th>\n",
              "      <td>Female</td>\n",
              "      <td>0</td>\n",
              "      <td>Yes</td>\n",
              "      <td>Yes</td>\n",
              "      <td>72</td>\n",
              "      <td>Yes</td>\n",
              "      <td>Yes</td>\n",
              "      <td>Fiber optic</td>\n",
              "      <td>No</td>\n",
              "      <td>Yes</td>\n",
              "      <td>Yes</td>\n",
              "      <td>No</td>\n",
              "      <td>Yes</td>\n",
              "      <td>Yes</td>\n",
              "      <td>One year</td>\n",
              "      <td>Yes</td>\n",
              "      <td>103.20</td>\n",
              "      <td>7362.90</td>\n",
              "    </tr>\n",
              "    <tr>\n",
              "      <th>7030</th>\n",
              "      <td>Female</td>\n",
              "      <td>0</td>\n",
              "      <td>Yes</td>\n",
              "      <td>Yes</td>\n",
              "      <td>11</td>\n",
              "      <td>No</td>\n",
              "      <td>No</td>\n",
              "      <td>DSL</td>\n",
              "      <td>Yes</td>\n",
              "      <td>No</td>\n",
              "      <td>No</td>\n",
              "      <td>No</td>\n",
              "      <td>No</td>\n",
              "      <td>No</td>\n",
              "      <td>Month-to-month</td>\n",
              "      <td>Yes</td>\n",
              "      <td>29.60</td>\n",
              "      <td>346.45</td>\n",
              "    </tr>\n",
              "    <tr>\n",
              "      <th>7031</th>\n",
              "      <td>Male</td>\n",
              "      <td>1</td>\n",
              "      <td>Yes</td>\n",
              "      <td>No</td>\n",
              "      <td>4</td>\n",
              "      <td>Yes</td>\n",
              "      <td>Yes</td>\n",
              "      <td>Fiber optic</td>\n",
              "      <td>No</td>\n",
              "      <td>No</td>\n",
              "      <td>No</td>\n",
              "      <td>No</td>\n",
              "      <td>No</td>\n",
              "      <td>No</td>\n",
              "      <td>Month-to-month</td>\n",
              "      <td>Yes</td>\n",
              "      <td>74.40</td>\n",
              "      <td>306.60</td>\n",
              "    </tr>\n",
              "    <tr>\n",
              "      <th>7032</th>\n",
              "      <td>Male</td>\n",
              "      <td>0</td>\n",
              "      <td>No</td>\n",
              "      <td>No</td>\n",
              "      <td>66</td>\n",
              "      <td>Yes</td>\n",
              "      <td>No</td>\n",
              "      <td>Fiber optic</td>\n",
              "      <td>Yes</td>\n",
              "      <td>No</td>\n",
              "      <td>Yes</td>\n",
              "      <td>Yes</td>\n",
              "      <td>Yes</td>\n",
              "      <td>Yes</td>\n",
              "      <td>Two year</td>\n",
              "      <td>Yes</td>\n",
              "      <td>105.65</td>\n",
              "      <td>6844.50</td>\n",
              "    </tr>\n",
              "  </tbody>\n",
              "</table>\n",
              "<p>7033 rows × 18 columns</p>\n",
              "</div>\n",
              "      <button class=\"colab-df-convert\" onclick=\"convertToInteractive('df-a7e1ace0-c217-41e8-9cc2-9bbf63f62612')\"\n",
              "              title=\"Convert this dataframe to an interactive table.\"\n",
              "              style=\"display:none;\">\n",
              "        \n",
              "  <svg xmlns=\"http://www.w3.org/2000/svg\" height=\"24px\"viewBox=\"0 0 24 24\"\n",
              "       width=\"24px\">\n",
              "    <path d=\"M0 0h24v24H0V0z\" fill=\"none\"/>\n",
              "    <path d=\"M18.56 5.44l.94 2.06.94-2.06 2.06-.94-2.06-.94-.94-2.06-.94 2.06-2.06.94zm-11 1L8.5 8.5l.94-2.06 2.06-.94-2.06-.94L8.5 2.5l-.94 2.06-2.06.94zm10 10l.94 2.06.94-2.06 2.06-.94-2.06-.94-.94-2.06-.94 2.06-2.06.94z\"/><path d=\"M17.41 7.96l-1.37-1.37c-.4-.4-.92-.59-1.43-.59-.52 0-1.04.2-1.43.59L10.3 9.45l-7.72 7.72c-.78.78-.78 2.05 0 2.83L4 21.41c.39.39.9.59 1.41.59.51 0 1.02-.2 1.41-.59l7.78-7.78 2.81-2.81c.8-.78.8-2.07 0-2.86zM5.41 20L4 18.59l7.72-7.72 1.47 1.35L5.41 20z\"/>\n",
              "  </svg>\n",
              "      </button>\n",
              "      \n",
              "  <style>\n",
              "    .colab-df-container {\n",
              "      display:flex;\n",
              "      flex-wrap:wrap;\n",
              "      gap: 12px;\n",
              "    }\n",
              "\n",
              "    .colab-df-convert {\n",
              "      background-color: #E8F0FE;\n",
              "      border: none;\n",
              "      border-radius: 50%;\n",
              "      cursor: pointer;\n",
              "      display: none;\n",
              "      fill: #1967D2;\n",
              "      height: 32px;\n",
              "      padding: 0 0 0 0;\n",
              "      width: 32px;\n",
              "    }\n",
              "\n",
              "    .colab-df-convert:hover {\n",
              "      background-color: #E2EBFA;\n",
              "      box-shadow: 0px 1px 2px rgba(60, 64, 67, 0.3), 0px 1px 3px 1px rgba(60, 64, 67, 0.15);\n",
              "      fill: #174EA6;\n",
              "    }\n",
              "\n",
              "    [theme=dark] .colab-df-convert {\n",
              "      background-color: #3B4455;\n",
              "      fill: #D2E3FC;\n",
              "    }\n",
              "\n",
              "    [theme=dark] .colab-df-convert:hover {\n",
              "      background-color: #434B5C;\n",
              "      box-shadow: 0px 1px 3px 1px rgba(0, 0, 0, 0.15);\n",
              "      filter: drop-shadow(0px 1px 2px rgba(0, 0, 0, 0.3));\n",
              "      fill: #FFFFFF;\n",
              "    }\n",
              "  </style>\n",
              "\n",
              "      <script>\n",
              "        const buttonEl =\n",
              "          document.querySelector('#df-a7e1ace0-c217-41e8-9cc2-9bbf63f62612 button.colab-df-convert');\n",
              "        buttonEl.style.display =\n",
              "          google.colab.kernel.accessAllowed ? 'block' : 'none';\n",
              "\n",
              "        async function convertToInteractive(key) {\n",
              "          const element = document.querySelector('#df-a7e1ace0-c217-41e8-9cc2-9bbf63f62612');\n",
              "          const dataTable =\n",
              "            await google.colab.kernel.invokeFunction('convertToInteractive',\n",
              "                                                     [key], {});\n",
              "          if (!dataTable) return;\n",
              "\n",
              "          const docLinkHtml = 'Like what you see? Visit the ' +\n",
              "            '<a target=\"_blank\" href=https://colab.research.google.com/notebooks/data_table.ipynb>data table notebook</a>'\n",
              "            + ' to learn more about interactive tables.';\n",
              "          element.innerHTML = '';\n",
              "          dataTable['output_type'] = 'display_data';\n",
              "          await google.colab.output.renderOutput(dataTable, element);\n",
              "          const docLink = document.createElement('div');\n",
              "          docLink.innerHTML = docLinkHtml;\n",
              "          element.appendChild(docLink);\n",
              "        }\n",
              "      </script>\n",
              "    </div>\n",
              "  </div>\n",
              "  "
            ]
          },
          "metadata": {},
          "execution_count": 46
        }
      ]
    },
    {
      "cell_type": "markdown",
      "source": [
        "Next we split to get the value of X_train, X_test, y_train, y_test, X_val, and y_val."
      ],
      "metadata": {
        "id": "8QkHo46-7-ip"
      }
    },
    {
      "cell_type": "code",
      "source": [
        "X_train, X_test, y_train, y_test = train_test_split(X, y, test_size=0.2, random_state = 7, stratify=y)\n",
        "X_train, X_val, y_train, y_val = train_test_split(X_train, y_train, test_size=0.1, random_state = 7, stratify=y_train)\n",
        "\n",
        "print('Train Size: ', X_train.shape)\n",
        "print('y_train shape: ', y_train.shape)\n",
        "print('Test Size: ', X_test.shape)\n",
        "print('y_test shape: ', y_test.shape)\n",
        "print('Validation Size: ', X_val.shape)\n",
        "print('y_val shape: ', y_val.shape)"
      ],
      "metadata": {
        "colab": {
          "base_uri": "https://localhost:8080/"
        },
        "id": "rPQ_IGtC8KWo",
        "outputId": "f5efd828-e9c3-4414-f087-55170c9ae59a"
      },
      "execution_count": null,
      "outputs": [
        {
          "output_type": "stream",
          "name": "stdout",
          "text": [
            "Train Size:  (5063, 18)\n",
            "y_train shape:  (5063,)\n",
            "Test Size:  (1407, 18)\n",
            "y_test shape:  (1407,)\n",
            "Validation Size:  (563, 18)\n",
            "y_val shape:  (563,)\n"
          ]
        }
      ]
    },
    {
      "cell_type": "code",
      "source": [
        "y_train.value_counts()"
      ],
      "metadata": {
        "colab": {
          "base_uri": "https://localhost:8080/"
        },
        "id": "kqbfBZRA-IQM",
        "outputId": "7f6ba511-eee9-4511-ad25-9ad9668a70b1"
      },
      "execution_count": null,
      "outputs": [
        {
          "output_type": "execute_result",
          "data": {
            "text/plain": [
              "0    3719\n",
              "1    1344\n",
              "Name: Churn_bool, dtype: int64"
            ]
          },
          "metadata": {},
          "execution_count": 48
        }
      ]
    },
    {
      "cell_type": "markdown",
      "source": [
        "---\n",
        "## Handling Outlier"
      ],
      "metadata": {
        "id": "KNocQQy784CB"
      }
    },
    {
      "cell_type": "markdown",
      "source": [
        "Looking for outlier in numerical data on X_train."
      ],
      "metadata": {
        "id": "72_rPtJM86tR"
      }
    },
    {
      "cell_type": "code",
      "source": [
        "numerical_xtrain = [var for var in X_train.columns if X_train[var].dtype!='O']\n",
        "\n",
        "print('There are {} numerical columns. \\n'.format(len(numerical_xtrain)))\n",
        "\n",
        "print('The numerical columns are:', numerical_xtrain)"
      ],
      "metadata": {
        "colab": {
          "base_uri": "https://localhost:8080/"
        },
        "id": "7bRmnugK86Jw",
        "outputId": "64ea6eb5-e41a-4692-9b2d-29d69c04db4b"
      },
      "execution_count": null,
      "outputs": [
        {
          "output_type": "stream",
          "name": "stdout",
          "text": [
            "There are 4 numerical columns. \n",
            "\n",
            "The numerical columns are: ['SeniorCitizen', 'tenure', 'MonthlyCharges', 'TotalCharges']\n"
          ]
        }
      ]
    },
    {
      "cell_type": "code",
      "source": [
        "X_train[numerical_xtrain].head()"
      ],
      "metadata": {
        "colab": {
          "base_uri": "https://localhost:8080/",
          "height": 206
        },
        "id": "Va9G-Vcy9NTr",
        "outputId": "f8239084-5824-4131-a61f-d8562271deef"
      },
      "execution_count": null,
      "outputs": [
        {
          "output_type": "execute_result",
          "data": {
            "text/plain": [
              "      SeniorCitizen  tenure  MonthlyCharges  TotalCharges\n",
              "45                0      49           84.50       3906.70\n",
              "6637              0      51           19.40        997.75\n",
              "4895              0      24           56.35       1381.20\n",
              "1480              0      39           35.55       1309.15\n",
              "3000              0      27           79.50       2180.55"
            ],
            "text/html": [
              "\n",
              "  <div id=\"df-5903d5f3-d750-4b86-a24c-0ea3b29129d5\">\n",
              "    <div class=\"colab-df-container\">\n",
              "      <div>\n",
              "<style scoped>\n",
              "    .dataframe tbody tr th:only-of-type {\n",
              "        vertical-align: middle;\n",
              "    }\n",
              "\n",
              "    .dataframe tbody tr th {\n",
              "        vertical-align: top;\n",
              "    }\n",
              "\n",
              "    .dataframe thead th {\n",
              "        text-align: right;\n",
              "    }\n",
              "</style>\n",
              "<table border=\"1\" class=\"dataframe\">\n",
              "  <thead>\n",
              "    <tr style=\"text-align: right;\">\n",
              "      <th></th>\n",
              "      <th>SeniorCitizen</th>\n",
              "      <th>tenure</th>\n",
              "      <th>MonthlyCharges</th>\n",
              "      <th>TotalCharges</th>\n",
              "    </tr>\n",
              "  </thead>\n",
              "  <tbody>\n",
              "    <tr>\n",
              "      <th>45</th>\n",
              "      <td>0</td>\n",
              "      <td>49</td>\n",
              "      <td>84.50</td>\n",
              "      <td>3906.70</td>\n",
              "    </tr>\n",
              "    <tr>\n",
              "      <th>6637</th>\n",
              "      <td>0</td>\n",
              "      <td>51</td>\n",
              "      <td>19.40</td>\n",
              "      <td>997.75</td>\n",
              "    </tr>\n",
              "    <tr>\n",
              "      <th>4895</th>\n",
              "      <td>0</td>\n",
              "      <td>24</td>\n",
              "      <td>56.35</td>\n",
              "      <td>1381.20</td>\n",
              "    </tr>\n",
              "    <tr>\n",
              "      <th>1480</th>\n",
              "      <td>0</td>\n",
              "      <td>39</td>\n",
              "      <td>35.55</td>\n",
              "      <td>1309.15</td>\n",
              "    </tr>\n",
              "    <tr>\n",
              "      <th>3000</th>\n",
              "      <td>0</td>\n",
              "      <td>27</td>\n",
              "      <td>79.50</td>\n",
              "      <td>2180.55</td>\n",
              "    </tr>\n",
              "  </tbody>\n",
              "</table>\n",
              "</div>\n",
              "      <button class=\"colab-df-convert\" onclick=\"convertToInteractive('df-5903d5f3-d750-4b86-a24c-0ea3b29129d5')\"\n",
              "              title=\"Convert this dataframe to an interactive table.\"\n",
              "              style=\"display:none;\">\n",
              "        \n",
              "  <svg xmlns=\"http://www.w3.org/2000/svg\" height=\"24px\"viewBox=\"0 0 24 24\"\n",
              "       width=\"24px\">\n",
              "    <path d=\"M0 0h24v24H0V0z\" fill=\"none\"/>\n",
              "    <path d=\"M18.56 5.44l.94 2.06.94-2.06 2.06-.94-2.06-.94-.94-2.06-.94 2.06-2.06.94zm-11 1L8.5 8.5l.94-2.06 2.06-.94-2.06-.94L8.5 2.5l-.94 2.06-2.06.94zm10 10l.94 2.06.94-2.06 2.06-.94-2.06-.94-.94-2.06-.94 2.06-2.06.94z\"/><path d=\"M17.41 7.96l-1.37-1.37c-.4-.4-.92-.59-1.43-.59-.52 0-1.04.2-1.43.59L10.3 9.45l-7.72 7.72c-.78.78-.78 2.05 0 2.83L4 21.41c.39.39.9.59 1.41.59.51 0 1.02-.2 1.41-.59l7.78-7.78 2.81-2.81c.8-.78.8-2.07 0-2.86zM5.41 20L4 18.59l7.72-7.72 1.47 1.35L5.41 20z\"/>\n",
              "  </svg>\n",
              "      </button>\n",
              "      \n",
              "  <style>\n",
              "    .colab-df-container {\n",
              "      display:flex;\n",
              "      flex-wrap:wrap;\n",
              "      gap: 12px;\n",
              "    }\n",
              "\n",
              "    .colab-df-convert {\n",
              "      background-color: #E8F0FE;\n",
              "      border: none;\n",
              "      border-radius: 50%;\n",
              "      cursor: pointer;\n",
              "      display: none;\n",
              "      fill: #1967D2;\n",
              "      height: 32px;\n",
              "      padding: 0 0 0 0;\n",
              "      width: 32px;\n",
              "    }\n",
              "\n",
              "    .colab-df-convert:hover {\n",
              "      background-color: #E2EBFA;\n",
              "      box-shadow: 0px 1px 2px rgba(60, 64, 67, 0.3), 0px 1px 3px 1px rgba(60, 64, 67, 0.15);\n",
              "      fill: #174EA6;\n",
              "    }\n",
              "\n",
              "    [theme=dark] .colab-df-convert {\n",
              "      background-color: #3B4455;\n",
              "      fill: #D2E3FC;\n",
              "    }\n",
              "\n",
              "    [theme=dark] .colab-df-convert:hover {\n",
              "      background-color: #434B5C;\n",
              "      box-shadow: 0px 1px 3px 1px rgba(0, 0, 0, 0.15);\n",
              "      filter: drop-shadow(0px 1px 2px rgba(0, 0, 0, 0.3));\n",
              "      fill: #FFFFFF;\n",
              "    }\n",
              "  </style>\n",
              "\n",
              "      <script>\n",
              "        const buttonEl =\n",
              "          document.querySelector('#df-5903d5f3-d750-4b86-a24c-0ea3b29129d5 button.colab-df-convert');\n",
              "        buttonEl.style.display =\n",
              "          google.colab.kernel.accessAllowed ? 'block' : 'none';\n",
              "\n",
              "        async function convertToInteractive(key) {\n",
              "          const element = document.querySelector('#df-5903d5f3-d750-4b86-a24c-0ea3b29129d5');\n",
              "          const dataTable =\n",
              "            await google.colab.kernel.invokeFunction('convertToInteractive',\n",
              "                                                     [key], {});\n",
              "          if (!dataTable) return;\n",
              "\n",
              "          const docLinkHtml = 'Like what you see? Visit the ' +\n",
              "            '<a target=\"_blank\" href=https://colab.research.google.com/notebooks/data_table.ipynb>data table notebook</a>'\n",
              "            + ' to learn more about interactive tables.';\n",
              "          element.innerHTML = '';\n",
              "          dataTable['output_type'] = 'display_data';\n",
              "          await google.colab.output.renderOutput(dataTable, element);\n",
              "          const docLink = document.createElement('div');\n",
              "          docLink.innerHTML = docLinkHtml;\n",
              "          element.appendChild(docLink);\n",
              "        }\n",
              "      </script>\n",
              "    </div>\n",
              "  </div>\n",
              "  "
            ]
          },
          "metadata": {},
          "execution_count": 50
        }
      ]
    },
    {
      "cell_type": "markdown",
      "source": [
        "We can check if the column have outlier or not by using boxplot."
      ],
      "metadata": {
        "id": "GMuHC1Xb9U5b"
      }
    },
    {
      "cell_type": "code",
      "source": [
        "fig, axs = plt.subplots(2, 3, sharex=False, sharey=False, figsize=(30, 25))\n",
        "\n",
        "counter = 0\n",
        "for num_column in numerical_xtrain:\n",
        "    \n",
        "    trace_x = counter // 3\n",
        "    trace_y = counter % 3\n",
        "    \n",
        "    axs[trace_x, trace_y].boxplot(X_train[num_column])\n",
        "    \n",
        "    axs[trace_x, trace_y].set_title(num_column)\n",
        "    \n",
        "    counter += 1\n",
        "\n",
        "plt.show()"
      ],
      "metadata": {
        "colab": {
          "base_uri": "https://localhost:8080/",
          "height": 527
        },
        "id": "kc3IC99_9eJb",
        "outputId": "205d2bd2-a37f-4608-cb56-783ae0128550"
      },
      "execution_count": null,
      "outputs": [
        {
          "output_type": "display_data",
          "data": {
            "text/plain": [
              "<Figure size 2160x1800 with 6 Axes>"
            ],
            "image/png": "[encoded data removed]"
          },
          "metadata": {
            "needs_background": "light"
          }
        }
      ]
    },
    {
      "cell_type": "markdown",
      "source": [
        "From a glance we can see that there are no outlier on the numerical columns. Next we check outlier percentage."
      ],
      "metadata": {
        "id": "EOx1zx1D908y"
      }
    },
    {
      "cell_type": "code",
      "source": [
        "def check_outlier(data, column):\n",
        "    skewness = data[column].skew(axis = 0, skipna = True)\n",
        "    if skewness <= 0.5 and skewness >= 0.5:\n",
        "        upper_boundary = data[column].mean() + 3*data[column].std()\n",
        "        lower_boundary = data[column].mean() - 3*data[column].std()\n",
        "        print('[Normal]')\n",
        "        print(f'Upper boundary {column} = {upper_boundary}')\n",
        "        print(f'Lower boundary {column} = {upper_boundary}')\n",
        "        print('Total data above upper boundary : {}'.format(len(data[data[column] > upper_boundary])))\n",
        "        print('Total data below lower boundary : {}'.format(len(data[data[column] < lower_boundary])))\n",
        "        print('Percentage above upper boundary : {}'.format(len(data[data[column] > upper_boundary]) / len(data) * 100))\n",
        "        print('Percentage below lower boundary : {}'.format(len(data[data[column] < lower_boundary]) / len(data) * 100))\n",
        "        print('-' * 100)\n",
        "\n",
        "    else:\n",
        "        IQR = data[column].quantile(0.75) - data[column].quantile(0.25)\n",
        "        upper_boundary = data[column].quantile(0.75) + (IQR * 1.5)\n",
        "        lower_boundary = data[column].quantile(0.25) - (IQR * 1.5)\n",
        "        print('[Skewed]')\n",
        "        print(f'Upper boundary {column} = {upper_boundary}')\n",
        "        print(f'Lower boundary {column} = {upper_boundary}')\n",
        "        print('Total data above upper boundary : {}'.format(len(data[data[column] > upper_boundary])))\n",
        "        print('Total data below lower boundary : {}'.format(len(data[data[column] < lower_boundary])))\n",
        "        print('Percentage above upper boundary : {}'.format(len(data[data[column] > upper_boundary]) / len(data) * 100))\n",
        "        print('Percentage below lower boundary : {}'.format(len(data[data[column] < lower_boundary]) / len(data) * 100))\n",
        "        print('-' * 100)"
      ],
      "metadata": {
        "id": "B46bqlUc9_jL"
      },
      "execution_count": null,
      "outputs": []
    },
    {
      "cell_type": "code",
      "source": [
        "feature_check = ['SeniorCitizen', 'tenure', 'MonthlyCharges', 'TotalCharges']"
      ],
      "metadata": {
        "id": "zz-ptUH2-hPj"
      },
      "execution_count": null,
      "outputs": []
    },
    {
      "cell_type": "code",
      "source": [
        "for feature in feature_check:\n",
        "    check_outlier(X_train, feature)"
      ],
      "metadata": {
        "colab": {
          "base_uri": "https://localhost:8080/"
        },
        "id": "OVK9ON-Z-l9x",
        "outputId": "aa15244d-e028-494a-bfac-dca6543ece17"
      },
      "execution_count": null,
      "outputs": [
        {
          "output_type": "stream",
          "name": "stdout",
          "text": [
            "[Skewed]\n",
            "Upper boundary SeniorCitizen = 0.0\n",
            "Lower boundary SeniorCitizen = 0.0\n",
            "Total data above upper boundary : 818\n",
            "Total data below lower boundary : 0\n",
            "Percentage above upper boundary : 16.156428994667195\n",
            "Percentage below lower boundary : 0.0\n",
            "----------------------------------------------------------------------------------------------------\n",
            "[Skewed]\n",
            "Upper boundary tenure = 124.0\n",
            "Lower boundary tenure = 124.0\n",
            "Total data above upper boundary : 0\n",
            "Total data below lower boundary : 0\n",
            "Percentage above upper boundary : 0.0\n",
            "Percentage below lower boundary : 0.0\n",
            "----------------------------------------------------------------------------------------------------\n",
            "[Skewed]\n",
            "Upper boundary MonthlyCharges = 171.55\n",
            "Lower boundary MonthlyCharges = 171.55\n",
            "Total data above upper boundary : 0\n",
            "Total data below lower boundary : 0\n",
            "Percentage above upper boundary : 0.0\n",
            "Percentage below lower boundary : 0.0\n",
            "----------------------------------------------------------------------------------------------------\n",
            "[Skewed]\n",
            "Upper boundary TotalCharges = 8730.7125\n",
            "Lower boundary TotalCharges = 8730.7125\n",
            "Total data above upper boundary : 0\n",
            "Total data below lower boundary : 0\n",
            "Percentage above upper boundary : 0.0\n",
            "Percentage below lower boundary : 0.0\n",
            "----------------------------------------------------------------------------------------------------\n"
          ]
        }
      ]
    },
    {
      "cell_type": "markdown",
      "source": [
        "Apparently there are no outlier in numerical column except 'SeniorCitizen'. Since the number is higher than 15%, we will ignore the outlier.\n",
        "\n",
        "Next, we check if there's a missing value on X_train."
      ],
      "metadata": {
        "id": "xnnR6y-H-7YK"
      }
    },
    {
      "cell_type": "markdown",
      "source": [
        "---\n",
        "## Handling Missing Value"
      ],
      "metadata": {
        "id": "j0-HpH4z_Shy"
      }
    },
    {
      "cell_type": "markdown",
      "source": [
        "Looking for missing value on X_train, X_test, and X-val."
      ],
      "metadata": {
        "id": "_m6K3PCP_VnK"
      }
    },
    {
      "cell_type": "markdown",
      "source": [
        "---\n",
        "### Data Numerical"
      ],
      "metadata": {
        "id": "NcYoK19t_hmZ"
      }
    },
    {
      "cell_type": "code",
      "source": [
        "X_train[numerical_xtrain].isnull().sum()"
      ],
      "metadata": {
        "colab": {
          "base_uri": "https://localhost:8080/"
        },
        "id": "VBDiA7BcDaHC",
        "outputId": "2b3588e0-463a-4057-bb0e-907cde4168d6"
      },
      "execution_count": null,
      "outputs": [
        {
          "output_type": "execute_result",
          "data": {
            "text/plain": [
              "SeniorCitizen     0\n",
              "tenure            0\n",
              "MonthlyCharges    0\n",
              "TotalCharges      8\n",
              "dtype: int64"
            ]
          },
          "metadata": {},
          "execution_count": 55
        }
      ]
    },
    {
      "cell_type": "markdown",
      "source": [
        "There are missing values on 'TotalCharges', next we can determine what should we do with the missing values."
      ],
      "metadata": {
        "id": "HtT_rpfxDywE"
      }
    },
    {
      "cell_type": "code",
      "source": [
        "for column in numerical_xtrain:\n",
        "    if X_train[column].isnull().mean()>0:\n",
        "        print(column, round(X_train[column].isnull().mean(),3))"
      ],
      "metadata": {
        "colab": {
          "base_uri": "https://localhost:8080/"
        },
        "id": "1ZOnqcD3D79D",
        "outputId": "6c5687fa-ffc4-4c3f-a34b-c3387efe007d"
      },
      "execution_count": null,
      "outputs": [
        {
          "output_type": "stream",
          "name": "stdout",
          "text": [
            "TotalCharges 0.002\n"
          ]
        }
      ]
    },
    {
      "cell_type": "markdown",
      "source": [
        "The amount of missing values is pretty low, so we can assume that this is an MCAR. Next we see the the skewness for each column."
      ],
      "metadata": {
        "id": "Zt80_l0lIhQ5"
      }
    },
    {
      "cell_type": "code",
      "source": [
        "for column in numerical_xtrain:\n",
        "    print(f'\\'{X_train[column].name}\\' skewness: {X_train[column].skew()}')\n",
        "    if X_train[column].skew() > 0.5:\n",
        "        print('right skewed')\n",
        "    elif X_train[column].skew() < -0.5:\n",
        "        print('left skewed')\n",
        "    else:\n",
        "        print('normal distribution')"
      ],
      "metadata": {
        "colab": {
          "base_uri": "https://localhost:8080/"
        },
        "id": "OfLkcGu3Ix4F",
        "outputId": "4b490405-f828-4b87-9afa-003cddd31c71"
      },
      "execution_count": null,
      "outputs": [
        {
          "output_type": "stream",
          "name": "stdout",
          "text": [
            "'SeniorCitizen' skewness: 1.8396165249072203\n",
            "right skewed\n",
            "'tenure' skewness: 0.25222315647691446\n",
            "normal distribution\n",
            "'MonthlyCharges' skewness: -0.2077369926006177\n",
            "normal distribution\n",
            "'TotalCharges' skewness: 0.9876673411196936\n",
            "right skewed\n"
          ]
        }
      ]
    },
    {
      "cell_type": "markdown",
      "source": [
        "Because this is an MCAR case, we can fill the missing value with median, since we did not do anything with the outlier."
      ],
      "metadata": {
        "id": "JafoIufBI8uI"
      }
    },
    {
      "cell_type": "code",
      "source": [
        "for data_med in [X_train, X_test, X_val]:\n",
        "    for column in numerical_xtrain:\n",
        "        median_value = X_train[column].median()\n",
        "        data_med[column].fillna(median_value, inplace=True)"
      ],
      "metadata": {
        "id": "kbV8LSXYJJBc"
      },
      "execution_count": null,
      "outputs": []
    },
    {
      "cell_type": "markdown",
      "source": [
        "Next, we check the missing value on X_tran, X_test, and X_val."
      ],
      "metadata": {
        "id": "E0xgkfFdJSf4"
      }
    },
    {
      "cell_type": "code",
      "source": [
        "X_train[numerical_xtrain].isnull().sum()"
      ],
      "metadata": {
        "colab": {
          "base_uri": "https://localhost:8080/"
        },
        "id": "uVb9JcR1JYjh",
        "outputId": "c7e51650-cddb-482c-b37e-fe7fa0b1e3c3"
      },
      "execution_count": null,
      "outputs": [
        {
          "output_type": "execute_result",
          "data": {
            "text/plain": [
              "SeniorCitizen     0\n",
              "tenure            0\n",
              "MonthlyCharges    0\n",
              "TotalCharges      0\n",
              "dtype: int64"
            ]
          },
          "metadata": {},
          "execution_count": 59
        }
      ]
    },
    {
      "cell_type": "code",
      "source": [
        "X_test[numerical_xtrain].isnull().sum()"
      ],
      "metadata": {
        "colab": {
          "base_uri": "https://localhost:8080/"
        },
        "id": "KX6H-A8cJdjI",
        "outputId": "6182ea2a-b1c0-4797-d8ed-7261cdd6d82a"
      },
      "execution_count": null,
      "outputs": [
        {
          "output_type": "execute_result",
          "data": {
            "text/plain": [
              "SeniorCitizen     0\n",
              "tenure            0\n",
              "MonthlyCharges    0\n",
              "TotalCharges      0\n",
              "dtype: int64"
            ]
          },
          "metadata": {},
          "execution_count": 60
        }
      ]
    },
    {
      "cell_type": "code",
      "source": [
        "X_val[numerical_xtrain].isnull().sum()"
      ],
      "metadata": {
        "colab": {
          "base_uri": "https://localhost:8080/"
        },
        "id": "FLTXYgSWJfh4",
        "outputId": "88d27177-1bf2-4046-d79a-a19a1229d5fa"
      },
      "execution_count": null,
      "outputs": [
        {
          "output_type": "execute_result",
          "data": {
            "text/plain": [
              "SeniorCitizen     0\n",
              "tenure            0\n",
              "MonthlyCharges    0\n",
              "TotalCharges      0\n",
              "dtype: int64"
            ]
          },
          "metadata": {},
          "execution_count": 61
        }
      ]
    },
    {
      "cell_type": "markdown",
      "source": [
        "---\n",
        "### Data Categorical"
      ],
      "metadata": {
        "id": "W0rlZfNDJxMK"
      }
    },
    {
      "cell_type": "code",
      "source": [
        "categorical_xtrain = [var for var in X_train.columns if X_train[var].dtype=='O']\n",
        "\n",
        "print('Categorical columns are:', categorical_xtrain)"
      ],
      "metadata": {
        "colab": {
          "base_uri": "https://localhost:8080/"
        },
        "id": "roqu3YinJ0bv",
        "outputId": "bd729443-c788-4eb4-afe7-3422df6df38e"
      },
      "execution_count": null,
      "outputs": [
        {
          "output_type": "stream",
          "name": "stdout",
          "text": [
            "Categorical columns are: ['gender', 'Partner', 'Dependents', 'PhoneService', 'MultipleLines', 'InternetService', 'OnlineSecurity', 'OnlineBackup', 'DeviceProtection', 'TechSupport', 'StreamingTV', 'StreamingMovies', 'Contract', 'PaperlessBilling']\n"
          ]
        }
      ]
    },
    {
      "cell_type": "markdown",
      "source": [
        "Check the missing value for categorical data in X_train, X_test, and X_val."
      ],
      "metadata": {
        "id": "wBjy5i0iKEfI"
      }
    },
    {
      "cell_type": "code",
      "source": [
        "X_train[categorical_xtrain].isnull().sum()"
      ],
      "metadata": {
        "colab": {
          "base_uri": "https://localhost:8080/"
        },
        "id": "XKclKhjjKMT3",
        "outputId": "568d7eef-fc2d-4220-ca69-fd0062f7f55e"
      },
      "execution_count": null,
      "outputs": [
        {
          "output_type": "execute_result",
          "data": {
            "text/plain": [
              "gender              0\n",
              "Partner             0\n",
              "Dependents          0\n",
              "PhoneService        0\n",
              "MultipleLines       0\n",
              "InternetService     0\n",
              "OnlineSecurity      0\n",
              "OnlineBackup        0\n",
              "DeviceProtection    0\n",
              "TechSupport         0\n",
              "StreamingTV         0\n",
              "StreamingMovies     0\n",
              "Contract            0\n",
              "PaperlessBilling    0\n",
              "dtype: int64"
            ]
          },
          "metadata": {},
          "execution_count": 63
        }
      ]
    },
    {
      "cell_type": "code",
      "source": [
        "X_test[categorical_xtrain].isnull().sum()"
      ],
      "metadata": {
        "colab": {
          "base_uri": "https://localhost:8080/"
        },
        "id": "yhyCQ7qIKRSQ",
        "outputId": "e8a2b487-fbd9-4308-d232-6ae6c0acfac6"
      },
      "execution_count": null,
      "outputs": [
        {
          "output_type": "execute_result",
          "data": {
            "text/plain": [
              "gender              0\n",
              "Partner             0\n",
              "Dependents          0\n",
              "PhoneService        0\n",
              "MultipleLines       0\n",
              "InternetService     0\n",
              "OnlineSecurity      0\n",
              "OnlineBackup        0\n",
              "DeviceProtection    0\n",
              "TechSupport         0\n",
              "StreamingTV         0\n",
              "StreamingMovies     0\n",
              "Contract            0\n",
              "PaperlessBilling    0\n",
              "dtype: int64"
            ]
          },
          "metadata": {},
          "execution_count": 64
        }
      ]
    },
    {
      "cell_type": "code",
      "source": [
        "X_val[categorical_xtrain].isnull().sum()"
      ],
      "metadata": {
        "colab": {
          "base_uri": "https://localhost:8080/"
        },
        "id": "ASMHgFufKUog",
        "outputId": "1b36589e-f1a0-4226-8063-9bb5d6f5e83c"
      },
      "execution_count": null,
      "outputs": [
        {
          "output_type": "execute_result",
          "data": {
            "text/plain": [
              "gender              0\n",
              "Partner             0\n",
              "Dependents          0\n",
              "PhoneService        0\n",
              "MultipleLines       0\n",
              "InternetService     0\n",
              "OnlineSecurity      0\n",
              "OnlineBackup        0\n",
              "DeviceProtection    0\n",
              "TechSupport         0\n",
              "StreamingTV         0\n",
              "StreamingMovies     0\n",
              "Contract            0\n",
              "PaperlessBilling    0\n",
              "dtype: int64"
            ]
          },
          "metadata": {},
          "execution_count": 65
        }
      ]
    },
    {
      "cell_type": "markdown",
      "source": [
        "There are no missing values on the categorical columns. Next we select which feature that will be used on the model."
      ],
      "metadata": {
        "id": "8XanqNkgKfPJ"
      }
    },
    {
      "cell_type": "markdown",
      "source": [
        "---\n",
        "## Feature Selection"
      ],
      "metadata": {
        "id": "p1wmfDiEK3aQ"
      }
    },
    {
      "cell_type": "code",
      "source": [
        "X_train_feat = X_train.copy()"
      ],
      "metadata": {
        "id": "AmCDh_LgK2B8"
      },
      "execution_count": null,
      "outputs": []
    },
    {
      "cell_type": "markdown",
      "source": [
        "There are some columns that have ordinal data, we will change the value into numeric."
      ],
      "metadata": {
        "id": "CGfoq9ApMIqI"
      }
    },
    {
      "cell_type": "code",
      "source": [
        "gender_dict = {'Male' : 0, 'Female' : 1}\n",
        "\n",
        "X_train_feat['gender'] = X_train_feat.gender.map(gender_dict)\n",
        "\n",
        "yn_dict = {'No' : 0, 'Yes' : 1}\n",
        "\n",
        "X_train_feat['Partner'] = X_train_feat.Partner.map(yn_dict)\n",
        "X_train_feat['Dependents'] = X_train_feat.Dependents.map(yn_dict)\n",
        "X_train_feat['PhoneService'] = X_train_feat.PhoneService.map(yn_dict)\n",
        "X_train_feat['MultipleLines'] = X_train_feat.MultipleLines.map(yn_dict)\n",
        "X_train_feat['OnlineSecurity'] = X_train_feat.OnlineSecurity.map(yn_dict)\n",
        "X_train_feat['OnlineBackup'] = X_train_feat.OnlineBackup.map(yn_dict)\n",
        "X_train_feat['DeviceProtection'] = X_train_feat.DeviceProtection.map(yn_dict)\n",
        "X_train_feat['TechSupport'] = X_train_feat.TechSupport.map(yn_dict)\n",
        "X_train_feat['StreamingTV'] = X_train_feat.StreamingTV.map(yn_dict)\n",
        "X_train_feat['StreamingMovies'] = X_train_feat.StreamingMovies.map(yn_dict)\n",
        "X_train_feat['PaperlessBilling'] = X_train_feat.PaperlessBilling.map(yn_dict)\n",
        "\n",
        "internetservice_dict = {'No': 0, 'Fiber optic': 1, 'DSL': 2}\n",
        "\n",
        "X_train_feat['InternetService'] = X_train_feat.InternetService.map(internetservice_dict)\n",
        "\n",
        "cont_dict = {'Month-to-month': 0, 'One year': 1, 'Two year': 2}\n",
        "\n",
        "X_train_feat['Contract'] = X_train_feat.Contract.map(cont_dict)\n",
        "\n",
        "X_train_feat"
      ],
      "metadata": {
        "colab": {
          "base_uri": "https://localhost:8080/",
          "height": 488
        },
        "id": "zxHPXlh8MQSk",
        "outputId": "c6c5e7cb-9d4d-4d21-dd38-bd2938189c56"
      },
      "execution_count": null,
      "outputs": [
        {
          "output_type": "execute_result",
          "data": {
            "text/plain": [
              "      gender  SeniorCitizen  Partner  Dependents  tenure  PhoneService  \\\n",
              "45         1              0        0           0      49             1   \n",
              "6637       0              0        1           1      51             1   \n",
              "4895       1              0        0           0      24             1   \n",
              "1480       0              0        0           0      39             0   \n",
              "3000       0              0        0           1      27             1   \n",
              "...      ...            ...      ...         ...     ...           ...   \n",
              "4519       0              0        0           0      13             1   \n",
              "1750       1              0        0           0      50             1   \n",
              "6765       0              1        0           0      57             1   \n",
              "3305       1              0        1           0      15             1   \n",
              "418        1              0        1           1      22             1   \n",
              "\n",
              "      MultipleLines  InternetService  OnlineSecurity  OnlineBackup  \\\n",
              "45                1                1               0             0   \n",
              "6637              0                0               0             0   \n",
              "4895              0                2               1             0   \n",
              "1480              0                2               0             0   \n",
              "3000              1                1               0             0   \n",
              "...             ...              ...             ...           ...   \n",
              "4519              0                1               1             0   \n",
              "1750              0                1               0             0   \n",
              "6765              1                2               0             1   \n",
              "3305              1                0               0             0   \n",
              "418               0                1               0             1   \n",
              "\n",
              "      DeviceProtection  TechSupport  StreamingTV  StreamingMovies  Contract  \\\n",
              "45                   0            0            0                1         0   \n",
              "6637                 0            0            0                0         1   \n",
              "4895                 0            1            0                0         0   \n",
              "1480                 1            1            0                0         1   \n",
              "3000                 0            1            0                0         0   \n",
              "...                ...          ...          ...              ...       ...   \n",
              "4519                 0            0            0                0         0   \n",
              "1750                 1            1            0                1         2   \n",
              "6765                 1            0            1                1         2   \n",
              "3305                 0            0            0                0         2   \n",
              "418                  0            0            0                1         0   \n",
              "\n",
              "      PaperlessBilling  MonthlyCharges  TotalCharges  \n",
              "45                   1           84.50       3906.70  \n",
              "6637                 0           19.40        997.75  \n",
              "4895                 0           56.35       1381.20  \n",
              "1480                 0           35.55       1309.15  \n",
              "3000                 1           79.50       2180.55  \n",
              "...                ...             ...           ...  \n",
              "4519                 1           73.75        956.65  \n",
              "1750                 1           89.70       4304.50  \n",
              "6765                 1           79.75       4438.20  \n",
              "3305                 0           25.20        387.90  \n",
              "418                  0           83.30       1845.90  \n",
              "\n",
              "[5063 rows x 18 columns]"
            ],
            "text/html": [
              "\n",
              "  <div id=\"df-6a3854c7-6282-4baa-a2ed-bdd1b0cae768\">\n",
              "    <div class=\"colab-df-container\">\n",
              "      <div>\n",
              "<style scoped>\n",
              "    .dataframe tbody tr th:only-of-type {\n",
              "        vertical-align: middle;\n",
              "    }\n",
              "\n",
              "    .dataframe tbody tr th {\n",
              "        vertical-align: top;\n",
              "    }\n",
              "\n",
              "    .dataframe thead th {\n",
              "        text-align: right;\n",
              "    }\n",
              "</style>\n",
              "<table border=\"1\" class=\"dataframe\">\n",
              "  <thead>\n",
              "    <tr style=\"text-align: right;\">\n",
              "      <th></th>\n",
              "      <th>gender</th>\n",
              "      <th>SeniorCitizen</th>\n",
              "      <th>Partner</th>\n",
              "      <th>Dependents</th>\n",
              "      <th>tenure</th>\n",
              "      <th>PhoneService</th>\n",
              "      <th>MultipleLines</th>\n",
              "      <th>InternetService</th>\n",
              "      <th>OnlineSecurity</th>\n",
              "      <th>OnlineBackup</th>\n",
              "      <th>DeviceProtection</th>\n",
              "      <th>TechSupport</th>\n",
              "      <th>StreamingTV</th>\n",
              "      <th>StreamingMovies</th>\n",
              "      <th>Contract</th>\n",
              "      <th>PaperlessBilling</th>\n",
              "      <th>MonthlyCharges</th>\n",
              "      <th>TotalCharges</th>\n",
              "    </tr>\n",
              "  </thead>\n",
              "  <tbody>\n",
              "    <tr>\n",
              "      <th>45</th>\n",
              "      <td>1</td>\n",
              "      <td>0</td>\n",
              "      <td>0</td>\n",
              "      <td>0</td>\n",
              "      <td>49</td>\n",
              "      <td>1</td>\n",
              "      <td>1</td>\n",
              "      <td>1</td>\n",
              "      <td>0</td>\n",
              "      <td>0</td>\n",
              "      <td>0</td>\n",
              "      <td>0</td>\n",
              "      <td>0</td>\n",
              "      <td>1</td>\n",
              "      <td>0</td>\n",
              "      <td>1</td>\n",
              "      <td>84.50</td>\n",
              "      <td>3906.70</td>\n",
              "    </tr>\n",
              "    <tr>\n",
              "      <th>6637</th>\n",
              "      <td>0</td>\n",
              "      <td>0</td>\n",
              "      <td>1</td>\n",
              "      <td>1</td>\n",
              "      <td>51</td>\n",
              "      <td>1</td>\n",
              "      <td>0</td>\n",
              "      <td>0</td>\n",
              "      <td>0</td>\n",
              "      <td>0</td>\n",
              "      <td>0</td>\n",
              "      <td>0</td>\n",
              "      <td>0</td>\n",
              "      <td>0</td>\n",
              "      <td>1</td>\n",
              "      <td>0</td>\n",
              "      <td>19.40</td>\n",
              "      <td>997.75</td>\n",
              "    </tr>\n",
              "    <tr>\n",
              "      <th>4895</th>\n",
              "      <td>1</td>\n",
              "      <td>0</td>\n",
              "      <td>0</td>\n",
              "      <td>0</td>\n",
              "      <td>24</td>\n",
              "      <td>1</td>\n",
              "      <td>0</td>\n",
              "      <td>2</td>\n",
              "      <td>1</td>\n",
              "      <td>0</td>\n",
              "      <td>0</td>\n",
              "      <td>1</td>\n",
              "      <td>0</td>\n",
              "      <td>0</td>\n",
              "      <td>0</td>\n",
              "      <td>0</td>\n",
              "      <td>56.35</td>\n",
              "      <td>1381.20</td>\n",
              "    </tr>\n",
              "    <tr>\n",
              "      <th>1480</th>\n",
              "      <td>0</td>\n",
              "      <td>0</td>\n",
              "      <td>0</td>\n",
              "      <td>0</td>\n",
              "      <td>39</td>\n",
              "      <td>0</td>\n",
              "      <td>0</td>\n",
              "      <td>2</td>\n",
              "      <td>0</td>\n",
              "      <td>0</td>\n",
              "      <td>1</td>\n",
              "      <td>1</td>\n",
              "      <td>0</td>\n",
              "      <td>0</td>\n",
              "      <td>1</td>\n",
              "      <td>0</td>\n",
              "      <td>35.55</td>\n",
              "      <td>1309.15</td>\n",
              "    </tr>\n",
              "    <tr>\n",
              "      <th>3000</th>\n",
              "      <td>0</td>\n",
              "      <td>0</td>\n",
              "      <td>0</td>\n",
              "      <td>1</td>\n",
              "      <td>27</td>\n",
              "      <td>1</td>\n",
              "      <td>1</td>\n",
              "      <td>1</td>\n",
              "      <td>0</td>\n",
              "      <td>0</td>\n",
              "      <td>0</td>\n",
              "      <td>1</td>\n",
              "      <td>0</td>\n",
              "      <td>0</td>\n",
              "      <td>0</td>\n",
              "      <td>1</td>\n",
              "      <td>79.50</td>\n",
              "      <td>2180.55</td>\n",
              "    </tr>\n",
              "    <tr>\n",
              "      <th>...</th>\n",
              "      <td>...</td>\n",
              "      <td>...</td>\n",
              "      <td>...</td>\n",
              "      <td>...</td>\n",
              "      <td>...</td>\n",
              "      <td>...</td>\n",
              "      <td>...</td>\n",
              "      <td>...</td>\n",
              "      <td>...</td>\n",
              "      <td>...</td>\n",
              "      <td>...</td>\n",
              "      <td>...</td>\n",
              "      <td>...</td>\n",
              "      <td>...</td>\n",
              "      <td>...</td>\n",
              "      <td>...</td>\n",
              "      <td>...</td>\n",
              "      <td>...</td>\n",
              "    </tr>\n",
              "    <tr>\n",
              "      <th>4519</th>\n",
              "      <td>0</td>\n",
              "      <td>0</td>\n",
              "      <td>0</td>\n",
              "      <td>0</td>\n",
              "      <td>13</td>\n",
              "      <td>1</td>\n",
              "      <td>0</td>\n",
              "      <td>1</td>\n",
              "      <td>1</td>\n",
              "      <td>0</td>\n",
              "      <td>0</td>\n",
              "      <td>0</td>\n",
              "      <td>0</td>\n",
              "      <td>0</td>\n",
              "      <td>0</td>\n",
              "      <td>1</td>\n",
              "      <td>73.75</td>\n",
              "      <td>956.65</td>\n",
              "    </tr>\n",
              "    <tr>\n",
              "      <th>1750</th>\n",
              "      <td>1</td>\n",
              "      <td>0</td>\n",
              "      <td>0</td>\n",
              "      <td>0</td>\n",
              "      <td>50</td>\n",
              "      <td>1</td>\n",
              "      <td>0</td>\n",
              "      <td>1</td>\n",
              "      <td>0</td>\n",
              "      <td>0</td>\n",
              "      <td>1</td>\n",
              "      <td>1</td>\n",
              "      <td>0</td>\n",
              "      <td>1</td>\n",
              "      <td>2</td>\n",
              "      <td>1</td>\n",
              "      <td>89.70</td>\n",
              "      <td>4304.50</td>\n",
              "    </tr>\n",
              "    <tr>\n",
              "      <th>6765</th>\n",
              "      <td>0</td>\n",
              "      <td>1</td>\n",
              "      <td>0</td>\n",
              "      <td>0</td>\n",
              "      <td>57</td>\n",
              "      <td>1</td>\n",
              "      <td>1</td>\n",
              "      <td>2</td>\n",
              "      <td>0</td>\n",
              "      <td>1</td>\n",
              "      <td>1</td>\n",
              "      <td>0</td>\n",
              "      <td>1</td>\n",
              "      <td>1</td>\n",
              "      <td>2</td>\n",
              "      <td>1</td>\n",
              "      <td>79.75</td>\n",
              "      <td>4438.20</td>\n",
              "    </tr>\n",
              "    <tr>\n",
              "      <th>3305</th>\n",
              "      <td>1</td>\n",
              "      <td>0</td>\n",
              "      <td>1</td>\n",
              "      <td>0</td>\n",
              "      <td>15</td>\n",
              "      <td>1</td>\n",
              "      <td>1</td>\n",
              "      <td>0</td>\n",
              "      <td>0</td>\n",
              "      <td>0</td>\n",
              "      <td>0</td>\n",
              "      <td>0</td>\n",
              "      <td>0</td>\n",
              "      <td>0</td>\n",
              "      <td>2</td>\n",
              "      <td>0</td>\n",
              "      <td>25.20</td>\n",
              "      <td>387.90</td>\n",
              "    </tr>\n",
              "    <tr>\n",
              "      <th>418</th>\n",
              "      <td>1</td>\n",
              "      <td>0</td>\n",
              "      <td>1</td>\n",
              "      <td>1</td>\n",
              "      <td>22</td>\n",
              "      <td>1</td>\n",
              "      <td>0</td>\n",
              "      <td>1</td>\n",
              "      <td>0</td>\n",
              "      <td>1</td>\n",
              "      <td>0</td>\n",
              "      <td>0</td>\n",
              "      <td>0</td>\n",
              "      <td>1</td>\n",
              "      <td>0</td>\n",
              "      <td>0</td>\n",
              "      <td>83.30</td>\n",
              "      <td>1845.90</td>\n",
              "    </tr>\n",
              "  </tbody>\n",
              "</table>\n",
              "<p>5063 rows × 18 columns</p>\n",
              "</div>\n",
              "      <button class=\"colab-df-convert\" onclick=\"convertToInteractive('df-6a3854c7-6282-4baa-a2ed-bdd1b0cae768')\"\n",
              "              title=\"Convert this dataframe to an interactive table.\"\n",
              "              style=\"display:none;\">\n",
              "        \n",
              "  <svg xmlns=\"http://www.w3.org/2000/svg\" height=\"24px\"viewBox=\"0 0 24 24\"\n",
              "       width=\"24px\">\n",
              "    <path d=\"M0 0h24v24H0V0z\" fill=\"none\"/>\n",
              "    <path d=\"M18.56 5.44l.94 2.06.94-2.06 2.06-.94-2.06-.94-.94-2.06-.94 2.06-2.06.94zm-11 1L8.5 8.5l.94-2.06 2.06-.94-2.06-.94L8.5 2.5l-.94 2.06-2.06.94zm10 10l.94 2.06.94-2.06 2.06-.94-2.06-.94-.94-2.06-.94 2.06-2.06.94z\"/><path d=\"M17.41 7.96l-1.37-1.37c-.4-.4-.92-.59-1.43-.59-.52 0-1.04.2-1.43.59L10.3 9.45l-7.72 7.72c-.78.78-.78 2.05 0 2.83L4 21.41c.39.39.9.59 1.41.59.51 0 1.02-.2 1.41-.59l7.78-7.78 2.81-2.81c.8-.78.8-2.07 0-2.86zM5.41 20L4 18.59l7.72-7.72 1.47 1.35L5.41 20z\"/>\n",
              "  </svg>\n",
              "      </button>\n",
              "      \n",
              "  <style>\n",
              "    .colab-df-container {\n",
              "      display:flex;\n",
              "      flex-wrap:wrap;\n",
              "      gap: 12px;\n",
              "    }\n",
              "\n",
              "    .colab-df-convert {\n",
              "      background-color: #E8F0FE;\n",
              "      border: none;\n",
              "      border-radius: 50%;\n",
              "      cursor: pointer;\n",
              "      display: none;\n",
              "      fill: #1967D2;\n",
              "      height: 32px;\n",
              "      padding: 0 0 0 0;\n",
              "      width: 32px;\n",
              "    }\n",
              "\n",
              "    .colab-df-convert:hover {\n",
              "      background-color: #E2EBFA;\n",
              "      box-shadow: 0px 1px 2px rgba(60, 64, 67, 0.3), 0px 1px 3px 1px rgba(60, 64, 67, 0.15);\n",
              "      fill: #174EA6;\n",
              "    }\n",
              "\n",
              "    [theme=dark] .colab-df-convert {\n",
              "      background-color: #3B4455;\n",
              "      fill: #D2E3FC;\n",
              "    }\n",
              "\n",
              "    [theme=dark] .colab-df-convert:hover {\n",
              "      background-color: #434B5C;\n",
              "      box-shadow: 0px 1px 3px 1px rgba(0, 0, 0, 0.15);\n",
              "      filter: drop-shadow(0px 1px 2px rgba(0, 0, 0, 0.3));\n",
              "      fill: #FFFFFF;\n",
              "    }\n",
              "  </style>\n",
              "\n",
              "      <script>\n",
              "        const buttonEl =\n",
              "          document.querySelector('#df-6a3854c7-6282-4baa-a2ed-bdd1b0cae768 button.colab-df-convert');\n",
              "        buttonEl.style.display =\n",
              "          google.colab.kernel.accessAllowed ? 'block' : 'none';\n",
              "\n",
              "        async function convertToInteractive(key) {\n",
              "          const element = document.querySelector('#df-6a3854c7-6282-4baa-a2ed-bdd1b0cae768');\n",
              "          const dataTable =\n",
              "            await google.colab.kernel.invokeFunction('convertToInteractive',\n",
              "                                                     [key], {});\n",
              "          if (!dataTable) return;\n",
              "\n",
              "          const docLinkHtml = 'Like what you see? Visit the ' +\n",
              "            '<a target=\"_blank\" href=https://colab.research.google.com/notebooks/data_table.ipynb>data table notebook</a>'\n",
              "            + ' to learn more about interactive tables.';\n",
              "          element.innerHTML = '';\n",
              "          dataTable['output_type'] = 'display_data';\n",
              "          await google.colab.output.renderOutput(dataTable, element);\n",
              "          const docLink = document.createElement('div');\n",
              "          docLink.innerHTML = docLinkHtml;\n",
              "          element.appendChild(docLink);\n",
              "        }\n",
              "      </script>\n",
              "    </div>\n",
              "  </div>\n",
              "  "
            ]
          },
          "metadata": {},
          "execution_count": 67
        }
      ]
    },
    {
      "cell_type": "code",
      "source": [
        "scaler = MinMaxScaler()\n",
        "scaler.fit(X_train_feat)\n",
        "\n",
        "X_train_num_scaled = pd.DataFrame(scaler.transform(X_train_feat), index=X_train_feat.index, columns=X_train_feat.columns)\n",
        "X_train_num_scaled.head()"
      ],
      "metadata": {
        "colab": {
          "base_uri": "https://localhost:8080/",
          "height": 270
        },
        "id": "eYmZtt-PQh0v",
        "outputId": "e8a13f94-f145-4dfa-f487-4ba1b4631448"
      },
      "execution_count": null,
      "outputs": [
        {
          "output_type": "execute_result",
          "data": {
            "text/plain": [
              "      gender  SeniorCitizen  Partner  Dependents    tenure  PhoneService  \\\n",
              "45       1.0            0.0      0.0         0.0  0.680556           1.0   \n",
              "6637     0.0            0.0      1.0         1.0  0.708333           1.0   \n",
              "4895     1.0            0.0      0.0         0.0  0.333333           1.0   \n",
              "1480     0.0            0.0      0.0         0.0  0.541667           0.0   \n",
              "3000     0.0            0.0      0.0         1.0  0.375000           1.0   \n",
              "\n",
              "      MultipleLines  InternetService  OnlineSecurity  OnlineBackup  \\\n",
              "45              1.0              0.5             0.0           0.0   \n",
              "6637            0.0              0.0             0.0           0.0   \n",
              "4895            0.0              1.0             1.0           0.0   \n",
              "1480            0.0              1.0             0.0           0.0   \n",
              "3000            1.0              0.5             0.0           0.0   \n",
              "\n",
              "      DeviceProtection  TechSupport  StreamingTV  StreamingMovies  Contract  \\\n",
              "45                 0.0          0.0          0.0              1.0       0.0   \n",
              "6637               0.0          0.0          0.0              0.0       0.5   \n",
              "4895               0.0          1.0          0.0              0.0       0.0   \n",
              "1480               1.0          1.0          0.0              0.0       0.5   \n",
              "3000               0.0          1.0          0.0              0.0       0.0   \n",
              "\n",
              "      PaperlessBilling  MonthlyCharges  TotalCharges  \n",
              "45                 1.0        0.660189      0.448635  \n",
              "6637               0.0        0.011460      0.112959  \n",
              "4895               0.0        0.379671      0.157207  \n",
              "1480               0.0        0.172397      0.148893  \n",
              "3000               1.0        0.610364      0.249448  "
            ],
            "text/html": [
              "\n",
              "  <div id=\"df-901ea683-2407-4fae-bd99-185f2d90f7ec\">\n",
              "    <div class=\"colab-df-container\">\n",
              "      <div>\n",
              "<style scoped>\n",
              "    .dataframe tbody tr th:only-of-type {\n",
              "        vertical-align: middle;\n",
              "    }\n",
              "\n",
              "    .dataframe tbody tr th {\n",
              "        vertical-align: top;\n",
              "    }\n",
              "\n",
              "    .dataframe thead th {\n",
              "        text-align: right;\n",
              "    }\n",
              "</style>\n",
              "<table border=\"1\" class=\"dataframe\">\n",
              "  <thead>\n",
              "    <tr style=\"text-align: right;\">\n",
              "      <th></th>\n",
              "      <th>gender</th>\n",
              "      <th>SeniorCitizen</th>\n",
              "      <th>Partner</th>\n",
              "      <th>Dependents</th>\n",
              "      <th>tenure</th>\n",
              "      <th>PhoneService</th>\n",
              "      <th>MultipleLines</th>\n",
              "      <th>InternetService</th>\n",
              "      <th>OnlineSecurity</th>\n",
              "      <th>OnlineBackup</th>\n",
              "      <th>DeviceProtection</th>\n",
              "      <th>TechSupport</th>\n",
              "      <th>StreamingTV</th>\n",
              "      <th>StreamingMovies</th>\n",
              "      <th>Contract</th>\n",
              "      <th>PaperlessBilling</th>\n",
              "      <th>MonthlyCharges</th>\n",
              "      <th>TotalCharges</th>\n",
              "    </tr>\n",
              "  </thead>\n",
              "  <tbody>\n",
              "    <tr>\n",
              "      <th>45</th>\n",
              "      <td>1.0</td>\n",
              "      <td>0.0</td>\n",
              "      <td>0.0</td>\n",
              "      <td>0.0</td>\n",
              "      <td>0.680556</td>\n",
              "      <td>1.0</td>\n",
              "      <td>1.0</td>\n",
              "      <td>0.5</td>\n",
              "      <td>0.0</td>\n",
              "      <td>0.0</td>\n",
              "      <td>0.0</td>\n",
              "      <td>0.0</td>\n",
              "      <td>0.0</td>\n",
              "      <td>1.0</td>\n",
              "      <td>0.0</td>\n",
              "      <td>1.0</td>\n",
              "      <td>0.660189</td>\n",
              "      <td>0.448635</td>\n",
              "    </tr>\n",
              "    <tr>\n",
              "      <th>6637</th>\n",
              "      <td>0.0</td>\n",
              "      <td>0.0</td>\n",
              "      <td>1.0</td>\n",
              "      <td>1.0</td>\n",
              "      <td>0.708333</td>\n",
              "      <td>1.0</td>\n",
              "      <td>0.0</td>\n",
              "      <td>0.0</td>\n",
              "      <td>0.0</td>\n",
              "      <td>0.0</td>\n",
              "      <td>0.0</td>\n",
              "      <td>0.0</td>\n",
              "      <td>0.0</td>\n",
              "      <td>0.0</td>\n",
              "      <td>0.5</td>\n",
              "      <td>0.0</td>\n",
              "      <td>0.011460</td>\n",
              "      <td>0.112959</td>\n",
              "    </tr>\n",
              "    <tr>\n",
              "      <th>4895</th>\n",
              "      <td>1.0</td>\n",
              "      <td>0.0</td>\n",
              "      <td>0.0</td>\n",
              "      <td>0.0</td>\n",
              "      <td>0.333333</td>\n",
              "      <td>1.0</td>\n",
              "      <td>0.0</td>\n",
              "      <td>1.0</td>\n",
              "      <td>1.0</td>\n",
              "      <td>0.0</td>\n",
              "      <td>0.0</td>\n",
              "      <td>1.0</td>\n",
              "      <td>0.0</td>\n",
              "      <td>0.0</td>\n",
              "      <td>0.0</td>\n",
              "      <td>0.0</td>\n",
              "      <td>0.379671</td>\n",
              "      <td>0.157207</td>\n",
              "    </tr>\n",
              "    <tr>\n",
              "      <th>1480</th>\n",
              "      <td>0.0</td>\n",
              "      <td>0.0</td>\n",
              "      <td>0.0</td>\n",
              "      <td>0.0</td>\n",
              "      <td>0.541667</td>\n",
              "      <td>0.0</td>\n",
              "      <td>0.0</td>\n",
              "      <td>1.0</td>\n",
              "      <td>0.0</td>\n",
              "      <td>0.0</td>\n",
              "      <td>1.0</td>\n",
              "      <td>1.0</td>\n",
              "      <td>0.0</td>\n",
              "      <td>0.0</td>\n",
              "      <td>0.5</td>\n",
              "      <td>0.0</td>\n",
              "      <td>0.172397</td>\n",
              "      <td>0.148893</td>\n",
              "    </tr>\n",
              "    <tr>\n",
              "      <th>3000</th>\n",
              "      <td>0.0</td>\n",
              "      <td>0.0</td>\n",
              "      <td>0.0</td>\n",
              "      <td>1.0</td>\n",
              "      <td>0.375000</td>\n",
              "      <td>1.0</td>\n",
              "      <td>1.0</td>\n",
              "      <td>0.5</td>\n",
              "      <td>0.0</td>\n",
              "      <td>0.0</td>\n",
              "      <td>0.0</td>\n",
              "      <td>1.0</td>\n",
              "      <td>0.0</td>\n",
              "      <td>0.0</td>\n",
              "      <td>0.0</td>\n",
              "      <td>1.0</td>\n",
              "      <td>0.610364</td>\n",
              "      <td>0.249448</td>\n",
              "    </tr>\n",
              "  </tbody>\n",
              "</table>\n",
              "</div>\n",
              "      <button class=\"colab-df-convert\" onclick=\"convertToInteractive('df-901ea683-2407-4fae-bd99-185f2d90f7ec')\"\n",
              "              title=\"Convert this dataframe to an interactive table.\"\n",
              "              style=\"display:none;\">\n",
              "        \n",
              "  <svg xmlns=\"http://www.w3.org/2000/svg\" height=\"24px\"viewBox=\"0 0 24 24\"\n",
              "       width=\"24px\">\n",
              "    <path d=\"M0 0h24v24H0V0z\" fill=\"none\"/>\n",
              "    <path d=\"M18.56 5.44l.94 2.06.94-2.06 2.06-.94-2.06-.94-.94-2.06-.94 2.06-2.06.94zm-11 1L8.5 8.5l.94-2.06 2.06-.94-2.06-.94L8.5 2.5l-.94 2.06-2.06.94zm10 10l.94 2.06.94-2.06 2.06-.94-2.06-.94-.94-2.06-.94 2.06-2.06.94z\"/><path d=\"M17.41 7.96l-1.37-1.37c-.4-.4-.92-.59-1.43-.59-.52 0-1.04.2-1.43.59L10.3 9.45l-7.72 7.72c-.78.78-.78 2.05 0 2.83L4 21.41c.39.39.9.59 1.41.59.51 0 1.02-.2 1.41-.59l7.78-7.78 2.81-2.81c.8-.78.8-2.07 0-2.86zM5.41 20L4 18.59l7.72-7.72 1.47 1.35L5.41 20z\"/>\n",
              "  </svg>\n",
              "      </button>\n",
              "      \n",
              "  <style>\n",
              "    .colab-df-container {\n",
              "      display:flex;\n",
              "      flex-wrap:wrap;\n",
              "      gap: 12px;\n",
              "    }\n",
              "\n",
              "    .colab-df-convert {\n",
              "      background-color: #E8F0FE;\n",
              "      border: none;\n",
              "      border-radius: 50%;\n",
              "      cursor: pointer;\n",
              "      display: none;\n",
              "      fill: #1967D2;\n",
              "      height: 32px;\n",
              "      padding: 0 0 0 0;\n",
              "      width: 32px;\n",
              "    }\n",
              "\n",
              "    .colab-df-convert:hover {\n",
              "      background-color: #E2EBFA;\n",
              "      box-shadow: 0px 1px 2px rgba(60, 64, 67, 0.3), 0px 1px 3px 1px rgba(60, 64, 67, 0.15);\n",
              "      fill: #174EA6;\n",
              "    }\n",
              "\n",
              "    [theme=dark] .colab-df-convert {\n",
              "      background-color: #3B4455;\n",
              "      fill: #D2E3FC;\n",
              "    }\n",
              "\n",
              "    [theme=dark] .colab-df-convert:hover {\n",
              "      background-color: #434B5C;\n",
              "      box-shadow: 0px 1px 3px 1px rgba(0, 0, 0, 0.15);\n",
              "      filter: drop-shadow(0px 1px 2px rgba(0, 0, 0, 0.3));\n",
              "      fill: #FFFFFF;\n",
              "    }\n",
              "  </style>\n",
              "\n",
              "      <script>\n",
              "        const buttonEl =\n",
              "          document.querySelector('#df-901ea683-2407-4fae-bd99-185f2d90f7ec button.colab-df-convert');\n",
              "        buttonEl.style.display =\n",
              "          google.colab.kernel.accessAllowed ? 'block' : 'none';\n",
              "\n",
              "        async function convertToInteractive(key) {\n",
              "          const element = document.querySelector('#df-901ea683-2407-4fae-bd99-185f2d90f7ec');\n",
              "          const dataTable =\n",
              "            await google.colab.kernel.invokeFunction('convertToInteractive',\n",
              "                                                     [key], {});\n",
              "          if (!dataTable) return;\n",
              "\n",
              "          const docLinkHtml = 'Like what you see? Visit the ' +\n",
              "            '<a target=\"_blank\" href=https://colab.research.google.com/notebooks/data_table.ipynb>data table notebook</a>'\n",
              "            + ' to learn more about interactive tables.';\n",
              "          element.innerHTML = '';\n",
              "          dataTable['output_type'] = 'display_data';\n",
              "          await google.colab.output.renderOutput(dataTable, element);\n",
              "          const docLink = document.createElement('div');\n",
              "          docLink.innerHTML = docLinkHtml;\n",
              "          element.appendChild(docLink);\n",
              "        }\n",
              "      </script>\n",
              "    </div>\n",
              "  </div>\n",
              "  "
            ]
          },
          "metadata": {},
          "execution_count": 68
        }
      ]
    },
    {
      "cell_type": "markdown",
      "source": [
        "We are going to look for 10 best feature for the model using SelectKBest."
      ],
      "metadata": {
        "id": "M0qmox1oQ1Km"
      }
    },
    {
      "cell_type": "code",
      "source": [
        "X_select = X_train_num_scaled\n",
        "y_select = y_train\n",
        "selector = SelectKBest(chi2, k=10)\n",
        "selector.fit(X_select, y_select)\n",
        "X_train_new = selector.transform(X_select)\n",
        "print(X_select.columns[selector.get_support(indices=True)])"
      ],
      "metadata": {
        "colab": {
          "base_uri": "https://localhost:8080/"
        },
        "id": "0SPM3YQ-Qyx9",
        "outputId": "87b0ee08-8519-4fa2-e37a-cc783f1ef20d"
      },
      "execution_count": null,
      "outputs": [
        {
          "output_type": "stream",
          "name": "stdout",
          "text": [
            "Index(['SeniorCitizen', 'Partner', 'Dependents', 'tenure', 'OnlineSecurity',\n",
            "       'TechSupport', 'Contract', 'PaperlessBilling', 'MonthlyCharges',\n",
            "       'TotalCharges'],\n",
            "      dtype='object')\n"
          ]
        }
      ]
    },
    {
      "cell_type": "code",
      "source": [
        "print"
      ],
      "metadata": {
        "colab": {
          "base_uri": "https://localhost:8080/"
        },
        "id": "xlsVpGOvoYoc",
        "outputId": "43b5c4e1-aa29-43dd-a7ad-fac90c6e11ce"
      },
      "execution_count": null,
      "outputs": [
        {
          "output_type": "execute_result",
          "data": {
            "text/plain": [
              "<function print>"
            ]
          },
          "metadata": {},
          "execution_count": 70
        }
      ]
    },
    {
      "cell_type": "markdown",
      "source": [
        "So, features that is going to be used on this case based on SelectKBest are ['OnlineSecurity', 'OnlineBackup', 'DeviceProtection', 'TechSupport', 'StreamingTV', 'StreamingMovies', 'Contract', 'PaperlessBilling', 'MonthlyCharges', 'TotalCharges']."
      ],
      "metadata": {
        "id": "UH7xr6QtFhny"
      }
    },
    {
      "cell_type": "markdown",
      "source": [
        "Next, we set the feature for X_train, X_test, and X_val."
      ],
      "metadata": {
        "id": "VCEIZHf-GOFr"
      }
    },
    {
      "cell_type": "code",
      "source": [
        "X_train = X_train[['OnlineSecurity', 'OnlineBackup', 'DeviceProtection', 'TechSupport',\n",
        "       'StreamingTV', 'StreamingMovies', 'Contract', 'PaperlessBilling', 'MonthlyCharges', 'TotalCharges']]\n",
        "X_test = X_test[['OnlineSecurity', 'OnlineBackup', 'DeviceProtection', 'TechSupport',\n",
        "       'StreamingTV', 'StreamingMovies', 'Contract', 'PaperlessBilling', 'MonthlyCharges', 'TotalCharges']]\n",
        "X_val = X_val[['OnlineSecurity', 'OnlineBackup', 'DeviceProtection', 'TechSupport',\n",
        "       'StreamingTV', 'StreamingMovies', 'Contract', 'PaperlessBilling', 'MonthlyCharges', 'TotalCharges']]"
      ],
      "metadata": {
        "id": "8OuAW-OcFwov"
      },
      "execution_count": null,
      "outputs": []
    },
    {
      "cell_type": "markdown",
      "source": [
        "---\n",
        "## Splitting Numerical and Categorical Columns"
      ],
      "metadata": {
        "id": "UCckpEreKzph"
      }
    },
    {
      "cell_type": "code",
      "source": [
        "num_columns = X_train.select_dtypes(include=np.number).columns.tolist()\n",
        "cat_columns = X_train.select_dtypes(include=['object']).columns.tolist()\n",
        "\n",
        "print('Numerical Columns: ', num_columns)\n",
        "print('Categorical Columns: ', cat_columns)"
      ],
      "metadata": {
        "colab": {
          "base_uri": "https://localhost:8080/"
        },
        "id": "kEZntqSwK5hi",
        "outputId": "f1c1ce8e-f510-44cf-868a-91aac693bdd2"
      },
      "execution_count": null,
      "outputs": [
        {
          "output_type": "stream",
          "name": "stdout",
          "text": [
            "Numerical Columns:  ['MonthlyCharges', 'TotalCharges']\n",
            "Categorical Columns:  ['OnlineSecurity', 'OnlineBackup', 'DeviceProtection', 'TechSupport', 'StreamingTV', 'StreamingMovies', 'Contract', 'PaperlessBilling']\n"
          ]
        }
      ]
    },
    {
      "cell_type": "code",
      "source": [
        "X_train_num = X_train[num_columns]\n",
        "X_train_cat = X_train[cat_columns]\n",
        "\n",
        "X_test_num = X_test[num_columns]\n",
        "X_test_cat = X_test[cat_columns]\n",
        "\n",
        "X_val_num = X_val[num_columns]\n",
        "X_val_cat = X_val[cat_columns]"
      ],
      "metadata": {
        "id": "lCfuU7usK-xO"
      },
      "execution_count": null,
      "outputs": []
    },
    {
      "cell_type": "markdown",
      "source": [
        "---\n",
        "### Feature Scaling"
      ],
      "metadata": {
        "id": "p6vbjyVMLCm3"
      }
    },
    {
      "cell_type": "markdown",
      "source": [
        "To determine the scaling method, we check the skewness level."
      ],
      "metadata": {
        "id": "NtqqWUF0gWit"
      }
    },
    {
      "cell_type": "code",
      "source": [
        "X_train[num_columns].skew()"
      ],
      "metadata": {
        "colab": {
          "base_uri": "https://localhost:8080/"
        },
        "id": "BHpEURNfgbRN",
        "outputId": "3725bf46-10d3-4230-ccb2-4decb4469a76"
      },
      "execution_count": null,
      "outputs": [
        {
          "output_type": "execute_result",
          "data": {
            "text/plain": [
              "MonthlyCharges   -0.207737\n",
              "TotalCharges      0.989848\n",
              "dtype: float64"
            ]
          },
          "metadata": {},
          "execution_count": 74
        }
      ]
    },
    {
      "cell_type": "markdown",
      "source": [
        "Because there is column that skewed, we will use MinMaxScaler."
      ],
      "metadata": {
        "id": "1UUG0Jm_hlb7"
      }
    },
    {
      "cell_type": "code",
      "source": [
        "scaler =  MinMaxScaler()\n",
        "scaler.fit(X_train_num)\n",
        "\n",
        "X_train_num_scaled = scaler.transform(X_train_num)\n",
        "X_test_num_scaled = scaler.transform(X_test_num)\n",
        "X_val_num_scaled = scaler.transform(X_val_num)\n",
        "\n",
        "X_train_num_scaled"
      ],
      "metadata": {
        "colab": {
          "base_uri": "https://localhost:8080/"
        },
        "id": "NPjf9sd6hp3P",
        "outputId": "433cdded-96de-42fa-8351-7cd05a42df3b"
      },
      "execution_count": null,
      "outputs": [
        {
          "output_type": "execute_result",
          "data": {
            "text/plain": [
              "array([[0.66018934, 0.44863518],\n",
              "       [0.01145989, 0.11295934],\n",
              "       [0.37967115, 0.15720723],\n",
              "       ...,\n",
              "       [0.61285501, 0.50996717],\n",
              "       [0.0692576 , 0.04258621],\n",
              "       [0.64823119, 0.2108309 ]])"
            ]
          },
          "metadata": {},
          "execution_count": 75
        }
      ]
    },
    {
      "cell_type": "markdown",
      "source": [
        "Next we do feature encoding."
      ],
      "metadata": {
        "id": "tnRnKiUuhtQM"
      }
    },
    {
      "cell_type": "markdown",
      "source": [
        "---\n",
        "### Feature Encoding"
      ],
      "metadata": {
        "id": "ezUVhNyXhvp_"
      }
    },
    {
      "cell_type": "markdown",
      "source": [
        "We will use OrdinalEncoder for feature encoding."
      ],
      "metadata": {
        "id": "d83leH_ghxuE"
      }
    },
    {
      "cell_type": "code",
      "source": [
        "encoder = OrdinalEncoder()\n",
        "encoder.fit(X_train_cat)\n",
        "\n",
        "X_train_cat_enc = encoder.transform(X_train_cat)\n",
        "X_test_cat_enc = encoder.transform(X_test_cat)\n",
        "X_val_cat_enc = encoder.transform(X_val_cat)\n",
        "\n",
        "X_train_cat_enc"
      ],
      "metadata": {
        "colab": {
          "base_uri": "https://localhost:8080/"
        },
        "id": "04QQl5kthvRa",
        "outputId": "3825eb91-62cc-4a79-cdd4-e962153502ec"
      },
      "execution_count": null,
      "outputs": [
        {
          "output_type": "execute_result",
          "data": {
            "text/plain": [
              "array([[0., 0., 0., ..., 1., 0., 1.],\n",
              "       [0., 0., 0., ..., 0., 1., 0.],\n",
              "       [1., 0., 0., ..., 0., 0., 0.],\n",
              "       ...,\n",
              "       [0., 1., 1., ..., 1., 2., 1.],\n",
              "       [0., 0., 0., ..., 0., 2., 0.],\n",
              "       [0., 1., 0., ..., 1., 0., 0.]])"
            ]
          },
          "metadata": {},
          "execution_count": 76
        }
      ]
    },
    {
      "cell_type": "markdown",
      "source": [
        "---\n",
        "### Concat Numerical and Categorical Columns"
      ],
      "metadata": {
        "id": "N1eHq5mljwS9"
      }
    },
    {
      "cell_type": "code",
      "source": [
        "X_train_final = np.concatenate([X_train_num_scaled, X_train_cat_enc], axis=1)\n",
        "X_test_final = np.concatenate([X_test_num_scaled, X_test_cat_enc], axis=1)\n",
        "X_val_final = np.concatenate([X_val_num_scaled, X_val_cat_enc], axis=1)\n",
        "\n",
        "X_train_final"
      ],
      "metadata": {
        "colab": {
          "base_uri": "https://localhost:8080/"
        },
        "id": "fMeiw7vcj1qK",
        "outputId": "cf3b6bd9-e535-4be2-d57f-e2df293626c8"
      },
      "execution_count": null,
      "outputs": [
        {
          "output_type": "execute_result",
          "data": {
            "text/plain": [
              "array([[0.66018934, 0.44863518, 0.        , ..., 1.        , 0.        ,\n",
              "        1.        ],\n",
              "       [0.01145989, 0.11295934, 0.        , ..., 0.        , 1.        ,\n",
              "        0.        ],\n",
              "       [0.37967115, 0.15720723, 1.        , ..., 0.        , 0.        ,\n",
              "        0.        ],\n",
              "       ...,\n",
              "       [0.61285501, 0.50996717, 0.        , ..., 1.        , 2.        ,\n",
              "        1.        ],\n",
              "       [0.0692576 , 0.04258621, 0.        , ..., 0.        , 2.        ,\n",
              "        0.        ],\n",
              "       [0.64823119, 0.2108309 , 0.        , ..., 1.        , 0.        ,\n",
              "        0.        ]])"
            ]
          },
          "metadata": {},
          "execution_count": 77
        }
      ]
    },
    {
      "cell_type": "code",
      "source": [
        "X_train_final_df = pd.DataFrame(X_train_final, columns=[num_columns + cat_columns])\n",
        "X_train_final_df"
      ],
      "metadata": {
        "colab": {
          "base_uri": "https://localhost:8080/",
          "height": 488
        },
        "id": "rglHssvsj5H8",
        "outputId": "cfef2f96-88ea-464e-ee73-46f2eb719728"
      },
      "execution_count": null,
      "outputs": [
        {
          "output_type": "execute_result",
          "data": {
            "text/plain": [
              "     MonthlyCharges TotalCharges OnlineSecurity OnlineBackup DeviceProtection  \\\n",
              "0          0.660189     0.448635            0.0          0.0              0.0   \n",
              "1          0.011460     0.112959            0.0          0.0              0.0   \n",
              "2          0.379671     0.157207            1.0          0.0              0.0   \n",
              "3          0.172397     0.148893            0.0          0.0              1.0   \n",
              "4          0.610364     0.249448            0.0          0.0              0.0   \n",
              "...             ...          ...            ...          ...              ...   \n",
              "5058       0.553064     0.108217            1.0          0.0              0.0   \n",
              "5059       0.712008     0.494539            0.0          0.0              1.0   \n",
              "5060       0.612855     0.509967            0.0          1.0              1.0   \n",
              "5061       0.069258     0.042586            0.0          0.0              0.0   \n",
              "5062       0.648231     0.210831            0.0          1.0              0.0   \n",
              "\n",
              "     TechSupport StreamingTV StreamingMovies Contract PaperlessBilling  \n",
              "0            0.0         0.0             1.0      0.0              1.0  \n",
              "1            0.0         0.0             0.0      1.0              0.0  \n",
              "2            1.0         0.0             0.0      0.0              0.0  \n",
              "3            1.0         0.0             0.0      1.0              0.0  \n",
              "4            1.0         0.0             0.0      0.0              1.0  \n",
              "...          ...         ...             ...      ...              ...  \n",
              "5058         0.0         0.0             0.0      0.0              1.0  \n",
              "5059         1.0         0.0             1.0      2.0              1.0  \n",
              "5060         0.0         1.0             1.0      2.0              1.0  \n",
              "5061         0.0         0.0             0.0      2.0              0.0  \n",
              "5062         0.0         0.0             1.0      0.0              0.0  \n",
              "\n",
              "[5063 rows x 10 columns]"
            ],
            "text/html": [
              "\n",
              "  <div id=\"df-4a135c1c-5cae-4d49-b6b9-83007819152a\">\n",
              "    <div class=\"colab-df-container\">\n",
              "      <div>\n",
              "<style scoped>\n",
              "    .dataframe tbody tr th:only-of-type {\n",
              "        vertical-align: middle;\n",
              "    }\n",
              "\n",
              "    .dataframe tbody tr th {\n",
              "        vertical-align: top;\n",
              "    }\n",
              "\n",
              "    .dataframe thead tr th {\n",
              "        text-align: left;\n",
              "    }\n",
              "</style>\n",
              "<table border=\"1\" class=\"dataframe\">\n",
              "  <thead>\n",
              "    <tr>\n",
              "      <th></th>\n",
              "      <th>MonthlyCharges</th>\n",
              "      <th>TotalCharges</th>\n",
              "      <th>OnlineSecurity</th>\n",
              "      <th>OnlineBackup</th>\n",
              "      <th>DeviceProtection</th>\n",
              "      <th>TechSupport</th>\n",
              "      <th>StreamingTV</th>\n",
              "      <th>StreamingMovies</th>\n",
              "      <th>Contract</th>\n",
              "      <th>PaperlessBilling</th>\n",
              "    </tr>\n",
              "  </thead>\n",
              "  <tbody>\n",
              "    <tr>\n",
              "      <th>0</th>\n",
              "      <td>0.660189</td>\n",
              "      <td>0.448635</td>\n",
              "      <td>0.0</td>\n",
              "      <td>0.0</td>\n",
              "      <td>0.0</td>\n",
              "      <td>0.0</td>\n",
              "      <td>0.0</td>\n",
              "      <td>1.0</td>\n",
              "      <td>0.0</td>\n",
              "      <td>1.0</td>\n",
              "    </tr>\n",
              "    <tr>\n",
              "      <th>1</th>\n",
              "      <td>0.011460</td>\n",
              "      <td>0.112959</td>\n",
              "      <td>0.0</td>\n",
              "      <td>0.0</td>\n",
              "      <td>0.0</td>\n",
              "      <td>0.0</td>\n",
              "      <td>0.0</td>\n",
              "      <td>0.0</td>\n",
              "      <td>1.0</td>\n",
              "      <td>0.0</td>\n",
              "    </tr>\n",
              "    <tr>\n",
              "      <th>2</th>\n",
              "      <td>0.379671</td>\n",
              "      <td>0.157207</td>\n",
              "      <td>1.0</td>\n",
              "      <td>0.0</td>\n",
              "      <td>0.0</td>\n",
              "      <td>1.0</td>\n",
              "      <td>0.0</td>\n",
              "      <td>0.0</td>\n",
              "      <td>0.0</td>\n",
              "      <td>0.0</td>\n",
              "    </tr>\n",
              "    <tr>\n",
              "      <th>3</th>\n",
              "      <td>0.172397</td>\n",
              "      <td>0.148893</td>\n",
              "      <td>0.0</td>\n",
              "      <td>0.0</td>\n",
              "      <td>1.0</td>\n",
              "      <td>1.0</td>\n",
              "      <td>0.0</td>\n",
              "      <td>0.0</td>\n",
              "      <td>1.0</td>\n",
              "      <td>0.0</td>\n",
              "    </tr>\n",
              "    <tr>\n",
              "      <th>4</th>\n",
              "      <td>0.610364</td>\n",
              "      <td>0.249448</td>\n",
              "      <td>0.0</td>\n",
              "      <td>0.0</td>\n",
              "      <td>0.0</td>\n",
              "      <td>1.0</td>\n",
              "      <td>0.0</td>\n",
              "      <td>0.0</td>\n",
              "      <td>0.0</td>\n",
              "      <td>1.0</td>\n",
              "    </tr>\n",
              "    <tr>\n",
              "      <th>...</th>\n",
              "      <td>...</td>\n",
              "      <td>...</td>\n",
              "      <td>...</td>\n",
              "      <td>...</td>\n",
              "      <td>...</td>\n",
              "      <td>...</td>\n",
              "      <td>...</td>\n",
              "      <td>...</td>\n",
              "      <td>...</td>\n",
              "      <td>...</td>\n",
              "    </tr>\n",
              "    <tr>\n",
              "      <th>5058</th>\n",
              "      <td>0.553064</td>\n",
              "      <td>0.108217</td>\n",
              "      <td>1.0</td>\n",
              "      <td>0.0</td>\n",
              "      <td>0.0</td>\n",
              "      <td>0.0</td>\n",
              "      <td>0.0</td>\n",
              "      <td>0.0</td>\n",
              "      <td>0.0</td>\n",
              "      <td>1.0</td>\n",
              "    </tr>\n",
              "    <tr>\n",
              "      <th>5059</th>\n",
              "      <td>0.712008</td>\n",
              "      <td>0.494539</td>\n",
              "      <td>0.0</td>\n",
              "      <td>0.0</td>\n",
              "      <td>1.0</td>\n",
              "      <td>1.0</td>\n",
              "      <td>0.0</td>\n",
              "      <td>1.0</td>\n",
              "      <td>2.0</td>\n",
              "      <td>1.0</td>\n",
              "    </tr>\n",
              "    <tr>\n",
              "      <th>5060</th>\n",
              "      <td>0.612855</td>\n",
              "      <td>0.509967</td>\n",
              "      <td>0.0</td>\n",
              "      <td>1.0</td>\n",
              "      <td>1.0</td>\n",
              "      <td>0.0</td>\n",
              "      <td>1.0</td>\n",
              "      <td>1.0</td>\n",
              "      <td>2.0</td>\n",
              "      <td>1.0</td>\n",
              "    </tr>\n",
              "    <tr>\n",
              "      <th>5061</th>\n",
              "      <td>0.069258</td>\n",
              "      <td>0.042586</td>\n",
              "      <td>0.0</td>\n",
              "      <td>0.0</td>\n",
              "      <td>0.0</td>\n",
              "      <td>0.0</td>\n",
              "      <td>0.0</td>\n",
              "      <td>0.0</td>\n",
              "      <td>2.0</td>\n",
              "      <td>0.0</td>\n",
              "    </tr>\n",
              "    <tr>\n",
              "      <th>5062</th>\n",
              "      <td>0.648231</td>\n",
              "      <td>0.210831</td>\n",
              "      <td>0.0</td>\n",
              "      <td>1.0</td>\n",
              "      <td>0.0</td>\n",
              "      <td>0.0</td>\n",
              "      <td>0.0</td>\n",
              "      <td>1.0</td>\n",
              "      <td>0.0</td>\n",
              "      <td>0.0</td>\n",
              "    </tr>\n",
              "  </tbody>\n",
              "</table>\n",
              "<p>5063 rows × 10 columns</p>\n",
              "</div>\n",
              "      <button class=\"colab-df-convert\" onclick=\"convertToInteractive('df-4a135c1c-5cae-4d49-b6b9-83007819152a')\"\n",
              "              title=\"Convert this dataframe to an interactive table.\"\n",
              "              style=\"display:none;\">\n",
              "        \n",
              "  <svg xmlns=\"http://www.w3.org/2000/svg\" height=\"24px\"viewBox=\"0 0 24 24\"\n",
              "       width=\"24px\">\n",
              "    <path d=\"M0 0h24v24H0V0z\" fill=\"none\"/>\n",
              "    <path d=\"M18.56 5.44l.94 2.06.94-2.06 2.06-.94-2.06-.94-.94-2.06-.94 2.06-2.06.94zm-11 1L8.5 8.5l.94-2.06 2.06-.94-2.06-.94L8.5 2.5l-.94 2.06-2.06.94zm10 10l.94 2.06.94-2.06 2.06-.94-2.06-.94-.94-2.06-.94 2.06-2.06.94z\"/><path d=\"M17.41 7.96l-1.37-1.37c-.4-.4-.92-.59-1.43-.59-.52 0-1.04.2-1.43.59L10.3 9.45l-7.72 7.72c-.78.78-.78 2.05 0 2.83L4 21.41c.39.39.9.59 1.41.59.51 0 1.02-.2 1.41-.59l7.78-7.78 2.81-2.81c.8-.78.8-2.07 0-2.86zM5.41 20L4 18.59l7.72-7.72 1.47 1.35L5.41 20z\"/>\n",
              "  </svg>\n",
              "      </button>\n",
              "      \n",
              "  <style>\n",
              "    .colab-df-container {\n",
              "      display:flex;\n",
              "      flex-wrap:wrap;\n",
              "      gap: 12px;\n",
              "    }\n",
              "\n",
              "    .colab-df-convert {\n",
              "      background-color: #E8F0FE;\n",
              "      border: none;\n",
              "      border-radius: 50%;\n",
              "      cursor: pointer;\n",
              "      display: none;\n",
              "      fill: #1967D2;\n",
              "      height: 32px;\n",
              "      padding: 0 0 0 0;\n",
              "      width: 32px;\n",
              "    }\n",
              "\n",
              "    .colab-df-convert:hover {\n",
              "      background-color: #E2EBFA;\n",
              "      box-shadow: 0px 1px 2px rgba(60, 64, 67, 0.3), 0px 1px 3px 1px rgba(60, 64, 67, 0.15);\n",
              "      fill: #174EA6;\n",
              "    }\n",
              "\n",
              "    [theme=dark] .colab-df-convert {\n",
              "      background-color: #3B4455;\n",
              "      fill: #D2E3FC;\n",
              "    }\n",
              "\n",
              "    [theme=dark] .colab-df-convert:hover {\n",
              "      background-color: #434B5C;\n",
              "      box-shadow: 0px 1px 3px 1px rgba(0, 0, 0, 0.15);\n",
              "      filter: drop-shadow(0px 1px 2px rgba(0, 0, 0, 0.3));\n",
              "      fill: #FFFFFF;\n",
              "    }\n",
              "  </style>\n",
              "\n",
              "      <script>\n",
              "        const buttonEl =\n",
              "          document.querySelector('#df-4a135c1c-5cae-4d49-b6b9-83007819152a button.colab-df-convert');\n",
              "        buttonEl.style.display =\n",
              "          google.colab.kernel.accessAllowed ? 'block' : 'none';\n",
              "\n",
              "        async function convertToInteractive(key) {\n",
              "          const element = document.querySelector('#df-4a135c1c-5cae-4d49-b6b9-83007819152a');\n",
              "          const dataTable =\n",
              "            await google.colab.kernel.invokeFunction('convertToInteractive',\n",
              "                                                     [key], {});\n",
              "          if (!dataTable) return;\n",
              "\n",
              "          const docLinkHtml = 'Like what you see? Visit the ' +\n",
              "            '<a target=\"_blank\" href=https://colab.research.google.com/notebooks/data_table.ipynb>data table notebook</a>'\n",
              "            + ' to learn more about interactive tables.';\n",
              "          element.innerHTML = '';\n",
              "          dataTable['output_type'] = 'display_data';\n",
              "          await google.colab.output.renderOutput(dataTable, element);\n",
              "          const docLink = document.createElement('div');\n",
              "          docLink.innerHTML = docLinkHtml;\n",
              "          element.appendChild(docLink);\n",
              "        }\n",
              "      </script>\n",
              "    </div>\n",
              "  </div>\n",
              "  "
            ]
          },
          "metadata": {},
          "execution_count": 78
        }
      ]
    },
    {
      "cell_type": "code",
      "source": [
        "X_train_final.shape"
      ],
      "metadata": {
        "colab": {
          "base_uri": "https://localhost:8080/"
        },
        "id": "uAjeCbmGk_Sz",
        "outputId": "7d294bbb-94d8-4eb5-afb2-34f05fdaeeed"
      },
      "execution_count": null,
      "outputs": [
        {
          "output_type": "execute_result",
          "data": {
            "text/plain": [
              "(5063, 10)"
            ]
          },
          "metadata": {},
          "execution_count": 79
        }
      ]
    },
    {
      "cell_type": "code",
      "source": [
        "X_test_final.shape"
      ],
      "metadata": {
        "colab": {
          "base_uri": "https://localhost:8080/"
        },
        "id": "Y8eli4J4lB6d",
        "outputId": "33d49c98-53ba-4d47-c2bb-d9418a6dd04a"
      },
      "execution_count": null,
      "outputs": [
        {
          "output_type": "execute_result",
          "data": {
            "text/plain": [
              "(1407, 10)"
            ]
          },
          "metadata": {},
          "execution_count": 80
        }
      ]
    },
    {
      "cell_type": "code",
      "source": [
        "X_val_final.shape"
      ],
      "metadata": {
        "colab": {
          "base_uri": "https://localhost:8080/"
        },
        "id": "-zmJXIXulFEl",
        "outputId": "c73e1d16-ff41-47ae-9078-2e1c556161b1"
      },
      "execution_count": null,
      "outputs": [
        {
          "output_type": "execute_result",
          "data": {
            "text/plain": [
              "(563, 10)"
            ]
          },
          "metadata": {},
          "execution_count": 81
        }
      ]
    },
    {
      "cell_type": "markdown",
      "source": [
        "# 6 - Model Definition"
      ],
      "metadata": {
        "id": "jtZ3Oi5VlSJz"
      }
    },
    {
      "cell_type": "markdown",
      "source": [
        "Bagian ini berisi cell untuk mendefinisikan model. Jelaskan alasan menggunakan suatu algoritma/model, hyperparameter yang dipakai, jenis penggunaan metrics yang dipakai, dan hal lain yang terkait dengan model."
      ],
      "metadata": {
        "id": "DLsKX2OslWsU"
      }
    },
    {
      "cell_type": "markdown",
      "source": [
        "## Making Pipeline"
      ],
      "metadata": {
        "id": "M-bJohuGl5Qe"
      }
    },
    {
      "cell_type": "markdown",
      "source": [
        "---\n",
        "### Pipeline for Train Dataset"
      ],
      "metadata": {
        "id": "8Xn4wgYfF97G"
      }
    },
    {
      "cell_type": "code",
      "source": [
        "train_dataset = tf.data.Dataset.from_tensor_slices((X_train_final, y_train))\n",
        "train_dataset = train_dataset.batch(100)"
      ],
      "metadata": {
        "id": "DW7eA_fDGC_K"
      },
      "execution_count": null,
      "outputs": []
    },
    {
      "cell_type": "markdown",
      "source": [
        "---\n",
        "### Pipeline for Validation Dataset"
      ],
      "metadata": {
        "id": "81OYQb8NGVQ-"
      }
    },
    {
      "cell_type": "code",
      "source": [
        "val_dataset = tf.data.Dataset.from_tensor_slices((X_val_final, y_val))\n",
        "val_dataset = val_dataset.batch(100)"
      ],
      "metadata": {
        "id": "fPyAmT8yGYPb"
      },
      "execution_count": null,
      "outputs": []
    },
    {
      "cell_type": "markdown",
      "source": [
        "---\n",
        "### Pipeline for Test Dataset"
      ],
      "metadata": {
        "id": "1hwAn-t4GeSe"
      }
    },
    {
      "cell_type": "code",
      "source": [
        "test_dataset = tf.data.Dataset.from_tensor_slices((X_test_final, y_test))\n",
        "test_dataset = test_dataset.batch(100)\n"
      ],
      "metadata": {
        "id": "0YqG8skkGgqN"
      },
      "execution_count": null,
      "outputs": []
    },
    {
      "cell_type": "markdown",
      "source": [
        "---\n",
        "## Making Model"
      ],
      "metadata": {
        "id": "pr7FH_MVGsJ8"
      }
    },
    {
      "cell_type": "markdown",
      "source": [
        "---\n",
        "### Sequential API"
      ],
      "metadata": {
        "id": "VkZW8sT6Gu8n"
      }
    },
    {
      "cell_type": "code",
      "source": [
        "model_sq =  Sequential()\n",
        "model_sq.add(Dense(5, activation='relu', input_shape=(10,)))\n",
        "model_sq.add(Dropout(0.5))\n",
        "model_sq.add(Dense(1, activation='sigmoid'))\n",
        "\n",
        "model_sq.compile(loss='binary_crossentropy',\n",
        "              optimizer='adam',\n",
        "              metrics=['accuracy'])"
      ],
      "metadata": {
        "id": "NFTXQtf_GuVp"
      },
      "execution_count": null,
      "outputs": []
    },
    {
      "cell_type": "code",
      "source": [
        "# Model Sequential API Summary\n",
        "print(model_sq.summary())"
      ],
      "metadata": {
        "colab": {
          "base_uri": "https://localhost:8080/"
        },
        "id": "Ja03XLGBIcTb",
        "outputId": "ecb0215b-7dbb-4f96-81ef-8a4d53378306"
      },
      "execution_count": null,
      "outputs": [
        {
          "output_type": "stream",
          "name": "stdout",
          "text": [
            "Model: \"sequential\"\n",
            "_________________________________________________________________\n",
            " Layer (type)                Output Shape              Param #   \n",
            "=================================================================\n",
            " dense (Dense)               (None, 5)                 55        \n",
            "                                                                 \n",
            " dropout (Dropout)           (None, 5)                 0         \n",
            "                                                                 \n",
            " dense_1 (Dense)             (None, 1)                 6         \n",
            "                                                                 \n",
            "=================================================================\n",
            "Total params: 61\n",
            "Trainable params: 61\n",
            "Non-trainable params: 0\n",
            "_________________________________________________________________\n",
            "None\n"
          ]
        }
      ]
    },
    {
      "cell_type": "markdown",
      "source": [
        "---\n",
        "### Functional API"
      ],
      "metadata": {
        "id": "C_wYZ69zHKP2"
      }
    },
    {
      "cell_type": "code",
      "source": [
        "data_input = Input(shape=(10,))\n",
        "hidden = Dense(5, activation='relu')(data_input)\n",
        "drop = Dropout(0.50)(hidden)\n",
        "output = Dense(1, activation='sigmoid')(hidden)\n",
        "\n",
        "model_fc = Model(inputs=data_input, outputs=output)\n",
        "\n",
        "model_fc.compile(loss='binary_crossentropy',\n",
        "              optimizer='adam',\n",
        "              metrics=['accuracy'])"
      ],
      "metadata": {
        "id": "REWQ8w8FHolL"
      },
      "execution_count": null,
      "outputs": []
    },
    {
      "cell_type": "code",
      "source": [
        "# Model Functional API Summary\n",
        "print(model_fc.summary())"
      ],
      "metadata": {
        "colab": {
          "base_uri": "https://localhost:8080/"
        },
        "id": "iR7oHgXJIrPm",
        "outputId": "c2fa6d51-12a3-4a1d-aa4d-7c384694f254"
      },
      "execution_count": null,
      "outputs": [
        {
          "output_type": "stream",
          "name": "stdout",
          "text": [
            "Model: \"model\"\n",
            "_________________________________________________________________\n",
            " Layer (type)                Output Shape              Param #   \n",
            "=================================================================\n",
            " input_1 (InputLayer)        [(None, 10)]              0         \n",
            "                                                                 \n",
            " dense_2 (Dense)             (None, 5)                 55        \n",
            "                                                                 \n",
            " dense_3 (Dense)             (None, 1)                 6         \n",
            "                                                                 \n",
            "=================================================================\n",
            "Total params: 61\n",
            "Trainable params: 61\n",
            "Non-trainable params: 0\n",
            "_________________________________________________________________\n",
            "None\n"
          ]
        }
      ]
    },
    {
      "cell_type": "markdown",
      "source": [
        "# 7 - Model Training"
      ],
      "metadata": {
        "id": "cpSogI70JBnV"
      }
    },
    {
      "cell_type": "markdown",
      "source": [
        "Cell pada bagian ini hanya berisi code untuk melatih model dan output yang dihasilkan. Lakukan beberapa kali proses training dengan hyperparameter yang berbeda untuk melihat hasil yang didapatkan. Analisis dan narasikan hasil ini pada bagian Model Evaluation."
      ],
      "metadata": {
        "id": "1S2oW4YkJEyG"
      }
    },
    {
      "cell_type": "markdown",
      "source": [
        "---\n",
        "## Sequential API"
      ],
      "metadata": {
        "id": "msKD3PKLJLUu"
      }
    },
    {
      "cell_type": "code",
      "source": [
        "history_sq = model_sq.fit(train_dataset, epochs=100, validation_data=val_dataset)"
      ],
      "metadata": {
        "colab": {
          "base_uri": "https://localhost:8080/"
        },
        "id": "DYov7x-iJD8X",
        "outputId": "47cdbab0-cab7-46fd-c0a2-83c56c57832c"
      },
      "execution_count": null,
      "outputs": [
        {
          "output_type": "stream",
          "name": "stdout",
          "text": [
            "Epoch 1/100\n",
            "51/51 [==============================] - 5s 5ms/step - loss: 0.8606 - accuracy: 0.4237 - val_loss: 0.7904 - val_accuracy: 0.3144\n",
            "Epoch 2/100\n",
            "51/51 [==============================] - 0s 3ms/step - loss: 0.7651 - accuracy: 0.4649 - val_loss: 0.7318 - val_accuracy: 0.3197\n",
            "Epoch 3/100\n",
            "51/51 [==============================] - 0s 3ms/step - loss: 0.7212 - accuracy: 0.5023 - val_loss: 0.6995 - val_accuracy: 0.4618\n",
            "Epoch 4/100\n",
            "51/51 [==============================] - 0s 3ms/step - loss: 0.6918 - accuracy: 0.5663 - val_loss: 0.6772 - val_accuracy: 0.6874\n",
            "Epoch 5/100\n",
            "51/51 [==============================] - 0s 3ms/step - loss: 0.6706 - accuracy: 0.6530 - val_loss: 0.6609 - val_accuracy: 0.7194\n",
            "Epoch 6/100\n",
            "51/51 [==============================] - 0s 3ms/step - loss: 0.6574 - accuracy: 0.7146 - val_loss: 0.6486 - val_accuracy: 0.7176\n",
            "Epoch 7/100\n",
            "51/51 [==============================] - 0s 3ms/step - loss: 0.6459 - accuracy: 0.7243 - val_loss: 0.6386 - val_accuracy: 0.7211\n",
            "Epoch 8/100\n",
            "51/51 [==============================] - 0s 3ms/step - loss: 0.6349 - accuracy: 0.7272 - val_loss: 0.6293 - val_accuracy: 0.7300\n",
            "Epoch 9/100\n",
            "51/51 [==============================] - 0s 3ms/step - loss: 0.6255 - accuracy: 0.7332 - val_loss: 0.6206 - val_accuracy: 0.7300\n",
            "Epoch 10/100\n",
            "51/51 [==============================] - 0s 3ms/step - loss: 0.6156 - accuracy: 0.7316 - val_loss: 0.6061 - val_accuracy: 0.7318\n",
            "Epoch 11/100\n",
            "51/51 [==============================] - 0s 3ms/step - loss: 0.5940 - accuracy: 0.7322 - val_loss: 0.5648 - val_accuracy: 0.7318\n",
            "Epoch 12/100\n",
            "51/51 [==============================] - 0s 3ms/step - loss: 0.5690 - accuracy: 0.7320 - val_loss: 0.5380 - val_accuracy: 0.7353\n",
            "Epoch 13/100\n",
            "51/51 [==============================] - 0s 3ms/step - loss: 0.5518 - accuracy: 0.7403 - val_loss: 0.5231 - val_accuracy: 0.7336\n",
            "Epoch 14/100\n",
            "51/51 [==============================] - 0s 3ms/step - loss: 0.5412 - accuracy: 0.7500 - val_loss: 0.5124 - val_accuracy: 0.7336\n",
            "Epoch 15/100\n",
            "51/51 [==============================] - 0s 3ms/step - loss: 0.5315 - accuracy: 0.7541 - val_loss: 0.5043 - val_accuracy: 0.7353\n",
            "Epoch 16/100\n",
            "51/51 [==============================] - 0s 3ms/step - loss: 0.5284 - accuracy: 0.7527 - val_loss: 0.4981 - val_accuracy: 0.7353\n",
            "Epoch 17/100\n",
            "51/51 [==============================] - 0s 3ms/step - loss: 0.5259 - accuracy: 0.7519 - val_loss: 0.4938 - val_accuracy: 0.7353\n",
            "Epoch 18/100\n",
            "51/51 [==============================] - 0s 3ms/step - loss: 0.5178 - accuracy: 0.7577 - val_loss: 0.4887 - val_accuracy: 0.7371\n",
            "Epoch 19/100\n",
            "51/51 [==============================] - 0s 3ms/step - loss: 0.5166 - accuracy: 0.7543 - val_loss: 0.4849 - val_accuracy: 0.7389\n",
            "Epoch 20/100\n",
            "51/51 [==============================] - 0s 3ms/step - loss: 0.5133 - accuracy: 0.7529 - val_loss: 0.4813 - val_accuracy: 0.7389\n",
            "Epoch 21/100\n",
            "51/51 [==============================] - 0s 3ms/step - loss: 0.5122 - accuracy: 0.7551 - val_loss: 0.4793 - val_accuracy: 0.7389\n",
            "Epoch 22/100\n",
            "51/51 [==============================] - 0s 3ms/step - loss: 0.5154 - accuracy: 0.7517 - val_loss: 0.4786 - val_accuracy: 0.7389\n",
            "Epoch 23/100\n",
            "51/51 [==============================] - 0s 3ms/step - loss: 0.5042 - accuracy: 0.7584 - val_loss: 0.4749 - val_accuracy: 0.7407\n",
            "Epoch 24/100\n",
            "51/51 [==============================] - 0s 3ms/step - loss: 0.5014 - accuracy: 0.7630 - val_loss: 0.4731 - val_accuracy: 0.7460\n",
            "Epoch 25/100\n",
            "51/51 [==============================] - 0s 3ms/step - loss: 0.5020 - accuracy: 0.7594 - val_loss: 0.4710 - val_accuracy: 0.7513\n",
            "Epoch 26/100\n",
            "51/51 [==============================] - 0s 3ms/step - loss: 0.5003 - accuracy: 0.7626 - val_loss: 0.4701 - val_accuracy: 0.7531\n",
            "Epoch 27/100\n",
            "51/51 [==============================] - 0s 3ms/step - loss: 0.5003 - accuracy: 0.7612 - val_loss: 0.4698 - val_accuracy: 0.7460\n",
            "Epoch 28/100\n",
            "51/51 [==============================] - 0s 3ms/step - loss: 0.5000 - accuracy: 0.7618 - val_loss: 0.4688 - val_accuracy: 0.7460\n",
            "Epoch 29/100\n",
            "51/51 [==============================] - 0s 3ms/step - loss: 0.4915 - accuracy: 0.7598 - val_loss: 0.4657 - val_accuracy: 0.7478\n",
            "Epoch 30/100\n",
            "51/51 [==============================] - 0s 3ms/step - loss: 0.4895 - accuracy: 0.7616 - val_loss: 0.4641 - val_accuracy: 0.7496\n",
            "Epoch 31/100\n",
            "51/51 [==============================] - 0s 3ms/step - loss: 0.4895 - accuracy: 0.7630 - val_loss: 0.4637 - val_accuracy: 0.7549\n",
            "Epoch 32/100\n",
            "51/51 [==============================] - 0s 3ms/step - loss: 0.4892 - accuracy: 0.7646 - val_loss: 0.4628 - val_accuracy: 0.7655\n",
            "Epoch 33/100\n",
            "51/51 [==============================] - 0s 3ms/step - loss: 0.4897 - accuracy: 0.7565 - val_loss: 0.4621 - val_accuracy: 0.7567\n",
            "Epoch 34/100\n",
            "51/51 [==============================] - 0s 3ms/step - loss: 0.4883 - accuracy: 0.7602 - val_loss: 0.4608 - val_accuracy: 0.7602\n",
            "Epoch 35/100\n",
            "51/51 [==============================] - 0s 3ms/step - loss: 0.4851 - accuracy: 0.7626 - val_loss: 0.4595 - val_accuracy: 0.7815\n",
            "Epoch 36/100\n",
            "51/51 [==============================] - 0s 3ms/step - loss: 0.4832 - accuracy: 0.7624 - val_loss: 0.4588 - val_accuracy: 0.7798\n",
            "Epoch 37/100\n",
            "51/51 [==============================] - 0s 3ms/step - loss: 0.4859 - accuracy: 0.7588 - val_loss: 0.4586 - val_accuracy: 0.7798\n",
            "Epoch 38/100\n",
            "51/51 [==============================] - 0s 3ms/step - loss: 0.4862 - accuracy: 0.7622 - val_loss: 0.4581 - val_accuracy: 0.7798\n",
            "Epoch 39/100\n",
            "51/51 [==============================] - 0s 3ms/step - loss: 0.4858 - accuracy: 0.7616 - val_loss: 0.4569 - val_accuracy: 0.7798\n",
            "Epoch 40/100\n",
            "51/51 [==============================] - 0s 3ms/step - loss: 0.4844 - accuracy: 0.7620 - val_loss: 0.4565 - val_accuracy: 0.7798\n",
            "Epoch 41/100\n",
            "51/51 [==============================] - 0s 3ms/step - loss: 0.4797 - accuracy: 0.7618 - val_loss: 0.4560 - val_accuracy: 0.7815\n",
            "Epoch 42/100\n",
            "51/51 [==============================] - 0s 3ms/step - loss: 0.4817 - accuracy: 0.7638 - val_loss: 0.4554 - val_accuracy: 0.7798\n",
            "Epoch 43/100\n",
            "51/51 [==============================] - 0s 3ms/step - loss: 0.4865 - accuracy: 0.7624 - val_loss: 0.4554 - val_accuracy: 0.7815\n",
            "Epoch 44/100\n",
            "51/51 [==============================] - 0s 3ms/step - loss: 0.4807 - accuracy: 0.7584 - val_loss: 0.4551 - val_accuracy: 0.7798\n",
            "Epoch 45/100\n",
            "51/51 [==============================] - 0s 3ms/step - loss: 0.4825 - accuracy: 0.7644 - val_loss: 0.4541 - val_accuracy: 0.7833\n",
            "Epoch 46/100\n",
            "51/51 [==============================] - 0s 3ms/step - loss: 0.4815 - accuracy: 0.7638 - val_loss: 0.4538 - val_accuracy: 0.7833\n",
            "Epoch 47/100\n",
            "51/51 [==============================] - 0s 3ms/step - loss: 0.4799 - accuracy: 0.7612 - val_loss: 0.4535 - val_accuracy: 0.7851\n",
            "Epoch 48/100\n",
            "51/51 [==============================] - 0s 3ms/step - loss: 0.4776 - accuracy: 0.7652 - val_loss: 0.4534 - val_accuracy: 0.7869\n",
            "Epoch 49/100\n",
            "51/51 [==============================] - 0s 3ms/step - loss: 0.4790 - accuracy: 0.7590 - val_loss: 0.4528 - val_accuracy: 0.7833\n",
            "Epoch 50/100\n",
            "51/51 [==============================] - 0s 3ms/step - loss: 0.4816 - accuracy: 0.7604 - val_loss: 0.4521 - val_accuracy: 0.7886\n",
            "Epoch 51/100\n",
            "51/51 [==============================] - 0s 3ms/step - loss: 0.4777 - accuracy: 0.7673 - val_loss: 0.4520 - val_accuracy: 0.7851\n",
            "Epoch 52/100\n",
            "51/51 [==============================] - 0s 3ms/step - loss: 0.4723 - accuracy: 0.7683 - val_loss: 0.4515 - val_accuracy: 0.7869\n",
            "Epoch 53/100\n",
            "51/51 [==============================] - 0s 3ms/step - loss: 0.4749 - accuracy: 0.7701 - val_loss: 0.4505 - val_accuracy: 0.7886\n",
            "Epoch 54/100\n",
            "51/51 [==============================] - 0s 3ms/step - loss: 0.4821 - accuracy: 0.7650 - val_loss: 0.4505 - val_accuracy: 0.7869\n",
            "Epoch 55/100\n",
            "51/51 [==============================] - 0s 3ms/step - loss: 0.4789 - accuracy: 0.7669 - val_loss: 0.4506 - val_accuracy: 0.7886\n",
            "Epoch 56/100\n",
            "51/51 [==============================] - 0s 3ms/step - loss: 0.4708 - accuracy: 0.7673 - val_loss: 0.4499 - val_accuracy: 0.7851\n",
            "Epoch 57/100\n",
            "51/51 [==============================] - 0s 3ms/step - loss: 0.4756 - accuracy: 0.7671 - val_loss: 0.4499 - val_accuracy: 0.7886\n",
            "Epoch 58/100\n",
            "51/51 [==============================] - 0s 3ms/step - loss: 0.4747 - accuracy: 0.7713 - val_loss: 0.4497 - val_accuracy: 0.7904\n",
            "Epoch 59/100\n",
            "51/51 [==============================] - 0s 3ms/step - loss: 0.4740 - accuracy: 0.7687 - val_loss: 0.4494 - val_accuracy: 0.7922\n",
            "Epoch 60/100\n",
            "51/51 [==============================] - 0s 3ms/step - loss: 0.4731 - accuracy: 0.7738 - val_loss: 0.4488 - val_accuracy: 0.7922\n",
            "Epoch 61/100\n",
            "51/51 [==============================] - 0s 3ms/step - loss: 0.4746 - accuracy: 0.7723 - val_loss: 0.4485 - val_accuracy: 0.7886\n",
            "Epoch 62/100\n",
            "51/51 [==============================] - 0s 3ms/step - loss: 0.4795 - accuracy: 0.7731 - val_loss: 0.4493 - val_accuracy: 0.7904\n",
            "Epoch 63/100\n",
            "51/51 [==============================] - 0s 3ms/step - loss: 0.4726 - accuracy: 0.7697 - val_loss: 0.4492 - val_accuracy: 0.7886\n",
            "Epoch 64/100\n",
            "51/51 [==============================] - 0s 3ms/step - loss: 0.4774 - accuracy: 0.7760 - val_loss: 0.4485 - val_accuracy: 0.7904\n",
            "Epoch 65/100\n",
            "51/51 [==============================] - 0s 3ms/step - loss: 0.4751 - accuracy: 0.7735 - val_loss: 0.4491 - val_accuracy: 0.7922\n",
            "Epoch 66/100\n",
            "51/51 [==============================] - 0s 3ms/step - loss: 0.4754 - accuracy: 0.7695 - val_loss: 0.4485 - val_accuracy: 0.7904\n",
            "Epoch 67/100\n",
            "51/51 [==============================] - 0s 3ms/step - loss: 0.4727 - accuracy: 0.7764 - val_loss: 0.4487 - val_accuracy: 0.7904\n",
            "Epoch 68/100\n",
            "51/51 [==============================] - 0s 3ms/step - loss: 0.4753 - accuracy: 0.7756 - val_loss: 0.4485 - val_accuracy: 0.7904\n",
            "Epoch 69/100\n",
            "51/51 [==============================] - 0s 3ms/step - loss: 0.4687 - accuracy: 0.7770 - val_loss: 0.4473 - val_accuracy: 0.7957\n",
            "Epoch 70/100\n",
            "51/51 [==============================] - 0s 3ms/step - loss: 0.4741 - accuracy: 0.7725 - val_loss: 0.4476 - val_accuracy: 0.7904\n",
            "Epoch 71/100\n",
            "51/51 [==============================] - 0s 3ms/step - loss: 0.4736 - accuracy: 0.7687 - val_loss: 0.4475 - val_accuracy: 0.7904\n",
            "Epoch 72/100\n",
            "51/51 [==============================] - 0s 3ms/step - loss: 0.4758 - accuracy: 0.7762 - val_loss: 0.4474 - val_accuracy: 0.7904\n",
            "Epoch 73/100\n",
            "51/51 [==============================] - 0s 3ms/step - loss: 0.4759 - accuracy: 0.7752 - val_loss: 0.4472 - val_accuracy: 0.7904\n",
            "Epoch 74/100\n",
            "51/51 [==============================] - 0s 4ms/step - loss: 0.4715 - accuracy: 0.7715 - val_loss: 0.4471 - val_accuracy: 0.7922\n",
            "Epoch 75/100\n",
            "51/51 [==============================] - 0s 3ms/step - loss: 0.4755 - accuracy: 0.7679 - val_loss: 0.4467 - val_accuracy: 0.7904\n",
            "Epoch 76/100\n",
            "51/51 [==============================] - 0s 3ms/step - loss: 0.4747 - accuracy: 0.7729 - val_loss: 0.4465 - val_accuracy: 0.7922\n",
            "Epoch 77/100\n",
            "51/51 [==============================] - 0s 3ms/step - loss: 0.4830 - accuracy: 0.7665 - val_loss: 0.4478 - val_accuracy: 0.7886\n",
            "Epoch 78/100\n",
            "51/51 [==============================] - 0s 3ms/step - loss: 0.4762 - accuracy: 0.7721 - val_loss: 0.4469 - val_accuracy: 0.7922\n",
            "Epoch 79/100\n",
            "51/51 [==============================] - 0s 3ms/step - loss: 0.4722 - accuracy: 0.7738 - val_loss: 0.4468 - val_accuracy: 0.7904\n",
            "Epoch 80/100\n",
            "51/51 [==============================] - 0s 3ms/step - loss: 0.4735 - accuracy: 0.7713 - val_loss: 0.4467 - val_accuracy: 0.7904\n",
            "Epoch 81/100\n",
            "51/51 [==============================] - 0s 3ms/step - loss: 0.4766 - accuracy: 0.7750 - val_loss: 0.4461 - val_accuracy: 0.7922\n",
            "Epoch 82/100\n",
            "51/51 [==============================] - 0s 3ms/step - loss: 0.4736 - accuracy: 0.7737 - val_loss: 0.4458 - val_accuracy: 0.7904\n",
            "Epoch 83/100\n",
            "51/51 [==============================] - 0s 3ms/step - loss: 0.4774 - accuracy: 0.7693 - val_loss: 0.4470 - val_accuracy: 0.7904\n",
            "Epoch 84/100\n",
            "51/51 [==============================] - 0s 3ms/step - loss: 0.4675 - accuracy: 0.7746 - val_loss: 0.4461 - val_accuracy: 0.7940\n",
            "Epoch 85/100\n",
            "51/51 [==============================] - 0s 3ms/step - loss: 0.4757 - accuracy: 0.7737 - val_loss: 0.4463 - val_accuracy: 0.7940\n",
            "Epoch 86/100\n",
            "51/51 [==============================] - 0s 3ms/step - loss: 0.4787 - accuracy: 0.7687 - val_loss: 0.4466 - val_accuracy: 0.7940\n",
            "Epoch 87/100\n",
            "51/51 [==============================] - 0s 3ms/step - loss: 0.4729 - accuracy: 0.7721 - val_loss: 0.4463 - val_accuracy: 0.7922\n",
            "Epoch 88/100\n",
            "51/51 [==============================] - 0s 3ms/step - loss: 0.4694 - accuracy: 0.7723 - val_loss: 0.4456 - val_accuracy: 0.7922\n",
            "Epoch 89/100\n",
            "51/51 [==============================] - 0s 3ms/step - loss: 0.4720 - accuracy: 0.7746 - val_loss: 0.4447 - val_accuracy: 0.7904\n",
            "Epoch 90/100\n",
            "51/51 [==============================] - 0s 3ms/step - loss: 0.4740 - accuracy: 0.7729 - val_loss: 0.4449 - val_accuracy: 0.7904\n",
            "Epoch 91/100\n",
            "51/51 [==============================] - 0s 3ms/step - loss: 0.4659 - accuracy: 0.7756 - val_loss: 0.4443 - val_accuracy: 0.7904\n",
            "Epoch 92/100\n",
            "51/51 [==============================] - 0s 3ms/step - loss: 0.4722 - accuracy: 0.7717 - val_loss: 0.4454 - val_accuracy: 0.7904\n",
            "Epoch 93/100\n",
            "51/51 [==============================] - 0s 3ms/step - loss: 0.4725 - accuracy: 0.7766 - val_loss: 0.4455 - val_accuracy: 0.7922\n",
            "Epoch 94/100\n",
            "51/51 [==============================] - 0s 3ms/step - loss: 0.4713 - accuracy: 0.7727 - val_loss: 0.4448 - val_accuracy: 0.7904\n",
            "Epoch 95/100\n",
            "51/51 [==============================] - 0s 3ms/step - loss: 0.4682 - accuracy: 0.7738 - val_loss: 0.4441 - val_accuracy: 0.7922\n",
            "Epoch 96/100\n",
            "51/51 [==============================] - 0s 3ms/step - loss: 0.4697 - accuracy: 0.7752 - val_loss: 0.4442 - val_accuracy: 0.7922\n",
            "Epoch 97/100\n",
            "51/51 [==============================] - 0s 3ms/step - loss: 0.4704 - accuracy: 0.7750 - val_loss: 0.4437 - val_accuracy: 0.7904\n",
            "Epoch 98/100\n",
            "51/51 [==============================] - 0s 3ms/step - loss: 0.4767 - accuracy: 0.7711 - val_loss: 0.4442 - val_accuracy: 0.7904\n",
            "Epoch 99/100\n",
            "51/51 [==============================] - 0s 3ms/step - loss: 0.4729 - accuracy: 0.7738 - val_loss: 0.4449 - val_accuracy: 0.7904\n",
            "Epoch 100/100\n",
            "51/51 [==============================] - 0s 3ms/step - loss: 0.4719 - accuracy: 0.7742 - val_loss: 0.4446 - val_accuracy: 0.7904\n"
          ]
        }
      ]
    },
    {
      "cell_type": "markdown",
      "source": [
        "---\n",
        "## Functional API"
      ],
      "metadata": {
        "id": "uggqit-ZJ3pG"
      }
    },
    {
      "cell_type": "code",
      "source": [
        "history_fc = model_fc.fit(train_dataset, epochs=100, validation_data=val_dataset)"
      ],
      "metadata": {
        "colab": {
          "base_uri": "https://localhost:8080/"
        },
        "id": "NlVA7I_zJ5kC",
        "outputId": "bbe1be81-979d-4a39-bfea-6d3f4a8be969"
      },
      "execution_count": null,
      "outputs": [
        {
          "output_type": "stream",
          "name": "stdout",
          "text": [
            "Epoch 1/100\n",
            "51/51 [==============================] - 1s 5ms/step - loss: 1.1465 - accuracy: 0.2971 - val_loss: 1.0098 - val_accuracy: 0.3091\n",
            "Epoch 2/100\n",
            "51/51 [==============================] - 0s 3ms/step - loss: 0.9127 - accuracy: 0.3202 - val_loss: 0.8157 - val_accuracy: 0.3748\n",
            "Epoch 3/100\n",
            "51/51 [==============================] - 0s 3ms/step - loss: 0.7408 - accuracy: 0.4462 - val_loss: 0.6719 - val_accuracy: 0.5915\n",
            "Epoch 4/100\n",
            "51/51 [==============================] - 0s 3ms/step - loss: 0.6233 - accuracy: 0.6715 - val_loss: 0.5951 - val_accuracy: 0.7353\n",
            "Epoch 5/100\n",
            "51/51 [==============================] - 0s 3ms/step - loss: 0.5672 - accuracy: 0.7345 - val_loss: 0.5618 - val_accuracy: 0.7353\n",
            "Epoch 6/100\n",
            "51/51 [==============================] - 0s 3ms/step - loss: 0.5376 - accuracy: 0.7345 - val_loss: 0.5402 - val_accuracy: 0.7353\n",
            "Epoch 7/100\n",
            "51/51 [==============================] - 0s 3ms/step - loss: 0.5163 - accuracy: 0.7345 - val_loss: 0.5236 - val_accuracy: 0.7353\n",
            "Epoch 8/100\n",
            "51/51 [==============================] - 0s 3ms/step - loss: 0.4986 - accuracy: 0.7345 - val_loss: 0.5103 - val_accuracy: 0.7353\n",
            "Epoch 9/100\n",
            "51/51 [==============================] - 0s 3ms/step - loss: 0.4850 - accuracy: 0.7345 - val_loss: 0.4999 - val_accuracy: 0.7353\n",
            "Epoch 10/100\n",
            "51/51 [==============================] - 0s 3ms/step - loss: 0.4758 - accuracy: 0.7345 - val_loss: 0.4921 - val_accuracy: 0.7353\n",
            "Epoch 11/100\n",
            "51/51 [==============================] - 0s 3ms/step - loss: 0.4692 - accuracy: 0.7345 - val_loss: 0.4858 - val_accuracy: 0.7353\n",
            "Epoch 12/100\n",
            "51/51 [==============================] - 0s 3ms/step - loss: 0.4641 - accuracy: 0.7345 - val_loss: 0.4814 - val_accuracy: 0.7353\n",
            "Epoch 13/100\n",
            "51/51 [==============================] - 0s 3ms/step - loss: 0.4603 - accuracy: 0.7345 - val_loss: 0.4779 - val_accuracy: 0.7353\n",
            "Epoch 14/100\n",
            "51/51 [==============================] - 0s 3ms/step - loss: 0.4573 - accuracy: 0.7345 - val_loss: 0.4751 - val_accuracy: 0.7353\n",
            "Epoch 15/100\n",
            "51/51 [==============================] - 0s 3ms/step - loss: 0.4549 - accuracy: 0.7345 - val_loss: 0.4729 - val_accuracy: 0.7353\n",
            "Epoch 16/100\n",
            "51/51 [==============================] - 0s 3ms/step - loss: 0.4530 - accuracy: 0.7345 - val_loss: 0.4710 - val_accuracy: 0.7353\n",
            "Epoch 17/100\n",
            "51/51 [==============================] - 0s 3ms/step - loss: 0.4513 - accuracy: 0.7345 - val_loss: 0.4693 - val_accuracy: 0.7353\n",
            "Epoch 18/100\n",
            "51/51 [==============================] - 0s 3ms/step - loss: 0.4499 - accuracy: 0.7345 - val_loss: 0.4679 - val_accuracy: 0.7353\n",
            "Epoch 19/100\n",
            "51/51 [==============================] - 0s 3ms/step - loss: 0.4488 - accuracy: 0.7345 - val_loss: 0.4667 - val_accuracy: 0.7353\n",
            "Epoch 20/100\n",
            "51/51 [==============================] - 0s 3ms/step - loss: 0.4477 - accuracy: 0.7345 - val_loss: 0.4656 - val_accuracy: 0.7353\n",
            "Epoch 21/100\n",
            "51/51 [==============================] - 0s 3ms/step - loss: 0.4468 - accuracy: 0.7345 - val_loss: 0.4647 - val_accuracy: 0.7353\n",
            "Epoch 22/100\n",
            "51/51 [==============================] - 0s 3ms/step - loss: 0.4460 - accuracy: 0.7345 - val_loss: 0.4638 - val_accuracy: 0.7353\n",
            "Epoch 23/100\n",
            "51/51 [==============================] - 0s 3ms/step - loss: 0.4453 - accuracy: 0.7345 - val_loss: 0.4630 - val_accuracy: 0.7353\n",
            "Epoch 24/100\n",
            "51/51 [==============================] - 0s 3ms/step - loss: 0.4447 - accuracy: 0.7347 - val_loss: 0.4624 - val_accuracy: 0.7353\n",
            "Epoch 25/100\n",
            "51/51 [==============================] - 0s 3ms/step - loss: 0.4441 - accuracy: 0.7650 - val_loss: 0.4618 - val_accuracy: 0.7780\n",
            "Epoch 26/100\n",
            "51/51 [==============================] - 0s 3ms/step - loss: 0.4435 - accuracy: 0.7829 - val_loss: 0.4612 - val_accuracy: 0.7726\n",
            "Epoch 27/100\n",
            "51/51 [==============================] - 0s 3ms/step - loss: 0.4430 - accuracy: 0.7833 - val_loss: 0.4607 - val_accuracy: 0.7762\n",
            "Epoch 28/100\n",
            "51/51 [==============================] - 0s 3ms/step - loss: 0.4425 - accuracy: 0.7833 - val_loss: 0.4602 - val_accuracy: 0.7744\n",
            "Epoch 29/100\n",
            "51/51 [==============================] - 0s 3ms/step - loss: 0.4421 - accuracy: 0.7845 - val_loss: 0.4597 - val_accuracy: 0.7744\n",
            "Epoch 30/100\n",
            "51/51 [==============================] - 0s 3ms/step - loss: 0.4416 - accuracy: 0.7859 - val_loss: 0.4591 - val_accuracy: 0.7726\n",
            "Epoch 31/100\n",
            "51/51 [==============================] - 0s 3ms/step - loss: 0.4412 - accuracy: 0.7873 - val_loss: 0.4587 - val_accuracy: 0.7726\n",
            "Epoch 32/100\n",
            "51/51 [==============================] - 0s 3ms/step - loss: 0.4408 - accuracy: 0.7887 - val_loss: 0.4582 - val_accuracy: 0.7762\n",
            "Epoch 33/100\n",
            "51/51 [==============================] - 0s 3ms/step - loss: 0.4405 - accuracy: 0.7875 - val_loss: 0.4578 - val_accuracy: 0.7762\n",
            "Epoch 34/100\n",
            "51/51 [==============================] - 0s 3ms/step - loss: 0.4401 - accuracy: 0.7883 - val_loss: 0.4573 - val_accuracy: 0.7762\n",
            "Epoch 35/100\n",
            "51/51 [==============================] - 0s 3ms/step - loss: 0.4398 - accuracy: 0.7893 - val_loss: 0.4569 - val_accuracy: 0.7744\n",
            "Epoch 36/100\n",
            "51/51 [==============================] - 0s 3ms/step - loss: 0.4394 - accuracy: 0.7895 - val_loss: 0.4565 - val_accuracy: 0.7744\n",
            "Epoch 37/100\n",
            "51/51 [==============================] - 0s 3ms/step - loss: 0.4391 - accuracy: 0.7898 - val_loss: 0.4561 - val_accuracy: 0.7762\n",
            "Epoch 38/100\n",
            "51/51 [==============================] - 0s 3ms/step - loss: 0.4388 - accuracy: 0.7897 - val_loss: 0.4557 - val_accuracy: 0.7780\n",
            "Epoch 39/100\n",
            "51/51 [==============================] - 0s 3ms/step - loss: 0.4384 - accuracy: 0.7889 - val_loss: 0.4552 - val_accuracy: 0.7744\n",
            "Epoch 40/100\n",
            "51/51 [==============================] - 0s 3ms/step - loss: 0.4381 - accuracy: 0.7885 - val_loss: 0.4549 - val_accuracy: 0.7762\n",
            "Epoch 41/100\n",
            "51/51 [==============================] - 0s 3ms/step - loss: 0.4378 - accuracy: 0.7879 - val_loss: 0.4545 - val_accuracy: 0.7744\n",
            "Epoch 42/100\n",
            "51/51 [==============================] - 0s 3ms/step - loss: 0.4375 - accuracy: 0.7877 - val_loss: 0.4541 - val_accuracy: 0.7780\n",
            "Epoch 43/100\n",
            "51/51 [==============================] - 0s 3ms/step - loss: 0.4372 - accuracy: 0.7879 - val_loss: 0.4538 - val_accuracy: 0.7780\n",
            "Epoch 44/100\n",
            "51/51 [==============================] - 0s 3ms/step - loss: 0.4369 - accuracy: 0.7873 - val_loss: 0.4534 - val_accuracy: 0.7780\n",
            "Epoch 45/100\n",
            "51/51 [==============================] - 0s 3ms/step - loss: 0.4366 - accuracy: 0.7873 - val_loss: 0.4531 - val_accuracy: 0.7798\n",
            "Epoch 46/100\n",
            "51/51 [==============================] - 0s 3ms/step - loss: 0.4364 - accuracy: 0.7875 - val_loss: 0.4527 - val_accuracy: 0.7798\n",
            "Epoch 47/100\n",
            "51/51 [==============================] - 0s 3ms/step - loss: 0.4361 - accuracy: 0.7871 - val_loss: 0.4524 - val_accuracy: 0.7833\n",
            "Epoch 48/100\n",
            "51/51 [==============================] - 0s 3ms/step - loss: 0.4359 - accuracy: 0.7881 - val_loss: 0.4521 - val_accuracy: 0.7851\n",
            "Epoch 49/100\n",
            "51/51 [==============================] - 0s 3ms/step - loss: 0.4357 - accuracy: 0.7885 - val_loss: 0.4519 - val_accuracy: 0.7851\n",
            "Epoch 50/100\n",
            "51/51 [==============================] - 0s 3ms/step - loss: 0.4354 - accuracy: 0.7893 - val_loss: 0.4516 - val_accuracy: 0.7869\n",
            "Epoch 51/100\n",
            "51/51 [==============================] - 0s 3ms/step - loss: 0.4352 - accuracy: 0.7889 - val_loss: 0.4514 - val_accuracy: 0.7869\n",
            "Epoch 52/100\n",
            "51/51 [==============================] - 0s 3ms/step - loss: 0.4350 - accuracy: 0.7893 - val_loss: 0.4511 - val_accuracy: 0.7904\n",
            "Epoch 53/100\n",
            "51/51 [==============================] - 0s 3ms/step - loss: 0.4348 - accuracy: 0.7895 - val_loss: 0.4508 - val_accuracy: 0.7904\n",
            "Epoch 54/100\n",
            "51/51 [==============================] - 0s 3ms/step - loss: 0.4347 - accuracy: 0.7900 - val_loss: 0.4506 - val_accuracy: 0.7904\n",
            "Epoch 55/100\n",
            "51/51 [==============================] - 0s 3ms/step - loss: 0.4345 - accuracy: 0.7898 - val_loss: 0.4504 - val_accuracy: 0.7922\n",
            "Epoch 56/100\n",
            "51/51 [==============================] - 0s 3ms/step - loss: 0.4343 - accuracy: 0.7906 - val_loss: 0.4501 - val_accuracy: 0.7957\n",
            "Epoch 57/100\n",
            "51/51 [==============================] - 0s 3ms/step - loss: 0.4341 - accuracy: 0.7910 - val_loss: 0.4499 - val_accuracy: 0.7975\n",
            "Epoch 58/100\n",
            "51/51 [==============================] - 0s 3ms/step - loss: 0.4340 - accuracy: 0.7902 - val_loss: 0.4497 - val_accuracy: 0.7957\n",
            "Epoch 59/100\n",
            "51/51 [==============================] - 0s 3ms/step - loss: 0.4338 - accuracy: 0.7902 - val_loss: 0.4494 - val_accuracy: 0.7957\n",
            "Epoch 60/100\n",
            "51/51 [==============================] - 0s 3ms/step - loss: 0.4337 - accuracy: 0.7902 - val_loss: 0.4492 - val_accuracy: 0.7957\n",
            "Epoch 61/100\n",
            "51/51 [==============================] - 0s 3ms/step - loss: 0.4335 - accuracy: 0.7910 - val_loss: 0.4490 - val_accuracy: 0.7957\n",
            "Epoch 62/100\n",
            "51/51 [==============================] - 0s 3ms/step - loss: 0.4334 - accuracy: 0.7912 - val_loss: 0.4488 - val_accuracy: 0.7957\n",
            "Epoch 63/100\n",
            "51/51 [==============================] - 0s 3ms/step - loss: 0.4332 - accuracy: 0.7912 - val_loss: 0.4486 - val_accuracy: 0.7975\n",
            "Epoch 64/100\n",
            "51/51 [==============================] - 0s 3ms/step - loss: 0.4331 - accuracy: 0.7912 - val_loss: 0.4484 - val_accuracy: 0.7957\n",
            "Epoch 65/100\n",
            "51/51 [==============================] - 0s 3ms/step - loss: 0.4329 - accuracy: 0.7916 - val_loss: 0.4482 - val_accuracy: 0.7975\n",
            "Epoch 66/100\n",
            "51/51 [==============================] - 0s 3ms/step - loss: 0.4328 - accuracy: 0.7918 - val_loss: 0.4480 - val_accuracy: 0.7975\n",
            "Epoch 67/100\n",
            "51/51 [==============================] - 0s 3ms/step - loss: 0.4327 - accuracy: 0.7918 - val_loss: 0.4479 - val_accuracy: 0.7975\n",
            "Epoch 68/100\n",
            "51/51 [==============================] - 0s 3ms/step - loss: 0.4325 - accuracy: 0.7922 - val_loss: 0.4477 - val_accuracy: 0.7975\n",
            "Epoch 69/100\n",
            "51/51 [==============================] - 0s 3ms/step - loss: 0.4324 - accuracy: 0.7926 - val_loss: 0.4476 - val_accuracy: 0.7975\n",
            "Epoch 70/100\n",
            "51/51 [==============================] - 0s 3ms/step - loss: 0.4322 - accuracy: 0.7922 - val_loss: 0.4474 - val_accuracy: 0.7975\n",
            "Epoch 71/100\n",
            "51/51 [==============================] - 0s 3ms/step - loss: 0.4321 - accuracy: 0.7930 - val_loss: 0.4472 - val_accuracy: 0.7993\n",
            "Epoch 72/100\n",
            "51/51 [==============================] - 0s 3ms/step - loss: 0.4320 - accuracy: 0.7932 - val_loss: 0.4470 - val_accuracy: 0.7993\n",
            "Epoch 73/100\n",
            "51/51 [==============================] - 0s 3ms/step - loss: 0.4318 - accuracy: 0.7936 - val_loss: 0.4468 - val_accuracy: 0.7993\n",
            "Epoch 74/100\n",
            "51/51 [==============================] - 0s 3ms/step - loss: 0.4317 - accuracy: 0.7934 - val_loss: 0.4467 - val_accuracy: 0.7975\n",
            "Epoch 75/100\n",
            "51/51 [==============================] - 0s 3ms/step - loss: 0.4316 - accuracy: 0.7932 - val_loss: 0.4465 - val_accuracy: 0.7975\n",
            "Epoch 76/100\n",
            "51/51 [==============================] - 0s 3ms/step - loss: 0.4314 - accuracy: 0.7932 - val_loss: 0.4464 - val_accuracy: 0.7975\n",
            "Epoch 77/100\n",
            "51/51 [==============================] - 0s 3ms/step - loss: 0.4313 - accuracy: 0.7934 - val_loss: 0.4462 - val_accuracy: 0.7975\n",
            "Epoch 78/100\n",
            "51/51 [==============================] - 0s 3ms/step - loss: 0.4312 - accuracy: 0.7930 - val_loss: 0.4461 - val_accuracy: 0.7993\n",
            "Epoch 79/100\n",
            "51/51 [==============================] - 0s 3ms/step - loss: 0.4311 - accuracy: 0.7928 - val_loss: 0.4460 - val_accuracy: 0.7993\n",
            "Epoch 80/100\n",
            "51/51 [==============================] - 0s 3ms/step - loss: 0.4310 - accuracy: 0.7928 - val_loss: 0.4459 - val_accuracy: 0.7993\n",
            "Epoch 81/100\n",
            "51/51 [==============================] - 0s 3ms/step - loss: 0.4309 - accuracy: 0.7928 - val_loss: 0.4457 - val_accuracy: 0.7993\n",
            "Epoch 82/100\n",
            "51/51 [==============================] - 0s 3ms/step - loss: 0.4308 - accuracy: 0.7926 - val_loss: 0.4456 - val_accuracy: 0.7993\n",
            "Epoch 83/100\n",
            "51/51 [==============================] - 0s 3ms/step - loss: 0.4307 - accuracy: 0.7924 - val_loss: 0.4456 - val_accuracy: 0.8011\n",
            "Epoch 84/100\n",
            "51/51 [==============================] - 0s 3ms/step - loss: 0.4306 - accuracy: 0.7928 - val_loss: 0.4455 - val_accuracy: 0.8011\n",
            "Epoch 85/100\n",
            "51/51 [==============================] - 0s 3ms/step - loss: 0.4305 - accuracy: 0.7928 - val_loss: 0.4453 - val_accuracy: 0.8011\n",
            "Epoch 86/100\n",
            "51/51 [==============================] - 0s 3ms/step - loss: 0.4304 - accuracy: 0.7926 - val_loss: 0.4452 - val_accuracy: 0.8011\n",
            "Epoch 87/100\n",
            "51/51 [==============================] - 0s 3ms/step - loss: 0.4303 - accuracy: 0.7928 - val_loss: 0.4451 - val_accuracy: 0.7993\n",
            "Epoch 88/100\n",
            "51/51 [==============================] - 0s 3ms/step - loss: 0.4302 - accuracy: 0.7928 - val_loss: 0.4449 - val_accuracy: 0.8011\n",
            "Epoch 89/100\n",
            "51/51 [==============================] - 0s 3ms/step - loss: 0.4301 - accuracy: 0.7924 - val_loss: 0.4448 - val_accuracy: 0.8011\n",
            "Epoch 90/100\n",
            "51/51 [==============================] - 0s 3ms/step - loss: 0.4300 - accuracy: 0.7922 - val_loss: 0.4447 - val_accuracy: 0.8028\n",
            "Epoch 91/100\n",
            "51/51 [==============================] - 0s 3ms/step - loss: 0.4299 - accuracy: 0.7926 - val_loss: 0.4446 - val_accuracy: 0.8011\n",
            "Epoch 92/100\n",
            "51/51 [==============================] - 0s 3ms/step - loss: 0.4298 - accuracy: 0.7928 - val_loss: 0.4444 - val_accuracy: 0.8011\n",
            "Epoch 93/100\n",
            "51/51 [==============================] - 0s 3ms/step - loss: 0.4298 - accuracy: 0.7930 - val_loss: 0.4443 - val_accuracy: 0.7993\n",
            "Epoch 94/100\n",
            "51/51 [==============================] - 0s 3ms/step - loss: 0.4297 - accuracy: 0.7922 - val_loss: 0.4442 - val_accuracy: 0.7993\n",
            "Epoch 95/100\n",
            "51/51 [==============================] - 0s 3ms/step - loss: 0.4296 - accuracy: 0.7920 - val_loss: 0.4441 - val_accuracy: 0.8046\n",
            "Epoch 96/100\n",
            "51/51 [==============================] - 0s 3ms/step - loss: 0.4295 - accuracy: 0.7922 - val_loss: 0.4439 - val_accuracy: 0.8046\n",
            "Epoch 97/100\n",
            "51/51 [==============================] - 0s 3ms/step - loss: 0.4295 - accuracy: 0.7922 - val_loss: 0.4438 - val_accuracy: 0.8046\n",
            "Epoch 98/100\n",
            "51/51 [==============================] - 0s 3ms/step - loss: 0.4294 - accuracy: 0.7924 - val_loss: 0.4437 - val_accuracy: 0.8046\n",
            "Epoch 99/100\n",
            "51/51 [==============================] - 0s 3ms/step - loss: 0.4293 - accuracy: 0.7924 - val_loss: 0.4436 - val_accuracy: 0.8046\n",
            "Epoch 100/100\n",
            "51/51 [==============================] - 0s 3ms/step - loss: 0.4293 - accuracy: 0.7928 - val_loss: 0.4435 - val_accuracy: 0.8046\n"
          ]
        }
      ]
    },
    {
      "cell_type": "markdown",
      "source": [
        "# 8 - Model Evaluation"
      ],
      "metadata": {
        "id": "RzP7B_5LKMOE"
      }
    },
    {
      "cell_type": "markdown",
      "source": [
        "Pada bagian ini, dilakukan evaluasi model yang harus menunjukkan bagaimana performa model berdasarkan metrics yang dipilih. Hal ini harus dibuktikan dengan visualisasi tren performa dan/atau tingkat kesalahan model. Lakukan analisis terkait dengan hasil pada model dan tuliskan hasil analisisnya."
      ],
      "metadata": {
        "id": "G4Mgt_McKP73"
      }
    },
    {
      "cell_type": "markdown",
      "source": [
        "---\n",
        "## Sequential API"
      ],
      "metadata": {
        "id": "eJBVH1avKWak"
      }
    },
    {
      "cell_type": "code",
      "source": [
        "metrics_sq = pd.DataFrame(history_sq.history)\n",
        "metrics_sq[['loss', 'val_loss']].plot();"
      ],
      "metadata": {
        "colab": {
          "base_uri": "https://localhost:8080/",
          "height": 265
        },
        "id": "YCFh8wbrKOk9",
        "outputId": "47159359-9afe-421f-8e35-2f235529b613"
      },
      "execution_count": null,
      "outputs": [
        {
          "output_type": "display_data",
          "data": {
            "text/plain": [
              "<Figure size 432x288 with 1 Axes>"
            ],
            "image/png": "[encoded data removed]"
          },
          "metadata": {
            "needs_background": "light"
          }
        }
      ]
    },
    {
      "cell_type": "markdown",
      "source": [
        "From here we can see that the model has a tendency to be underfitting since the loss and val loss in not connected whatsoever. Unfortunately, the model is kind of unstable since it jagged so much.\n",
        "\n",
        "Next we check the accuracy."
      ],
      "metadata": {
        "id": "J66rf1Rilko5"
      }
    },
    {
      "cell_type": "code",
      "source": [
        "y_pred_sq = model_sq.predict(X_test_final)\n",
        "y_pred_sq = np.where(y_pred_sq >= 0.5, 1, 0)"
      ],
      "metadata": {
        "id": "ELTfn-I_lvNI"
      },
      "execution_count": null,
      "outputs": []
    },
    {
      "cell_type": "code",
      "source": [
        "print(classification_report(y_test, y_pred_sq))"
      ],
      "metadata": {
        "colab": {
          "base_uri": "https://localhost:8080/"
        },
        "id": "ulw-Vw_ZmbEL",
        "outputId": "aab15483-6977-48de-e04e-2eefeb1f54d2"
      },
      "execution_count": null,
      "outputs": [
        {
          "output_type": "stream",
          "name": "stdout",
          "text": [
            "              precision    recall  f1-score   support\n",
            "\n",
            "           0       0.79      0.94      0.86      1033\n",
            "           1       0.68      0.33      0.44       374\n",
            "\n",
            "    accuracy                           0.78      1407\n",
            "   macro avg       0.74      0.64      0.65      1407\n",
            "weighted avg       0.76      0.78      0.75      1407\n",
            "\n"
          ]
        }
      ]
    },
    {
      "cell_type": "markdown",
      "source": [
        "The model has accuracy of 78%. It's kind of low for me, so we check the next API which is Functional API."
      ],
      "metadata": {
        "id": "-arLjt1XNv0O"
      }
    },
    {
      "cell_type": "markdown",
      "source": [
        "---\n",
        "## Functional API"
      ],
      "metadata": {
        "id": "ES4gME1iuE2z"
      }
    },
    {
      "cell_type": "code",
      "source": [
        "metrics_fc = pd.DataFrame(history_fc.history)\n",
        "metrics_fc[['loss', 'val_loss']].plot();"
      ],
      "metadata": {
        "colab": {
          "base_uri": "https://localhost:8080/",
          "height": 265
        },
        "id": "djFv7BEHuKM1",
        "outputId": "6b5b38bb-ffa7-4458-9dca-1dd9de5a75ea"
      },
      "execution_count": null,
      "outputs": [
        {
          "output_type": "display_data",
          "data": {
            "text/plain": [
              "<Figure size 432x288 with 1 Axes>"
            ],
            "image/png": "[encoded data removed]"
          },
          "metadata": {
            "needs_background": "light"
          }
        }
      ]
    },
    {
      "cell_type": "markdown",
      "source": [
        "Here we can see that the model is better because the distance between loss and val_loss is not high. Although it's seperated at some point and have a tendency to be overfitting, in my opinion this model is better than the sequential one."
      ],
      "metadata": {
        "id": "hChfYzYYN5wV"
      }
    },
    {
      "cell_type": "code",
      "source": [
        "y_pred_fc = model_fc.predict(X_test_final)\n",
        "y_pred_fc = np.where(y_pred_fc >= 0.5, 1, 0)"
      ],
      "metadata": {
        "id": "OTzD4qQauRup"
      },
      "execution_count": null,
      "outputs": []
    },
    {
      "cell_type": "code",
      "source": [
        "print(classification_report(y_test, y_pred_fc))"
      ],
      "metadata": {
        "colab": {
          "base_uri": "https://localhost:8080/"
        },
        "id": "xZ-xx_xWueNK",
        "outputId": "de581832-6584-49be-94b9-00652b59dd2c"
      },
      "execution_count": null,
      "outputs": [
        {
          "output_type": "stream",
          "name": "stdout",
          "text": [
            "              precision    recall  f1-score   support\n",
            "\n",
            "           0       0.83      0.90      0.86      1033\n",
            "           1       0.63      0.50      0.56       374\n",
            "\n",
            "    accuracy                           0.79      1407\n",
            "   macro avg       0.73      0.70      0.71      1407\n",
            "weighted avg       0.78      0.79      0.78      1407\n",
            "\n"
          ]
        }
      ]
    },
    {
      "cell_type": "markdown",
      "source": [
        "The accuracy for this model is 79%, 1% higher than before. Although it's not that different, the recall average is better than the sequential one. So, I will save the functional API model."
      ],
      "metadata": {
        "id": "jdiwiN5YPMg-"
      }
    },
    {
      "cell_type": "markdown",
      "source": [
        "---\n",
        "## Model Improvement"
      ],
      "metadata": {
        "id": "-UZoGvVDq3N7"
      }
    },
    {
      "cell_type": "markdown",
      "source": [
        "Let's create new model based on Functional API model with different optimizer. On this instance I will try using 'Adamax' and 'Nadam'. I use those two optimizer because both are in the Adaptive Moment Estimation family."
      ],
      "metadata": {
        "id": "s26Ro4Zuq-PK"
      }
    },
    {
      "cell_type": "markdown",
      "source": [
        "---\n",
        "### Optimizer Adamax"
      ],
      "metadata": {
        "id": "QbK5xLDBy4FI"
      }
    },
    {
      "cell_type": "code",
      "source": [
        "data_input = Input(shape=(10,))\n",
        "hidden = Dense(5, activation='relu')(data_input)\n",
        "drop = Dropout(0.50)(hidden)\n",
        "output = Dense(1, activation='sigmoid')(hidden)\n",
        "\n",
        "model_fc_admx = Model(inputs=data_input, outputs=output)\n",
        "\n",
        "model_fc_admx.compile(loss='binary_crossentropy',\n",
        "              optimizer='Adamax',\n",
        "              metrics=['accuracy'])"
      ],
      "metadata": {
        "id": "Yeiop1lyrD8y"
      },
      "execution_count": null,
      "outputs": []
    },
    {
      "cell_type": "code",
      "source": [
        "history_fc_admx = model_fc_admx.fit(train_dataset, epochs=100, validation_data=val_dataset)"
      ],
      "metadata": {
        "colab": {
          "base_uri": "https://localhost:8080/"
        },
        "id": "Hl70qgWBzDKQ",
        "outputId": "82ddd925-8a94-4ee8-eea1-444a1b136564"
      },
      "execution_count": null,
      "outputs": [
        {
          "output_type": "stream",
          "name": "stdout",
          "text": [
            "Epoch 1/100\n",
            "51/51 [==============================] - 1s 5ms/step - loss: 0.5847 - accuracy: 0.7345 - val_loss: 0.5698 - val_accuracy: 0.7353\n",
            "Epoch 2/100\n",
            "51/51 [==============================] - 0s 3ms/step - loss: 0.5635 - accuracy: 0.7345 - val_loss: 0.5510 - val_accuracy: 0.7353\n",
            "Epoch 3/100\n",
            "51/51 [==============================] - 0s 3ms/step - loss: 0.5478 - accuracy: 0.7345 - val_loss: 0.5369 - val_accuracy: 0.7353\n",
            "Epoch 4/100\n",
            "51/51 [==============================] - 0s 3ms/step - loss: 0.5353 - accuracy: 0.7345 - val_loss: 0.5259 - val_accuracy: 0.7353\n",
            "Epoch 5/100\n",
            "51/51 [==============================] - 0s 3ms/step - loss: 0.5248 - accuracy: 0.7345 - val_loss: 0.5165 - val_accuracy: 0.7353\n",
            "Epoch 6/100\n",
            "51/51 [==============================] - 0s 3ms/step - loss: 0.5154 - accuracy: 0.7345 - val_loss: 0.5081 - val_accuracy: 0.7353\n",
            "Epoch 7/100\n",
            "51/51 [==============================] - 0s 3ms/step - loss: 0.5068 - accuracy: 0.7345 - val_loss: 0.5006 - val_accuracy: 0.7353\n",
            "Epoch 8/100\n",
            "51/51 [==============================] - 0s 3ms/step - loss: 0.4983 - accuracy: 0.7345 - val_loss: 0.4940 - val_accuracy: 0.7353\n",
            "Epoch 9/100\n",
            "51/51 [==============================] - 0s 3ms/step - loss: 0.4908 - accuracy: 0.7345 - val_loss: 0.4889 - val_accuracy: 0.7353\n",
            "Epoch 10/100\n",
            "51/51 [==============================] - 0s 3ms/step - loss: 0.4843 - accuracy: 0.7345 - val_loss: 0.4848 - val_accuracy: 0.7353\n",
            "Epoch 11/100\n",
            "51/51 [==============================] - 0s 3ms/step - loss: 0.4789 - accuracy: 0.7345 - val_loss: 0.4815 - val_accuracy: 0.7353\n",
            "Epoch 12/100\n",
            "51/51 [==============================] - 0s 3ms/step - loss: 0.4743 - accuracy: 0.7345 - val_loss: 0.4786 - val_accuracy: 0.7353\n",
            "Epoch 13/100\n",
            "51/51 [==============================] - 0s 3ms/step - loss: 0.4705 - accuracy: 0.7345 - val_loss: 0.4760 - val_accuracy: 0.7353\n",
            "Epoch 14/100\n",
            "51/51 [==============================] - 0s 3ms/step - loss: 0.4672 - accuracy: 0.7345 - val_loss: 0.4737 - val_accuracy: 0.7353\n",
            "Epoch 15/100\n",
            "51/51 [==============================] - 0s 3ms/step - loss: 0.4644 - accuracy: 0.7345 - val_loss: 0.4717 - val_accuracy: 0.7353\n",
            "Epoch 16/100\n",
            "51/51 [==============================] - 0s 3ms/step - loss: 0.4620 - accuracy: 0.7345 - val_loss: 0.4702 - val_accuracy: 0.7353\n",
            "Epoch 17/100\n",
            "51/51 [==============================] - 0s 3ms/step - loss: 0.4601 - accuracy: 0.7345 - val_loss: 0.4689 - val_accuracy: 0.7353\n",
            "Epoch 18/100\n",
            "51/51 [==============================] - 0s 3ms/step - loss: 0.4585 - accuracy: 0.7345 - val_loss: 0.4678 - val_accuracy: 0.7353\n",
            "Epoch 19/100\n",
            "51/51 [==============================] - 0s 3ms/step - loss: 0.4571 - accuracy: 0.7488 - val_loss: 0.4670 - val_accuracy: 0.7638\n",
            "Epoch 20/100\n",
            "51/51 [==============================] - 0s 3ms/step - loss: 0.4559 - accuracy: 0.7553 - val_loss: 0.4663 - val_accuracy: 0.7620\n",
            "Epoch 21/100\n",
            "51/51 [==============================] - 0s 3ms/step - loss: 0.4548 - accuracy: 0.7573 - val_loss: 0.4657 - val_accuracy: 0.7584\n",
            "Epoch 22/100\n",
            "51/51 [==============================] - 0s 3ms/step - loss: 0.4538 - accuracy: 0.7577 - val_loss: 0.4650 - val_accuracy: 0.7620\n",
            "Epoch 23/100\n",
            "51/51 [==============================] - 0s 3ms/step - loss: 0.4529 - accuracy: 0.7573 - val_loss: 0.4645 - val_accuracy: 0.7602\n",
            "Epoch 24/100\n",
            "51/51 [==============================] - 0s 3ms/step - loss: 0.4520 - accuracy: 0.7575 - val_loss: 0.4640 - val_accuracy: 0.7638\n",
            "Epoch 25/100\n",
            "51/51 [==============================] - 0s 3ms/step - loss: 0.4513 - accuracy: 0.7596 - val_loss: 0.4636 - val_accuracy: 0.7620\n",
            "Epoch 26/100\n",
            "51/51 [==============================] - 0s 3ms/step - loss: 0.4506 - accuracy: 0.7626 - val_loss: 0.4631 - val_accuracy: 0.7602\n",
            "Epoch 27/100\n",
            "51/51 [==============================] - 0s 3ms/step - loss: 0.4500 - accuracy: 0.7634 - val_loss: 0.4627 - val_accuracy: 0.7620\n",
            "Epoch 28/100\n",
            "51/51 [==============================] - 0s 3ms/step - loss: 0.4494 - accuracy: 0.7652 - val_loss: 0.4623 - val_accuracy: 0.7584\n",
            "Epoch 29/100\n",
            "51/51 [==============================] - 0s 3ms/step - loss: 0.4489 - accuracy: 0.7671 - val_loss: 0.4619 - val_accuracy: 0.7602\n",
            "Epoch 30/100\n",
            "51/51 [==============================] - 0s 3ms/step - loss: 0.4484 - accuracy: 0.7669 - val_loss: 0.4615 - val_accuracy: 0.7620\n",
            "Epoch 31/100\n",
            "51/51 [==============================] - 0s 3ms/step - loss: 0.4479 - accuracy: 0.7667 - val_loss: 0.4611 - val_accuracy: 0.7638\n",
            "Epoch 32/100\n",
            "51/51 [==============================] - 0s 3ms/step - loss: 0.4475 - accuracy: 0.7675 - val_loss: 0.4607 - val_accuracy: 0.7638\n",
            "Epoch 33/100\n",
            "51/51 [==============================] - 0s 3ms/step - loss: 0.4471 - accuracy: 0.7673 - val_loss: 0.4603 - val_accuracy: 0.7638\n",
            "Epoch 34/100\n",
            "51/51 [==============================] - 0s 3ms/step - loss: 0.4467 - accuracy: 0.7681 - val_loss: 0.4599 - val_accuracy: 0.7638\n",
            "Epoch 35/100\n",
            "51/51 [==============================] - 0s 3ms/step - loss: 0.4463 - accuracy: 0.7681 - val_loss: 0.4595 - val_accuracy: 0.7638\n",
            "Epoch 36/100\n",
            "51/51 [==============================] - 0s 3ms/step - loss: 0.4459 - accuracy: 0.7683 - val_loss: 0.4592 - val_accuracy: 0.7655\n",
            "Epoch 37/100\n",
            "51/51 [==============================] - 0s 3ms/step - loss: 0.4456 - accuracy: 0.7685 - val_loss: 0.4588 - val_accuracy: 0.7673\n",
            "Epoch 38/100\n",
            "51/51 [==============================] - 0s 3ms/step - loss: 0.4452 - accuracy: 0.7713 - val_loss: 0.4584 - val_accuracy: 0.7744\n",
            "Epoch 39/100\n",
            "51/51 [==============================] - 0s 3ms/step - loss: 0.4449 - accuracy: 0.7738 - val_loss: 0.4581 - val_accuracy: 0.7762\n",
            "Epoch 40/100\n",
            "51/51 [==============================] - 0s 3ms/step - loss: 0.4445 - accuracy: 0.7729 - val_loss: 0.4577 - val_accuracy: 0.7815\n",
            "Epoch 41/100\n",
            "51/51 [==============================] - 0s 3ms/step - loss: 0.4442 - accuracy: 0.7744 - val_loss: 0.4574 - val_accuracy: 0.7815\n",
            "Epoch 42/100\n",
            "51/51 [==============================] - 0s 3ms/step - loss: 0.4439 - accuracy: 0.7760 - val_loss: 0.4571 - val_accuracy: 0.7869\n",
            "Epoch 43/100\n",
            "51/51 [==============================] - 0s 3ms/step - loss: 0.4436 - accuracy: 0.7786 - val_loss: 0.4568 - val_accuracy: 0.7886\n",
            "Epoch 44/100\n",
            "51/51 [==============================] - 0s 3ms/step - loss: 0.4433 - accuracy: 0.7786 - val_loss: 0.4565 - val_accuracy: 0.7904\n",
            "Epoch 45/100\n",
            "51/51 [==============================] - 0s 3ms/step - loss: 0.4430 - accuracy: 0.7800 - val_loss: 0.4562 - val_accuracy: 0.7922\n",
            "Epoch 46/100\n",
            "51/51 [==============================] - 0s 3ms/step - loss: 0.4427 - accuracy: 0.7806 - val_loss: 0.4559 - val_accuracy: 0.7922\n",
            "Epoch 47/100\n",
            "51/51 [==============================] - 0s 3ms/step - loss: 0.4425 - accuracy: 0.7810 - val_loss: 0.4556 - val_accuracy: 0.7922\n",
            "Epoch 48/100\n",
            "51/51 [==============================] - 0s 3ms/step - loss: 0.4422 - accuracy: 0.7814 - val_loss: 0.4554 - val_accuracy: 0.7922\n",
            "Epoch 49/100\n",
            "51/51 [==============================] - 0s 3ms/step - loss: 0.4419 - accuracy: 0.7819 - val_loss: 0.4552 - val_accuracy: 0.7940\n",
            "Epoch 50/100\n",
            "51/51 [==============================] - 0s 3ms/step - loss: 0.4417 - accuracy: 0.7819 - val_loss: 0.4550 - val_accuracy: 0.7940\n",
            "Epoch 51/100\n",
            "51/51 [==============================] - 0s 3ms/step - loss: 0.4415 - accuracy: 0.7821 - val_loss: 0.4547 - val_accuracy: 0.7940\n",
            "Epoch 52/100\n",
            "51/51 [==============================] - 0s 3ms/step - loss: 0.4413 - accuracy: 0.7839 - val_loss: 0.4545 - val_accuracy: 0.7940\n",
            "Epoch 53/100\n",
            "51/51 [==============================] - 0s 3ms/step - loss: 0.4410 - accuracy: 0.7841 - val_loss: 0.4543 - val_accuracy: 0.7940\n",
            "Epoch 54/100\n",
            "51/51 [==============================] - 0s 3ms/step - loss: 0.4408 - accuracy: 0.7845 - val_loss: 0.4541 - val_accuracy: 0.7940\n",
            "Epoch 55/100\n",
            "51/51 [==============================] - 0s 3ms/step - loss: 0.4406 - accuracy: 0.7849 - val_loss: 0.4538 - val_accuracy: 0.7940\n",
            "Epoch 56/100\n",
            "51/51 [==============================] - 0s 3ms/step - loss: 0.4404 - accuracy: 0.7851 - val_loss: 0.4536 - val_accuracy: 0.7940\n",
            "Epoch 57/100\n",
            "51/51 [==============================] - 0s 3ms/step - loss: 0.4402 - accuracy: 0.7849 - val_loss: 0.4534 - val_accuracy: 0.7957\n",
            "Epoch 58/100\n",
            "51/51 [==============================] - 0s 3ms/step - loss: 0.4400 - accuracy: 0.7843 - val_loss: 0.4532 - val_accuracy: 0.7975\n",
            "Epoch 59/100\n",
            "51/51 [==============================] - 0s 3ms/step - loss: 0.4398 - accuracy: 0.7851 - val_loss: 0.4530 - val_accuracy: 0.7975\n",
            "Epoch 60/100\n",
            "51/51 [==============================] - 0s 3ms/step - loss: 0.4396 - accuracy: 0.7853 - val_loss: 0.4527 - val_accuracy: 0.7975\n",
            "Epoch 61/100\n",
            "51/51 [==============================] - 0s 3ms/step - loss: 0.4394 - accuracy: 0.7851 - val_loss: 0.4525 - val_accuracy: 0.7975\n",
            "Epoch 62/100\n",
            "51/51 [==============================] - 0s 3ms/step - loss: 0.4393 - accuracy: 0.7853 - val_loss: 0.4523 - val_accuracy: 0.7957\n",
            "Epoch 63/100\n",
            "51/51 [==============================] - 0s 3ms/step - loss: 0.4391 - accuracy: 0.7853 - val_loss: 0.4521 - val_accuracy: 0.7957\n",
            "Epoch 64/100\n",
            "51/51 [==============================] - 0s 3ms/step - loss: 0.4389 - accuracy: 0.7859 - val_loss: 0.4519 - val_accuracy: 0.7957\n",
            "Epoch 65/100\n",
            "51/51 [==============================] - 0s 3ms/step - loss: 0.4387 - accuracy: 0.7861 - val_loss: 0.4517 - val_accuracy: 0.7957\n",
            "Epoch 66/100\n",
            "51/51 [==============================] - 0s 3ms/step - loss: 0.4386 - accuracy: 0.7867 - val_loss: 0.4515 - val_accuracy: 0.7957\n",
            "Epoch 67/100\n",
            "51/51 [==============================] - 0s 3ms/step - loss: 0.4384 - accuracy: 0.7871 - val_loss: 0.4513 - val_accuracy: 0.7975\n",
            "Epoch 68/100\n",
            "51/51 [==============================] - 0s 3ms/step - loss: 0.4382 - accuracy: 0.7871 - val_loss: 0.4511 - val_accuracy: 0.7975\n",
            "Epoch 69/100\n",
            "51/51 [==============================] - 0s 3ms/step - loss: 0.4381 - accuracy: 0.7871 - val_loss: 0.4509 - val_accuracy: 0.7975\n",
            "Epoch 70/100\n",
            "51/51 [==============================] - 0s 3ms/step - loss: 0.4379 - accuracy: 0.7871 - val_loss: 0.4507 - val_accuracy: 0.7993\n",
            "Epoch 71/100\n",
            "51/51 [==============================] - 0s 3ms/step - loss: 0.4377 - accuracy: 0.7871 - val_loss: 0.4505 - val_accuracy: 0.7993\n",
            "Epoch 72/100\n",
            "51/51 [==============================] - 0s 3ms/step - loss: 0.4376 - accuracy: 0.7871 - val_loss: 0.4503 - val_accuracy: 0.7993\n",
            "Epoch 73/100\n",
            "51/51 [==============================] - 0s 3ms/step - loss: 0.4374 - accuracy: 0.7867 - val_loss: 0.4501 - val_accuracy: 0.8011\n",
            "Epoch 74/100\n",
            "51/51 [==============================] - 0s 3ms/step - loss: 0.4373 - accuracy: 0.7865 - val_loss: 0.4499 - val_accuracy: 0.8011\n",
            "Epoch 75/100\n",
            "51/51 [==============================] - 0s 3ms/step - loss: 0.4371 - accuracy: 0.7869 - val_loss: 0.4497 - val_accuracy: 0.8011\n",
            "Epoch 76/100\n",
            "51/51 [==============================] - 0s 3ms/step - loss: 0.4369 - accuracy: 0.7873 - val_loss: 0.4495 - val_accuracy: 0.8046\n",
            "Epoch 77/100\n",
            "51/51 [==============================] - 0s 3ms/step - loss: 0.4368 - accuracy: 0.7871 - val_loss: 0.4492 - val_accuracy: 0.8046\n",
            "Epoch 78/100\n",
            "51/51 [==============================] - 0s 3ms/step - loss: 0.4366 - accuracy: 0.7873 - val_loss: 0.4490 - val_accuracy: 0.8046\n",
            "Epoch 79/100\n",
            "51/51 [==============================] - 0s 3ms/step - loss: 0.4364 - accuracy: 0.7869 - val_loss: 0.4488 - val_accuracy: 0.8046\n",
            "Epoch 80/100\n",
            "51/51 [==============================] - 0s 3ms/step - loss: 0.4363 - accuracy: 0.7865 - val_loss: 0.4486 - val_accuracy: 0.8046\n",
            "Epoch 81/100\n",
            "51/51 [==============================] - 0s 3ms/step - loss: 0.4361 - accuracy: 0.7865 - val_loss: 0.4485 - val_accuracy: 0.8028\n",
            "Epoch 82/100\n",
            "51/51 [==============================] - 0s 3ms/step - loss: 0.4360 - accuracy: 0.7873 - val_loss: 0.4483 - val_accuracy: 0.8046\n",
            "Epoch 83/100\n",
            "51/51 [==============================] - 0s 3ms/step - loss: 0.4359 - accuracy: 0.7873 - val_loss: 0.4482 - val_accuracy: 0.8064\n",
            "Epoch 84/100\n",
            "51/51 [==============================] - 0s 3ms/step - loss: 0.4358 - accuracy: 0.7873 - val_loss: 0.4480 - val_accuracy: 0.8064\n",
            "Epoch 85/100\n",
            "51/51 [==============================] - 0s 3ms/step - loss: 0.4356 - accuracy: 0.7871 - val_loss: 0.4478 - val_accuracy: 0.8082\n",
            "Epoch 86/100\n",
            "51/51 [==============================] - 0s 3ms/step - loss: 0.4355 - accuracy: 0.7871 - val_loss: 0.4477 - val_accuracy: 0.8082\n",
            "Epoch 87/100\n",
            "51/51 [==============================] - 0s 3ms/step - loss: 0.4354 - accuracy: 0.7873 - val_loss: 0.4475 - val_accuracy: 0.8082\n",
            "Epoch 88/100\n",
            "51/51 [==============================] - 0s 3ms/step - loss: 0.4352 - accuracy: 0.7871 - val_loss: 0.4474 - val_accuracy: 0.8082\n",
            "Epoch 89/100\n",
            "51/51 [==============================] - 0s 3ms/step - loss: 0.4351 - accuracy: 0.7873 - val_loss: 0.4472 - val_accuracy: 0.8082\n",
            "Epoch 90/100\n",
            "51/51 [==============================] - 0s 4ms/step - loss: 0.4350 - accuracy: 0.7867 - val_loss: 0.4471 - val_accuracy: 0.8082\n",
            "Epoch 91/100\n",
            "51/51 [==============================] - 0s 3ms/step - loss: 0.4349 - accuracy: 0.7867 - val_loss: 0.4469 - val_accuracy: 0.8082\n",
            "Epoch 92/100\n",
            "51/51 [==============================] - 0s 3ms/step - loss: 0.4347 - accuracy: 0.7865 - val_loss: 0.4468 - val_accuracy: 0.8082\n",
            "Epoch 93/100\n",
            "51/51 [==============================] - 0s 3ms/step - loss: 0.4346 - accuracy: 0.7865 - val_loss: 0.4466 - val_accuracy: 0.8082\n",
            "Epoch 94/100\n",
            "51/51 [==============================] - 0s 3ms/step - loss: 0.4345 - accuracy: 0.7869 - val_loss: 0.4465 - val_accuracy: 0.8082\n",
            "Epoch 95/100\n",
            "51/51 [==============================] - 0s 3ms/step - loss: 0.4344 - accuracy: 0.7869 - val_loss: 0.4464 - val_accuracy: 0.8082\n",
            "Epoch 96/100\n",
            "51/51 [==============================] - 0s 3ms/step - loss: 0.4343 - accuracy: 0.7873 - val_loss: 0.4462 - val_accuracy: 0.8082\n",
            "Epoch 97/100\n",
            "51/51 [==============================] - 0s 3ms/step - loss: 0.4342 - accuracy: 0.7873 - val_loss: 0.4461 - val_accuracy: 0.8082\n",
            "Epoch 98/100\n",
            "51/51 [==============================] - 0s 3ms/step - loss: 0.4341 - accuracy: 0.7879 - val_loss: 0.4460 - val_accuracy: 0.8082\n",
            "Epoch 99/100\n",
            "51/51 [==============================] - 0s 3ms/step - loss: 0.4340 - accuracy: 0.7883 - val_loss: 0.4459 - val_accuracy: 0.8082\n",
            "Epoch 100/100\n",
            "51/51 [==============================] - 0s 3ms/step - loss: 0.4339 - accuracy: 0.7887 - val_loss: 0.4457 - val_accuracy: 0.8082\n"
          ]
        }
      ]
    },
    {
      "cell_type": "code",
      "source": [
        "metrics_fc_admx = pd.DataFrame(history_fc_admx.history)\n",
        "metrics_fc_admx[['loss', 'val_loss']].plot();"
      ],
      "metadata": {
        "colab": {
          "base_uri": "https://localhost:8080/",
          "height": 265
        },
        "id": "QDV6i-yv0pcZ",
        "outputId": "5abc0f60-67ea-4516-d3b3-793e47f615fb"
      },
      "execution_count": null,
      "outputs": [
        {
          "output_type": "display_data",
          "data": {
            "text/plain": [
              "<Figure size 432x288 with 1 Axes>"
            ],
            "image/png": "[encoded data removed]"
          },
          "metadata": {
            "needs_background": "light"
          }
        }
      ]
    },
    {
      "cell_type": "markdown",
      "source": [
        "In a glance, this model with Adamax optimizer has similar result with the previous model, although this model also has the tendency to overfit. Next, we check the accuracy score for this model."
      ],
      "metadata": {
        "id": "BJ9ZhmTe0z_k"
      }
    },
    {
      "cell_type": "code",
      "source": [
        "y_pred_fc_admx = model_fc_admx.predict(X_test_final)\n",
        "y_pred_fc_admx = np.where(y_pred_fc_admx >= 0.5, 1, 0)\n",
        "print(classification_report(y_test, y_pred_fc_admx))"
      ],
      "metadata": {
        "colab": {
          "base_uri": "https://localhost:8080/"
        },
        "id": "tQIRiAje1HD3",
        "outputId": "43bce798-2f07-4075-c355-98b4e3b490c6"
      },
      "execution_count": null,
      "outputs": [
        {
          "output_type": "stream",
          "name": "stdout",
          "text": [
            "              precision    recall  f1-score   support\n",
            "\n",
            "           0       0.82      0.90      0.86      1033\n",
            "           1       0.63      0.45      0.53       374\n",
            "\n",
            "    accuracy                           0.78      1407\n",
            "   macro avg       0.73      0.68      0.69      1407\n",
            "weighted avg       0.77      0.78      0.77      1407\n",
            "\n"
          ]
        }
      ]
    },
    {
      "cell_type": "markdown",
      "source": [
        "This model has similar accuracy with model that use Adam optimizer. If we see the recall score, score to predict value 1 is lower and score to predict value 0 is higher. In my opinion, I prefer using model with both recall score are above 50%.\n",
        "\n",
        "Next, we make another model using optimizer Nadam."
      ],
      "metadata": {
        "id": "u0yDpYOr1Xn5"
      }
    },
    {
      "cell_type": "markdown",
      "source": [
        "---\n",
        "### Optimizer Nadam"
      ],
      "metadata": {
        "id": "dN0ylS3D2Qtq"
      }
    },
    {
      "cell_type": "code",
      "source": [
        "data_input = Input(shape=(10,))\n",
        "hidden = Dense(5, activation='relu')(data_input)\n",
        "drop = Dropout(0.50)(hidden)\n",
        "output = Dense(1, activation='sigmoid')(hidden)\n",
        "\n",
        "model_fc_ndm = Model(inputs=data_input, outputs=output)\n",
        "\n",
        "model_fc_ndm.compile(loss='binary_crossentropy',\n",
        "              optimizer='Nadam',\n",
        "              metrics=['accuracy'])"
      ],
      "metadata": {
        "id": "L95jDymQ2YY3"
      },
      "execution_count": null,
      "outputs": []
    },
    {
      "cell_type": "code",
      "source": [
        "history_fc_ndm = model_fc_ndm.fit(train_dataset, epochs=100, validation_data=val_dataset)"
      ],
      "metadata": {
        "colab": {
          "base_uri": "https://localhost:8080/"
        },
        "id": "MYwFciJo2gf4",
        "outputId": "0229fe4e-23e0-4e2e-971b-4bf0610c20f2"
      },
      "execution_count": null,
      "outputs": [
        {
          "output_type": "stream",
          "name": "stdout",
          "text": [
            "Epoch 1/100\n",
            "51/51 [==============================] - 2s 16ms/step - loss: 0.6083 - accuracy: 0.6996 - val_loss: 0.5704 - val_accuracy: 0.7371\n",
            "Epoch 2/100\n",
            "51/51 [==============================] - 0s 6ms/step - loss: 0.5430 - accuracy: 0.7375 - val_loss: 0.5354 - val_accuracy: 0.7460\n",
            "Epoch 3/100\n",
            "51/51 [==============================] - 0s 4ms/step - loss: 0.5193 - accuracy: 0.7403 - val_loss: 0.5201 - val_accuracy: 0.7407\n",
            "Epoch 4/100\n",
            "51/51 [==============================] - 0s 4ms/step - loss: 0.5053 - accuracy: 0.7415 - val_loss: 0.5094 - val_accuracy: 0.7513\n",
            "Epoch 5/100\n",
            "51/51 [==============================] - 0s 4ms/step - loss: 0.4938 - accuracy: 0.7500 - val_loss: 0.5004 - val_accuracy: 0.7638\n",
            "Epoch 6/100\n",
            "51/51 [==============================] - 0s 3ms/step - loss: 0.4838 - accuracy: 0.7669 - val_loss: 0.4926 - val_accuracy: 0.7726\n",
            "Epoch 7/100\n",
            "51/51 [==============================] - 0s 4ms/step - loss: 0.4753 - accuracy: 0.7701 - val_loss: 0.4861 - val_accuracy: 0.7798\n",
            "Epoch 8/100\n",
            "51/51 [==============================] - 0s 3ms/step - loss: 0.4682 - accuracy: 0.7756 - val_loss: 0.4808 - val_accuracy: 0.7869\n",
            "Epoch 9/100\n",
            "51/51 [==============================] - 0s 4ms/step - loss: 0.4625 - accuracy: 0.7754 - val_loss: 0.4767 - val_accuracy: 0.7869\n",
            "Epoch 10/100\n",
            "51/51 [==============================] - 0s 4ms/step - loss: 0.4579 - accuracy: 0.7746 - val_loss: 0.4734 - val_accuracy: 0.7851\n",
            "Epoch 11/100\n",
            "51/51 [==============================] - 0s 4ms/step - loss: 0.4543 - accuracy: 0.7752 - val_loss: 0.4709 - val_accuracy: 0.7851\n",
            "Epoch 12/100\n",
            "51/51 [==============================] - 0s 4ms/step - loss: 0.4514 - accuracy: 0.7774 - val_loss: 0.4689 - val_accuracy: 0.7886\n",
            "Epoch 13/100\n",
            "51/51 [==============================] - 0s 3ms/step - loss: 0.4491 - accuracy: 0.7788 - val_loss: 0.4673 - val_accuracy: 0.7886\n",
            "Epoch 14/100\n",
            "51/51 [==============================] - 0s 4ms/step - loss: 0.4472 - accuracy: 0.7796 - val_loss: 0.4659 - val_accuracy: 0.7904\n",
            "Epoch 15/100\n",
            "51/51 [==============================] - 0s 4ms/step - loss: 0.4457 - accuracy: 0.7798 - val_loss: 0.4648 - val_accuracy: 0.7975\n",
            "Epoch 16/100\n",
            "51/51 [==============================] - 0s 4ms/step - loss: 0.4444 - accuracy: 0.7810 - val_loss: 0.4637 - val_accuracy: 0.7993\n",
            "Epoch 17/100\n",
            "51/51 [==============================] - 0s 4ms/step - loss: 0.4433 - accuracy: 0.7821 - val_loss: 0.4627 - val_accuracy: 0.7993\n",
            "Epoch 18/100\n",
            "51/51 [==============================] - 0s 4ms/step - loss: 0.4424 - accuracy: 0.7833 - val_loss: 0.4618 - val_accuracy: 0.7975\n",
            "Epoch 19/100\n",
            "51/51 [==============================] - 0s 3ms/step - loss: 0.4415 - accuracy: 0.7843 - val_loss: 0.4609 - val_accuracy: 0.7975\n",
            "Epoch 20/100\n",
            "51/51 [==============================] - 0s 4ms/step - loss: 0.4408 - accuracy: 0.7839 - val_loss: 0.4600 - val_accuracy: 0.7957\n",
            "Epoch 21/100\n",
            "51/51 [==============================] - 0s 4ms/step - loss: 0.4401 - accuracy: 0.7849 - val_loss: 0.4592 - val_accuracy: 0.7957\n",
            "Epoch 22/100\n",
            "51/51 [==============================] - 0s 4ms/step - loss: 0.4394 - accuracy: 0.7851 - val_loss: 0.4584 - val_accuracy: 0.7957\n",
            "Epoch 23/100\n",
            "51/51 [==============================] - 0s 4ms/step - loss: 0.4388 - accuracy: 0.7841 - val_loss: 0.4576 - val_accuracy: 0.7922\n",
            "Epoch 24/100\n",
            "51/51 [==============================] - 0s 4ms/step - loss: 0.4382 - accuracy: 0.7831 - val_loss: 0.4568 - val_accuracy: 0.7922\n",
            "Epoch 25/100\n",
            "51/51 [==============================] - 0s 4ms/step - loss: 0.4376 - accuracy: 0.7833 - val_loss: 0.4560 - val_accuracy: 0.7940\n",
            "Epoch 26/100\n",
            "51/51 [==============================] - 0s 4ms/step - loss: 0.4371 - accuracy: 0.7837 - val_loss: 0.4553 - val_accuracy: 0.7904\n",
            "Epoch 27/100\n",
            "51/51 [==============================] - 0s 3ms/step - loss: 0.4366 - accuracy: 0.7841 - val_loss: 0.4546 - val_accuracy: 0.7922\n",
            "Epoch 28/100\n",
            "51/51 [==============================] - 0s 4ms/step - loss: 0.4361 - accuracy: 0.7839 - val_loss: 0.4538 - val_accuracy: 0.7940\n",
            "Epoch 29/100\n",
            "51/51 [==============================] - 0s 4ms/step - loss: 0.4356 - accuracy: 0.7843 - val_loss: 0.4532 - val_accuracy: 0.7904\n",
            "Epoch 30/100\n",
            "51/51 [==============================] - 0s 4ms/step - loss: 0.4352 - accuracy: 0.7841 - val_loss: 0.4526 - val_accuracy: 0.7904\n",
            "Epoch 31/100\n",
            "51/51 [==============================] - 0s 4ms/step - loss: 0.4348 - accuracy: 0.7849 - val_loss: 0.4520 - val_accuracy: 0.7904\n",
            "Epoch 32/100\n",
            "51/51 [==============================] - 0s 4ms/step - loss: 0.4344 - accuracy: 0.7865 - val_loss: 0.4514 - val_accuracy: 0.7922\n",
            "Epoch 33/100\n",
            "51/51 [==============================] - 0s 4ms/step - loss: 0.4340 - accuracy: 0.7863 - val_loss: 0.4508 - val_accuracy: 0.7922\n",
            "Epoch 34/100\n",
            "51/51 [==============================] - 0s 4ms/step - loss: 0.4337 - accuracy: 0.7863 - val_loss: 0.4503 - val_accuracy: 0.7904\n",
            "Epoch 35/100\n",
            "51/51 [==============================] - 0s 4ms/step - loss: 0.4333 - accuracy: 0.7865 - val_loss: 0.4498 - val_accuracy: 0.7904\n",
            "Epoch 36/100\n",
            "51/51 [==============================] - 0s 4ms/step - loss: 0.4330 - accuracy: 0.7863 - val_loss: 0.4493 - val_accuracy: 0.7922\n",
            "Epoch 37/100\n",
            "51/51 [==============================] - 0s 4ms/step - loss: 0.4327 - accuracy: 0.7873 - val_loss: 0.4488 - val_accuracy: 0.7957\n",
            "Epoch 38/100\n",
            "51/51 [==============================] - 0s 4ms/step - loss: 0.4324 - accuracy: 0.7871 - val_loss: 0.4483 - val_accuracy: 0.7957\n",
            "Epoch 39/100\n",
            "51/51 [==============================] - 0s 4ms/step - loss: 0.4321 - accuracy: 0.7873 - val_loss: 0.4478 - val_accuracy: 0.7940\n",
            "Epoch 40/100\n",
            "51/51 [==============================] - 0s 4ms/step - loss: 0.4318 - accuracy: 0.7875 - val_loss: 0.4474 - val_accuracy: 0.7957\n",
            "Epoch 41/100\n",
            "51/51 [==============================] - 0s 4ms/step - loss: 0.4315 - accuracy: 0.7883 - val_loss: 0.4469 - val_accuracy: 0.7957\n",
            "Epoch 42/100\n",
            "51/51 [==============================] - 0s 4ms/step - loss: 0.4312 - accuracy: 0.7891 - val_loss: 0.4464 - val_accuracy: 0.7957\n",
            "Epoch 43/100\n",
            "51/51 [==============================] - 0s 4ms/step - loss: 0.4310 - accuracy: 0.7893 - val_loss: 0.4460 - val_accuracy: 0.7975\n",
            "Epoch 44/100\n",
            "51/51 [==============================] - 0s 4ms/step - loss: 0.4307 - accuracy: 0.7900 - val_loss: 0.4455 - val_accuracy: 0.7975\n",
            "Epoch 45/100\n",
            "51/51 [==============================] - 0s 4ms/step - loss: 0.4305 - accuracy: 0.7893 - val_loss: 0.4451 - val_accuracy: 0.7993\n",
            "Epoch 46/100\n",
            "51/51 [==============================] - 0s 3ms/step - loss: 0.4302 - accuracy: 0.7895 - val_loss: 0.4447 - val_accuracy: 0.7993\n",
            "Epoch 47/100\n",
            "51/51 [==============================] - 0s 4ms/step - loss: 0.4300 - accuracy: 0.7895 - val_loss: 0.4443 - val_accuracy: 0.7975\n",
            "Epoch 48/100\n",
            "51/51 [==============================] - 0s 3ms/step - loss: 0.4298 - accuracy: 0.7897 - val_loss: 0.4439 - val_accuracy: 0.7957\n",
            "Epoch 49/100\n",
            "51/51 [==============================] - 0s 4ms/step - loss: 0.4296 - accuracy: 0.7898 - val_loss: 0.4436 - val_accuracy: 0.7975\n",
            "Epoch 50/100\n",
            "51/51 [==============================] - 0s 4ms/step - loss: 0.4294 - accuracy: 0.7908 - val_loss: 0.4432 - val_accuracy: 0.7975\n",
            "Epoch 51/100\n",
            "51/51 [==============================] - 0s 4ms/step - loss: 0.4292 - accuracy: 0.7910 - val_loss: 0.4429 - val_accuracy: 0.8011\n",
            "Epoch 52/100\n",
            "51/51 [==============================] - 0s 4ms/step - loss: 0.4291 - accuracy: 0.7914 - val_loss: 0.4426 - val_accuracy: 0.8011\n",
            "Epoch 53/100\n",
            "51/51 [==============================] - 0s 4ms/step - loss: 0.4289 - accuracy: 0.7920 - val_loss: 0.4422 - val_accuracy: 0.8011\n",
            "Epoch 54/100\n",
            "51/51 [==============================] - 0s 4ms/step - loss: 0.4287 - accuracy: 0.7916 - val_loss: 0.4419 - val_accuracy: 0.8011\n",
            "Epoch 55/100\n",
            "51/51 [==============================] - 0s 4ms/step - loss: 0.4286 - accuracy: 0.7912 - val_loss: 0.4416 - val_accuracy: 0.8011\n",
            "Epoch 56/100\n",
            "51/51 [==============================] - 0s 4ms/step - loss: 0.4284 - accuracy: 0.7916 - val_loss: 0.4413 - val_accuracy: 0.8011\n",
            "Epoch 57/100\n",
            "51/51 [==============================] - 0s 4ms/step - loss: 0.4283 - accuracy: 0.7912 - val_loss: 0.4410 - val_accuracy: 0.8011\n",
            "Epoch 58/100\n",
            "51/51 [==============================] - 0s 4ms/step - loss: 0.4282 - accuracy: 0.7916 - val_loss: 0.4407 - val_accuracy: 0.8028\n",
            "Epoch 59/100\n",
            "51/51 [==============================] - 0s 4ms/step - loss: 0.4280 - accuracy: 0.7914 - val_loss: 0.4404 - val_accuracy: 0.8011\n",
            "Epoch 60/100\n",
            "51/51 [==============================] - 0s 4ms/step - loss: 0.4279 - accuracy: 0.7916 - val_loss: 0.4402 - val_accuracy: 0.8011\n",
            "Epoch 61/100\n",
            "51/51 [==============================] - 0s 4ms/step - loss: 0.4278 - accuracy: 0.7928 - val_loss: 0.4399 - val_accuracy: 0.8011\n",
            "Epoch 62/100\n",
            "51/51 [==============================] - 0s 3ms/step - loss: 0.4277 - accuracy: 0.7934 - val_loss: 0.4397 - val_accuracy: 0.8011\n",
            "Epoch 63/100\n",
            "51/51 [==============================] - 0s 4ms/step - loss: 0.4276 - accuracy: 0.7936 - val_loss: 0.4395 - val_accuracy: 0.8011\n",
            "Epoch 64/100\n",
            "51/51 [==============================] - 0s 4ms/step - loss: 0.4275 - accuracy: 0.7934 - val_loss: 0.4393 - val_accuracy: 0.8028\n",
            "Epoch 65/100\n",
            "51/51 [==============================] - 0s 4ms/step - loss: 0.4274 - accuracy: 0.7934 - val_loss: 0.4391 - val_accuracy: 0.8028\n",
            "Epoch 66/100\n",
            "51/51 [==============================] - 0s 4ms/step - loss: 0.4273 - accuracy: 0.7942 - val_loss: 0.4389 - val_accuracy: 0.8028\n",
            "Epoch 67/100\n",
            "51/51 [==============================] - 0s 4ms/step - loss: 0.4273 - accuracy: 0.7940 - val_loss: 0.4388 - val_accuracy: 0.8011\n",
            "Epoch 68/100\n",
            "51/51 [==============================] - 0s 4ms/step - loss: 0.4272 - accuracy: 0.7948 - val_loss: 0.4386 - val_accuracy: 0.8011\n",
            "Epoch 69/100\n",
            "51/51 [==============================] - 0s 4ms/step - loss: 0.4271 - accuracy: 0.7954 - val_loss: 0.4385 - val_accuracy: 0.8011\n",
            "Epoch 70/100\n",
            "51/51 [==============================] - 0s 3ms/step - loss: 0.4270 - accuracy: 0.7952 - val_loss: 0.4384 - val_accuracy: 0.8011\n",
            "Epoch 71/100\n",
            "51/51 [==============================] - 0s 4ms/step - loss: 0.4270 - accuracy: 0.7954 - val_loss: 0.4383 - val_accuracy: 0.8011\n",
            "Epoch 72/100\n",
            "51/51 [==============================] - 0s 4ms/step - loss: 0.4269 - accuracy: 0.7952 - val_loss: 0.4382 - val_accuracy: 0.7993\n",
            "Epoch 73/100\n",
            "51/51 [==============================] - 0s 4ms/step - loss: 0.4268 - accuracy: 0.7952 - val_loss: 0.4381 - val_accuracy: 0.7993\n",
            "Epoch 74/100\n",
            "51/51 [==============================] - 0s 4ms/step - loss: 0.4268 - accuracy: 0.7952 - val_loss: 0.4380 - val_accuracy: 0.7975\n",
            "Epoch 75/100\n",
            "51/51 [==============================] - 0s 4ms/step - loss: 0.4267 - accuracy: 0.7948 - val_loss: 0.4378 - val_accuracy: 0.7993\n",
            "Epoch 76/100\n",
            "51/51 [==============================] - 0s 4ms/step - loss: 0.4267 - accuracy: 0.7944 - val_loss: 0.4377 - val_accuracy: 0.7993\n",
            "Epoch 77/100\n",
            "51/51 [==============================] - 0s 4ms/step - loss: 0.4266 - accuracy: 0.7942 - val_loss: 0.4376 - val_accuracy: 0.7993\n",
            "Epoch 78/100\n",
            "51/51 [==============================] - 0s 4ms/step - loss: 0.4266 - accuracy: 0.7942 - val_loss: 0.4376 - val_accuracy: 0.7993\n",
            "Epoch 79/100\n",
            "51/51 [==============================] - 0s 4ms/step - loss: 0.4265 - accuracy: 0.7942 - val_loss: 0.4375 - val_accuracy: 0.7993\n",
            "Epoch 80/100\n",
            "51/51 [==============================] - 0s 4ms/step - loss: 0.4265 - accuracy: 0.7946 - val_loss: 0.4374 - val_accuracy: 0.7993\n",
            "Epoch 81/100\n",
            "51/51 [==============================] - 0s 4ms/step - loss: 0.4264 - accuracy: 0.7944 - val_loss: 0.4373 - val_accuracy: 0.7993\n",
            "Epoch 82/100\n",
            "51/51 [==============================] - 0s 4ms/step - loss: 0.4264 - accuracy: 0.7948 - val_loss: 0.4372 - val_accuracy: 0.7993\n",
            "Epoch 83/100\n",
            "51/51 [==============================] - 0s 4ms/step - loss: 0.4264 - accuracy: 0.7948 - val_loss: 0.4371 - val_accuracy: 0.7993\n",
            "Epoch 84/100\n",
            "51/51 [==============================] - 0s 4ms/step - loss: 0.4263 - accuracy: 0.7946 - val_loss: 0.4370 - val_accuracy: 0.7975\n",
            "Epoch 85/100\n",
            "51/51 [==============================] - 0s 4ms/step - loss: 0.4263 - accuracy: 0.7948 - val_loss: 0.4370 - val_accuracy: 0.7975\n",
            "Epoch 86/100\n",
            "51/51 [==============================] - 0s 4ms/step - loss: 0.4262 - accuracy: 0.7948 - val_loss: 0.4369 - val_accuracy: 0.7975\n",
            "Epoch 87/100\n",
            "51/51 [==============================] - 0s 4ms/step - loss: 0.4262 - accuracy: 0.7946 - val_loss: 0.4368 - val_accuracy: 0.7975\n",
            "Epoch 88/100\n",
            "51/51 [==============================] - 0s 4ms/step - loss: 0.4261 - accuracy: 0.7946 - val_loss: 0.4368 - val_accuracy: 0.7975\n",
            "Epoch 89/100\n",
            "51/51 [==============================] - 0s 4ms/step - loss: 0.4261 - accuracy: 0.7946 - val_loss: 0.4367 - val_accuracy: 0.7993\n",
            "Epoch 90/100\n",
            "51/51 [==============================] - 0s 4ms/step - loss: 0.4261 - accuracy: 0.7944 - val_loss: 0.4366 - val_accuracy: 0.7993\n",
            "Epoch 91/100\n",
            "51/51 [==============================] - 0s 4ms/step - loss: 0.4260 - accuracy: 0.7944 - val_loss: 0.4366 - val_accuracy: 0.7993\n",
            "Epoch 92/100\n",
            "51/51 [==============================] - 0s 4ms/step - loss: 0.4260 - accuracy: 0.7946 - val_loss: 0.4365 - val_accuracy: 0.7993\n",
            "Epoch 93/100\n",
            "51/51 [==============================] - 0s 4ms/step - loss: 0.4259 - accuracy: 0.7944 - val_loss: 0.4365 - val_accuracy: 0.7993\n",
            "Epoch 94/100\n",
            "51/51 [==============================] - 0s 4ms/step - loss: 0.4259 - accuracy: 0.7940 - val_loss: 0.4364 - val_accuracy: 0.7993\n",
            "Epoch 95/100\n",
            "51/51 [==============================] - 0s 4ms/step - loss: 0.4258 - accuracy: 0.7940 - val_loss: 0.4364 - val_accuracy: 0.7993\n",
            "Epoch 96/100\n",
            "51/51 [==============================] - 0s 4ms/step - loss: 0.4258 - accuracy: 0.7944 - val_loss: 0.4363 - val_accuracy: 0.7993\n",
            "Epoch 97/100\n",
            "51/51 [==============================] - 0s 4ms/step - loss: 0.4258 - accuracy: 0.7942 - val_loss: 0.4363 - val_accuracy: 0.7993\n",
            "Epoch 98/100\n",
            "51/51 [==============================] - 0s 4ms/step - loss: 0.4257 - accuracy: 0.7942 - val_loss: 0.4363 - val_accuracy: 0.7993\n",
            "Epoch 99/100\n",
            "51/51 [==============================] - 0s 4ms/step - loss: 0.4257 - accuracy: 0.7940 - val_loss: 0.4362 - val_accuracy: 0.8011\n",
            "Epoch 100/100\n",
            "51/51 [==============================] - 0s 4ms/step - loss: 0.4256 - accuracy: 0.7940 - val_loss: 0.4362 - val_accuracy: 0.8011\n"
          ]
        }
      ]
    },
    {
      "cell_type": "code",
      "source": [
        "metrics_fc_ndm = pd.DataFrame(history_fc_ndm.history)\n",
        "metrics_fc_ndm[['loss', 'val_loss']].plot();"
      ],
      "metadata": {
        "colab": {
          "base_uri": "https://localhost:8080/",
          "height": 265
        },
        "id": "H6WSgXFx2lg5",
        "outputId": "38d8b9a4-76f4-4162-d9c2-0af7500f5ed0"
      },
      "execution_count": null,
      "outputs": [
        {
          "output_type": "display_data",
          "data": {
            "text/plain": [
              "<Figure size 432x288 with 1 Axes>"
            ],
            "image/png": "[encoded data removed]"
          },
          "metadata": {
            "needs_background": "light"
          }
        }
      ]
    },
    {
      "cell_type": "markdown",
      "source": [
        "From the graph above, we can see that loss and val_loss score are slightly worse than the model with Adam and Adamax optimizer. Next, let's see the accuracy and recall score."
      ],
      "metadata": {
        "id": "52As9QPJ3VB9"
      }
    },
    {
      "cell_type": "code",
      "source": [
        "y_pred_fc_ndm = model_fc_ndm.predict(X_test_final)\n",
        "y_pred_fc_ndm = np.where(y_pred_fc_ndm >= 0.5, 1, 0)\n",
        "print(classification_report(y_test, y_pred_fc_admx))"
      ],
      "metadata": {
        "colab": {
          "base_uri": "https://localhost:8080/"
        },
        "id": "3OXpt9AO3ppg",
        "outputId": "30c20a02-3f5d-4d57-c98a-4aac3d99d4b3"
      },
      "execution_count": null,
      "outputs": [
        {
          "output_type": "stream",
          "name": "stdout",
          "text": [
            "              precision    recall  f1-score   support\n",
            "\n",
            "           0       0.82      0.90      0.86      1033\n",
            "           1       0.63      0.45      0.53       374\n",
            "\n",
            "    accuracy                           0.78      1407\n",
            "   macro avg       0.73      0.68      0.69      1407\n",
            "weighted avg       0.77      0.78      0.77      1407\n",
            "\n"
          ]
        }
      ]
    },
    {
      "cell_type": "markdown",
      "source": [
        "The score itself it's not that different from model with Adamax optimizer. Since both model (Adamax and Nadam) are having recall score below 50%, I will use the model with Adam optimizer."
      ],
      "metadata": {
        "id": "kPRLTdUW3x5f"
      }
    },
    {
      "cell_type": "markdown",
      "source": [
        "---\n",
        "## Saving Model"
      ],
      "metadata": {
        "id": "_5Ntv65uu9x1"
      }
    },
    {
      "cell_type": "code",
      "source": [
        "model_fc.save('modelfc.h5')\n",
        "print('saved')"
      ],
      "metadata": {
        "id": "-TcNW3Tvu_cc",
        "colab": {
          "base_uri": "https://localhost:8080/"
        },
        "outputId": "98d73dfa-834e-4400-9fdb-30c9294a4b99"
      },
      "execution_count": null,
      "outputs": [
        {
          "output_type": "stream",
          "name": "stdout",
          "text": [
            "saved\n"
          ]
        }
      ]
    },
    {
      "cell_type": "markdown",
      "source": [
        "Saving pipeline for preprocessor."
      ],
      "metadata": {
        "id": "kBJ1qdY0oxGe"
      }
    },
    {
      "cell_type": "code",
      "source": [
        "import pickle\n",
        "preprocessor = ColumnTransformer(transformers=[('num', MinMaxScaler(), num_columns),\n",
        "                                               ('cat', OrdinalEncoder(), cat_columns)])\n"
      ],
      "metadata": {
        "id": "qr6Thk6oCNed"
      },
      "execution_count": null,
      "outputs": []
    },
    {
      "cell_type": "code",
      "source": [
        "with open(\"preprocessor.pkl\", \"wb\") as f:\n",
        "    pickle.dump(preprocessor, f)"
      ],
      "metadata": {
        "id": "WYBg607KEtdr"
      },
      "execution_count": null,
      "outputs": []
    },
    {
      "cell_type": "markdown",
      "source": [
        "# 9 - Model Inference"
      ],
      "metadata": {
        "id": "qO4nuyQdvOjp"
      }
    },
    {
      "cell_type": "code",
      "source": [
        "data_inf"
      ],
      "metadata": {
        "id": "n6tQFIJCvQtc",
        "colab": {
          "base_uri": "https://localhost:8080/",
          "height": 566
        },
        "outputId": "cf9c95ec-0854-4748-e125-3839a49317cb"
      },
      "execution_count": null,
      "outputs": [
        {
          "output_type": "execute_result",
          "data": {
            "text/plain": [
              "   gender  SeniorCitizen Partner Dependents  tenure PhoneService  \\\n",
              "0  Female              1     Yes         No      69          Yes   \n",
              "1    Male              0      No         No      45          Yes   \n",
              "2  Female              0     Yes         No      48          Yes   \n",
              "3  Female              0     Yes        Yes      32          Yes   \n",
              "4  Female              1      No         No      16          Yes   \n",
              "5    Male              1      No         No       2          Yes   \n",
              "6    Male              0      No        Yes       1           No   \n",
              "7    Male              0     Yes         No      72          Yes   \n",
              "8    Male              0      No         No       7          Yes   \n",
              "9    Male              0      No        Yes      16          Yes   \n",
              "\n",
              "  MultipleLines InternetService OnlineSecurity OnlineBackup DeviceProtection  \\\n",
              "0            No     Fiber optic            Yes          Yes               No   \n",
              "1           Yes     Fiber optic            Yes           No              Yes   \n",
              "2           Yes     Fiber optic             No          Yes               No   \n",
              "3           Yes     Fiber optic            Yes           No               No   \n",
              "4           Yes     Fiber optic             No           No               No   \n",
              "5           Yes     Fiber optic             No           No               No   \n",
              "6            No             DSL             No          Yes               No   \n",
              "7           Yes     Fiber optic            Yes          Yes              Yes   \n",
              "8           Yes              No             No           No               No   \n",
              "9           Yes             DSL            Yes          Yes               No   \n",
              "\n",
              "  TechSupport StreamingTV StreamingMovies        Contract PaperlessBilling  \\\n",
              "0          No          No             Yes        One year               No   \n",
              "1         Yes         Yes             Yes  Month-to-month              Yes   \n",
              "2         Yes         Yes             Yes  Month-to-month              Yes   \n",
              "3          No         Yes              No  Month-to-month               No   \n",
              "4          No         Yes             Yes  Month-to-month              Yes   \n",
              "5          No         Yes             Yes  Month-to-month              Yes   \n",
              "6         Yes          No              No  Month-to-month               No   \n",
              "7         Yes          No             Yes        Two year               No   \n",
              "8          No          No              No  Month-to-month               No   \n",
              "9          No          No             Yes  Month-to-month              Yes   \n",
              "\n",
              "   MonthlyCharges  TotalCharges  Churn_bool  \n",
              "0           87.30       6055.55           0  \n",
              "1          108.45       4964.70           0  \n",
              "2          105.10       5083.55           0  \n",
              "3           89.60       2901.80           0  \n",
              "4           96.40       1581.20           1  \n",
              "5           94.00        181.70           1  \n",
              "6           33.60         33.60           0  \n",
              "7          105.60       7581.50           0  \n",
              "8           23.50        173.00           0  \n",
              "9           69.10       1083.70           0  "
            ],
            "text/html": [
              "\n",
              "  <div id=\"df-0fda5067-4591-4338-80de-3c1ffcae42fb\">\n",
              "    <div class=\"colab-df-container\">\n",
              "      <div>\n",
              "<style scoped>\n",
              "    .dataframe tbody tr th:only-of-type {\n",
              "        vertical-align: middle;\n",
              "    }\n",
              "\n",
              "    .dataframe tbody tr th {\n",
              "        vertical-align: top;\n",
              "    }\n",
              "\n",
              "    .dataframe thead th {\n",
              "        text-align: right;\n",
              "    }\n",
              "</style>\n",
              "<table border=\"1\" class=\"dataframe\">\n",
              "  <thead>\n",
              "    <tr style=\"text-align: right;\">\n",
              "      <th></th>\n",
              "      <th>gender</th>\n",
              "      <th>SeniorCitizen</th>\n",
              "      <th>Partner</th>\n",
              "      <th>Dependents</th>\n",
              "      <th>tenure</th>\n",
              "      <th>PhoneService</th>\n",
              "      <th>MultipleLines</th>\n",
              "      <th>InternetService</th>\n",
              "      <th>OnlineSecurity</th>\n",
              "      <th>OnlineBackup</th>\n",
              "      <th>DeviceProtection</th>\n",
              "      <th>TechSupport</th>\n",
              "      <th>StreamingTV</th>\n",
              "      <th>StreamingMovies</th>\n",
              "      <th>Contract</th>\n",
              "      <th>PaperlessBilling</th>\n",
              "      <th>MonthlyCharges</th>\n",
              "      <th>TotalCharges</th>\n",
              "      <th>Churn_bool</th>\n",
              "    </tr>\n",
              "  </thead>\n",
              "  <tbody>\n",
              "    <tr>\n",
              "      <th>0</th>\n",
              "      <td>Female</td>\n",
              "      <td>1</td>\n",
              "      <td>Yes</td>\n",
              "      <td>No</td>\n",
              "      <td>69</td>\n",
              "      <td>Yes</td>\n",
              "      <td>No</td>\n",
              "      <td>Fiber optic</td>\n",
              "      <td>Yes</td>\n",
              "      <td>Yes</td>\n",
              "      <td>No</td>\n",
              "      <td>No</td>\n",
              "      <td>No</td>\n",
              "      <td>Yes</td>\n",
              "      <td>One year</td>\n",
              "      <td>No</td>\n",
              "      <td>87.30</td>\n",
              "      <td>6055.55</td>\n",
              "      <td>0</td>\n",
              "    </tr>\n",
              "    <tr>\n",
              "      <th>1</th>\n",
              "      <td>Male</td>\n",
              "      <td>0</td>\n",
              "      <td>No</td>\n",
              "      <td>No</td>\n",
              "      <td>45</td>\n",
              "      <td>Yes</td>\n",
              "      <td>Yes</td>\n",
              "      <td>Fiber optic</td>\n",
              "      <td>Yes</td>\n",
              "      <td>No</td>\n",
              "      <td>Yes</td>\n",
              "      <td>Yes</td>\n",
              "      <td>Yes</td>\n",
              "      <td>Yes</td>\n",
              "      <td>Month-to-month</td>\n",
              "      <td>Yes</td>\n",
              "      <td>108.45</td>\n",
              "      <td>4964.70</td>\n",
              "      <td>0</td>\n",
              "    </tr>\n",
              "    <tr>\n",
              "      <th>2</th>\n",
              "      <td>Female</td>\n",
              "      <td>0</td>\n",
              "      <td>Yes</td>\n",
              "      <td>No</td>\n",
              "      <td>48</td>\n",
              "      <td>Yes</td>\n",
              "      <td>Yes</td>\n",
              "      <td>Fiber optic</td>\n",
              "      <td>No</td>\n",
              "      <td>Yes</td>\n",
              "      <td>No</td>\n",
              "      <td>Yes</td>\n",
              "      <td>Yes</td>\n",
              "      <td>Yes</td>\n",
              "      <td>Month-to-month</td>\n",
              "      <td>Yes</td>\n",
              "      <td>105.10</td>\n",
              "      <td>5083.55</td>\n",
              "      <td>0</td>\n",
              "    </tr>\n",
              "    <tr>\n",
              "      <th>3</th>\n",
              "      <td>Female</td>\n",
              "      <td>0</td>\n",
              "      <td>Yes</td>\n",
              "      <td>Yes</td>\n",
              "      <td>32</td>\n",
              "      <td>Yes</td>\n",
              "      <td>Yes</td>\n",
              "      <td>Fiber optic</td>\n",
              "      <td>Yes</td>\n",
              "      <td>No</td>\n",
              "      <td>No</td>\n",
              "      <td>No</td>\n",
              "      <td>Yes</td>\n",
              "      <td>No</td>\n",
              "      <td>Month-to-month</td>\n",
              "      <td>No</td>\n",
              "      <td>89.60</td>\n",
              "      <td>2901.80</td>\n",
              "      <td>0</td>\n",
              "    </tr>\n",
              "    <tr>\n",
              "      <th>4</th>\n",
              "      <td>Female</td>\n",
              "      <td>1</td>\n",
              "      <td>No</td>\n",
              "      <td>No</td>\n",
              "      <td>16</td>\n",
              "      <td>Yes</td>\n",
              "      <td>Yes</td>\n",
              "      <td>Fiber optic</td>\n",
              "      <td>No</td>\n",
              "      <td>No</td>\n",
              "      <td>No</td>\n",
              "      <td>No</td>\n",
              "      <td>Yes</td>\n",
              "      <td>Yes</td>\n",
              "      <td>Month-to-month</td>\n",
              "      <td>Yes</td>\n",
              "      <td>96.40</td>\n",
              "      <td>1581.20</td>\n",
              "      <td>1</td>\n",
              "    </tr>\n",
              "    <tr>\n",
              "      <th>5</th>\n",
              "      <td>Male</td>\n",
              "      <td>1</td>\n",
              "      <td>No</td>\n",
              "      <td>No</td>\n",
              "      <td>2</td>\n",
              "      <td>Yes</td>\n",
              "      <td>Yes</td>\n",
              "      <td>Fiber optic</td>\n",
              "      <td>No</td>\n",
              "      <td>No</td>\n",
              "      <td>No</td>\n",
              "      <td>No</td>\n",
              "      <td>Yes</td>\n",
              "      <td>Yes</td>\n",
              "      <td>Month-to-month</td>\n",
              "      <td>Yes</td>\n",
              "      <td>94.00</td>\n",
              "      <td>181.70</td>\n",
              "      <td>1</td>\n",
              "    </tr>\n",
              "    <tr>\n",
              "      <th>6</th>\n",
              "      <td>Male</td>\n",
              "      <td>0</td>\n",
              "      <td>No</td>\n",
              "      <td>Yes</td>\n",
              "      <td>1</td>\n",
              "      <td>No</td>\n",
              "      <td>No</td>\n",
              "      <td>DSL</td>\n",
              "      <td>No</td>\n",
              "      <td>Yes</td>\n",
              "      <td>No</td>\n",
              "      <td>Yes</td>\n",
              "      <td>No</td>\n",
              "      <td>No</td>\n",
              "      <td>Month-to-month</td>\n",
              "      <td>No</td>\n",
              "      <td>33.60</td>\n",
              "      <td>33.60</td>\n",
              "      <td>0</td>\n",
              "    </tr>\n",
              "    <tr>\n",
              "      <th>7</th>\n",
              "      <td>Male</td>\n",
              "      <td>0</td>\n",
              "      <td>Yes</td>\n",
              "      <td>No</td>\n",
              "      <td>72</td>\n",
              "      <td>Yes</td>\n",
              "      <td>Yes</td>\n",
              "      <td>Fiber optic</td>\n",
              "      <td>Yes</td>\n",
              "      <td>Yes</td>\n",
              "      <td>Yes</td>\n",
              "      <td>Yes</td>\n",
              "      <td>No</td>\n",
              "      <td>Yes</td>\n",
              "      <td>Two year</td>\n",
              "      <td>No</td>\n",
              "      <td>105.60</td>\n",
              "      <td>7581.50</td>\n",
              "      <td>0</td>\n",
              "    </tr>\n",
              "    <tr>\n",
              "      <th>8</th>\n",
              "      <td>Male</td>\n",
              "      <td>0</td>\n",
              "      <td>No</td>\n",
              "      <td>No</td>\n",
              "      <td>7</td>\n",
              "      <td>Yes</td>\n",
              "      <td>Yes</td>\n",
              "      <td>No</td>\n",
              "      <td>No</td>\n",
              "      <td>No</td>\n",
              "      <td>No</td>\n",
              "      <td>No</td>\n",
              "      <td>No</td>\n",
              "      <td>No</td>\n",
              "      <td>Month-to-month</td>\n",
              "      <td>No</td>\n",
              "      <td>23.50</td>\n",
              "      <td>173.00</td>\n",
              "      <td>0</td>\n",
              "    </tr>\n",
              "    <tr>\n",
              "      <th>9</th>\n",
              "      <td>Male</td>\n",
              "      <td>0</td>\n",
              "      <td>No</td>\n",
              "      <td>Yes</td>\n",
              "      <td>16</td>\n",
              "      <td>Yes</td>\n",
              "      <td>Yes</td>\n",
              "      <td>DSL</td>\n",
              "      <td>Yes</td>\n",
              "      <td>Yes</td>\n",
              "      <td>No</td>\n",
              "      <td>No</td>\n",
              "      <td>No</td>\n",
              "      <td>Yes</td>\n",
              "      <td>Month-to-month</td>\n",
              "      <td>Yes</td>\n",
              "      <td>69.10</td>\n",
              "      <td>1083.70</td>\n",
              "      <td>0</td>\n",
              "    </tr>\n",
              "  </tbody>\n",
              "</table>\n",
              "</div>\n",
              "      <button class=\"colab-df-convert\" onclick=\"convertToInteractive('df-0fda5067-4591-4338-80de-3c1ffcae42fb')\"\n",
              "              title=\"Convert this dataframe to an interactive table.\"\n",
              "              style=\"display:none;\">\n",
              "        \n",
              "  <svg xmlns=\"http://www.w3.org/2000/svg\" height=\"24px\"viewBox=\"0 0 24 24\"\n",
              "       width=\"24px\">\n",
              "    <path d=\"M0 0h24v24H0V0z\" fill=\"none\"/>\n",
              "    <path d=\"M18.56 5.44l.94 2.06.94-2.06 2.06-.94-2.06-.94-.94-2.06-.94 2.06-2.06.94zm-11 1L8.5 8.5l.94-2.06 2.06-.94-2.06-.94L8.5 2.5l-.94 2.06-2.06.94zm10 10l.94 2.06.94-2.06 2.06-.94-2.06-.94-.94-2.06-.94 2.06-2.06.94z\"/><path d=\"M17.41 7.96l-1.37-1.37c-.4-.4-.92-.59-1.43-.59-.52 0-1.04.2-1.43.59L10.3 9.45l-7.72 7.72c-.78.78-.78 2.05 0 2.83L4 21.41c.39.39.9.59 1.41.59.51 0 1.02-.2 1.41-.59l7.78-7.78 2.81-2.81c.8-.78.8-2.07 0-2.86zM5.41 20L4 18.59l7.72-7.72 1.47 1.35L5.41 20z\"/>\n",
              "  </svg>\n",
              "      </button>\n",
              "      \n",
              "  <style>\n",
              "    .colab-df-container {\n",
              "      display:flex;\n",
              "      flex-wrap:wrap;\n",
              "      gap: 12px;\n",
              "    }\n",
              "\n",
              "    .colab-df-convert {\n",
              "      background-color: #E8F0FE;\n",
              "      border: none;\n",
              "      border-radius: 50%;\n",
              "      cursor: pointer;\n",
              "      display: none;\n",
              "      fill: #1967D2;\n",
              "      height: 32px;\n",
              "      padding: 0 0 0 0;\n",
              "      width: 32px;\n",
              "    }\n",
              "\n",
              "    .colab-df-convert:hover {\n",
              "      background-color: #E2EBFA;\n",
              "      box-shadow: 0px 1px 2px rgba(60, 64, 67, 0.3), 0px 1px 3px 1px rgba(60, 64, 67, 0.15);\n",
              "      fill: #174EA6;\n",
              "    }\n",
              "\n",
              "    [theme=dark] .colab-df-convert {\n",
              "      background-color: #3B4455;\n",
              "      fill: #D2E3FC;\n",
              "    }\n",
              "\n",
              "    [theme=dark] .colab-df-convert:hover {\n",
              "      background-color: #434B5C;\n",
              "      box-shadow: 0px 1px 3px 1px rgba(0, 0, 0, 0.15);\n",
              "      filter: drop-shadow(0px 1px 2px rgba(0, 0, 0, 0.3));\n",
              "      fill: #FFFFFF;\n",
              "    }\n",
              "  </style>\n",
              "\n",
              "      <script>\n",
              "        const buttonEl =\n",
              "          document.querySelector('#df-0fda5067-4591-4338-80de-3c1ffcae42fb button.colab-df-convert');\n",
              "        buttonEl.style.display =\n",
              "          google.colab.kernel.accessAllowed ? 'block' : 'none';\n",
              "\n",
              "        async function convertToInteractive(key) {\n",
              "          const element = document.querySelector('#df-0fda5067-4591-4338-80de-3c1ffcae42fb');\n",
              "          const dataTable =\n",
              "            await google.colab.kernel.invokeFunction('convertToInteractive',\n",
              "                                                     [key], {});\n",
              "          if (!dataTable) return;\n",
              "\n",
              "          const docLinkHtml = 'Like what you see? Visit the ' +\n",
              "            '<a target=\"_blank\" href=https://colab.research.google.com/notebooks/data_table.ipynb>data table notebook</a>'\n",
              "            + ' to learn more about interactive tables.';\n",
              "          element.innerHTML = '';\n",
              "          dataTable['output_type'] = 'display_data';\n",
              "          await google.colab.output.renderOutput(dataTable, element);\n",
              "          const docLink = document.createElement('div');\n",
              "          docLink.innerHTML = docLinkHtml;\n",
              "          element.appendChild(docLink);\n",
              "        }\n",
              "      </script>\n",
              "    </div>\n",
              "  </div>\n",
              "  "
            ]
          },
          "metadata": {},
          "execution_count": 107
        }
      ]
    },
    {
      "cell_type": "code",
      "source": [
        "data_inf_num = data_inf[num_columns]\n",
        "data_inf_cat = data_inf[cat_columns]"
      ],
      "metadata": {
        "id": "2384tu3mvR4Q"
      },
      "execution_count": null,
      "outputs": []
    },
    {
      "cell_type": "code",
      "source": [
        "data_inf_num_scaled = scaler.transform(data_inf_num)\n",
        "data_inf_cat_enc = encoder.transform(data_inf_cat)\n",
        "data_inf_final = np.concatenate([data_inf_num_scaled, data_inf_cat_enc], axis=1)\n",
        "data_inf_final_df = pd.DataFrame(data_inf_final, columns=[num_columns + cat_columns])\n",
        "data_inf_final_df"
      ],
      "metadata": {
        "id": "ZP-DNz6x_6A1",
        "colab": {
          "base_uri": "https://localhost:8080/",
          "height": 427
        },
        "outputId": "932f3643-1a2d-44b7-93b1-944856c42dc7"
      },
      "execution_count": null,
      "outputs": [
        {
          "output_type": "execute_result",
          "data": {
            "text/plain": [
              "  MonthlyCharges TotalCharges OnlineSecurity OnlineBackup DeviceProtection  \\\n",
              "0       0.688092     0.696600            1.0          1.0              0.0   \n",
              "1       0.898854     0.570722            1.0          0.0              1.0   \n",
              "2       0.865471     0.584437            0.0          1.0              0.0   \n",
              "3       0.711011     0.332676            1.0          0.0              0.0   \n",
              "4       0.778774     0.180286            0.0          0.0              0.0   \n",
              "5       0.754858     0.018792            0.0          0.0              0.0   \n",
              "6       0.152965     0.001702            0.0          1.0              0.0   \n",
              "7       0.870453     0.872686            1.0          1.0              1.0   \n",
              "8       0.052317     0.017788            0.0          0.0              0.0   \n",
              "9       0.506726     0.122877            1.0          1.0              0.0   \n",
              "\n",
              "  TechSupport StreamingTV StreamingMovies Contract PaperlessBilling  \n",
              "0         0.0         0.0             1.0      1.0              0.0  \n",
              "1         1.0         1.0             1.0      0.0              1.0  \n",
              "2         1.0         1.0             1.0      0.0              1.0  \n",
              "3         0.0         1.0             0.0      0.0              0.0  \n",
              "4         0.0         1.0             1.0      0.0              1.0  \n",
              "5         0.0         1.0             1.0      0.0              1.0  \n",
              "6         1.0         0.0             0.0      0.0              0.0  \n",
              "7         1.0         0.0             1.0      2.0              0.0  \n",
              "8         0.0         0.0             0.0      0.0              0.0  \n",
              "9         0.0         0.0             1.0      0.0              1.0  "
            ],
            "text/html": [
              "\n",
              "  <div id=\"df-ced304b8-2655-40bf-ad5f-6a7db18af694\">\n",
              "    <div class=\"colab-df-container\">\n",
              "      <div>\n",
              "<style scoped>\n",
              "    .dataframe tbody tr th:only-of-type {\n",
              "        vertical-align: middle;\n",
              "    }\n",
              "\n",
              "    .dataframe tbody tr th {\n",
              "        vertical-align: top;\n",
              "    }\n",
              "\n",
              "    .dataframe thead tr th {\n",
              "        text-align: left;\n",
              "    }\n",
              "</style>\n",
              "<table border=\"1\" class=\"dataframe\">\n",
              "  <thead>\n",
              "    <tr>\n",
              "      <th></th>\n",
              "      <th>MonthlyCharges</th>\n",
              "      <th>TotalCharges</th>\n",
              "      <th>OnlineSecurity</th>\n",
              "      <th>OnlineBackup</th>\n",
              "      <th>DeviceProtection</th>\n",
              "      <th>TechSupport</th>\n",
              "      <th>StreamingTV</th>\n",
              "      <th>StreamingMovies</th>\n",
              "      <th>Contract</th>\n",
              "      <th>PaperlessBilling</th>\n",
              "    </tr>\n",
              "  </thead>\n",
              "  <tbody>\n",
              "    <tr>\n",
              "      <th>0</th>\n",
              "      <td>0.688092</td>\n",
              "      <td>0.696600</td>\n",
              "      <td>1.0</td>\n",
              "      <td>1.0</td>\n",
              "      <td>0.0</td>\n",
              "      <td>0.0</td>\n",
              "      <td>0.0</td>\n",
              "      <td>1.0</td>\n",
              "      <td>1.0</td>\n",
              "      <td>0.0</td>\n",
              "    </tr>\n",
              "    <tr>\n",
              "      <th>1</th>\n",
              "      <td>0.898854</td>\n",
              "      <td>0.570722</td>\n",
              "      <td>1.0</td>\n",
              "      <td>0.0</td>\n",
              "      <td>1.0</td>\n",
              "      <td>1.0</td>\n",
              "      <td>1.0</td>\n",
              "      <td>1.0</td>\n",
              "      <td>0.0</td>\n",
              "      <td>1.0</td>\n",
              "    </tr>\n",
              "    <tr>\n",
              "      <th>2</th>\n",
              "      <td>0.865471</td>\n",
              "      <td>0.584437</td>\n",
              "      <td>0.0</td>\n",
              "      <td>1.0</td>\n",
              "      <td>0.0</td>\n",
              "      <td>1.0</td>\n",
              "      <td>1.0</td>\n",
              "      <td>1.0</td>\n",
              "      <td>0.0</td>\n",
              "      <td>1.0</td>\n",
              "    </tr>\n",
              "    <tr>\n",
              "      <th>3</th>\n",
              "      <td>0.711011</td>\n",
              "      <td>0.332676</td>\n",
              "      <td>1.0</td>\n",
              "      <td>0.0</td>\n",
              "      <td>0.0</td>\n",
              "      <td>0.0</td>\n",
              "      <td>1.0</td>\n",
              "      <td>0.0</td>\n",
              "      <td>0.0</td>\n",
              "      <td>0.0</td>\n",
              "    </tr>\n",
              "    <tr>\n",
              "      <th>4</th>\n",
              "      <td>0.778774</td>\n",
              "      <td>0.180286</td>\n",
              "      <td>0.0</td>\n",
              "      <td>0.0</td>\n",
              "      <td>0.0</td>\n",
              "      <td>0.0</td>\n",
              "      <td>1.0</td>\n",
              "      <td>1.0</td>\n",
              "      <td>0.0</td>\n",
              "      <td>1.0</td>\n",
              "    </tr>\n",
              "    <tr>\n",
              "      <th>5</th>\n",
              "      <td>0.754858</td>\n",
              "      <td>0.018792</td>\n",
              "      <td>0.0</td>\n",
              "      <td>0.0</td>\n",
              "      <td>0.0</td>\n",
              "      <td>0.0</td>\n",
              "      <td>1.0</td>\n",
              "      <td>1.0</td>\n",
              "      <td>0.0</td>\n",
              "      <td>1.0</td>\n",
              "    </tr>\n",
              "    <tr>\n",
              "      <th>6</th>\n",
              "      <td>0.152965</td>\n",
              "      <td>0.001702</td>\n",
              "      <td>0.0</td>\n",
              "      <td>1.0</td>\n",
              "      <td>0.0</td>\n",
              "      <td>1.0</td>\n",
              "      <td>0.0</td>\n",
              "      <td>0.0</td>\n",
              "      <td>0.0</td>\n",
              "      <td>0.0</td>\n",
              "    </tr>\n",
              "    <tr>\n",
              "      <th>7</th>\n",
              "      <td>0.870453</td>\n",
              "      <td>0.872686</td>\n",
              "      <td>1.0</td>\n",
              "      <td>1.0</td>\n",
              "      <td>1.0</td>\n",
              "      <td>1.0</td>\n",
              "      <td>0.0</td>\n",
              "      <td>1.0</td>\n",
              "      <td>2.0</td>\n",
              "      <td>0.0</td>\n",
              "    </tr>\n",
              "    <tr>\n",
              "      <th>8</th>\n",
              "      <td>0.052317</td>\n",
              "      <td>0.017788</td>\n",
              "      <td>0.0</td>\n",
              "      <td>0.0</td>\n",
              "      <td>0.0</td>\n",
              "      <td>0.0</td>\n",
              "      <td>0.0</td>\n",
              "      <td>0.0</td>\n",
              "      <td>0.0</td>\n",
              "      <td>0.0</td>\n",
              "    </tr>\n",
              "    <tr>\n",
              "      <th>9</th>\n",
              "      <td>0.506726</td>\n",
              "      <td>0.122877</td>\n",
              "      <td>1.0</td>\n",
              "      <td>1.0</td>\n",
              "      <td>0.0</td>\n",
              "      <td>0.0</td>\n",
              "      <td>0.0</td>\n",
              "      <td>1.0</td>\n",
              "      <td>0.0</td>\n",
              "      <td>1.0</td>\n",
              "    </tr>\n",
              "  </tbody>\n",
              "</table>\n",
              "</div>\n",
              "      <button class=\"colab-df-convert\" onclick=\"convertToInteractive('df-ced304b8-2655-40bf-ad5f-6a7db18af694')\"\n",
              "              title=\"Convert this dataframe to an interactive table.\"\n",
              "              style=\"display:none;\">\n",
              "        \n",
              "  <svg xmlns=\"http://www.w3.org/2000/svg\" height=\"24px\"viewBox=\"0 0 24 24\"\n",
              "       width=\"24px\">\n",
              "    <path d=\"M0 0h24v24H0V0z\" fill=\"none\"/>\n",
              "    <path d=\"M18.56 5.44l.94 2.06.94-2.06 2.06-.94-2.06-.94-.94-2.06-.94 2.06-2.06.94zm-11 1L8.5 8.5l.94-2.06 2.06-.94-2.06-.94L8.5 2.5l-.94 2.06-2.06.94zm10 10l.94 2.06.94-2.06 2.06-.94-2.06-.94-.94-2.06-.94 2.06-2.06.94z\"/><path d=\"M17.41 7.96l-1.37-1.37c-.4-.4-.92-.59-1.43-.59-.52 0-1.04.2-1.43.59L10.3 9.45l-7.72 7.72c-.78.78-.78 2.05 0 2.83L4 21.41c.39.39.9.59 1.41.59.51 0 1.02-.2 1.41-.59l7.78-7.78 2.81-2.81c.8-.78.8-2.07 0-2.86zM5.41 20L4 18.59l7.72-7.72 1.47 1.35L5.41 20z\"/>\n",
              "  </svg>\n",
              "      </button>\n",
              "      \n",
              "  <style>\n",
              "    .colab-df-container {\n",
              "      display:flex;\n",
              "      flex-wrap:wrap;\n",
              "      gap: 12px;\n",
              "    }\n",
              "\n",
              "    .colab-df-convert {\n",
              "      background-color: #E8F0FE;\n",
              "      border: none;\n",
              "      border-radius: 50%;\n",
              "      cursor: pointer;\n",
              "      display: none;\n",
              "      fill: #1967D2;\n",
              "      height: 32px;\n",
              "      padding: 0 0 0 0;\n",
              "      width: 32px;\n",
              "    }\n",
              "\n",
              "    .colab-df-convert:hover {\n",
              "      background-color: #E2EBFA;\n",
              "      box-shadow: 0px 1px 2px rgba(60, 64, 67, 0.3), 0px 1px 3px 1px rgba(60, 64, 67, 0.15);\n",
              "      fill: #174EA6;\n",
              "    }\n",
              "\n",
              "    [theme=dark] .colab-df-convert {\n",
              "      background-color: #3B4455;\n",
              "      fill: #D2E3FC;\n",
              "    }\n",
              "\n",
              "    [theme=dark] .colab-df-convert:hover {\n",
              "      background-color: #434B5C;\n",
              "      box-shadow: 0px 1px 3px 1px rgba(0, 0, 0, 0.15);\n",
              "      filter: drop-shadow(0px 1px 2px rgba(0, 0, 0, 0.3));\n",
              "      fill: #FFFFFF;\n",
              "    }\n",
              "  </style>\n",
              "\n",
              "      <script>\n",
              "        const buttonEl =\n",
              "          document.querySelector('#df-ced304b8-2655-40bf-ad5f-6a7db18af694 button.colab-df-convert');\n",
              "        buttonEl.style.display =\n",
              "          google.colab.kernel.accessAllowed ? 'block' : 'none';\n",
              "\n",
              "        async function convertToInteractive(key) {\n",
              "          const element = document.querySelector('#df-ced304b8-2655-40bf-ad5f-6a7db18af694');\n",
              "          const dataTable =\n",
              "            await google.colab.kernel.invokeFunction('convertToInteractive',\n",
              "                                                     [key], {});\n",
              "          if (!dataTable) return;\n",
              "\n",
              "          const docLinkHtml = 'Like what you see? Visit the ' +\n",
              "            '<a target=\"_blank\" href=https://colab.research.google.com/notebooks/data_table.ipynb>data table notebook</a>'\n",
              "            + ' to learn more about interactive tables.';\n",
              "          element.innerHTML = '';\n",
              "          dataTable['output_type'] = 'display_data';\n",
              "          await google.colab.output.renderOutput(dataTable, element);\n",
              "          const docLink = document.createElement('div');\n",
              "          docLink.innerHTML = docLinkHtml;\n",
              "          element.appendChild(docLink);\n",
              "        }\n",
              "      </script>\n",
              "    </div>\n",
              "  </div>\n",
              "  "
            ]
          },
          "metadata": {},
          "execution_count": 109
        }
      ]
    },
    {
      "cell_type": "code",
      "source": [
        "savedModel=load_model('modelfc.h5')\n",
        "savedModel.summary()"
      ],
      "metadata": {
        "id": "r-FW9OOq__4c",
        "colab": {
          "base_uri": "https://localhost:8080/"
        },
        "outputId": "81b2b2bc-0b7c-4cc2-f242-65d4ff5b6cb2"
      },
      "execution_count": null,
      "outputs": [
        {
          "output_type": "stream",
          "name": "stdout",
          "text": [
            "Model: \"model\"\n",
            "_________________________________________________________________\n",
            " Layer (type)                Output Shape              Param #   \n",
            "=================================================================\n",
            " input_1 (InputLayer)        [(None, 10)]              0         \n",
            "                                                                 \n",
            " dense_2 (Dense)             (None, 5)                 55        \n",
            "                                                                 \n",
            " dense_3 (Dense)             (None, 1)                 6         \n",
            "                                                                 \n",
            "=================================================================\n",
            "Total params: 61\n",
            "Trainable params: 61\n",
            "Non-trainable params: 0\n",
            "_________________________________________________________________\n"
          ]
        }
      ]
    },
    {
      "cell_type": "code",
      "source": [
        "y_pred_inf = savedModel.predict(data_inf_final)\n",
        "y_pred_inf"
      ],
      "metadata": {
        "id": "DjumXXDlAu_E",
        "colab": {
          "base_uri": "https://localhost:8080/"
        },
        "outputId": "6fda1cc7-7130-4fe8-8ec3-87de3cbecdc4"
      },
      "execution_count": null,
      "outputs": [
        {
          "output_type": "execute_result",
          "data": {
            "text/plain": [
              "array([[0.05023786],\n",
              "       [0.24398465],\n",
              "       [0.39725372],\n",
              "       [0.26808077],\n",
              "       [0.6586168 ],\n",
              "       [0.6586168 ],\n",
              "       [0.14362784],\n",
              "       [0.01093393],\n",
              "       [0.21243148],\n",
              "       [0.39607033]], dtype=float32)"
            ]
          },
          "metadata": {},
          "execution_count": 111
        }
      ]
    },
    {
      "cell_type": "code",
      "source": [
        "y_pred_inf_df = pd.DataFrame(y_pred_inf, columns=['Prediction'])"
      ],
      "metadata": {
        "id": "UfsgMIWjB6xU"
      },
      "execution_count": null,
      "outputs": []
    },
    {
      "cell_type": "code",
      "source": [
        "y_pred_inf_df"
      ],
      "metadata": {
        "id": "MrhsMoZuCBBE",
        "colab": {
          "base_uri": "https://localhost:8080/",
          "height": 363
        },
        "outputId": "6e3f5a49-8fbd-42c1-e695-54efc3fb2cb9"
      },
      "execution_count": null,
      "outputs": [
        {
          "output_type": "execute_result",
          "data": {
            "text/plain": [
              "   Prediction\n",
              "0    0.050238\n",
              "1    0.243985\n",
              "2    0.397254\n",
              "3    0.268081\n",
              "4    0.658617\n",
              "5    0.658617\n",
              "6    0.143628\n",
              "7    0.010934\n",
              "8    0.212431\n",
              "9    0.396070"
            ],
            "text/html": [
              "\n",
              "  <div id=\"df-5ca8d5e5-2835-47bd-9d71-29448df11ac9\">\n",
              "    <div class=\"colab-df-container\">\n",
              "      <div>\n",
              "<style scoped>\n",
              "    .dataframe tbody tr th:only-of-type {\n",
              "        vertical-align: middle;\n",
              "    }\n",
              "\n",
              "    .dataframe tbody tr th {\n",
              "        vertical-align: top;\n",
              "    }\n",
              "\n",
              "    .dataframe thead th {\n",
              "        text-align: right;\n",
              "    }\n",
              "</style>\n",
              "<table border=\"1\" class=\"dataframe\">\n",
              "  <thead>\n",
              "    <tr style=\"text-align: right;\">\n",
              "      <th></th>\n",
              "      <th>Prediction</th>\n",
              "    </tr>\n",
              "  </thead>\n",
              "  <tbody>\n",
              "    <tr>\n",
              "      <th>0</th>\n",
              "      <td>0.050238</td>\n",
              "    </tr>\n",
              "    <tr>\n",
              "      <th>1</th>\n",
              "      <td>0.243985</td>\n",
              "    </tr>\n",
              "    <tr>\n",
              "      <th>2</th>\n",
              "      <td>0.397254</td>\n",
              "    </tr>\n",
              "    <tr>\n",
              "      <th>3</th>\n",
              "      <td>0.268081</td>\n",
              "    </tr>\n",
              "    <tr>\n",
              "      <th>4</th>\n",
              "      <td>0.658617</td>\n",
              "    </tr>\n",
              "    <tr>\n",
              "      <th>5</th>\n",
              "      <td>0.658617</td>\n",
              "    </tr>\n",
              "    <tr>\n",
              "      <th>6</th>\n",
              "      <td>0.143628</td>\n",
              "    </tr>\n",
              "    <tr>\n",
              "      <th>7</th>\n",
              "      <td>0.010934</td>\n",
              "    </tr>\n",
              "    <tr>\n",
              "      <th>8</th>\n",
              "      <td>0.212431</td>\n",
              "    </tr>\n",
              "    <tr>\n",
              "      <th>9</th>\n",
              "      <td>0.396070</td>\n",
              "    </tr>\n",
              "  </tbody>\n",
              "</table>\n",
              "</div>\n",
              "      <button class=\"colab-df-convert\" onclick=\"convertToInteractive('df-5ca8d5e5-2835-47bd-9d71-29448df11ac9')\"\n",
              "              title=\"Convert this dataframe to an interactive table.\"\n",
              "              style=\"display:none;\">\n",
              "        \n",
              "  <svg xmlns=\"http://www.w3.org/2000/svg\" height=\"24px\"viewBox=\"0 0 24 24\"\n",
              "       width=\"24px\">\n",
              "    <path d=\"M0 0h24v24H0V0z\" fill=\"none\"/>\n",
              "    <path d=\"M18.56 5.44l.94 2.06.94-2.06 2.06-.94-2.06-.94-.94-2.06-.94 2.06-2.06.94zm-11 1L8.5 8.5l.94-2.06 2.06-.94-2.06-.94L8.5 2.5l-.94 2.06-2.06.94zm10 10l.94 2.06.94-2.06 2.06-.94-2.06-.94-.94-2.06-.94 2.06-2.06.94z\"/><path d=\"M17.41 7.96l-1.37-1.37c-.4-.4-.92-.59-1.43-.59-.52 0-1.04.2-1.43.59L10.3 9.45l-7.72 7.72c-.78.78-.78 2.05 0 2.83L4 21.41c.39.39.9.59 1.41.59.51 0 1.02-.2 1.41-.59l7.78-7.78 2.81-2.81c.8-.78.8-2.07 0-2.86zM5.41 20L4 18.59l7.72-7.72 1.47 1.35L5.41 20z\"/>\n",
              "  </svg>\n",
              "      </button>\n",
              "      \n",
              "  <style>\n",
              "    .colab-df-container {\n",
              "      display:flex;\n",
              "      flex-wrap:wrap;\n",
              "      gap: 12px;\n",
              "    }\n",
              "\n",
              "    .colab-df-convert {\n",
              "      background-color: #E8F0FE;\n",
              "      border: none;\n",
              "      border-radius: 50%;\n",
              "      cursor: pointer;\n",
              "      display: none;\n",
              "      fill: #1967D2;\n",
              "      height: 32px;\n",
              "      padding: 0 0 0 0;\n",
              "      width: 32px;\n",
              "    }\n",
              "\n",
              "    .colab-df-convert:hover {\n",
              "      background-color: #E2EBFA;\n",
              "      box-shadow: 0px 1px 2px rgba(60, 64, 67, 0.3), 0px 1px 3px 1px rgba(60, 64, 67, 0.15);\n",
              "      fill: #174EA6;\n",
              "    }\n",
              "\n",
              "    [theme=dark] .colab-df-convert {\n",
              "      background-color: #3B4455;\n",
              "      fill: #D2E3FC;\n",
              "    }\n",
              "\n",
              "    [theme=dark] .colab-df-convert:hover {\n",
              "      background-color: #434B5C;\n",
              "      box-shadow: 0px 1px 3px 1px rgba(0, 0, 0, 0.15);\n",
              "      filter: drop-shadow(0px 1px 2px rgba(0, 0, 0, 0.3));\n",
              "      fill: #FFFFFF;\n",
              "    }\n",
              "  </style>\n",
              "\n",
              "      <script>\n",
              "        const buttonEl =\n",
              "          document.querySelector('#df-5ca8d5e5-2835-47bd-9d71-29448df11ac9 button.colab-df-convert');\n",
              "        buttonEl.style.display =\n",
              "          google.colab.kernel.accessAllowed ? 'block' : 'none';\n",
              "\n",
              "        async function convertToInteractive(key) {\n",
              "          const element = document.querySelector('#df-5ca8d5e5-2835-47bd-9d71-29448df11ac9');\n",
              "          const dataTable =\n",
              "            await google.colab.kernel.invokeFunction('convertToInteractive',\n",
              "                                                     [key], {});\n",
              "          if (!dataTable) return;\n",
              "\n",
              "          const docLinkHtml = 'Like what you see? Visit the ' +\n",
              "            '<a target=\"_blank\" href=https://colab.research.google.com/notebooks/data_table.ipynb>data table notebook</a>'\n",
              "            + ' to learn more about interactive tables.';\n",
              "          element.innerHTML = '';\n",
              "          dataTable['output_type'] = 'display_data';\n",
              "          await google.colab.output.renderOutput(dataTable, element);\n",
              "          const docLink = document.createElement('div');\n",
              "          docLink.innerHTML = docLinkHtml;\n",
              "          element.appendChild(docLink);\n",
              "        }\n",
              "      </script>\n",
              "    </div>\n",
              "  </div>\n",
              "  "
            ]
          },
          "metadata": {},
          "execution_count": 113
        }
      ]
    },
    {
      "cell_type": "code",
      "source": [
        "pd.concat([data_inf, y_pred_inf_df], axis=1)"
      ],
      "metadata": {
        "id": "RPLJjU3lBRMl",
        "colab": {
          "base_uri": "https://localhost:8080/",
          "height": 566
        },
        "outputId": "a3fcc887-669d-4c84-a2bd-4cb2494ddfcd"
      },
      "execution_count": null,
      "outputs": [
        {
          "output_type": "execute_result",
          "data": {
            "text/plain": [
              "   gender  SeniorCitizen Partner Dependents  tenure PhoneService  \\\n",
              "0  Female              1     Yes         No      69          Yes   \n",
              "1    Male              0      No         No      45          Yes   \n",
              "2  Female              0     Yes         No      48          Yes   \n",
              "3  Female              0     Yes        Yes      32          Yes   \n",
              "4  Female              1      No         No      16          Yes   \n",
              "5    Male              1      No         No       2          Yes   \n",
              "6    Male              0      No        Yes       1           No   \n",
              "7    Male              0     Yes         No      72          Yes   \n",
              "8    Male              0      No         No       7          Yes   \n",
              "9    Male              0      No        Yes      16          Yes   \n",
              "\n",
              "  MultipleLines InternetService OnlineSecurity OnlineBackup DeviceProtection  \\\n",
              "0            No     Fiber optic            Yes          Yes               No   \n",
              "1           Yes     Fiber optic            Yes           No              Yes   \n",
              "2           Yes     Fiber optic             No          Yes               No   \n",
              "3           Yes     Fiber optic            Yes           No               No   \n",
              "4           Yes     Fiber optic             No           No               No   \n",
              "5           Yes     Fiber optic             No           No               No   \n",
              "6            No             DSL             No          Yes               No   \n",
              "7           Yes     Fiber optic            Yes          Yes              Yes   \n",
              "8           Yes              No             No           No               No   \n",
              "9           Yes             DSL            Yes          Yes               No   \n",
              "\n",
              "  TechSupport StreamingTV StreamingMovies        Contract PaperlessBilling  \\\n",
              "0          No          No             Yes        One year               No   \n",
              "1         Yes         Yes             Yes  Month-to-month              Yes   \n",
              "2         Yes         Yes             Yes  Month-to-month              Yes   \n",
              "3          No         Yes              No  Month-to-month               No   \n",
              "4          No         Yes             Yes  Month-to-month              Yes   \n",
              "5          No         Yes             Yes  Month-to-month              Yes   \n",
              "6         Yes          No              No  Month-to-month               No   \n",
              "7         Yes          No             Yes        Two year               No   \n",
              "8          No          No              No  Month-to-month               No   \n",
              "9          No          No             Yes  Month-to-month              Yes   \n",
              "\n",
              "   MonthlyCharges  TotalCharges  Churn_bool  Prediction  \n",
              "0           87.30       6055.55           0    0.050238  \n",
              "1          108.45       4964.70           0    0.243985  \n",
              "2          105.10       5083.55           0    0.397254  \n",
              "3           89.60       2901.80           0    0.268081  \n",
              "4           96.40       1581.20           1    0.658617  \n",
              "5           94.00        181.70           1    0.658617  \n",
              "6           33.60         33.60           0    0.143628  \n",
              "7          105.60       7581.50           0    0.010934  \n",
              "8           23.50        173.00           0    0.212431  \n",
              "9           69.10       1083.70           0    0.396070  "
            ],
            "text/html": [
              "\n",
              "  <div id=\"df-94bc4257-8eca-47b8-a292-1b64c68a8220\">\n",
              "    <div class=\"colab-df-container\">\n",
              "      <div>\n",
              "<style scoped>\n",
              "    .dataframe tbody tr th:only-of-type {\n",
              "        vertical-align: middle;\n",
              "    }\n",
              "\n",
              "    .dataframe tbody tr th {\n",
              "        vertical-align: top;\n",
              "    }\n",
              "\n",
              "    .dataframe thead th {\n",
              "        text-align: right;\n",
              "    }\n",
              "</style>\n",
              "<table border=\"1\" class=\"dataframe\">\n",
              "  <thead>\n",
              "    <tr style=\"text-align: right;\">\n",
              "      <th></th>\n",
              "      <th>gender</th>\n",
              "      <th>SeniorCitizen</th>\n",
              "      <th>Partner</th>\n",
              "      <th>Dependents</th>\n",
              "      <th>tenure</th>\n",
              "      <th>PhoneService</th>\n",
              "      <th>MultipleLines</th>\n",
              "      <th>InternetService</th>\n",
              "      <th>OnlineSecurity</th>\n",
              "      <th>OnlineBackup</th>\n",
              "      <th>DeviceProtection</th>\n",
              "      <th>TechSupport</th>\n",
              "      <th>StreamingTV</th>\n",
              "      <th>StreamingMovies</th>\n",
              "      <th>Contract</th>\n",
              "      <th>PaperlessBilling</th>\n",
              "      <th>MonthlyCharges</th>\n",
              "      <th>TotalCharges</th>\n",
              "      <th>Churn_bool</th>\n",
              "      <th>Prediction</th>\n",
              "    </tr>\n",
              "  </thead>\n",
              "  <tbody>\n",
              "    <tr>\n",
              "      <th>0</th>\n",
              "      <td>Female</td>\n",
              "      <td>1</td>\n",
              "      <td>Yes</td>\n",
              "      <td>No</td>\n",
              "      <td>69</td>\n",
              "      <td>Yes</td>\n",
              "      <td>No</td>\n",
              "      <td>Fiber optic</td>\n",
              "      <td>Yes</td>\n",
              "      <td>Yes</td>\n",
              "      <td>No</td>\n",
              "      <td>No</td>\n",
              "      <td>No</td>\n",
              "      <td>Yes</td>\n",
              "      <td>One year</td>\n",
              "      <td>No</td>\n",
              "      <td>87.30</td>\n",
              "      <td>6055.55</td>\n",
              "      <td>0</td>\n",
              "      <td>0.050238</td>\n",
              "    </tr>\n",
              "    <tr>\n",
              "      <th>1</th>\n",
              "      <td>Male</td>\n",
              "      <td>0</td>\n",
              "      <td>No</td>\n",
              "      <td>No</td>\n",
              "      <td>45</td>\n",
              "      <td>Yes</td>\n",
              "      <td>Yes</td>\n",
              "      <td>Fiber optic</td>\n",
              "      <td>Yes</td>\n",
              "      <td>No</td>\n",
              "      <td>Yes</td>\n",
              "      <td>Yes</td>\n",
              "      <td>Yes</td>\n",
              "      <td>Yes</td>\n",
              "      <td>Month-to-month</td>\n",
              "      <td>Yes</td>\n",
              "      <td>108.45</td>\n",
              "      <td>4964.70</td>\n",
              "      <td>0</td>\n",
              "      <td>0.243985</td>\n",
              "    </tr>\n",
              "    <tr>\n",
              "      <th>2</th>\n",
              "      <td>Female</td>\n",
              "      <td>0</td>\n",
              "      <td>Yes</td>\n",
              "      <td>No</td>\n",
              "      <td>48</td>\n",
              "      <td>Yes</td>\n",
              "      <td>Yes</td>\n",
              "      <td>Fiber optic</td>\n",
              "      <td>No</td>\n",
              "      <td>Yes</td>\n",
              "      <td>No</td>\n",
              "      <td>Yes</td>\n",
              "      <td>Yes</td>\n",
              "      <td>Yes</td>\n",
              "      <td>Month-to-month</td>\n",
              "      <td>Yes</td>\n",
              "      <td>105.10</td>\n",
              "      <td>5083.55</td>\n",
              "      <td>0</td>\n",
              "      <td>0.397254</td>\n",
              "    </tr>\n",
              "    <tr>\n",
              "      <th>3</th>\n",
              "      <td>Female</td>\n",
              "      <td>0</td>\n",
              "      <td>Yes</td>\n",
              "      <td>Yes</td>\n",
              "      <td>32</td>\n",
              "      <td>Yes</td>\n",
              "      <td>Yes</td>\n",
              "      <td>Fiber optic</td>\n",
              "      <td>Yes</td>\n",
              "      <td>No</td>\n",
              "      <td>No</td>\n",
              "      <td>No</td>\n",
              "      <td>Yes</td>\n",
              "      <td>No</td>\n",
              "      <td>Month-to-month</td>\n",
              "      <td>No</td>\n",
              "      <td>89.60</td>\n",
              "      <td>2901.80</td>\n",
              "      <td>0</td>\n",
              "      <td>0.268081</td>\n",
              "    </tr>\n",
              "    <tr>\n",
              "      <th>4</th>\n",
              "      <td>Female</td>\n",
              "      <td>1</td>\n",
              "      <td>No</td>\n",
              "      <td>No</td>\n",
              "      <td>16</td>\n",
              "      <td>Yes</td>\n",
              "      <td>Yes</td>\n",
              "      <td>Fiber optic</td>\n",
              "      <td>No</td>\n",
              "      <td>No</td>\n",
              "      <td>No</td>\n",
              "      <td>No</td>\n",
              "      <td>Yes</td>\n",
              "      <td>Yes</td>\n",
              "      <td>Month-to-month</td>\n",
              "      <td>Yes</td>\n",
              "      <td>96.40</td>\n",
              "      <td>1581.20</td>\n",
              "      <td>1</td>\n",
              "      <td>0.658617</td>\n",
              "    </tr>\n",
              "    <tr>\n",
              "      <th>5</th>\n",
              "      <td>Male</td>\n",
              "      <td>1</td>\n",
              "      <td>No</td>\n",
              "      <td>No</td>\n",
              "      <td>2</td>\n",
              "      <td>Yes</td>\n",
              "      <td>Yes</td>\n",
              "      <td>Fiber optic</td>\n",
              "      <td>No</td>\n",
              "      <td>No</td>\n",
              "      <td>No</td>\n",
              "      <td>No</td>\n",
              "      <td>Yes</td>\n",
              "      <td>Yes</td>\n",
              "      <td>Month-to-month</td>\n",
              "      <td>Yes</td>\n",
              "      <td>94.00</td>\n",
              "      <td>181.70</td>\n",
              "      <td>1</td>\n",
              "      <td>0.658617</td>\n",
              "    </tr>\n",
              "    <tr>\n",
              "      <th>6</th>\n",
              "      <td>Male</td>\n",
              "      <td>0</td>\n",
              "      <td>No</td>\n",
              "      <td>Yes</td>\n",
              "      <td>1</td>\n",
              "      <td>No</td>\n",
              "      <td>No</td>\n",
              "      <td>DSL</td>\n",
              "      <td>No</td>\n",
              "      <td>Yes</td>\n",
              "      <td>No</td>\n",
              "      <td>Yes</td>\n",
              "      <td>No</td>\n",
              "      <td>No</td>\n",
              "      <td>Month-to-month</td>\n",
              "      <td>No</td>\n",
              "      <td>33.60</td>\n",
              "      <td>33.60</td>\n",
              "      <td>0</td>\n",
              "      <td>0.143628</td>\n",
              "    </tr>\n",
              "    <tr>\n",
              "      <th>7</th>\n",
              "      <td>Male</td>\n",
              "      <td>0</td>\n",
              "      <td>Yes</td>\n",
              "      <td>No</td>\n",
              "      <td>72</td>\n",
              "      <td>Yes</td>\n",
              "      <td>Yes</td>\n",
              "      <td>Fiber optic</td>\n",
              "      <td>Yes</td>\n",
              "      <td>Yes</td>\n",
              "      <td>Yes</td>\n",
              "      <td>Yes</td>\n",
              "      <td>No</td>\n",
              "      <td>Yes</td>\n",
              "      <td>Two year</td>\n",
              "      <td>No</td>\n",
              "      <td>105.60</td>\n",
              "      <td>7581.50</td>\n",
              "      <td>0</td>\n",
              "      <td>0.010934</td>\n",
              "    </tr>\n",
              "    <tr>\n",
              "      <th>8</th>\n",
              "      <td>Male</td>\n",
              "      <td>0</td>\n",
              "      <td>No</td>\n",
              "      <td>No</td>\n",
              "      <td>7</td>\n",
              "      <td>Yes</td>\n",
              "      <td>Yes</td>\n",
              "      <td>No</td>\n",
              "      <td>No</td>\n",
              "      <td>No</td>\n",
              "      <td>No</td>\n",
              "      <td>No</td>\n",
              "      <td>No</td>\n",
              "      <td>No</td>\n",
              "      <td>Month-to-month</td>\n",
              "      <td>No</td>\n",
              "      <td>23.50</td>\n",
              "      <td>173.00</td>\n",
              "      <td>0</td>\n",
              "      <td>0.212431</td>\n",
              "    </tr>\n",
              "    <tr>\n",
              "      <th>9</th>\n",
              "      <td>Male</td>\n",
              "      <td>0</td>\n",
              "      <td>No</td>\n",
              "      <td>Yes</td>\n",
              "      <td>16</td>\n",
              "      <td>Yes</td>\n",
              "      <td>Yes</td>\n",
              "      <td>DSL</td>\n",
              "      <td>Yes</td>\n",
              "      <td>Yes</td>\n",
              "      <td>No</td>\n",
              "      <td>No</td>\n",
              "      <td>No</td>\n",
              "      <td>Yes</td>\n",
              "      <td>Month-to-month</td>\n",
              "      <td>Yes</td>\n",
              "      <td>69.10</td>\n",
              "      <td>1083.70</td>\n",
              "      <td>0</td>\n",
              "      <td>0.396070</td>\n",
              "    </tr>\n",
              "  </tbody>\n",
              "</table>\n",
              "</div>\n",
              "      <button class=\"colab-df-convert\" onclick=\"convertToInteractive('df-94bc4257-8eca-47b8-a292-1b64c68a8220')\"\n",
              "              title=\"Convert this dataframe to an interactive table.\"\n",
              "              style=\"display:none;\">\n",
              "        \n",
              "  <svg xmlns=\"http://www.w3.org/2000/svg\" height=\"24px\"viewBox=\"0 0 24 24\"\n",
              "       width=\"24px\">\n",
              "    <path d=\"M0 0h24v24H0V0z\" fill=\"none\"/>\n",
              "    <path d=\"M18.56 5.44l.94 2.06.94-2.06 2.06-.94-2.06-.94-.94-2.06-.94 2.06-2.06.94zm-11 1L8.5 8.5l.94-2.06 2.06-.94-2.06-.94L8.5 2.5l-.94 2.06-2.06.94zm10 10l.94 2.06.94-2.06 2.06-.94-2.06-.94-.94-2.06-.94 2.06-2.06.94z\"/><path d=\"M17.41 7.96l-1.37-1.37c-.4-.4-.92-.59-1.43-.59-.52 0-1.04.2-1.43.59L10.3 9.45l-7.72 7.72c-.78.78-.78 2.05 0 2.83L4 21.41c.39.39.9.59 1.41.59.51 0 1.02-.2 1.41-.59l7.78-7.78 2.81-2.81c.8-.78.8-2.07 0-2.86zM5.41 20L4 18.59l7.72-7.72 1.47 1.35L5.41 20z\"/>\n",
              "  </svg>\n",
              "      </button>\n",
              "      \n",
              "  <style>\n",
              "    .colab-df-container {\n",
              "      display:flex;\n",
              "      flex-wrap:wrap;\n",
              "      gap: 12px;\n",
              "    }\n",
              "\n",
              "    .colab-df-convert {\n",
              "      background-color: #E8F0FE;\n",
              "      border: none;\n",
              "      border-radius: 50%;\n",
              "      cursor: pointer;\n",
              "      display: none;\n",
              "      fill: #1967D2;\n",
              "      height: 32px;\n",
              "      padding: 0 0 0 0;\n",
              "      width: 32px;\n",
              "    }\n",
              "\n",
              "    .colab-df-convert:hover {\n",
              "      background-color: #E2EBFA;\n",
              "      box-shadow: 0px 1px 2px rgba(60, 64, 67, 0.3), 0px 1px 3px 1px rgba(60, 64, 67, 0.15);\n",
              "      fill: #174EA6;\n",
              "    }\n",
              "\n",
              "    [theme=dark] .colab-df-convert {\n",
              "      background-color: #3B4455;\n",
              "      fill: #D2E3FC;\n",
              "    }\n",
              "\n",
              "    [theme=dark] .colab-df-convert:hover {\n",
              "      background-color: #434B5C;\n",
              "      box-shadow: 0px 1px 3px 1px rgba(0, 0, 0, 0.15);\n",
              "      filter: drop-shadow(0px 1px 2px rgba(0, 0, 0, 0.3));\n",
              "      fill: #FFFFFF;\n",
              "    }\n",
              "  </style>\n",
              "\n",
              "      <script>\n",
              "        const buttonEl =\n",
              "          document.querySelector('#df-94bc4257-8eca-47b8-a292-1b64c68a8220 button.colab-df-convert');\n",
              "        buttonEl.style.display =\n",
              "          google.colab.kernel.accessAllowed ? 'block' : 'none';\n",
              "\n",
              "        async function convertToInteractive(key) {\n",
              "          const element = document.querySelector('#df-94bc4257-8eca-47b8-a292-1b64c68a8220');\n",
              "          const dataTable =\n",
              "            await google.colab.kernel.invokeFunction('convertToInteractive',\n",
              "                                                     [key], {});\n",
              "          if (!dataTable) return;\n",
              "\n",
              "          const docLinkHtml = 'Like what you see? Visit the ' +\n",
              "            '<a target=\"_blank\" href=https://colab.research.google.com/notebooks/data_table.ipynb>data table notebook</a>'\n",
              "            + ' to learn more about interactive tables.';\n",
              "          element.innerHTML = '';\n",
              "          dataTable['output_type'] = 'display_data';\n",
              "          await google.colab.output.renderOutput(dataTable, element);\n",
              "          const docLink = document.createElement('div');\n",
              "          docLink.innerHTML = docLinkHtml;\n",
              "          element.appendChild(docLink);\n",
              "        }\n",
              "      </script>\n",
              "    </div>\n",
              "  </div>\n",
              "  "
            ]
          },
          "metadata": {},
          "execution_count": 114
        }
      ]
    },
    {
      "cell_type": "markdown",
      "source": [
        "Here we can see that the model can predict the answer perfectly. To make it better, we can do tuning on the optimizer so the result can be better.\n",
        "\n",
        "Another thing that can be done is using another method to determine the feature and using another scaler so we can get better accuracy."
      ],
      "metadata": {
        "id": "Tkp1nnuSPrH2"
      }
    },
    {
      "cell_type": "markdown",
      "source": [
        "# 10 - Kesimpulan\n"
      ],
      "metadata": {
        "id": "RsKGpyRqSmX_"
      }
    },
    {
      "cell_type": "markdown",
      "source": [
        "- The dataset is about Telco customer churn and in this dataset we are going to predict customer churn rate.\n",
        "\n",
        "- Dataset has missing value on 'TotalCharges' and I handle the missing value by inputting the median because the column is skewed.\n",
        "\n",
        "- The target column is 'Churn'.\n",
        "\n",
        "- For handling the outlier, I choose to ignore it since the precentage is quite high (more than 15%).\n",
        "\n",
        "- Feature Selection using SelectKBest and I take 10 best features that are going to be used on the model.\n",
        "\n",
        "- The best features are ['OnlineSecurity', 'OnlineBackup', 'DeviceProtection', 'TechSupport',\n",
        "'StreamingTV', 'StreamingMovies', 'Contract', 'PaperlessBilling', 'MonthlyCharges', 'TotalCharges']\n",
        "\n",
        "- There are 2 APIs that being used in this case, Sequential API and Functional API.\n",
        "\n",
        "- The best model is the Functional API because the distance between loss and val_loss is not that far.\n",
        "\n",
        "- Although this model have a tendency to be overfitted, it has 79% accuracy and better recall average.\n",
        "\n",
        "- When predicting, the model can predict it perfectly although it's not on the T.\n",
        "\n",
        "- For next testing, we can tune with other optimizer to make the model better. We can also use another method to determine the feature and using another scaler/encoder.\n",
        "\n",
        "- In my opinion, using Neural Network for this dataset is too much because the data itself it's not that big. I think using machine learning model such as KNN or other classification method could give similar or better result with less cost."
      ],
      "metadata": {
        "id": "dWoMlO-MSqHl"
      }
    }
  ]
}